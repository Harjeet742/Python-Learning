{
 "cells": [
  {
   "cell_type": "markdown",
   "id": "04745d07-d1d9-4646-a52c-3148d0bde143",
   "metadata": {},
   "source": [
    "# While Loop\n",
    "# repeating a task again and again until certain criteria is sertisfied"
   ]
  },
  {
   "cell_type": "code",
   "execution_count": 32,
   "id": "ace69c8c-5b40-4e7a-9f18-2db5fd9e968b",
   "metadata": {},
   "outputs": [
    {
     "name": "stdout",
     "output_type": "stream",
     "text": [
      "hi\n",
      "hello\n",
      "harjeet\n",
      "harjeet\n"
     ]
    }
   ],
   "source": [
    "# starting an infinite while loop\n",
    "while True:\n",
    "    print(\"hi\")\n",
    "    print(\"hello\")\n",
    "    break\n",
    "    print(\"bye\")\n",
    "print(\"harjeet\")\n",
    "\n",
    "# printing a value after while loop\n",
    "print(\"harjeet\")"
   ]
  },
  {
   "cell_type": "code",
   "execution_count": 3,
   "id": "c49d34b1-63ae-4471-a861-da897619af40",
   "metadata": {},
   "outputs": [],
   "source": [
    "i = 1"
   ]
  },
  {
   "cell_type": "code",
   "execution_count": 4,
   "id": "533eab4f-a42b-4451-b4a3-04f0949c79f6",
   "metadata": {},
   "outputs": [
    {
     "name": "stdout",
     "output_type": "stream",
     "text": [
      "1\n",
      "2\n"
     ]
    }
   ],
   "source": [
    "while True:\n",
    "    print(i)\n",
    "    i += 1\n",
    "    print (i)\n",
    "    break"
   ]
  },
  {
   "cell_type": "code",
   "execution_count": 8,
   "id": "a4bc10d4-28d5-4f52-92c8-a4e639e00132",
   "metadata": {},
   "outputs": [
    {
     "data": {
      "text/plain": [
       "2"
      ]
     },
     "execution_count": 8,
     "metadata": {},
     "output_type": "execute_result"
    }
   ],
   "source": [
    "i"
   ]
  },
  {
   "cell_type": "code",
   "execution_count": 1,
   "id": "6a399ad3-8e15-42be-8e6f-ecd4cfd77336",
   "metadata": {},
   "outputs": [
    {
     "name": "stdout",
     "output_type": "stream",
     "text": [
      "1\n",
      "2\n",
      "3\n",
      "4\n",
      "5\n"
     ]
    }
   ],
   "source": [
    "i = 1\n",
    "while True:\n",
    "    print(i)\n",
    "    if i == 5:\n",
    "        break\n",
    "    i += 1"
   ]
  },
  {
   "cell_type": "code",
   "execution_count": 3,
   "id": "646cc5cf-14e7-40d1-b460-739ef139156a",
   "metadata": {},
   "outputs": [
    {
     "name": "stdout",
     "output_type": "stream",
     "text": [
      "0\n",
      "1\n",
      "2\n"
     ]
    }
   ],
   "source": [
    "i = 0\n",
    "n = 3\n",
    "while i < n:\n",
    "    print(i)\n",
    "    i += 1"
   ]
  },
  {
   "cell_type": "code",
   "execution_count": 12,
   "id": "475fb104-b3cc-47b0-8816-071bd5638014",
   "metadata": {},
   "outputs": [
    {
     "name": "stdout",
     "output_type": "stream",
     "text": [
      "0\n",
      "2\n",
      "4\n",
      "6\n",
      "8\n"
     ]
    }
   ],
   "source": [
    "i = 0\n",
    "n = 10\n",
    "while i < n:\n",
    "    print(i)\n",
    "    i += 2"
   ]
  },
  {
   "cell_type": "code",
   "execution_count": 7,
   "id": "6c404ec3-2fee-49dd-8fe3-befc1a3ec312",
   "metadata": {},
   "outputs": [
    {
     "name": "stdout",
     "output_type": "stream",
     "text": [
      "0\n",
      "1\n",
      "2\n",
      "3\n",
      "4\n",
      "5\n",
      "6\n"
     ]
    }
   ],
   "source": [
    "i = 0\n",
    "n = 7\n",
    "while i <n:\n",
    "    print(i)\n",
    "    i +=1"
   ]
  },
  {
   "cell_type": "code",
   "execution_count": 8,
   "id": "f1041a1f-f724-4e82-82d6-9868b67124c4",
   "metadata": {},
   "outputs": [
    {
     "name": "stdout",
     "output_type": "stream",
     "text": [
      "0\n",
      "1\n",
      "2\n",
      "3\n",
      "4\n",
      "5\n",
      "6\n",
      "7\n"
     ]
    }
   ],
   "source": [
    "i = 0\n",
    "n = 7\n",
    "while i <= n:\n",
    "    print(i)\n",
    "    i +=1"
   ]
  },
  {
   "cell_type": "code",
   "execution_count": 16,
   "id": "99ba83c3-46cb-4c7e-b092-759e84f602c3",
   "metadata": {},
   "outputs": [
    {
     "name": "stdout",
     "output_type": "stream",
     "text": [
      "7 x 1 = 7\n",
      "7 x 2 = 14\n",
      "7 x 3 = 21\n",
      "7 x 4 = 28\n",
      "7 x 5 = 35\n",
      "7 x 6 = 42\n",
      "7 x 7 = 49\n",
      "7 x 8 = 56\n",
      "7 x 9 = 63\n",
      "7 x 10 = 70\n"
     ]
    }
   ],
   "source": [
    "i = 1\n",
    "n = 11\n",
    "while i < n:\n",
    "    print(7, \"x\", i, \"=\", i*7)\n",
    "    i += 1"
   ]
  },
  {
   "cell_type": "code",
   "execution_count": 30,
   "id": "3585298a-64c1-4f70-a88b-180347b0ec59",
   "metadata": {},
   "outputs": [
    {
     "name": "stdout",
     "output_type": "stream",
     "text": [
      "12 x 1 = 12\n",
      "12 x 2 = 24\n",
      "12 x 3 = 36\n",
      "12 x 4 = 48\n",
      "12 x 5 = 60\n",
      "12 x 6 = 72\n",
      "12 x 7 = 84\n",
      "12 x 8 = 96\n",
      "12 x 9 = 108\n",
      "12 x 10 = 120\n"
     ]
    }
   ],
   "source": [
    "i = 1\n",
    "n = 11\n",
    "while i < n:\n",
    "    print(12, \"x\", i, \"=\", i*12)\n",
    "    i += 1"
   ]
  },
  {
   "cell_type": "code",
   "execution_count": 33,
   "id": "d142cd7c-1420-4b05-9816-a98802400e55",
   "metadata": {},
   "outputs": [
    {
     "name": "stdout",
     "output_type": "stream",
     "text": [
      "0 0\n",
      "1 1\n",
      "2 3\n",
      "3 6\n",
      "4 10\n",
      "5 15\n",
      "6 21\n",
      "21\n"
     ]
    }
   ],
   "source": [
    "i = 0\n",
    "n = 7\n",
    "a = 0\n",
    "while i <n:\n",
    "    a += i\n",
    "    print(i, a)\n",
    "    i += 1\n",
    "print(a)"
   ]
  },
  {
   "cell_type": "code",
   "execution_count": 3,
   "id": "845fb9c8-f9e7-42ab-b3af-f7a8d9402761",
   "metadata": {},
   "outputs": [
    {
     "name": "stdout",
     "output_type": "stream",
     "text": [
      "1 2\n",
      "2 4\n",
      "3 7\n",
      "4 11\n",
      "11\n"
     ]
    }
   ],
   "source": [
    "a = 1\n",
    "i = 1\n",
    "n = 5\n",
    "while i < n:\n",
    "    a += i\n",
    "    print(i, a)\n",
    "    i += 1\n",
    "print(a)"
   ]
  },
  {
   "cell_type": "code",
   "execution_count": 43,
   "id": "3a282b28-b243-4bdd-a9ec-2ab5a3f1cfdc",
   "metadata": {},
   "outputs": [
    {
     "name": "stdout",
     "output_type": "stream",
     "text": [
      "3825\n"
     ]
    }
   ],
   "source": [
    "# sum of numbers in a range\n",
    "i = 50\n",
    "n = 101\n",
    "a = 0\n",
    "while i < n:\n",
    "    a += i\n",
    "    i += 1\n",
    "print(a)"
   ]
  },
  {
   "cell_type": "code",
   "execution_count": 25,
   "id": "eb320b56-eae8-42c4-b666-7114c64ced7c",
   "metadata": {},
   "outputs": [],
   "source": [
    "name = \"harjeet\""
   ]
  },
  {
   "cell_type": "code",
   "execution_count": 26,
   "id": "801e4322-36cd-490d-91b1-1bc112fe5fe0",
   "metadata": {},
   "outputs": [
    {
     "data": {
      "text/plain": [
       "'harjeet'"
      ]
     },
     "execution_count": 26,
     "metadata": {},
     "output_type": "execute_result"
    }
   ],
   "source": [
    "name"
   ]
  },
  {
   "cell_type": "code",
   "execution_count": 27,
   "id": "05a2b57d-d8fe-47e7-b9b1-02281f0788d7",
   "metadata": {},
   "outputs": [
    {
     "data": {
      "text/plain": [
       "7"
      ]
     },
     "execution_count": 27,
     "metadata": {},
     "output_type": "execute_result"
    }
   ],
   "source": [
    "len(name)"
   ]
  },
  {
   "cell_type": "code",
   "execution_count": 1,
   "id": "801873ac-7db7-4ffb-8024-539b97d5499d",
   "metadata": {},
   "outputs": [
    {
     "name": "stdout",
     "output_type": "stream",
     "text": [
      "7 h\n",
      "7 a\n",
      "7 r\n",
      "7 j\n",
      "7 e\n",
      "7 e\n",
      "7 t\n"
     ]
    }
   ],
   "source": [
    "name = \"harjeet\"\n",
    "i = 0\n",
    "n = len(name)\n",
    "while i < n:\n",
    "    print(n, name[i])\n",
    "    i += 1"
   ]
  },
  {
   "cell_type": "code",
   "execution_count": 35,
   "id": "170db84d-61bf-4f9a-bc71-5d771d85783c",
   "metadata": {},
   "outputs": [
    {
     "name": "stdout",
     "output_type": "stream",
     "text": [
      "50\n"
     ]
    }
   ],
   "source": [
    "li = [8,4,6,1,2,3,5,7,9,5]\n",
    "i = 0\n",
    "n = len(li)\n",
    "total = 0\n",
    "while i < n:\n",
    "    total += li[i]\n",
    "    i += 1\n",
    "print(total)"
   ]
  },
  {
   "cell_type": "code",
   "execution_count": 5,
   "id": "1085c31a-3097-4d7f-b087-cb351a8c6b2e",
   "metadata": {},
   "outputs": [
    {
     "name": "stdout",
     "output_type": "stream",
     "text": [
      "89\n"
     ]
    }
   ],
   "source": [
    "a = [10, 89, 9, 56, 4, 80, 8]\n",
    "max_element = a[0]\n",
    "\n",
    "for i in range(len(a)):\n",
    "    if a[i] > max_element:\n",
    "        max_element = a[i]\n",
    "print(max_element)"
   ]
  },
  {
   "cell_type": "code",
   "execution_count": 21,
   "id": "a21e907d-79c9-4ec8-aa45-9109ca884802",
   "metadata": {},
   "outputs": [
    {
     "name": "stdout",
     "output_type": "stream",
     "text": [
      "68\n"
     ]
    }
   ],
   "source": [
    "s = [50, 20, 34, 45, 68, 12 ,29]\n",
    "max_element = s[0]\n",
    "\n",
    "for i in range(len(s)):\n",
    "    if s[i] > max_element:\n",
    "        max_element = s[i]\n",
    "print(max_element)"
   ]
  },
  {
   "cell_type": "code",
   "execution_count": 50,
   "id": "148b396c-9f8d-46eb-8ea3-38566057de42",
   "metadata": {},
   "outputs": [
    {
     "name": "stdout",
     "output_type": "stream",
     "text": [
      "99\n"
     ]
    }
   ],
   "source": [
    "h = [12, 15, 38, 99, 45, 38, 20, 78, 50]\n",
    "max_element = h[0]\n",
    "\n",
    "for i in range(len(h)):\n",
    "    if h[i] > max_element:\n",
    "        max_element = h[i]\n",
    "print(max_element)"
   ]
  },
  {
   "cell_type": "code",
   "execution_count": 63,
   "id": "745cd1cd-eb7d-4f26-9c0e-5c1bbb71073a",
   "metadata": {},
   "outputs": [
    {
     "name": "stdout",
     "output_type": "stream",
     "text": [
      "90\n"
     ]
    }
   ],
   "source": [
    "a = [12, 56, 78, 90, 45, 8]\n",
    "print(max(a))"
   ]
  },
  {
   "cell_type": "code",
   "execution_count": 64,
   "id": "a89e248b-500f-4855-bc2c-a880614574c4",
   "metadata": {},
   "outputs": [
    {
     "name": "stdout",
     "output_type": "stream",
     "text": [
      "39\n"
     ]
    }
   ],
   "source": [
    "e = [13, 17, 38, 39, 26]\n",
    "e.sort()\n",
    "print(e[-1])\n"
   ]
  },
  {
   "cell_type": "code",
   "execution_count": 75,
   "id": "af897625-a171-4924-aab7-f50c3480dbe0",
   "metadata": {},
   "outputs": [
    {
     "name": "stdout",
     "output_type": "stream",
     "text": [
      "1\n"
     ]
    }
   ],
   "source": [
    "h = [14, 87, 46, 2, 1, 67]\n",
    "min_element = h[0]\n",
    "\n",
    "for i in range(len(h)):\n",
    "    if h[i] < min_element:\n",
    "        min_element = h[i]\n",
    "print(min_element)"
   ]
  },
  {
   "cell_type": "code",
   "execution_count": 81,
   "id": "e5599d44-e57b-4095-8ae0-a4235acdb15c",
   "metadata": {},
   "outputs": [
    {
     "name": "stdout",
     "output_type": "stream",
     "text": [
      "3\n"
     ]
    }
   ],
   "source": [
    "a = [56, 93, 34, 21, 9, 3, 45, 72, 94]\n",
    "a.sort()\n",
    "print(a[0])"
   ]
  },
  {
   "cell_type": "code",
   "execution_count": 127,
   "id": "5cf9fd94-1527-4b21-8c25-4c1f567526b0",
   "metadata": {},
   "outputs": [
    {
     "name": "stdout",
     "output_type": "stream",
     "text": [
      "3\n"
     ]
    }
   ],
   "source": [
    "a = [11, 3, 33, 90, 75, 24]\n",
    "print(min(a))"
   ]
  },
  {
   "cell_type": "code",
   "execution_count": 98,
   "id": "0586b137-e5d0-4862-bd91-e7e20048671b",
   "metadata": {},
   "outputs": [
    {
     "name": "stdout",
     "output_type": "stream",
     "text": [
      "3\n",
      "90\n"
     ]
    }
   ],
   "source": [
    "a = [11, 3, 33, 90, 75, 24]\n",
    "min_element = a[0]\n",
    "max_element = a[0]\n",
    "\n",
    "for i in range(len(a)):\n",
    "    if a[i] < min_element:\n",
    "        min_element = a[i]\n",
    "        \n",
    "    if a[i] > max_element:\n",
    "        max_element = a[i]\n",
    "print(min_element)\n",
    "print(max_element)\n",
    "\n",
    "    "
   ]
  },
  {
   "cell_type": "code",
   "execution_count": 99,
   "id": "4b000cf4-e1ed-4fac-a865-5879581faacb",
   "metadata": {},
   "outputs": [
    {
     "name": "stdout",
     "output_type": "stream",
     "text": [
      "3\n",
      "90\n"
     ]
    }
   ],
   "source": [
    "a = [11, 3, 33, 90, 75, 24]\n",
    "a.sort()\n",
    "print(a[0])\n",
    "print(a[-1])"
   ]
  },
  {
   "cell_type": "code",
   "execution_count": 100,
   "id": "a643de0a-2a62-46b9-bb92-c778718a7265",
   "metadata": {},
   "outputs": [
    {
     "name": "stdout",
     "output_type": "stream",
     "text": [
      "3\n",
      "90\n"
     ]
    }
   ],
   "source": [
    "a = [11, 3, 33, 90, 75, 24]\n",
    "print(min(a))\n",
    "print(max(a))"
   ]
  },
  {
   "cell_type": "code",
   "execution_count": 135,
   "id": "99df4c4b-e190-4a6d-8d50-08e1889300cf",
   "metadata": {},
   "outputs": [
    {
     "name": "stdout",
     "output_type": "stream",
     "text": [
      "5\n"
     ]
    }
   ],
   "source": [
    "import math\n",
    "\n",
    "arr = [10, 5, 3, 8, 12]\n",
    "first = math.inf\n",
    "second = math.inf\n",
    "\n",
    "for i in range(len(arr)):\n",
    "    if arr[i] < first:\n",
    "        first = arr[i]\n",
    "\n",
    "for i in range(len(arr)):\n",
    "    if arr[i] != first and arr[i] < second:\n",
    "        second = arr[i]\n",
    "print(second)"
   ]
  },
  {
   "cell_type": "code",
   "execution_count": 129,
   "id": "fd96c442-a368-4ba4-bd92-a440a24162be",
   "metadata": {},
   "outputs": [
    {
     "name": "stdout",
     "output_type": "stream",
     "text": [
      "5\n"
     ]
    }
   ],
   "source": [
    "arr = [10, 5, 3, 8, 12]\n",
    "arr.sort()\n",
    "print(arr[1])"
   ]
  },
  {
   "cell_type": "code",
   "execution_count": 139,
   "id": "754e423c-466a-4f8b-832a-aa88d7b8314f",
   "metadata": {},
   "outputs": [
    {
     "name": "stdout",
     "output_type": "stream",
     "text": [
      "266\n"
     ]
    }
   ],
   "source": [
    "a = [82, 24, 73, 52, 13, 22]\n",
    "sum = 0\n",
    "\n",
    "for i in range(len(a)):\n",
    "    sum = sum + a[i]\n",
    "print(sum)"
   ]
  },
  {
   "cell_type": "code",
   "execution_count": 171,
   "id": "7db2a536-8594-4173-add8-2e19d64e58ef",
   "metadata": {},
   "outputs": [
    {
     "name": "stdout",
     "output_type": "stream",
     "text": [
      "[28, 27, 26, 25, 24, 23]\n"
     ]
    }
   ],
   "source": [
    "def reverselist(A):\n",
    "    print(A[::-1])\n",
    "\n",
    "A = [23, 24, 25, 26, 27, 28]\n",
    "reverselist(A)\n",
    "\n"
   ]
  },
  {
   "cell_type": "code",
   "execution_count": 178,
   "id": "c2a412c3-29ea-4c50-84b8-fc827aaa0b9f",
   "metadata": {},
   "outputs": [
    {
     "name": "stdout",
     "output_type": "stream",
     "text": [
      "[28, 27, 26, 25, 24, 23]\n"
     ]
    }
   ],
   "source": [
    "arr = [23, 24, 25, 26, 27, 28]\n",
    "reversed_arr = arr[::-1]\n",
    "\n",
    "print(reversed_arr)"
   ]
  },
  {
   "cell_type": "code",
   "execution_count": 179,
   "id": "2799ba3c-f898-4d9f-83b5-a69260ed3dac",
   "metadata": {},
   "outputs": [
    {
     "name": "stdout",
     "output_type": "stream",
     "text": [
      "[50, 40, 30, 20, 10]\n"
     ]
    }
   ],
   "source": [
    "def reverseList(A, start, end):\n",
    "  while start < end:\n",
    "    A[start], A[end] = A[end], A[start]\n",
    "    start += 1\n",
    "    end -= 1\n",
    "\n",
    "A = [10, 20, 30, 40, 50]\n",
    "reverseList(A, 0, 4)\n",
    "print(A)"
   ]
  },
  {
   "cell_type": "code",
   "execution_count": null,
   "id": "6eec62d6-9189-4a5c-a387-858c597c477c",
   "metadata": {},
   "outputs": [],
   "source": []
  }
 ],
 "metadata": {
  "kernelspec": {
   "display_name": "Python 3 (ipykernel)",
   "language": "python",
   "name": "python3"
  },
  "language_info": {
   "codemirror_mode": {
    "name": "ipython",
    "version": 3
   },
   "file_extension": ".py",
   "mimetype": "text/x-python",
   "name": "python",
   "nbconvert_exporter": "python",
   "pygments_lexer": "ipython3",
   "version": "3.13.5"
  }
 },
 "nbformat": 4,
 "nbformat_minor": 5
}
