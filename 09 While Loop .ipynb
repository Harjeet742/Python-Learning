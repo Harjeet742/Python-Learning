{
 "cells": [
  {
   "cell_type": "markdown",
   "id": "04745d07-d1d9-4646-a52c-3148d0bde143",
   "metadata": {},
   "source": [
    "# While Loop\n",
    "# repeating a task again and again until certain criteria is sertisfied"
   ]
  },
  {
   "cell_type": "code",
   "execution_count": 32,
   "id": "ace69c8c-5b40-4e7a-9f18-2db5fd9e968b",
   "metadata": {},
   "outputs": [
    {
     "name": "stdout",
     "output_type": "stream",
     "text": [
      "hi\n",
      "hello\n",
      "harjeet\n",
      "harjeet\n"
     ]
    }
   ],
   "source": [
    "# starting an infinite while loop\n",
    "while True:\n",
    "    print(\"hi\")\n",
    "    print(\"hello\")\n",
    "    break\n",
    "    print(\"bye\")\n",
    "print(\"harjeet\")\n",
    "\n",
    "# printing a value after while loop\n",
    "print(\"harjeet\")"
   ]
  },
  {
   "cell_type": "code",
   "execution_count": 5,
   "id": "c49d34b1-63ae-4471-a861-da897619af40",
   "metadata": {},
   "outputs": [],
   "source": [
    "i = 1"
   ]
  },
  {
   "cell_type": "code",
   "execution_count": 7,
   "id": "533eab4f-a42b-4451-b4a3-04f0949c79f6",
   "metadata": {},
   "outputs": [
    {
     "name": "stdout",
     "output_type": "stream",
     "text": [
      "1\n",
      "2\n"
     ]
    }
   ],
   "source": [
    "while True:\n",
    "    print(i)\n",
    "    i += 1\n",
    "    print (i)\n",
    "    break"
   ]
  },
  {
   "cell_type": "code",
   "execution_count": 8,
   "id": "a4bc10d4-28d5-4f52-92c8-a4e639e00132",
   "metadata": {},
   "outputs": [
    {
     "data": {
      "text/plain": [
       "2"
      ]
     },
     "execution_count": 8,
     "metadata": {},
     "output_type": "execute_result"
    }
   ],
   "source": [
    "i"
   ]
  },
  {
   "cell_type": "code",
   "execution_count": 13,
   "id": "6a399ad3-8e15-42be-8e6f-ecd4cfd77336",
   "metadata": {},
   "outputs": [
    {
     "name": "stdout",
     "output_type": "stream",
     "text": [
      "1\n",
      "2\n",
      "3\n",
      "4\n",
      "5\n"
     ]
    }
   ],
   "source": [
    "i = 1\n",
    "while True:\n",
    "    print(i)\n",
    "    if i == 5:\n",
    "        break\n",
    "    i += 1"
   ]
  },
  {
   "cell_type": "code",
   "execution_count": 19,
   "id": "646cc5cf-14e7-40d1-b460-739ef139156a",
   "metadata": {},
   "outputs": [
    {
     "name": "stdout",
     "output_type": "stream",
     "text": [
      "0\n",
      "1\n",
      "2\n"
     ]
    }
   ],
   "source": [
    "i = 0\n",
    "n = 3\n",
    "while i < n:\n",
    "    print(i)\n",
    "    i += 1"
   ]
  },
  {
   "cell_type": "code",
   "execution_count": 24,
   "id": "475fb104-b3cc-47b0-8816-071bd5638014",
   "metadata": {},
   "outputs": [
    {
     "name": "stdout",
     "output_type": "stream",
     "text": [
      "0\n",
      "2\n",
      "4\n",
      "6\n",
      "8\n"
     ]
    }
   ],
   "source": [
    "i = 0\n",
    "n = 10\n",
    "while i < n:\n",
    "    print(i)\n",
    "    i += 2"
   ]
  },
  {
   "cell_type": "code",
   "execution_count": 7,
   "id": "6c404ec3-2fee-49dd-8fe3-befc1a3ec312",
   "metadata": {},
   "outputs": [
    {
     "name": "stdout",
     "output_type": "stream",
     "text": [
      "0\n",
      "1\n",
      "2\n",
      "3\n",
      "4\n",
      "5\n",
      "6\n"
     ]
    }
   ],
   "source": [
    "i = 0\n",
    "n = 7\n",
    "while i <n:\n",
    "    print(i)\n",
    "    i +=1"
   ]
  },
  {
   "cell_type": "code",
   "execution_count": 8,
   "id": "f1041a1f-f724-4e82-82d6-9868b67124c4",
   "metadata": {},
   "outputs": [
    {
     "name": "stdout",
     "output_type": "stream",
     "text": [
      "0\n",
      "1\n",
      "2\n",
      "3\n",
      "4\n",
      "5\n",
      "6\n",
      "7\n"
     ]
    }
   ],
   "source": [
    "i = 0\n",
    "n = 7\n",
    "while i <= n:\n",
    "    print(i)\n",
    "    i +=1"
   ]
  },
  {
   "cell_type": "code",
   "execution_count": 11,
   "id": "99ba83c3-46cb-4c7e-b092-759e84f602c3",
   "metadata": {},
   "outputs": [
    {
     "name": "stdout",
     "output_type": "stream",
     "text": [
      "7 x 1 = 7\n",
      "7 x 2 = 14\n",
      "7 x 3 = 21\n",
      "7 x 4 = 28\n",
      "7 x 5 = 35\n",
      "7 x 6 = 42\n",
      "7 x 7 = 49\n",
      "7 x 8 = 56\n",
      "7 x 9 = 63\n",
      "7 x 10 = 70\n"
     ]
    }
   ],
   "source": [
    "i = 1\n",
    "n = 11\n",
    "while i < n:\n",
    "    print(7, \"x\", i, \"=\", i*7)\n",
    "    i += 1"
   ]
  },
  {
   "cell_type": "code",
   "execution_count": 16,
   "id": "3585298a-64c1-4f70-a88b-180347b0ec59",
   "metadata": {},
   "outputs": [
    {
     "name": "stdout",
     "output_type": "stream",
     "text": [
      "12 x 1 = 12\n",
      "12 x 2 = 24\n",
      "12 x 3 = 36\n",
      "12 x 4 = 48\n",
      "12 x 5 = 60\n",
      "12 x 6 = 72\n",
      "12 x 7 = 84\n",
      "12 x 8 = 96\n",
      "12 x 9 = 108\n",
      "12 x 10 = 120\n"
     ]
    }
   ],
   "source": [
    "i = 1\n",
    "n = 11\n",
    "while i < n:\n",
    "    print(12, \"x\", i, \"=\", i*12)\n",
    "    i += 1"
   ]
  },
  {
   "cell_type": "code",
   "execution_count": 20,
   "id": "d142cd7c-1420-4b05-9816-a98802400e55",
   "metadata": {},
   "outputs": [
    {
     "name": "stdout",
     "output_type": "stream",
     "text": [
      "0 0\n",
      "1 1\n",
      "2 3\n",
      "3 6\n",
      "4 10\n",
      "5 15\n",
      "6 21\n",
      "21\n"
     ]
    }
   ],
   "source": [
    "i = 0\n",
    "n = 7\n",
    "a = 0\n",
    "while i <n:\n",
    "    a += i\n",
    "    print(i, a)\n",
    "    i +=1\n",
    "print(a)"
   ]
  },
  {
   "cell_type": "code",
   "execution_count": 23,
   "id": "845fb9c8-f9e7-42ab-b3af-f7a8d9402761",
   "metadata": {},
   "outputs": [
    {
     "name": "stdout",
     "output_type": "stream",
     "text": [
      "1 2\n",
      "2 4\n"
     ]
    }
   ],
   "source": [
    "a = 1\n",
    "i = 1\n",
    "n = 3\n",
    "while i < n:\n",
    "    a += i\n",
    "    print(i, a)\n",
    "    i += 1"
   ]
  },
  {
   "cell_type": "code",
   "execution_count": 24,
   "id": "3a282b28-b243-4bdd-a9ec-2ab5a3f1cfdc",
   "metadata": {},
   "outputs": [
    {
     "name": "stdout",
     "output_type": "stream",
     "text": [
      "3825\n"
     ]
    }
   ],
   "source": [
    "# sum of numbers in a range\n",
    "i = 50\n",
    "n = 101\n",
    "a = 0\n",
    "while i < n:\n",
    "    a += i\n",
    "    i += 1\n",
    "print(a)"
   ]
  },
  {
   "cell_type": "code",
   "execution_count": 25,
   "id": "eb320b56-eae8-42c4-b666-7114c64ced7c",
   "metadata": {},
   "outputs": [],
   "source": [
    "name = \"harjeet\""
   ]
  },
  {
   "cell_type": "code",
   "execution_count": 26,
   "id": "801e4322-36cd-490d-91b1-1bc112fe5fe0",
   "metadata": {},
   "outputs": [
    {
     "data": {
      "text/plain": [
       "'harjeet'"
      ]
     },
     "execution_count": 26,
     "metadata": {},
     "output_type": "execute_result"
    }
   ],
   "source": [
    "name"
   ]
  },
  {
   "cell_type": "code",
   "execution_count": 27,
   "id": "05a2b57d-d8fe-47e7-b9b1-02281f0788d7",
   "metadata": {},
   "outputs": [
    {
     "data": {
      "text/plain": [
       "7"
      ]
     },
     "execution_count": 27,
     "metadata": {},
     "output_type": "execute_result"
    }
   ],
   "source": [
    "len(name)"
   ]
  },
  {
   "cell_type": "code",
   "execution_count": 30,
   "id": "801873ac-7db7-4ffb-8024-539b97d5499d",
   "metadata": {},
   "outputs": [
    {
     "name": "stdout",
     "output_type": "stream",
     "text": [
      "7 h\n",
      "7 a\n",
      "7 r\n",
      "7 j\n",
      "7 e\n",
      "7 e\n",
      "7 t\n"
     ]
    }
   ],
   "source": [
    "name = \"harjeet\"\n",
    "i = 0\n",
    "n = len(name)\n",
    "while i < n:\n",
    "    print(n, name[i])\n",
    "    i += 1"
   ]
  },
  {
   "cell_type": "code",
   "execution_count": 38,
   "id": "170db84d-61bf-4f9a-bc71-5d771d85783c",
   "metadata": {},
   "outputs": [
    {
     "name": "stdout",
     "output_type": "stream",
     "text": [
      "50\n"
     ]
    }
   ],
   "source": [
    "li = [8,4,6,1,2,3,5,7,9,5]\n",
    "i = 0\n",
    "n = len(li)\n",
    "total = 0\n",
    "while i < n:\n",
    "    total += li[i]\n",
    "    i += 1\n",
    "print(total)"
   ]
  },
  {
   "cell_type": "code",
   "execution_count": null,
   "id": "37ec9da0-92e7-4bee-a757-69b01ea88ae3",
   "metadata": {},
   "outputs": [],
   "source": []
  }
 ],
 "metadata": {
  "kernelspec": {
   "display_name": "Python 3 (ipykernel)",
   "language": "python",
   "name": "python3"
  },
  "language_info": {
   "codemirror_mode": {
    "name": "ipython",
    "version": 3
   },
   "file_extension": ".py",
   "mimetype": "text/x-python",
   "name": "python",
   "nbconvert_exporter": "python",
   "pygments_lexer": "ipython3",
   "version": "3.13.5"
  }
 },
 "nbformat": 4,
 "nbformat_minor": 5
}
