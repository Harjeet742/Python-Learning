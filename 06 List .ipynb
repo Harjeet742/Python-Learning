{
 "cells": [
  {
   "cell_type": "markdown",
   "id": "0491858e-f2ee-4db2-9334-7782f4f0c6d9",
   "metadata": {},
   "source": [
    "# LIST \n",
    "# is an ordered sequence"
   ]
  },
  {
   "cell_type": "code",
   "execution_count": 1,
   "id": "50e065b0-c720-4c99-860d-b0e4f1527a6c",
   "metadata": {},
   "outputs": [
    {
     "data": {
      "text/plain": [
       "[8, 4, 6, 2]"
      ]
     },
     "execution_count": 1,
     "metadata": {},
     "output_type": "execute_result"
    }
   ],
   "source": [
    "[8, 4, 6, 2]"
   ]
  },
  {
   "cell_type": "code",
   "execution_count": 2,
   "id": "9165e934-f8ad-41af-a393-83720c579e40",
   "metadata": {},
   "outputs": [],
   "source": [
    "dogs = [\"tom\", \"kutta\", \"doggy\"]"
   ]
  },
  {
   "cell_type": "code",
   "execution_count": 3,
   "id": "13ac85d4-9d77-44bc-8751-51c1b7281ea5",
   "metadata": {},
   "outputs": [
    {
     "data": {
      "text/plain": [
       "['tom', 'kutta', 'doggy']"
      ]
     },
     "execution_count": 3,
     "metadata": {},
     "output_type": "execute_result"
    }
   ],
   "source": [
    "dogs"
   ]
  },
  {
   "cell_type": "code",
   "execution_count": 5,
   "id": "eaf08ae4-f054-44ce-b333-9cd24c309f40",
   "metadata": {},
   "outputs": [
    {
     "data": {
      "text/plain": [
       "'tom'"
      ]
     },
     "execution_count": 5,
     "metadata": {},
     "output_type": "execute_result"
    }
   ],
   "source": [
    "dogs[0]"
   ]
  },
  {
   "cell_type": "code",
   "execution_count": 6,
   "id": "0bdba85c-8e48-42a3-8458-3f5fa882b1bb",
   "metadata": {},
   "outputs": [
    {
     "data": {
      "text/plain": [
       "['tom', 'kutta']"
      ]
     },
     "execution_count": 6,
     "metadata": {},
     "output_type": "execute_result"
    }
   ],
   "source": [
    "dogs[0:2]"
   ]
  },
  {
   "cell_type": "code",
   "execution_count": 7,
   "id": "ab6bf8b8-1462-452f-92a7-142797180df9",
   "metadata": {},
   "outputs": [],
   "source": [
    "dogs[0] = \"jerry\""
   ]
  },
  {
   "cell_type": "code",
   "execution_count": 8,
   "id": "b0972a50-8a74-4e97-9243-e448358e6c84",
   "metadata": {},
   "outputs": [
    {
     "data": {
      "text/plain": [
       "['jerry', 'kutta', 'doggy']"
      ]
     },
     "execution_count": 8,
     "metadata": {},
     "output_type": "execute_result"
    }
   ],
   "source": [
    "dogs"
   ]
  },
  {
   "cell_type": "code",
   "execution_count": 11,
   "id": "5cc6a4dc-b7f0-4dfa-a717-da182a118a36",
   "metadata": {},
   "outputs": [
    {
     "data": {
      "text/plain": [
       "['jerry', 'kutta']"
      ]
     },
     "execution_count": 11,
     "metadata": {},
     "output_type": "execute_result"
    }
   ],
   "source": [
    "dogs[0:2]"
   ]
  },
  {
   "cell_type": "code",
   "execution_count": 14,
   "id": "7998f907-4136-44e1-8528-fcce99a594c3",
   "metadata": {},
   "outputs": [],
   "source": [
    "li = [5, 5.3, 6+3j, \"harjeet\", (8, 5, 4), [\"harjeet\", 4, 6], True, False]"
   ]
  },
  {
   "cell_type": "code",
   "execution_count": 16,
   "id": "19032ea7-e246-4960-ae9a-47b00d1fe314",
   "metadata": {},
   "outputs": [
    {
     "data": {
      "text/plain": [
       "[5, 5.3, (6+3j), 'harjeet', (8, 5, 4), ['harjeet', 4, 6], True, False]"
      ]
     },
     "execution_count": 16,
     "metadata": {},
     "output_type": "execute_result"
    }
   ],
   "source": [
    "li"
   ]
  },
  {
   "cell_type": "code",
   "execution_count": 17,
   "id": "4e44a8bc-d2a8-46da-b291-eecaee7522c4",
   "metadata": {},
   "outputs": [
    {
     "data": {
      "text/plain": [
       "5"
      ]
     },
     "execution_count": 17,
     "metadata": {},
     "output_type": "execute_result"
    }
   ],
   "source": [
    "li[0]"
   ]
  },
  {
   "cell_type": "code",
   "execution_count": 18,
   "id": "a550f8ce-a2ec-4899-bb62-caf4426c9aa0",
   "metadata": {},
   "outputs": [
    {
     "data": {
      "text/plain": [
       "'harjeet'"
      ]
     },
     "execution_count": 18,
     "metadata": {},
     "output_type": "execute_result"
    }
   ],
   "source": [
    "li[3]"
   ]
  },
  {
   "cell_type": "code",
   "execution_count": 22,
   "id": "8927c927-0ab3-4eca-9c2b-7452aaed34bf",
   "metadata": {},
   "outputs": [
    {
     "data": {
      "text/plain": [
       "'harjeet'"
      ]
     },
     "execution_count": 22,
     "metadata": {},
     "output_type": "execute_result"
    }
   ],
   "source": [
    "li[3][0:7]"
   ]
  },
  {
   "cell_type": "code",
   "execution_count": 23,
   "id": "dbecd643-28c8-4e39-b041-68859a1081c7",
   "metadata": {},
   "outputs": [
    {
     "data": {
      "text/plain": [
       "[5, 5.3, (6+3j), 'harjeet', (8, 5, 4), ['harjeet', 4, 6], True, False]"
      ]
     },
     "execution_count": 23,
     "metadata": {},
     "output_type": "execute_result"
    }
   ],
   "source": [
    "li"
   ]
  },
  {
   "cell_type": "code",
   "execution_count": 24,
   "id": "d82a674a-1540-4007-83ce-46e2b2b67dd9",
   "metadata": {},
   "outputs": [
    {
     "data": {
      "text/plain": [
       "(8, 5, 4)"
      ]
     },
     "execution_count": 24,
     "metadata": {},
     "output_type": "execute_result"
    }
   ],
   "source": [
    "li[4]"
   ]
  },
  {
   "cell_type": "code",
   "execution_count": 25,
   "id": "237a1fa1-cb81-49b6-bb09-22a5c766212e",
   "metadata": {},
   "outputs": [
    {
     "data": {
      "text/plain": [
       "8"
      ]
     },
     "execution_count": 25,
     "metadata": {},
     "output_type": "execute_result"
    }
   ],
   "source": [
    "li[4][0]"
   ]
  },
  {
   "cell_type": "code",
   "execution_count": 33,
   "id": "76af6da7-7618-4109-8980-b27b7e39141e",
   "metadata": {},
   "outputs": [
    {
     "data": {
      "text/plain": [
       "'r'"
      ]
     },
     "execution_count": 33,
     "metadata": {},
     "output_type": "execute_result"
    }
   ],
   "source": [
    "li[5][0][2]"
   ]
  },
  {
   "cell_type": "code",
   "execution_count": 37,
   "id": "3a1115a8-1f45-49cf-900a-14ae49cad393",
   "metadata": {},
   "outputs": [
    {
     "data": {
      "text/plain": [
       "['jerry', 'kutta', 'doggy']"
      ]
     },
     "execution_count": 37,
     "metadata": {},
     "output_type": "execute_result"
    }
   ],
   "source": [
    "dogs"
   ]
  },
  {
   "cell_type": "code",
   "execution_count": 40,
   "id": "0a437bc5-47a6-4f2c-94ac-f994448df3e7",
   "metadata": {},
   "outputs": [],
   "source": [
    "dogs.append(\"jack\")"
   ]
  },
  {
   "cell_type": "code",
   "execution_count": 41,
   "id": "e714a5f8-1617-4502-ae6c-242256d1dae8",
   "metadata": {},
   "outputs": [
    {
     "data": {
      "text/plain": [
       "['jerry', 'kutta', 'doggy', 'tom', 'jack']"
      ]
     },
     "execution_count": 41,
     "metadata": {},
     "output_type": "execute_result"
    }
   ],
   "source": [
    "dogs"
   ]
  },
  {
   "cell_type": "code",
   "execution_count": 42,
   "id": "2d786982-6f7a-4037-b58c-5c5a6a9a1620",
   "metadata": {},
   "outputs": [],
   "source": [
    "stu = [\"a\", \"b\", \"c\", \"d\", \"e\"]"
   ]
  },
  {
   "cell_type": "code",
   "execution_count": 43,
   "id": "7febf605-49fe-44b5-bf33-c3623011f672",
   "metadata": {},
   "outputs": [],
   "source": [
    "fail = stu"
   ]
  },
  {
   "cell_type": "code",
   "execution_count": 44,
   "id": "279415e9-6c68-449b-a8e2-1b329e3308d0",
   "metadata": {},
   "outputs": [
    {
     "data": {
      "text/plain": [
       "['a', 'b', 'c', 'd', 'e']"
      ]
     },
     "execution_count": 44,
     "metadata": {},
     "output_type": "execute_result"
    }
   ],
   "source": [
    "fail"
   ]
  },
  {
   "cell_type": "code",
   "execution_count": 45,
   "id": "87ab3ef2-d4cf-4f42-a422-9a6dc00f1c59",
   "metadata": {},
   "outputs": [],
   "source": [
    "fail[0] = \"harjeet\""
   ]
  },
  {
   "cell_type": "code",
   "execution_count": 46,
   "id": "e9a1c444-c4af-4537-ae5e-9f9f741ab7b9",
   "metadata": {},
   "outputs": [
    {
     "data": {
      "text/plain": [
       "['harjeet', 'b', 'c', 'd', 'e']"
      ]
     },
     "execution_count": 46,
     "metadata": {},
     "output_type": "execute_result"
    }
   ],
   "source": [
    "fail"
   ]
  },
  {
   "cell_type": "code",
   "execution_count": 47,
   "id": "d5be9210-4b9e-4d57-89df-24dd2746ee38",
   "metadata": {},
   "outputs": [
    {
     "data": {
      "text/plain": [
       "['harjeet', 'b', 'c', 'd', 'e']"
      ]
     },
     "execution_count": 47,
     "metadata": {},
     "output_type": "execute_result"
    }
   ],
   "source": [
    "stu"
   ]
  },
  {
   "cell_type": "code",
   "execution_count": 48,
   "id": "51536eb7-2584-472e-9c61-834af4727277",
   "metadata": {},
   "outputs": [],
   "source": [
    "a = [1, 5, 3]"
   ]
  },
  {
   "cell_type": "code",
   "execution_count": 49,
   "id": "b5a58b2f-4c62-4c10-9904-ff667db51dfc",
   "metadata": {},
   "outputs": [],
   "source": [
    "b = a"
   ]
  },
  {
   "cell_type": "code",
   "execution_count": 50,
   "id": "39fffccd-7e34-4bc3-aaa1-ac64f4ae55a3",
   "metadata": {},
   "outputs": [
    {
     "data": {
      "text/plain": [
       "[1, 5, 3]"
      ]
     },
     "execution_count": 50,
     "metadata": {},
     "output_type": "execute_result"
    }
   ],
   "source": [
    "b"
   ]
  },
  {
   "cell_type": "code",
   "execution_count": 56,
   "id": "08695760-ec55-40dd-a64c-1fb6f527b3a1",
   "metadata": {},
   "outputs": [],
   "source": [
    "b[1] = 50"
   ]
  },
  {
   "cell_type": "code",
   "execution_count": 57,
   "id": "a2598f84-13d5-49a4-9701-e1c36e3c7ffa",
   "metadata": {},
   "outputs": [
    {
     "data": {
      "text/plain": [
       "[1, 50, 3]"
      ]
     },
     "execution_count": 57,
     "metadata": {},
     "output_type": "execute_result"
    }
   ],
   "source": [
    "a"
   ]
  },
  {
   "cell_type": "code",
   "execution_count": 58,
   "id": "a42976b4-f99d-42b2-8c0d-641ebf66c3c4",
   "metadata": {},
   "outputs": [],
   "source": [
    "b = a.copy()"
   ]
  },
  {
   "cell_type": "code",
   "execution_count": 59,
   "id": "f76dcdfa-6f35-4eb4-9874-e147f4f11bf1",
   "metadata": {},
   "outputs": [],
   "source": [
    "b[0] = 20"
   ]
  },
  {
   "cell_type": "code",
   "execution_count": 60,
   "id": "127e528d-f77a-4be2-ab8d-c08945e010b5",
   "metadata": {},
   "outputs": [
    {
     "data": {
      "text/plain": [
       "[20, 50, 3]"
      ]
     },
     "execution_count": 60,
     "metadata": {},
     "output_type": "execute_result"
    }
   ],
   "source": [
    "b"
   ]
  },
  {
   "cell_type": "code",
   "execution_count": 61,
   "id": "11538d3f-1158-47d9-b4fe-edf622c05a04",
   "metadata": {},
   "outputs": [
    {
     "data": {
      "text/plain": [
       "[1, 50, 3]"
      ]
     },
     "execution_count": 61,
     "metadata": {},
     "output_type": "execute_result"
    }
   ],
   "source": [
    "a"
   ]
  },
  {
   "cell_type": "code",
   "execution_count": 62,
   "id": "9d327a67-94e7-44b3-91c3-2fdbecd436f0",
   "metadata": {},
   "outputs": [
    {
     "data": {
      "text/plain": [
       "['jerry', 'kutta', 'doggy', 'tom', 'jack']"
      ]
     },
     "execution_count": 62,
     "metadata": {},
     "output_type": "execute_result"
    }
   ],
   "source": [
    "dogs"
   ]
  },
  {
   "cell_type": "code",
   "execution_count": 63,
   "id": "68ee2bd5-3dc5-45ec-b62e-fe4ca6d1058c",
   "metadata": {},
   "outputs": [],
   "source": [
    "dogs.append(\"tom\")"
   ]
  },
  {
   "cell_type": "code",
   "execution_count": 64,
   "id": "a1653e43-01ec-4000-a613-15b3097d00bd",
   "metadata": {},
   "outputs": [
    {
     "data": {
      "text/plain": [
       "['jerry', 'kutta', 'doggy', 'tom', 'jack', 'tom']"
      ]
     },
     "execution_count": 64,
     "metadata": {},
     "output_type": "execute_result"
    }
   ],
   "source": [
    "dogs"
   ]
  },
  {
   "cell_type": "code",
   "execution_count": 65,
   "id": "46ce0871-6c7d-4055-ac7b-3731512b060e",
   "metadata": {},
   "outputs": [
    {
     "data": {
      "text/plain": [
       "2"
      ]
     },
     "execution_count": 65,
     "metadata": {},
     "output_type": "execute_result"
    }
   ],
   "source": [
    "dogs.count(\"tom\")"
   ]
  },
  {
   "cell_type": "code",
   "execution_count": 66,
   "id": "87fd4f98-4816-4cd4-bd50-ebd93c0e946b",
   "metadata": {},
   "outputs": [
    {
     "data": {
      "text/plain": [
       "2"
      ]
     },
     "execution_count": 66,
     "metadata": {},
     "output_type": "execute_result"
    }
   ],
   "source": [
    "dogs.index(\"doggy\")"
   ]
  },
  {
   "cell_type": "code",
   "execution_count": 67,
   "id": "a362c349-0220-4f86-b4cd-a5a92d2ce589",
   "metadata": {},
   "outputs": [],
   "source": [
    "friend = [\"sammy\", \"rammy\", \"jecob\"]"
   ]
  },
  {
   "cell_type": "code",
   "execution_count": 68,
   "id": "858fde52-d406-4981-b1ed-d4587ccd4cb5",
   "metadata": {},
   "outputs": [],
   "source": [
    "dogs.extend(friend)"
   ]
  },
  {
   "cell_type": "code",
   "execution_count": 76,
   "id": "54d7eae2-7efc-4ab0-8b26-28a6d7380cc4",
   "metadata": {},
   "outputs": [
    {
     "data": {
      "text/plain": [
       "['jerry',\n",
       " 'kutta',\n",
       " 'doggy',\n",
       " 'tom',\n",
       " 'jack',\n",
       " 'tom',\n",
       " 'sammy',\n",
       " 'rammy',\n",
       " 'jecob',\n",
       " 'friend',\n",
       " ['sammy', 'rammy', 'jecob'],\n",
       " ['sammy', 'rammy', 'jecob']]"
      ]
     },
     "execution_count": 76,
     "metadata": {},
     "output_type": "execute_result"
    }
   ],
   "source": [
    "dogs"
   ]
  },
  {
   "cell_type": "code",
   "execution_count": 77,
   "id": "2e71771e-eac6-4ec7-a756-8fe7284825e7",
   "metadata": {},
   "outputs": [
    {
     "data": {
      "text/plain": [
       "['sammy', 'rammy', 'jecob']"
      ]
     },
     "execution_count": 77,
     "metadata": {},
     "output_type": "execute_result"
    }
   ],
   "source": [
    "dogs.pop()"
   ]
  },
  {
   "cell_type": "code",
   "execution_count": 79,
   "id": "f925e4c7-2b6a-478d-ae58-6da5f5d7b531",
   "metadata": {},
   "outputs": [
    {
     "data": {
      "text/plain": [
       "['sammy', 'rammy', 'jecob']"
      ]
     },
     "execution_count": 79,
     "metadata": {},
     "output_type": "execute_result"
    }
   ],
   "source": [
    "dogs.pop()"
   ]
  },
  {
   "cell_type": "code",
   "execution_count": 80,
   "id": "fad9da4f-7790-4f47-92b6-cb6a3b0e1096",
   "metadata": {},
   "outputs": [
    {
     "data": {
      "text/plain": [
       "'friend'"
      ]
     },
     "execution_count": 80,
     "metadata": {},
     "output_type": "execute_result"
    }
   ],
   "source": [
    "dogs.pop()"
   ]
  },
  {
   "cell_type": "code",
   "execution_count": 81,
   "id": "7635dfda-24cc-4e2f-a09f-8dd83e2ec61b",
   "metadata": {},
   "outputs": [
    {
     "data": {
      "text/plain": [
       "'jecob'"
      ]
     },
     "execution_count": 81,
     "metadata": {},
     "output_type": "execute_result"
    }
   ],
   "source": [
    "dogs.pop()"
   ]
  },
  {
   "cell_type": "code",
   "execution_count": 82,
   "id": "13e3fc2b-d1f0-4692-882d-de9b35f2746f",
   "metadata": {},
   "outputs": [
    {
     "data": {
      "text/plain": [
       "'rammy'"
      ]
     },
     "execution_count": 82,
     "metadata": {},
     "output_type": "execute_result"
    }
   ],
   "source": [
    "dogs.pop()"
   ]
  },
  {
   "cell_type": "code",
   "execution_count": 83,
   "id": "bd2532a6-a563-48d1-ba00-5688d2f4e2a7",
   "metadata": {},
   "outputs": [
    {
     "data": {
      "text/plain": [
       "'sammy'"
      ]
     },
     "execution_count": 83,
     "metadata": {},
     "output_type": "execute_result"
    }
   ],
   "source": [
    "dogs.pop()"
   ]
  },
  {
   "cell_type": "code",
   "execution_count": 84,
   "id": "9ab5b9bb-65e8-47a0-bb84-d50b975af3b6",
   "metadata": {},
   "outputs": [
    {
     "data": {
      "text/plain": [
       "['jerry', 'kutta', 'doggy', 'tom', 'jack', 'tom']"
      ]
     },
     "execution_count": 84,
     "metadata": {},
     "output_type": "execute_result"
    }
   ],
   "source": [
    "dogs"
   ]
  },
  {
   "cell_type": "code",
   "execution_count": 85,
   "id": "fc19af7a-a83f-4a64-9fee-62d383c8d52c",
   "metadata": {},
   "outputs": [],
   "source": [
    "friend = [\"sammy\", \"rammy\", \"jacob\"]"
   ]
  },
  {
   "cell_type": "code",
   "execution_count": 86,
   "id": "4ab6afdd-fb71-413e-b2f8-32719e248902",
   "metadata": {},
   "outputs": [],
   "source": [
    "dogs.append(friend)"
   ]
  },
  {
   "cell_type": "code",
   "execution_count": 87,
   "id": "0d914993-4d25-488b-9028-97a7e3941e84",
   "metadata": {},
   "outputs": [
    {
     "data": {
      "text/plain": [
       "['jerry', 'kutta', 'doggy', 'tom', 'jack', 'tom', ['sammy', 'rammy', 'jacob']]"
      ]
     },
     "execution_count": 87,
     "metadata": {},
     "output_type": "execute_result"
    }
   ],
   "source": [
    "dogs"
   ]
  },
  {
   "cell_type": "code",
   "execution_count": 88,
   "id": "17952780-fb2e-4df8-97cf-0b33044cda2e",
   "metadata": {},
   "outputs": [],
   "source": [
    "dogs.extend(friend)"
   ]
  },
  {
   "cell_type": "code",
   "execution_count": 89,
   "id": "0a8946ef-3bb4-460c-9fc9-3d99823a6c2c",
   "metadata": {},
   "outputs": [
    {
     "data": {
      "text/plain": [
       "['jerry',\n",
       " 'kutta',\n",
       " 'doggy',\n",
       " 'tom',\n",
       " 'jack',\n",
       " 'tom',\n",
       " ['sammy', 'rammy', 'jacob'],\n",
       " 'sammy',\n",
       " 'rammy',\n",
       " 'jacob']"
      ]
     },
     "execution_count": 89,
     "metadata": {},
     "output_type": "execute_result"
    }
   ],
   "source": [
    "dogs"
   ]
  },
  {
   "cell_type": "code",
   "execution_count": 90,
   "id": "95d5ac98-2e10-4fbb-962b-5f7290a652ff",
   "metadata": {},
   "outputs": [
    {
     "data": {
      "text/plain": [
       "'doggy'"
      ]
     },
     "execution_count": 90,
     "metadata": {},
     "output_type": "execute_result"
    }
   ],
   "source": [
    "dogs.pop(2)"
   ]
  },
  {
   "cell_type": "code",
   "execution_count": 91,
   "id": "9ba24976-7d6b-451b-9acb-442bf3a721a2",
   "metadata": {},
   "outputs": [
    {
     "data": {
      "text/plain": [
       "['jerry',\n",
       " 'kutta',\n",
       " 'tom',\n",
       " 'jack',\n",
       " 'tom',\n",
       " ['sammy', 'rammy', 'jacob'],\n",
       " 'sammy',\n",
       " 'rammy',\n",
       " 'jacob']"
      ]
     },
     "execution_count": 91,
     "metadata": {},
     "output_type": "execute_result"
    }
   ],
   "source": [
    "dogs"
   ]
  },
  {
   "cell_type": "code",
   "execution_count": 96,
   "id": "4f235f9d-5864-40e4-9a63-bc7321848619",
   "metadata": {},
   "outputs": [],
   "source": [
    "#  APPEND IS USED TO ADD OBJECTS\n",
    "dogs.append(\"doggy\")"
   ]
  },
  {
   "cell_type": "code",
   "execution_count": 94,
   "id": "37aabd49-419c-4c98-8e4e-7394701f7e1c",
   "metadata": {},
   "outputs": [
    {
     "data": {
      "text/plain": [
       "['jerry',\n",
       " 'kutta',\n",
       " 'tom',\n",
       " 'jack',\n",
       " 'tom',\n",
       " ['sammy', 'rammy', 'jacob'],\n",
       " 'sammy',\n",
       " 'rammy',\n",
       " 'jacob',\n",
       " 'doggy']"
      ]
     },
     "execution_count": 94,
     "metadata": {},
     "output_type": "execute_result"
    }
   ],
   "source": [
    "dogs"
   ]
  },
  {
   "cell_type": "code",
   "execution_count": 97,
   "id": "1d86852d-8645-4018-b6d8-cbcede8ffea7",
   "metadata": {},
   "outputs": [
    {
     "data": {
      "text/plain": [
       "[5, 5.3, (6+3j), 'harjeet', (8, 5, 4), ['harjeet', 4, 6], True, False]"
      ]
     },
     "execution_count": 97,
     "metadata": {},
     "output_type": "execute_result"
    }
   ],
   "source": [
    "li"
   ]
  },
  {
   "cell_type": "code",
   "execution_count": 98,
   "id": "050a965e-7efc-4de8-aed9-8675eebeac64",
   "metadata": {},
   "outputs": [],
   "source": [
    "list = [2, 4, 5, 2, 5, 8, 1, 9]"
   ]
  },
  {
   "cell_type": "code",
   "execution_count": 99,
   "id": "e1c64fc0-2403-4343-bf0e-060877f5d8d0",
   "metadata": {},
   "outputs": [],
   "source": [
    "list.sort()"
   ]
  },
  {
   "cell_type": "code",
   "execution_count": 100,
   "id": "56c4286b-f531-4b9e-9751-3aaf305c4ac4",
   "metadata": {},
   "outputs": [
    {
     "data": {
      "text/plain": [
       "[1, 2, 2, 4, 5, 5, 8, 9]"
      ]
     },
     "execution_count": 100,
     "metadata": {},
     "output_type": "execute_result"
    }
   ],
   "source": [
    "list"
   ]
  },
  {
   "cell_type": "code",
   "execution_count": 104,
   "id": "81448c3e-0a07-4057-9eb8-df5e4117ead0",
   "metadata": {},
   "outputs": [],
   "source": [
    "# (REVERSE=True) is used to set in descending order \n",
    "list.sort(reverse=True)"
   ]
  },
  {
   "cell_type": "code",
   "execution_count": 103,
   "id": "841097ca-e142-475c-acac-d1b7737c077a",
   "metadata": {},
   "outputs": [
    {
     "data": {
      "text/plain": [
       "[9, 8, 5, 5, 4, 2, 2, 1]"
      ]
     },
     "execution_count": 103,
     "metadata": {},
     "output_type": "execute_result"
    }
   ],
   "source": [
    "list"
   ]
  },
  {
   "cell_type": "code",
   "execution_count": 105,
   "id": "120e94ac-e90f-42f9-8e30-3fdd0fa94d9a",
   "metadata": {},
   "outputs": [
    {
     "data": {
      "text/plain": [
       "[9, 8, 5, 5, 4, 2, 2, 1]"
      ]
     },
     "execution_count": 105,
     "metadata": {},
     "output_type": "execute_result"
    }
   ],
   "source": [
    "list"
   ]
  },
  {
   "cell_type": "code",
   "execution_count": 106,
   "id": "6285fa23-817e-4f58-b35d-b538de5df010",
   "metadata": {},
   "outputs": [
    {
     "data": {
      "text/plain": [
       "[5, 5.3, (6+3j), 'harjeet', (8, 5, 4), ['harjeet', 4, 6], True, False]"
      ]
     },
     "execution_count": 106,
     "metadata": {},
     "output_type": "execute_result"
    }
   ],
   "source": [
    "li"
   ]
  },
  {
   "cell_type": "code",
   "execution_count": 107,
   "id": "7c10294d-3ff7-4563-8937-27038949f5f0",
   "metadata": {},
   "outputs": [],
   "source": [
    "li.reverse()"
   ]
  },
  {
   "cell_type": "code",
   "execution_count": 108,
   "id": "91936470-942e-4aa6-b43e-0dad79e0b59c",
   "metadata": {},
   "outputs": [
    {
     "data": {
      "text/plain": [
       "[False, True, ['harjeet', 4, 6], (8, 5, 4), 'harjeet', (6+3j), 5.3, 5]"
      ]
     },
     "execution_count": 108,
     "metadata": {},
     "output_type": "execute_result"
    }
   ],
   "source": [
    "li"
   ]
  },
  {
   "cell_type": "code",
   "execution_count": null,
   "id": "a426c5f1-2a85-4b45-9107-06f620b9b9af",
   "metadata": {},
   "outputs": [],
   "source": []
  }
 ],
 "metadata": {
  "kernelspec": {
   "display_name": "Python 3 (ipykernel)",
   "language": "python",
   "name": "python3"
  },
  "language_info": {
   "codemirror_mode": {
    "name": "ipython",
    "version": 3
   },
   "file_extension": ".py",
   "mimetype": "text/x-python",
   "name": "python",
   "nbconvert_exporter": "python",
   "pygments_lexer": "ipython3",
   "version": "3.13.5"
  }
 },
 "nbformat": 4,
 "nbformat_minor": 5
}
