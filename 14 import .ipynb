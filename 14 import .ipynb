{
 "cells": [
  {
   "cell_type": "markdown",
   "id": "b49e04d8-36dd-4712-b2f9-8c1bf06902fc",
   "metadata": {},
   "source": [
    "# install a library"
   ]
  },
  {
   "cell_type": "code",
   "execution_count": 2,
   "id": "947273b4-d1e2-4b77-a276-d17583883c6b",
   "metadata": {},
   "outputs": [
    {
     "name": "stdout",
     "output_type": "stream",
     "text": [
      "Defaulting to user installation because normal site-packages is not writeable\n",
      "Requirement already satisfied: pandas in c:\\programdata\\anaconda3\\lib\\site-packages (2.2.3)\n",
      "Requirement already satisfied: numpy>=1.26.0 in c:\\programdata\\anaconda3\\lib\\site-packages (from pandas) (2.1.3)\n",
      "Requirement already satisfied: python-dateutil>=2.8.2 in c:\\programdata\\anaconda3\\lib\\site-packages (from pandas) (2.9.0.post0)\n",
      "Requirement already satisfied: pytz>=2020.1 in c:\\programdata\\anaconda3\\lib\\site-packages (from pandas) (2024.1)\n",
      "Requirement already satisfied: tzdata>=2022.7 in c:\\programdata\\anaconda3\\lib\\site-packages (from pandas) (2025.2)\n",
      "Requirement already satisfied: six>=1.5 in c:\\programdata\\anaconda3\\lib\\site-packages (from python-dateutil>=2.8.2->pandas) (1.17.0)\n",
      "Note: you may need to restart the kernel to use updated packages.\n"
     ]
    }
   ],
   "source": [
    "pip install pandas"
   ]
  },
  {
   "cell_type": "code",
   "execution_count": 4,
   "id": "44492a2d-f346-4c56-8405-036866b44500",
   "metadata": {},
   "outputs": [
    {
     "name": "stdout",
     "output_type": "stream",
     "text": [
      "Defaulting to user installation because normal site-packages is not writeable\n",
      "Requirement already satisfied: django==5.2.5 in c:\\users\\dell\\appdata\\roaming\\python\\python313\\site-packages (5.2.5)\n",
      "Requirement already satisfied: asgiref>=3.8.1 in c:\\users\\dell\\appdata\\roaming\\python\\python313\\site-packages (from django==5.2.5) (3.9.1)\n",
      "Requirement already satisfied: sqlparse>=0.3.1 in c:\\users\\dell\\appdata\\roaming\\python\\python313\\site-packages (from django==5.2.5) (0.5.3)\n",
      "Requirement already satisfied: tzdata in c:\\programdata\\anaconda3\\lib\\site-packages (from django==5.2.5) (2025.2)\n",
      "Note: you may need to restart the kernel to use updated packages.\n"
     ]
    }
   ],
   "source": [
    "pip install django==5.2.5"
   ]
  },
  {
   "cell_type": "code",
   "execution_count": 27,
   "id": "747b0580-397d-4a1a-a3b5-0e09a0124c37",
   "metadata": {},
   "outputs": [],
   "source": [
    "import random"
   ]
  },
  {
   "cell_type": "code",
   "execution_count": 28,
   "id": "55d6f4e0-6ee3-4dbf-83db-e576ac8287c3",
   "metadata": {},
   "outputs": [
    {
     "data": {
      "text/plain": [
       "14"
      ]
     },
     "execution_count": 28,
     "metadata": {},
     "output_type": "execute_result"
    }
   ],
   "source": [
    "random.randint(10,20)"
   ]
  },
  {
   "cell_type": "code",
   "execution_count": 8,
   "id": "7dde3db8-08a1-49fa-9eeb-13f6bd01b723",
   "metadata": {},
   "outputs": [
    {
     "name": "stdout",
     "output_type": "stream",
     "text": [
      "Defaulting to user installation because normal site-packages is not writeable\n",
      "Requirement already satisfied: pandas in c:\\programdata\\anaconda3\\lib\\site-packages (2.2.3)\n",
      "Requirement already satisfied: numpy in c:\\programdata\\anaconda3\\lib\\site-packages (2.1.3)\n",
      "Requirement already satisfied: python-dateutil>=2.8.2 in c:\\programdata\\anaconda3\\lib\\site-packages (from pandas) (2.9.0.post0)\n",
      "Requirement already satisfied: pytz>=2020.1 in c:\\programdata\\anaconda3\\lib\\site-packages (from pandas) (2024.1)\n",
      "Requirement already satisfied: tzdata>=2022.7 in c:\\programdata\\anaconda3\\lib\\site-packages (from pandas) (2025.2)\n",
      "Requirement already satisfied: six>=1.5 in c:\\programdata\\anaconda3\\lib\\site-packages (from python-dateutil>=2.8.2->pandas) (1.17.0)\n",
      "Note: you may need to restart the kernel to use updated packages.\n"
     ]
    }
   ],
   "source": [
    "pip install pandas numpy"
   ]
  },
  {
   "cell_type": "code",
   "execution_count": 9,
   "id": "5dd42c0e-4a04-4a65-ae8b-ccea6fd1dad6",
   "metadata": {},
   "outputs": [],
   "source": [
    "import pandas as pd"
   ]
  },
  {
   "cell_type": "code",
   "execution_count": 10,
   "id": "7680eb34-b07c-4165-b86b-dbac1b5fdcb0",
   "metadata": {},
   "outputs": [
    {
     "data": {
      "text/plain": [
       "<module 'pandas' from 'C:\\\\ProgramData\\\\anaconda3\\\\Lib\\\\site-packages\\\\pandas\\\\__init__.py'>"
      ]
     },
     "execution_count": 10,
     "metadata": {},
     "output_type": "execute_result"
    }
   ],
   "source": [
    "pd"
   ]
  },
  {
   "cell_type": "code",
   "execution_count": 11,
   "id": "fb9c15b6-fef6-4b61-afa5-0b83c3a047ad",
   "metadata": {},
   "outputs": [
    {
     "ename": "NameError",
     "evalue": "name 'pandas' is not defined",
     "output_type": "error",
     "traceback": [
      "\u001b[1;31m---------------------------------------------------------------------------\u001b[0m",
      "\u001b[1;31mNameError\u001b[0m                                 Traceback (most recent call last)",
      "Cell \u001b[1;32mIn[11], line 1\u001b[0m\n\u001b[1;32m----> 1\u001b[0m pandas\n",
      "\u001b[1;31mNameError\u001b[0m: name 'pandas' is not defined"
     ]
    }
   ],
   "source": [
    "pandas"
   ]
  },
  {
   "cell_type": "code",
   "execution_count": 12,
   "id": "870c29b3-b401-4e24-8a4a-54f33461adab",
   "metadata": {},
   "outputs": [],
   "source": [
    "from random import randint"
   ]
  },
  {
   "cell_type": "code",
   "execution_count": 14,
   "id": "483484ec-13e4-4c78-8942-8d7fdf746b5a",
   "metadata": {},
   "outputs": [
    {
     "data": {
      "text/plain": [
       "16"
      ]
     },
     "execution_count": 14,
     "metadata": {},
     "output_type": "execute_result"
    }
   ],
   "source": [
    "randint(10, 20)"
   ]
  },
  {
   "cell_type": "code",
   "execution_count": 3,
   "id": "60d76e47-b596-4a4e-ad61-bcd87d74e3de",
   "metadata": {},
   "outputs": [],
   "source": [
    "from datetime import datetime"
   ]
  },
  {
   "cell_type": "code",
   "execution_count": 4,
   "id": "87c05a18-9a28-4cf5-b553-a969d615ed42",
   "metadata": {},
   "outputs": [
    {
     "data": {
      "text/plain": [
       "datetime.datetime(2025, 8, 19, 17, 34, 42, 642157)"
      ]
     },
     "execution_count": 4,
     "metadata": {},
     "output_type": "execute_result"
    }
   ],
   "source": [
    "datetime.today()"
   ]
  },
  {
   "cell_type": "code",
   "execution_count": 5,
   "id": "b2026b4e-6383-4082-a695-6735a69b6a83",
   "metadata": {},
   "outputs": [],
   "source": [
    "a= datetime.now()"
   ]
  },
  {
   "cell_type": "code",
   "execution_count": 6,
   "id": "9d5244e3-8943-4d19-b4ba-1c35a1d1a5e6",
   "metadata": {},
   "outputs": [
    {
     "data": {
      "text/plain": [
       "datetime.datetime(2025, 8, 19, 17, 34, 43, 80986)"
      ]
     },
     "execution_count": 6,
     "metadata": {},
     "output_type": "execute_result"
    }
   ],
   "source": [
    "a"
   ]
  },
  {
   "cell_type": "markdown",
   "id": "112a32a5-56e9-4c11-b467-6f5017874882",
   "metadata": {},
   "source": [
    "# functions in datetime"
   ]
  },
  {
   "cell_type": "code",
   "execution_count": 7,
   "id": "bef37f92-231c-44c3-a36d-204805d4890f",
   "metadata": {},
   "outputs": [
    {
     "data": {
      "text/plain": [
       "19"
      ]
     },
     "execution_count": 7,
     "metadata": {},
     "output_type": "execute_result"
    }
   ],
   "source": [
    "a.day"
   ]
  },
  {
   "cell_type": "code",
   "execution_count": 8,
   "id": "05bfb075-423b-4dc8-b649-49def4f7cecd",
   "metadata": {},
   "outputs": [
    {
     "data": {
      "text/plain": [
       "datetime.date(2025, 8, 19)"
      ]
     },
     "execution_count": 8,
     "metadata": {},
     "output_type": "execute_result"
    }
   ],
   "source": [
    "a.date()"
   ]
  },
  {
   "cell_type": "code",
   "execution_count": 9,
   "id": "5be9cd15-fb48-4136-8fcf-7d5b6c3ccb22",
   "metadata": {},
   "outputs": [
    {
     "data": {
      "text/plain": [
       "17"
      ]
     },
     "execution_count": 9,
     "metadata": {},
     "output_type": "execute_result"
    }
   ],
   "source": [
    "a.hour"
   ]
  },
  {
   "cell_type": "code",
   "execution_count": 10,
   "id": "cace4cbf-40c0-418d-a725-2c1eb6573a89",
   "metadata": {},
   "outputs": [
    {
     "data": {
      "text/plain": [
       "datetime.datetime(9999, 12, 31, 23, 59, 59, 999999)"
      ]
     },
     "execution_count": 10,
     "metadata": {},
     "output_type": "execute_result"
    }
   ],
   "source": [
    "a.max"
   ]
  },
  {
   "cell_type": "code",
   "execution_count": 15,
   "id": "f7637be4-a71e-464b-83bf-4ffe3f4efb74",
   "metadata": {},
   "outputs": [
    {
     "data": {
      "text/plain": [
       "datetime.datetime(1, 1, 1, 0, 0)"
      ]
     },
     "execution_count": 15,
     "metadata": {},
     "output_type": "execute_result"
    }
   ],
   "source": [
    "a.min"
   ]
  },
  {
   "cell_type": "code",
   "execution_count": 12,
   "id": "9d3c93e0-b3b5-4d7e-ac06-1c49eaf04abc",
   "metadata": {},
   "outputs": [
    {
     "data": {
      "text/plain": [
       "datetime.date(2025, 8, 19)"
      ]
     },
     "execution_count": 12,
     "metadata": {},
     "output_type": "execute_result"
    }
   ],
   "source": [
    "datetime.date(a)"
   ]
  },
  {
   "cell_type": "code",
   "execution_count": 13,
   "id": "ff8ed3cb-9dcb-49cd-aff0-0b18f537ae53",
   "metadata": {},
   "outputs": [
    {
     "data": {
      "text/plain": [
       "datetime.time(17, 34, 43, 80986)"
      ]
     },
     "execution_count": 13,
     "metadata": {},
     "output_type": "execute_result"
    }
   ],
   "source": [
    "datetime.time(a)"
   ]
  },
  {
   "cell_type": "code",
   "execution_count": 14,
   "id": "4cc8f312-ec2d-4443-a0ac-f13c47303980",
   "metadata": {},
   "outputs": [],
   "source": [
    "d = datetime(2005, 8, 15)"
   ]
  },
  {
   "cell_type": "code",
   "execution_count": 36,
   "id": "d3c15e0f-99b2-42dd-bc13-0f588f9bd2aa",
   "metadata": {},
   "outputs": [
    {
     "data": {
      "text/plain": [
       "datetime.datetime(2005, 8, 15, 0, 0)"
      ]
     },
     "execution_count": 36,
     "metadata": {},
     "output_type": "execute_result"
    }
   ],
   "source": [
    "d"
   ]
  },
  {
   "cell_type": "code",
   "execution_count": 16,
   "id": "7d1c47bc-c4f0-4f96-b3e7-e30bb9fc0141",
   "metadata": {},
   "outputs": [
    {
     "data": {
      "text/plain": [
       "'2005'"
      ]
     },
     "execution_count": 16,
     "metadata": {},
     "output_type": "execute_result"
    }
   ],
   "source": [
    "datetime.strftime(d, '%Y')"
   ]
  },
  {
   "cell_type": "code",
   "execution_count": 52,
   "id": "46b922d4-0276-424c-aaf1-1b6d6cef346c",
   "metadata": {},
   "outputs": [
    {
     "data": {
      "text/plain": [
       "'15- August - 2005'"
      ]
     },
     "execution_count": 52,
     "metadata": {},
     "output_type": "execute_result"
    }
   ],
   "source": [
    "datetime.strftime(d, \"%d- %B - %Y\")"
   ]
  },
  {
   "cell_type": "code",
   "execution_count": 30,
   "id": "fceb244e-79c0-47a4-a87a-23026e7000f3",
   "metadata": {},
   "outputs": [
    {
     "data": {
      "text/plain": [
       "'19 - August - 2025 - Tuesday'"
      ]
     },
     "execution_count": 30,
     "metadata": {},
     "output_type": "execute_result"
    }
   ],
   "source": [
    "datetime.strftime(datetime.now(), \"%d - %B - %Y - %A\")"
   ]
  },
  {
   "cell_type": "code",
   "execution_count": 49,
   "id": "8fb564e5-a433-4167-98a2-d6cd97810ece",
   "metadata": {},
   "outputs": [
    {
     "data": {
      "text/plain": [
       "[8]"
      ]
     },
     "execution_count": 49,
     "metadata": {},
     "output_type": "execute_result"
    }
   ],
   "source": [
    "random.choices([\"shubham\", 8, 4])"
   ]
  },
  {
   "cell_type": "code",
   "execution_count": 98,
   "id": "9590f2f0-0bfa-4763-be92-b6176d4ab1b8",
   "metadata": {},
   "outputs": [],
   "source": [
    "p = datetime(2004, 11, 30)"
   ]
  },
  {
   "cell_type": "code",
   "execution_count": 99,
   "id": "0e1eb284-09f2-4a78-9b54-29f393d6c582",
   "metadata": {},
   "outputs": [
    {
     "data": {
      "text/plain": [
       "'30- November- 2004- Tuesday'"
      ]
     },
     "execution_count": 99,
     "metadata": {},
     "output_type": "execute_result"
    }
   ],
   "source": [
    "datetime.strftime(p, \"%d- %B- %Y- %A\")"
   ]
  },
  {
   "cell_type": "code",
   "execution_count": 104,
   "id": "2bb4dbd6-b2f8-4ce6-8bdb-4421722a286c",
   "metadata": {},
   "outputs": [
    {
     "data": {
      "text/plain": [
       "'*f'"
      ]
     },
     "execution_count": 104,
     "metadata": {},
     "output_type": "execute_result"
    }
   ],
   "source": [
    "datetime.strftime(datetime.now(), \"*\")"
   ]
  },
  {
   "cell_type": "code",
   "execution_count": null,
   "id": "305bfa0f-0535-4206-ac29-0b34825e4fa9",
   "metadata": {},
   "outputs": [],
   "source": []
  }
 ],
 "metadata": {
  "kernelspec": {
   "display_name": "Python 3 (ipykernel)",
   "language": "python",
   "name": "python3"
  },
  "language_info": {
   "codemirror_mode": {
    "name": "ipython",
    "version": 3
   },
   "file_extension": ".py",
   "mimetype": "text/x-python",
   "name": "python",
   "nbconvert_exporter": "python",
   "pygments_lexer": "ipython3",
   "version": "3.13.5"
  }
 },
 "nbformat": 4,
 "nbformat_minor": 5
}
