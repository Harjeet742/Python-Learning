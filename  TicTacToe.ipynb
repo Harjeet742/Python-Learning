{
 "cells": [
  {
   "cell_type": "markdown",
   "id": "3fbdbdbf-5b97-478c-ad7c-4d60dc21e3b0",
   "metadata": {},
   "source": [
    "### display"
   ]
  },
  {
   "cell_type": "code",
   "execution_count": 1,
   "id": "74d88ad3-495a-440d-8f0a-71da62c5934e",
   "metadata": {},
   "outputs": [],
   "source": [
    "from IPython.display import clear_output"
   ]
  },
  {
   "cell_type": "code",
   "execution_count": 2,
   "id": "45aeee7b-8a44-48a5-9ff2-b23fa027024e",
   "metadata": {},
   "outputs": [],
   "source": [
    "li = [\" \"]*10"
   ]
  },
  {
   "cell_type": "code",
   "execution_count": 3,
   "id": "b2f35219-c328-49d3-ba43-55319f2690bf",
   "metadata": {},
   "outputs": [
    {
     "data": {
      "text/plain": [
       "[' ', ' ', ' ', ' ', ' ', ' ', ' ', ' ', ' ', ' ']"
      ]
     },
     "execution_count": 3,
     "metadata": {},
     "output_type": "execute_result"
    }
   ],
   "source": [
    "li"
   ]
  },
  {
   "cell_type": "code",
   "execution_count": 4,
   "id": "16590b71-d9af-48ed-ae4b-1ba3c9086967",
   "metadata": {},
   "outputs": [],
   "source": [
    "def display():\n",
    "    print(li[7],\" | \",li[8],\" | \",li[9])\n",
    "    print(\"-\"*14)\n",
    "    print(li[4],\" | \",li[5],\" | \",li[6])\n",
    "    print(\"-\"*14)\n",
    "    print(li[1],\" | \",li[2],\" | \",li[3])"
   ]
  },
  {
   "cell_type": "code",
   "execution_count": 40,
   "id": "020213f9-48f2-4220-be45-a7a5b2b92272",
   "metadata": {},
   "outputs": [
    {
     "name": "stdout",
     "output_type": "stream",
     "text": [
      "X  |  X  |  O\n",
      "--------------\n",
      "O  |  O  |  X\n",
      "--------------\n",
      "X  |  O  |  O\n"
     ]
    }
   ],
   "source": [
    "display()"
   ]
  },
  {
   "cell_type": "code",
   "execution_count": 6,
   "id": "e58bd90d-a56b-4243-89c3-fce407f0f34a",
   "metadata": {},
   "outputs": [],
   "source": [
    "def check_position_empty(position):\n",
    "    if li[position] == \" \":\n",
    "        return True\n",
    "    else:\n",
    "        return  False"
   ]
  },
  {
   "cell_type": "code",
   "execution_count": 7,
   "id": "d656f8d8-a5ac-4a35-b5c4-a12a262feb23",
   "metadata": {},
   "outputs": [],
   "source": [
    "li[5] = \"o\""
   ]
  },
  {
   "cell_type": "code",
   "execution_count": 8,
   "id": "cb78731c-8818-4296-8a99-706562712b33",
   "metadata": {},
   "outputs": [
    {
     "data": {
      "text/plain": [
       "True"
      ]
     },
     "execution_count": 8,
     "metadata": {},
     "output_type": "execute_result"
    }
   ],
   "source": [
    "check_position_empty(6)"
   ]
  },
  {
   "cell_type": "code",
   "execution_count": 9,
   "id": "56d9eb35-2330-4677-9fcd-a152cc2bf408",
   "metadata": {},
   "outputs": [
    {
     "data": {
      "text/plain": [
       "True"
      ]
     },
     "execution_count": 9,
     "metadata": {},
     "output_type": "execute_result"
    }
   ],
   "source": [
    "check_position_empty(7)"
   ]
  },
  {
   "cell_type": "code",
   "execution_count": 10,
   "id": "0079e9ac-f871-49d0-9436-e412dfbc3090",
   "metadata": {},
   "outputs": [],
   "source": [
    "li[7] = \"o\""
   ]
  },
  {
   "cell_type": "code",
   "execution_count": 11,
   "id": "9021a526-e9aa-4a07-a4d9-a735522bae9f",
   "metadata": {},
   "outputs": [],
   "source": [
    "def put_marker(position, marker):\n",
    "    li[position]= marker"
   ]
  },
  {
   "cell_type": "code",
   "execution_count": 12,
   "id": "cddc32d1-f05f-4318-8640-d97da6cab873",
   "metadata": {},
   "outputs": [],
   "source": [
    "put_marker(3, \"x\")"
   ]
  },
  {
   "cell_type": "code",
   "execution_count": 13,
   "id": "47311489-6125-4148-b6ca-34be3f8bc9de",
   "metadata": {},
   "outputs": [],
   "source": [
    "position = None"
   ]
  },
  {
   "cell_type": "code",
   "execution_count": 14,
   "id": "07a88d3a-b179-4cad-bc9b-2b7416b6a87a",
   "metadata": {},
   "outputs": [
    {
     "name": "stdin",
     "output_type": "stream",
     "text": [
      "None rr\n"
     ]
    },
    {
     "name": "stdout",
     "output_type": "stream",
     "text": [
      "please provide a number\n"
     ]
    },
    {
     "name": "stdin",
     "output_type": "stream",
     "text": [
      "None 7\n"
     ]
    }
   ],
   "source": [
    "position = None\n",
    "while not position:\n",
    "    try:\n",
    "        position = int(input(position))\n",
    "    except ValueError:\n",
    "        print('please provide a number')          "
   ]
  },
  {
   "cell_type": "code",
   "execution_count": 16,
   "id": "0f327548-c5cb-48c2-8db9-0ca129c56905",
   "metadata": {},
   "outputs": [],
   "source": [
    "def empty_positions():\n",
    "    #print(li)\n",
    "    ans = []\n",
    "    for i in range(1, len(li)):\n",
    "        if li[i] == \" \":\n",
    "            ans.append(i)\n",
    "    return ans"
   ]
  },
  {
   "cell_type": "code",
   "execution_count": 17,
   "id": "573da139-ee53-4b04-ad93-ed17121db449",
   "metadata": {},
   "outputs": [
    {
     "data": {
      "text/plain": [
       "[1, 2, 4, 6, 8, 9]"
      ]
     },
     "execution_count": 17,
     "metadata": {},
     "output_type": "execute_result"
    }
   ],
   "source": [
    "empty_positions()"
   ]
  },
  {
   "cell_type": "code",
   "execution_count": 18,
   "id": "336cd062-4d17-467c-b06f-a7d938480813",
   "metadata": {},
   "outputs": [],
   "source": [
    "def take_position():\n",
    "    position = None\n",
    "    available = empty_positions()\n",
    "    while not position:\n",
    "        try:\n",
    "            position = int(input(f'please choose among{available}'))\n",
    "        except ValueError:\n",
    "            print(f'please provide a number{available}')\n",
    "        else:\n",
    "            if position in available:\n",
    "                return position\n",
    "            else:\n",
    "                print(f'please provide a number among {available}')\n",
    "                position = None\n",
    "                "
   ]
  },
  {
   "cell_type": "code",
   "execution_count": 19,
   "id": "0043895f-cc10-4ebc-94d1-c24f107762e0",
   "metadata": {},
   "outputs": [
    {
     "name": "stdin",
     "output_type": "stream",
     "text": [
      "please choose among[1, 2, 4, 6, 8, 9] 9\n"
     ]
    },
    {
     "data": {
      "text/plain": [
       "9"
      ]
     },
     "execution_count": 19,
     "metadata": {},
     "output_type": "execute_result"
    }
   ],
   "source": [
    "take_position()"
   ]
  },
  {
   "cell_type": "code",
   "execution_count": 20,
   "id": "f2eaa8f4-b777-4484-bdf5-8dbf8350bbc0",
   "metadata": {},
   "outputs": [],
   "source": [
    "def check_win():\n",
    "    # horizontal\n",
    "    if (li[7]==li[8]==li[9]!=\" \") or \\\n",
    "    (li[4]==li[5]==li[6]!=\" \") or \\\n",
    "    (li[1]==li[2]==li[3]!=\" \") or \\\n",
    "    (li[7]==li[4]==li[1]!=\" \") or \\\n",
    "    (li[8]==li[5]==li[2]!=\" \") or \\\n",
    "    (li[9]==li[6]==li[3]!=\" \") or \\\n",
    "    (li[7]==li[5]==li[3]!=\" \") or \\\n",
    "    (li[1]==li[5]==li[9]!=\" \"):\n",
    "        return True\n",
    "    else:\n",
    "        return False"
   ]
  },
  {
   "cell_type": "code",
   "execution_count": 39,
   "id": "53d8ed4a-86c7-4525-8bd0-26da57fa0b88",
   "metadata": {},
   "outputs": [
    {
     "data": {
      "text/plain": [
       "False"
      ]
     },
     "execution_count": 39,
     "metadata": {},
     "output_type": "execute_result"
    }
   ],
   "source": [
    "check_win()"
   ]
  },
  {
   "cell_type": "code",
   "execution_count": 22,
   "id": "792459ff-b72a-49d6-a64e-4221e406227e",
   "metadata": {},
   "outputs": [],
   "source": [
    "def board_full():\n",
    "    \n",
    "    if len(empty_positions())==0:\n",
    "        return True\n",
    "    else:\n",
    "        return False"
   ]
  },
  {
   "cell_type": "code",
   "execution_count": 29,
   "id": "fbe730c3-4504-46dd-8e96-ec3b22f70831",
   "metadata": {},
   "outputs": [
    {
     "data": {
      "text/plain": [
       "True"
      ]
     },
     "execution_count": 29,
     "metadata": {},
     "output_type": "execute_result"
    }
   ],
   "source": [
    "board_full()"
   ]
  },
  {
   "cell_type": "code",
   "execution_count": 24,
   "id": "de6f20bc-c72b-445e-853e-27282c1ede6a",
   "metadata": {},
   "outputs": [
    {
     "data": {
      "text/plain": [
       "[' ', ' ', ' ', 'x', ' ', 'o', ' ', 'o', ' ', ' ']"
      ]
     },
     "execution_count": 24,
     "metadata": {},
     "output_type": "execute_result"
    }
   ],
   "source": [
    "li"
   ]
  },
  {
   "cell_type": "code",
   "execution_count": 25,
   "id": "45b26446-c658-4ec9-a753-7c6cea391810",
   "metadata": {},
   "outputs": [],
   "source": [
    "def change_marker(marker):\n",
    "    if marker == \"O\":\n",
    "        return \"X\"\n",
    "    else:\n",
    "        return \"O\""
   ]
  },
  {
   "cell_type": "code",
   "execution_count": 38,
   "id": "82934139-1679-41d8-9efe-7acd1ccafa31",
   "metadata": {},
   "outputs": [
    {
     "data": {
      "text/plain": [
       "True"
      ]
     },
     "execution_count": 38,
     "metadata": {},
     "output_type": "execute_result"
    }
   ],
   "source": [
    "board_full()"
   ]
  },
  {
   "cell_type": "code",
   "execution_count": 35,
   "id": "74501882-2a7c-4a35-a8d3-abffea86a665",
   "metadata": {},
   "outputs": [
    {
     "name": "stdout",
     "output_type": "stream",
     "text": [
      "X  |  O  |  O\n",
      "--------------\n",
      "O  |  O  |  X\n",
      "--------------\n",
      "X  |  X  |  O\n",
      "board full, game draw, do you want to play again\n"
     ]
    }
   ],
   "source": [
    "li = [\" \"]*10\n",
    "game = True\n",
    "marker = \"O\"\n",
    "while game:\n",
    "    display()\n",
    "    position = take_position()\n",
    "    put_marker(position, marker)\n",
    "    clear_output()\n",
    "    display()\n",
    "    if check_win():\n",
    "        print(f\"congratulations {marker} won the game\")\n",
    "        game = False\n",
    "        break\n",
    "    elif board_full():\n",
    "        print(f\"board full, game draw, do you want to play again\")\n",
    "        game = False\n",
    "        break\n",
    "    else:\n",
    "        marker = change_marker(marker)"
   ]
  },
  {
   "cell_type": "code",
   "execution_count": 37,
   "id": "a9882855-3cc8-44f9-bccc-abfa5938b06a",
   "metadata": {},
   "outputs": [
    {
     "name": "stdout",
     "output_type": "stream",
     "text": [
      "X  |  X  |  O\n",
      "--------------\n",
      "O  |  O  |  X\n",
      "--------------\n",
      "X  |  O  |  O\n",
      "board full, game draw, do you want to play again\n"
     ]
    },
    {
     "name": "stdin",
     "output_type": "stream",
     "text": [
      "do you want to play again, yes, no? no\n"
     ]
    }
   ],
   "source": [
    "li = [\" \"]*10\n",
    "game = True\n",
    "marker = \"O\"\n",
    "display()\n",
    "while game:\n",
    "    position = take_position()\n",
    "    put_marker(position, marker)\n",
    "    clear_output()\n",
    "    display()\n",
    "    if check_win():\n",
    "        print(f\"congratulations {marker} won the game\")\n",
    "        game = False\n",
    "        break\n",
    "    elif board_full():\n",
    "        print(f'board full, game draw, do you want to play again')\n",
    "        playAgain = input('do you want to play again, yes, no?')\n",
    "        try:\n",
    "            if playAgain[0] in ('y', \"Y\"):\n",
    "                li = [\" \"]*10\n",
    "                print(\"new game\")\n",
    "                display()\n",
    "                game = True\n",
    "            else:\n",
    "                game = False\n",
    "                break\n",
    "        except:\n",
    "            game = False\n",
    "            break\n",
    "    else:\n",
    "        marker = change_marker(marker)"
   ]
  },
  {
   "cell_type": "code",
   "execution_count": null,
   "id": "e2c9d498-3f25-4514-b5d0-70da035fbb78",
   "metadata": {},
   "outputs": [],
   "source": []
  }
 ],
 "metadata": {
  "kernelspec": {
   "display_name": "Python 3 (ipykernel)",
   "language": "python",
   "name": "python3"
  },
  "language_info": {
   "codemirror_mode": {
    "name": "ipython",
    "version": 3
   },
   "file_extension": ".py",
   "mimetype": "text/x-python",
   "name": "python",
   "nbconvert_exporter": "python",
   "pygments_lexer": "ipython3",
   "version": "3.13.5"
  }
 },
 "nbformat": 4,
 "nbformat_minor": 5
}
