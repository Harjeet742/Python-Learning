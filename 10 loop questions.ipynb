{
 "cells": [
  {
   "cell_type": "code",
   "execution_count": 6,
   "id": "7f877371-a1c3-4750-b943-74ab71cff740",
   "metadata": {},
   "outputs": [
    {
     "name": "stdout",
     "output_type": "stream",
     "text": [
      "0\n",
      "1\n",
      "2\n",
      "3\n",
      "4\n"
     ]
    }
   ],
   "source": [
    "i = 0\n",
    "n = 5\n",
    "while i < n:\n",
    "    print(i)\n",
    "    i += 1"
   ]
  },
  {
   "cell_type": "code",
   "execution_count": 7,
   "id": "4b4c82ab-2129-4123-a423-684c2d3010c9",
   "metadata": {},
   "outputs": [
    {
     "data": {
      "text/plain": [
       "7"
      ]
     },
     "execution_count": 7,
     "metadata": {},
     "output_type": "execute_result"
    }
   ],
   "source": [
    "name= \"harjeet\"\n",
    "len(name)"
   ]
  },
  {
   "cell_type": "code",
   "execution_count": 8,
   "id": "27a7c55f-0b82-4db9-beda-0bee50b3819e",
   "metadata": {},
   "outputs": [
    {
     "data": {
      "text/plain": [
       "'h'"
      ]
     },
     "execution_count": 8,
     "metadata": {},
     "output_type": "execute_result"
    }
   ],
   "source": [
    "name[0]"
   ]
  },
  {
   "cell_type": "code",
   "execution_count": 10,
   "id": "d180af79-f511-42ad-9993-48447e4ec5ce",
   "metadata": {},
   "outputs": [
    {
     "data": {
      "text/plain": [
       "'e'"
      ]
     },
     "execution_count": 10,
     "metadata": {},
     "output_type": "execute_result"
    }
   ],
   "source": [
    "name[5]"
   ]
  },
  {
   "cell_type": "code",
   "execution_count": 2,
   "id": "1746111e-6f66-4b75-b0e1-6c4312d18edc",
   "metadata": {},
   "outputs": [
    {
     "name": "stdout",
     "output_type": "stream",
     "text": [
      "h\n",
      "a\n",
      "r\n",
      "j\n",
      "e\n",
      "e\n",
      "t\n"
     ]
    }
   ],
   "source": [
    "name = \"harjeet\"\n",
    "i = 0\n",
    "n = len(name)\n",
    "while i < n:\n",
    "    print(name[i])\n",
    "    i += 1"
   ]
  },
  {
   "cell_type": "code",
   "execution_count": 14,
   "id": "8f8c6549-2845-435b-b7f7-5eb496f81400",
   "metadata": {},
   "outputs": [
    {
     "name": "stdout",
     "output_type": "stream",
     "text": [
      "harjeet\n",
      "24\n",
      "b.tech\n"
     ]
    }
   ],
   "source": [
    "d = {\"name\": \"harjeet\", \"age\":24, \"education\": \"b.tech\"}\n",
    "i = 0\n",
    "n = len(d)\n",
    "k = list(d.keys())\n",
    "\n",
    "while i < n:\n",
    "    print(d[k[i]])\n",
    "    i += 1"
   ]
  },
  {
   "cell_type": "code",
   "execution_count": 14,
   "id": "a2abd2f0-fd0d-4b6b-9c5f-5e4374bc6799",
   "metadata": {},
   "outputs": [],
   "source": [
    "s = [2, 5, 9, 34, 21, 12, 11]"
   ]
  },
  {
   "cell_type": "code",
   "execution_count": 15,
   "id": "aed3213a-8668-43b3-bdee-65d773492388",
   "metadata": {},
   "outputs": [
    {
     "data": {
      "text/plain": [
       "7"
      ]
     },
     "execution_count": 15,
     "metadata": {},
     "output_type": "execute_result"
    }
   ],
   "source": [
    "len(s)"
   ]
  },
  {
   "cell_type": "code",
   "execution_count": 16,
   "id": "234603bb-33f6-49ba-a512-b7ee66502e46",
   "metadata": {},
   "outputs": [
    {
     "name": "stdout",
     "output_type": "stream",
     "text": [
      "3 34\n"
     ]
    }
   ],
   "source": [
    "i = 0\n",
    "n = len(s)\n",
    "a = 0\n",
    "while i < n:\n",
    "    if s[i]> s[a]:\n",
    "        a = i\n",
    "\n",
    "    i += 1\n",
    "print(a, s[a])"
   ]
  },
  {
   "cell_type": "code",
   "execution_count": 21,
   "id": "d94ab9fd-3640-484b-ab60-2f3aacaef920",
   "metadata": {},
   "outputs": [
    {
     "data": {
      "text/plain": [
       "[2, 5, 9, 34, 21, 12, 11]"
      ]
     },
     "execution_count": 21,
     "metadata": {},
     "output_type": "execute_result"
    }
   ],
   "source": [
    "s"
   ]
  },
  {
   "cell_type": "code",
   "execution_count": 28,
   "id": "a36a1109-5a1b-4141-ad1f-e6756d455cb2",
   "metadata": {},
   "outputs": [
    {
     "name": "stdout",
     "output_type": "stream",
     "text": [
      "94\n"
     ]
    }
   ],
   "source": [
    "i = 0\n",
    "n = len(s)\n",
    "total = 0\n",
    "while i < n:\n",
    "    total += s[i]\n",
    "    i += 1\n",
    "print(total)"
   ]
  },
  {
   "cell_type": "code",
   "execution_count": 29,
   "id": "1ca9708f-e8fe-4339-b04b-38f7a3f87208",
   "metadata": {},
   "outputs": [],
   "source": [
    "s.sort()"
   ]
  },
  {
   "cell_type": "code",
   "execution_count": 15,
   "id": "b6c7a0d9-47b2-4c99-ab6c-7d5aaa7f342d",
   "metadata": {},
   "outputs": [
    {
     "data": {
      "text/plain": [
       "[2, 5, 9, 34, 21, 12, 11]"
      ]
     },
     "execution_count": 15,
     "metadata": {},
     "output_type": "execute_result"
    }
   ],
   "source": [
    "s"
   ]
  },
  {
   "cell_type": "code",
   "execution_count": 16,
   "id": "8a76c84f-0531-41db-8946-3289d95ba811",
   "metadata": {},
   "outputs": [
    {
     "data": {
      "text/plain": [
       "3"
      ]
     },
     "execution_count": 16,
     "metadata": {},
     "output_type": "execute_result"
    }
   ],
   "source": [
    "len(s)//2"
   ]
  },
  {
   "cell_type": "code",
   "execution_count": 17,
   "id": "f335584d-a5b4-4ae7-a1ec-d800eb0f9785",
   "metadata": {},
   "outputs": [
    {
     "data": {
      "text/plain": [
       "34"
      ]
     },
     "execution_count": 17,
     "metadata": {},
     "output_type": "execute_result"
    }
   ],
   "source": [
    "s[len(s)//2]"
   ]
  },
  {
   "cell_type": "code",
   "execution_count": 23,
   "id": "3f61e6f0-6e41-493a-b8bd-51b8fda3783d",
   "metadata": {},
   "outputs": [
    {
     "name": "stdout",
     "output_type": "stream",
     "text": [
      "7 is a prime number\n"
     ]
    }
   ],
   "source": [
    "n = 7\n",
    "prime = True\n",
    "i = 2\n",
    "while i < n:\n",
    "    if n % i == 0:\n",
    "        prime = False\n",
    "        break\n",
    "    i += 1\n",
    "\n",
    "if prime:\n",
    "    print(f\"{n} is a prime number\")\n",
    "else:\n",
    "    print(f\"{n} is not a prime number\")"
   ]
  },
  {
   "cell_type": "code",
   "execution_count": 13,
   "id": "2cfe5a5c-1288-498b-bcb2-667afac1ac4c",
   "metadata": {},
   "outputs": [
    {
     "name": "stdout",
     "output_type": "stream",
     "text": [
      "10\n",
      "9\n",
      "8\n",
      "7\n",
      "6\n",
      "5\n",
      "4\n",
      "3\n",
      "2\n",
      "1\n"
     ]
    }
   ],
   "source": [
    "i = 10\n",
    "while i > 0:\n",
    "    print(i)\n",
    "\n",
    "    i -= 1"
   ]
  },
  {
   "cell_type": "code",
   "execution_count": 25,
   "id": "6d1ccf09-a16c-4039-bff0-2b85c769841c",
   "metadata": {},
   "outputs": [
    {
     "name": "stdout",
     "output_type": "stream",
     "text": [
      "1\n",
      "4\n",
      "9\n",
      "16\n",
      "25\n",
      "49\n",
      "39\n",
      "57\n",
      "99\n"
     ]
    }
   ],
   "source": [
    "nums = [1, 4, 9, 16, 25, 49, 39, 57, 99]\n",
    "i = 0\n",
    "while i < len(nums):\n",
    "    print(nums[i])\n",
    "    i += 1"
   ]
  },
  {
   "cell_type": "code",
   "execution_count": 33,
   "id": "8301e7ee-d672-4fc4-8c02-8856bee1930c",
   "metadata": {},
   "outputs": [
    {
     "name": "stdout",
     "output_type": "stream",
     "text": [
      "3\n",
      "6\n",
      "9\n",
      "12\n",
      "15\n",
      "18\n",
      "21\n",
      "24\n",
      "27\n",
      "30\n"
     ]
    }
   ],
   "source": [
    "i= 1\n",
    "while i <= 10:\n",
    "    print(3*i)\n",
    "\n",
    "    i += 1"
   ]
  },
  {
   "cell_type": "code",
   "execution_count": 35,
   "id": "d265d586-58d5-48b7-924d-a080bad9613e",
   "metadata": {},
   "outputs": [
    {
     "name": "stdout",
     "output_type": "stream",
     "text": [
      "12 x 1 = 12\n",
      "12 x 2 = 24\n",
      "12 x 3 = 36\n",
      "12 x 4 = 48\n",
      "12 x 5 = 60\n",
      "12 x 6 = 72\n",
      "12 x 7 = 84\n",
      "12 x 8 = 96\n",
      "12 x 9 = 108\n",
      "12 x 10 = 120\n"
     ]
    }
   ],
   "source": [
    "i = 1\n",
    "while i <= 10:\n",
    "    print(12, \"x\", i, \"=\", i*12)\n",
    "    i += 1"
   ]
  },
  {
   "cell_type": "code",
   "execution_count": 43,
   "id": "d520194d-1e1e-4c37-bd05-56ae7ae0fa43",
   "metadata": {},
   "outputs": [
    {
     "name": "stdout",
     "output_type": "stream",
     "text": [
      "found at idx 6\n"
     ]
    }
   ],
   "source": [
    "nums = (10, 20, 30, 40, 50, 60, 70, 80, 90, 100)\n",
    "i = 0\n",
    "x = 70\n",
    "while i < len(nums):\n",
    "    if(nums[i] == 70):\n",
    "        print(\"found at idx\", i)\n",
    "     \n",
    "    i += 1"
   ]
  },
  {
   "cell_type": "code",
   "execution_count": 48,
   "id": "fb6b3799-7db7-4ac4-a59a-fffc92101698",
   "metadata": {},
   "outputs": [
    {
     "name": "stdout",
     "output_type": "stream",
     "text": [
      "0\n",
      "1\n",
      "2\n",
      "4\n"
     ]
    }
   ],
   "source": [
    "i = 0\n",
    "while i < 5:\n",
    "    if(i == 3):\n",
    "        i +=1\n",
    "        continue # as skip\n",
    "    print(i)\n",
    "    i += 1"
   ]
  },
  {
   "cell_type": "code",
   "execution_count": 61,
   "id": "0e0cf0a5-6ad7-402f-8a3e-9b215baaa780",
   "metadata": {},
   "outputs": [
    {
     "name": "stdout",
     "output_type": "stream",
     "text": [
      "1\n",
      "3\n",
      "5\n",
      "7\n",
      "9\n"
     ]
    }
   ],
   "source": [
    "i = 1\n",
    "while i <= 10:\n",
    "    if(i%2 == 0):\n",
    "        i += 1\n",
    "        continue\n",
    "    print(i)\n",
    "    i += 1\n",
    "       "
   ]
  },
  {
   "cell_type": "code",
   "execution_count": 41,
   "id": "bda801f0-48c1-48f8-83fc-589efbf6866e",
   "metadata": {},
   "outputs": [
    {
     "name": "stdout",
     "output_type": "stream",
     "text": [
      "1\n",
      "3\n",
      "5\n",
      "7\n",
      "9\n"
     ]
    }
   ],
   "source": [
    "i = 1\n",
    "while i <= 10:\n",
    "    if(i % 2 == 0):\n",
    "        i += 1\n",
    "        continue\n",
    "    print(i)\n",
    "    i += 1\n",
    "       "
   ]
  },
  {
   "cell_type": "code",
   "execution_count": 23,
   "id": "56012316-fb07-436b-83d9-bddbfa4eb57e",
   "metadata": {},
   "outputs": [
    {
     "name": "stdout",
     "output_type": "stream",
     "text": [
      "24 % 1 = 24.0\n",
      "24 % 2 = 12.0\n",
      "24 % 3 = 8.0\n",
      "24 % 4 = 6.0\n",
      "24 % 6 = 4.0\n",
      "24 % 8 = 3.0\n",
      "24 % 12 = 2.0\n",
      "24 % 24 = 1.0\n",
      "[1, 2, 3, 4, 5, 6, 7, 8, 9, 10, 11, 12, 13, 14, 15, 16, 17, 18, 19, 20, 21, 22, 23, 24]\n"
     ]
    }
   ],
   "source": [
    "i = 1\n",
    "n = 24\n",
    "l = []\n",
    "while i <= n:\n",
    "    if n % i == 0:\n",
    "         print(n, \"%\", i, \"=\", n/i)\n",
    "    l.append(i)\n",
    "    i += 1\n",
    "\n",
    "print(l)\n",
    "if len(l)==2:\n",
    "    print(n, 'is a prime number')\n"
   ]
  },
  {
   "cell_type": "code",
   "execution_count": 76,
   "id": "9a02f473-ebe2-4f94-b80b-b0a29be02541",
   "metadata": {},
   "outputs": [
    {
     "name": "stdout",
     "output_type": "stream",
     "text": [
      "2  2  2  2  2  2  2  2  \n",
      "3  3  3  3  3  3  3  3  \n",
      "4  4  4  4  4  4  4  4  \n",
      "5  5  5  5  5  5  5  5  \n",
      "6  6  6  6  6  6  6  6  \n",
      "7  7  7  7  7  7  7  7  \n",
      "8  8  8  8  8  8  8  8  \n",
      "9  9  9  9  9  9  9  9  \n"
     ]
    }
   ],
   "source": [
    "i = 2\n",
    "n= 10\n",
    "while i < n:\n",
    "    j = 2\n",
    "    m = 10\n",
    "    while j < m:\n",
    "        print(i, end= \"  \")\n",
    "        j += 1\n",
    "    print()\n",
    "    i += 1"
   ]
  },
  {
   "cell_type": "code",
   "execution_count": 8,
   "id": "c1c1485f-64e5-4ddf-a8aa-101b4b92798b",
   "metadata": {},
   "outputs": [
    {
     "name": "stdout",
     "output_type": "stream",
     "text": [
      "0 shubham\n",
      "0 s\n",
      "1 h\n",
      "2 u\n",
      "3 b\n",
      "4 h\n",
      "5 a\n",
      "6 m\n",
      "1 akash\n",
      "0 a\n",
      "1 k\n",
      "2 a\n",
      "3 s\n",
      "4 h\n",
      "2 arun\n",
      "0 a\n",
      "1 r\n",
      "2 u\n",
      "3 n\n"
     ]
    }
   ],
   "source": [
    "l = [\"shubham\", \"akash\", \"arun\"]\n",
    "i = 0\n",
    "n = len(l)\n",
    "while i < n:\n",
    "    print(i, l[i])\n",
    "    j = 0\n",
    "    m = len(l[i])\n",
    "    while j < m:\n",
    "        print(j, l[i][j])\n",
    "        j += 1\n",
    "    \n",
    "    i += 1"
   ]
  },
  {
   "cell_type": "code",
   "execution_count": 29,
   "id": "fb9acb53-a8bb-4354-891b-0f9e9f1a574c",
   "metadata": {},
   "outputs": [
    {
     "name": "stdout",
     "output_type": "stream",
     "text": [
      "18 % 1 = 18.0\n",
      "18 % 2 = 9.0\n",
      "18 % 3 = 6.0\n",
      "18 % 6 = 3.0\n",
      "18 % 9 = 2.0\n",
      "18 % 18 = 1.0\n"
     ]
    }
   ],
   "source": [
    "i = 1\n",
    "n = 18\n",
    "while i <= n:\n",
    "    if n % i == 0:\n",
    "        print(n, \"%\", i, \"=\", n/i)\n",
    " \n",
    "    i += 1"
   ]
  },
  {
   "cell_type": "code",
   "execution_count": 33,
   "id": "c546cf8e-c00b-4eee-bbd8-5d077d9ad623",
   "metadata": {},
   "outputs": [
    {
     "name": "stdout",
     "output_type": "stream",
     "text": [
      "48 % 1 = 48.0\n",
      "48 % 2 = 24.0\n",
      "48 % 3 = 16.0\n",
      "48 % 4 = 12.0\n",
      "48 % 6 = 8.0\n",
      "48 % 8 = 6.0\n",
      "48 % 12 = 4.0\n",
      "48 % 16 = 3.0\n",
      "48 % 24 = 2.0\n",
      "48 % 48 = 1.0\n"
     ]
    }
   ],
   "source": [
    "i = 1\n",
    "n = 48\n",
    "while i <= n:\n",
    "    if n % i == 0:\n",
    "        print(n, \"%\", i, \"=\", n/i)\n",
    " \n",
    "    i += 1"
   ]
  },
  {
   "cell_type": "code",
   "execution_count": 62,
   "id": "e3459dd1-63c3-4aff-9f95-0437a7ab6326",
   "metadata": {},
   "outputs": [
    {
     "name": "stdout",
     "output_type": "stream",
     "text": [
      "1  1  1  1  1  1  \n",
      "2  2  2  2  2  2  \n",
      "3  3  3  3  3  3  \n",
      "4  4  4  4  4  4  \n",
      "5  5  5  5  5  5  \n",
      "6  6  6  6  6  6  \n"
     ]
    }
   ],
   "source": [
    "i = 1\n",
    "n = 7\n",
    "while i < n:\n",
    "    j = 1\n",
    "    m = 7\n",
    "    while j < m:\n",
    "        print(i, end= \"  \")\n",
    "        j += 1\n",
    "    print()\n",
    "    i += 1\n",
    "    "
   ]
  },
  {
   "cell_type": "code",
   "execution_count": 85,
   "id": "d5450cbf-4ccf-4594-85fa-f7a13823d11e",
   "metadata": {},
   "outputs": [
    {
     "name": "stdout",
     "output_type": "stream",
     "text": [
      "10 9\n"
     ]
    }
   ],
   "source": [
    "a = [2,5,6,9,4,3,7,10,8]\n",
    "l = a[0]\n",
    "s = a[0]\n",
    "i = 0\n",
    "n =len(a)\n",
    "while i < n:\n",
    "    #print(i)\n",
    "    if a[i] > l:\n",
    "        s = l\n",
    "        l = a[i]\n",
    "    elif a[i] > s:\n",
    "        s = a[i]\n",
    "    i+=1\n",
    "print(l,s)"
   ]
  },
  {
   "cell_type": "code",
   "execution_count": null,
   "id": "cb168a91-2880-451c-9114-ffa807615d7a",
   "metadata": {},
   "outputs": [],
   "source": []
  }
 ],
 "metadata": {
  "kernelspec": {
   "display_name": "Python 3 (ipykernel)",
   "language": "python",
   "name": "python3"
  },
  "language_info": {
   "codemirror_mode": {
    "name": "ipython",
    "version": 3
   },
   "file_extension": ".py",
   "mimetype": "text/x-python",
   "name": "python",
   "nbconvert_exporter": "python",
   "pygments_lexer": "ipython3",
   "version": "3.13.5"
  }
 },
 "nbformat": 4,
 "nbformat_minor": 5
}
