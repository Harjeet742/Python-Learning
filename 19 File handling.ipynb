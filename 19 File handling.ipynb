{
 "cells": [
  {
   "cell_type": "markdown",
   "id": "c4a41197-b83b-4c74-954e-a4771beb5b9f",
   "metadata": {},
   "source": [
    "# File handling"
   ]
  },
  {
   "cell_type": "code",
   "execution_count": 49,
   "id": "e4d1d2f9-7798-4cfd-bc48-4fc8553b76a4",
   "metadata": {},
   "outputs": [],
   "source": [
    "myfile= open(\"netmax.txt\", \"r\")"
   ]
  },
  {
   "cell_type": "code",
   "execution_count": 46,
   "id": "69576f64-345c-4460-8d4e-4ef9232883f9",
   "metadata": {},
   "outputs": [
    {
     "name": "stdout",
     "output_type": "stream",
     "text": [
      "hello everyone.\n",
      "hii everyone.\n",
      "hey guys.\n"
     ]
    }
   ],
   "source": [
    "print(myfile.read())"
   ]
  },
  {
   "cell_type": "code",
   "execution_count": 50,
   "id": "2baf8ac6-0a0b-43da-9b0c-5ddc9ba5db92",
   "metadata": {},
   "outputs": [
    {
     "name": "stdout",
     "output_type": "stream",
     "text": [
      "hello everyone.\n",
      "\n"
     ]
    }
   ],
   "source": [
    "print(myfile.readline())"
   ]
  },
  {
   "cell_type": "code",
   "execution_count": 52,
   "id": "4033f064-be70-4bb3-a099-7b0ed164f4ba",
   "metadata": {},
   "outputs": [],
   "source": [
    "myfile.close()"
   ]
  },
  {
   "cell_type": "code",
   "execution_count": null,
   "id": "d37febae-7991-4453-ac0c-ac1f66ff2c0a",
   "metadata": {},
   "outputs": [],
   "source": []
  }
 ],
 "metadata": {
  "kernelspec": {
   "display_name": "Python 3 (ipykernel)",
   "language": "python",
   "name": "python3"
  },
  "language_info": {
   "codemirror_mode": {
    "name": "ipython",
    "version": 3
   },
   "file_extension": ".py",
   "mimetype": "text/x-python",
   "name": "python",
   "nbconvert_exporter": "python",
   "pygments_lexer": "ipython3",
   "version": "3.13.5"
  }
 },
 "nbformat": 4,
 "nbformat_minor": 5
}
