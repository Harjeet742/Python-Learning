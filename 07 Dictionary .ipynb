{
 "cells": [
  {
   "cell_type": "markdown",
   "id": "f9ea95b9-0082-46f8-a8ab-9d58073fa580",
   "metadata": {},
   "source": [
    "# dictionary"
   ]
  },
  {
   "cell_type": "code",
   "execution_count": 11,
   "id": "57e51ea8-3783-467c-a8a1-d5a1704f73fd",
   "metadata": {},
   "outputs": [],
   "source": [
    "d = {\"name\": \"shubham\", \"age\": 24, \"education\": \"B.tech\"}"
   ]
  },
  {
   "cell_type": "code",
   "execution_count": 12,
   "id": "b4d03f36-fb87-4f88-8991-15d9eceeea66",
   "metadata": {},
   "outputs": [
    {
     "data": {
      "text/plain": [
       "{'name': 'shubham', 'age': 24, 'education': 'B.tech'}"
      ]
     },
     "execution_count": 12,
     "metadata": {},
     "output_type": "execute_result"
    }
   ],
   "source": [
    "d"
   ]
  },
  {
   "cell_type": "code",
   "execution_count": 13,
   "id": "936d3d49-82d4-4aa4-bcdd-3d0f69ffca90",
   "metadata": {},
   "outputs": [
    {
     "data": {
      "text/plain": [
       "3"
      ]
     },
     "execution_count": 13,
     "metadata": {},
     "output_type": "execute_result"
    }
   ],
   "source": [
    "len(d)"
   ]
  },
  {
   "cell_type": "code",
   "execution_count": 14,
   "id": "0cdc1948-69e1-4127-bacb-d63e727e74d7",
   "metadata": {},
   "outputs": [
    {
     "data": {
      "text/plain": [
       "dict_keys(['name', 'age', 'education'])"
      ]
     },
     "execution_count": 14,
     "metadata": {},
     "output_type": "execute_result"
    }
   ],
   "source": [
    "d.keys()"
   ]
  },
  {
   "cell_type": "code",
   "execution_count": 15,
   "id": "922000e2-f3b2-4009-b659-d2c910134254",
   "metadata": {},
   "outputs": [
    {
     "data": {
      "text/plain": [
       "dict_values(['shubham', 24, 'B.tech'])"
      ]
     },
     "execution_count": 15,
     "metadata": {},
     "output_type": "execute_result"
    }
   ],
   "source": [
    "d.values()"
   ]
  },
  {
   "cell_type": "code",
   "execution_count": 16,
   "id": "dfc5d3c3-d685-4421-b3c6-011704dd98a6",
   "metadata": {},
   "outputs": [
    {
     "data": {
      "text/plain": [
       "'shubham'"
      ]
     },
     "execution_count": 16,
     "metadata": {},
     "output_type": "execute_result"
    }
   ],
   "source": [
    "d['name']"
   ]
  },
  {
   "cell_type": "code",
   "execution_count": 17,
   "id": "d053114b-a81c-4712-b4e7-8604cd619b1e",
   "metadata": {},
   "outputs": [
    {
     "data": {
      "text/plain": [
       "24"
      ]
     },
     "execution_count": 17,
     "metadata": {},
     "output_type": "execute_result"
    }
   ],
   "source": [
    "d['age']"
   ]
  },
  {
   "cell_type": "code",
   "execution_count": 18,
   "id": "6493d85a-56a5-461b-8b7b-5422ba09d15f",
   "metadata": {},
   "outputs": [
    {
     "data": {
      "text/plain": [
       "'B.tech'"
      ]
     },
     "execution_count": 18,
     "metadata": {},
     "output_type": "execute_result"
    }
   ],
   "source": [
    "d['education']"
   ]
  },
  {
   "cell_type": "code",
   "execution_count": 34,
   "id": "7835d334-7aef-41c0-a174-090297e07e48",
   "metadata": {},
   "outputs": [],
   "source": [
    "h = {'name': 'harjeet', 'age': 20, 'qualification': 'bca'}"
   ]
  },
  {
   "cell_type": "code",
   "execution_count": 35,
   "id": "61ef05fa-ce11-49de-ae79-b6b70a6ed2ff",
   "metadata": {},
   "outputs": [
    {
     "data": {
      "text/plain": [
       "{'name': 'harjeet', 'age': 20, 'qualification': 'bca'}"
      ]
     },
     "execution_count": 35,
     "metadata": {},
     "output_type": "execute_result"
    }
   ],
   "source": [
    "h"
   ]
  },
  {
   "cell_type": "code",
   "execution_count": 22,
   "id": "23785aff-82f0-4d4e-8543-f5186c2fc24d",
   "metadata": {},
   "outputs": [
    {
     "data": {
      "text/plain": [
       "dict_keys(['name', 'age', 'qualification'])"
      ]
     },
     "execution_count": 22,
     "metadata": {},
     "output_type": "execute_result"
    }
   ],
   "source": [
    "h.keys()"
   ]
  },
  {
   "cell_type": "code",
   "execution_count": 23,
   "id": "008fc1a7-7ec4-457b-b432-381dad8eeb57",
   "metadata": {},
   "outputs": [
    {
     "data": {
      "text/plain": [
       "dict_values(['harjeet', 20, 'bca'])"
      ]
     },
     "execution_count": 23,
     "metadata": {},
     "output_type": "execute_result"
    }
   ],
   "source": [
    "h.values()"
   ]
  },
  {
   "cell_type": "code",
   "execution_count": 25,
   "id": "87ecd6a1-2b89-41d0-b9cb-ef36330dc057",
   "metadata": {},
   "outputs": [
    {
     "data": {
      "text/plain": [
       "'harjeet'"
      ]
     },
     "execution_count": 25,
     "metadata": {},
     "output_type": "execute_result"
    }
   ],
   "source": [
    "h['name']"
   ]
  },
  {
   "cell_type": "code",
   "execution_count": 26,
   "id": "30e24330-0dd2-4508-accf-f5a728b0f198",
   "metadata": {},
   "outputs": [
    {
     "data": {
      "text/plain": [
       "20"
      ]
     },
     "execution_count": 26,
     "metadata": {},
     "output_type": "execute_result"
    }
   ],
   "source": [
    "h['age']"
   ]
  },
  {
   "cell_type": "code",
   "execution_count": 27,
   "id": "74bf13f1-497d-4e6e-8f92-29b9e5ce9a60",
   "metadata": {},
   "outputs": [
    {
     "data": {
      "text/plain": [
       "'bca'"
      ]
     },
     "execution_count": 27,
     "metadata": {},
     "output_type": "execute_result"
    }
   ],
   "source": [
    "h['qualification']"
   ]
  },
  {
   "cell_type": "code",
   "execution_count": 30,
   "id": "4a717e6e-21de-42b0-820f-9a772a7b6a60",
   "metadata": {},
   "outputs": [],
   "source": [
    "h['idol'] = 'sidhu'"
   ]
  },
  {
   "cell_type": "code",
   "execution_count": 31,
   "id": "3dd97689-985a-4f7c-827f-988da8d54952",
   "metadata": {},
   "outputs": [
    {
     "data": {
      "text/plain": [
       "{'name': 'harjeet', 'age': 20, 'qualification': 'bca', 'idol': 'sidhu'}"
      ]
     },
     "execution_count": 31,
     "metadata": {},
     "output_type": "execute_result"
    }
   ],
   "source": [
    "h"
   ]
  },
  {
   "cell_type": "code",
   "execution_count": 32,
   "id": "75f62e0c-b3fe-4430-9938-289031950bbd",
   "metadata": {},
   "outputs": [],
   "source": [
    "# keys can only have string or int"
   ]
  },
  {
   "cell_type": "code",
   "execution_count": 56,
   "id": "45bfcb8e-b7eb-4c02-b5db-930d7bf8dbf2",
   "metadata": {},
   "outputs": [],
   "source": [
    "di = {1: {'name': 'happy', 'age': 20, 'education': 'b.tech'},\n",
    "      2: {'name': 'abhi', 'age': 18},\n",
    "      3: {'name': 'akash', 'age': 26, 'dogs': ['tom','bull','jack' ]}}\n",
    "    "
   ]
  },
  {
   "cell_type": "code",
   "execution_count": 57,
   "id": "81452009-cc49-4fb2-93ff-850c91725347",
   "metadata": {},
   "outputs": [
    {
     "data": {
      "text/plain": [
       "{1: {'name': 'happy', 'age': 20, 'education': 'b.tech'},\n",
       " 2: {'name': 'abhi', 'age': 18},\n",
       " 3: {'name': 'akash', 'age': 26, 'dogs': ['tom', 'bull', 'jack']}}"
      ]
     },
     "execution_count": 57,
     "metadata": {},
     "output_type": "execute_result"
    }
   ],
   "source": [
    "di"
   ]
  },
  {
   "cell_type": "code",
   "execution_count": 58,
   "id": "0add02b5-15ab-4a95-9009-aac29e327e8e",
   "metadata": {},
   "outputs": [
    {
     "data": {
      "text/plain": [
       "dict_keys([1, 2, 3])"
      ]
     },
     "execution_count": 58,
     "metadata": {},
     "output_type": "execute_result"
    }
   ],
   "source": [
    "di.keys()"
   ]
  },
  {
   "cell_type": "code",
   "execution_count": 59,
   "id": "54a7353b-6421-4708-befb-4056fb60bbd6",
   "metadata": {},
   "outputs": [
    {
     "data": {
      "text/plain": [
       "dict_values([{'name': 'happy', 'age': 20, 'education': 'b.tech'}, {'name': 'abhi', 'age': 18}, {'name': 'akash', 'age': 26, 'dogs': ['tom', 'bull', 'jack']}])"
      ]
     },
     "execution_count": 59,
     "metadata": {},
     "output_type": "execute_result"
    }
   ],
   "source": [
    "di.values()"
   ]
  },
  {
   "cell_type": "code",
   "execution_count": 60,
   "id": "5b97aad2-6cb1-4e5a-92fe-094a797a3933",
   "metadata": {},
   "outputs": [
    {
     "data": {
      "text/plain": [
       "dict"
      ]
     },
     "execution_count": 60,
     "metadata": {},
     "output_type": "execute_result"
    }
   ],
   "source": [
    "type(di)"
   ]
  },
  {
   "cell_type": "code",
   "execution_count": 61,
   "id": "4eb1179c-5a89-4dc8-a401-d9339e9650d0",
   "metadata": {},
   "outputs": [
    {
     "data": {
      "text/plain": [
       "{'name': 'aashu', 'age': 24, 'education': 'B.tech'}"
      ]
     },
     "execution_count": 61,
     "metadata": {},
     "output_type": "execute_result"
    }
   ],
   "source": [
    "d"
   ]
  },
  {
   "cell_type": "code",
   "execution_count": 62,
   "id": "8002f546-8019-4978-bc76-342c860e2a9f",
   "metadata": {},
   "outputs": [
    {
     "data": {
      "text/plain": [
       "'aashu'"
      ]
     },
     "execution_count": 62,
     "metadata": {},
     "output_type": "execute_result"
    }
   ],
   "source": [
    "d['name']"
   ]
  },
  {
   "cell_type": "code",
   "execution_count": 63,
   "id": "2f5478f3-e4a9-4133-a23d-047d2f72675b",
   "metadata": {},
   "outputs": [],
   "source": [
    "d['name'] = 'aashu'"
   ]
  },
  {
   "cell_type": "code",
   "execution_count": 64,
   "id": "60375d62-dc2e-4129-9264-899c3476aca7",
   "metadata": {},
   "outputs": [
    {
     "data": {
      "text/plain": [
       "{'name': 'aashu', 'age': 24, 'education': 'B.tech'}"
      ]
     },
     "execution_count": 64,
     "metadata": {},
     "output_type": "execute_result"
    }
   ],
   "source": [
    "d"
   ]
  },
  {
   "cell_type": "code",
   "execution_count": 65,
   "id": "35d642c7-b855-4e25-bc25-3090fcec0bd6",
   "metadata": {},
   "outputs": [
    {
     "data": {
      "text/plain": [
       "{1: {'name': 'happy', 'age': 20, 'education': 'b.tech'},\n",
       " 2: {'name': 'abhi', 'age': 18},\n",
       " 3: {'name': 'akash', 'age': 26, 'dogs': ['tom', 'bull', 'jack']}}"
      ]
     },
     "execution_count": 65,
     "metadata": {},
     "output_type": "execute_result"
    }
   ],
   "source": [
    "di"
   ]
  },
  {
   "cell_type": "code",
   "execution_count": 66,
   "id": "61323c7f-699c-4dda-9cb1-2ecef03f82c6",
   "metadata": {},
   "outputs": [
    {
     "data": {
      "text/plain": [
       "{'name': 'happy', 'age': 20, 'education': 'b.tech'}"
      ]
     },
     "execution_count": 66,
     "metadata": {},
     "output_type": "execute_result"
    }
   ],
   "source": [
    "di[1]"
   ]
  },
  {
   "cell_type": "code",
   "execution_count": 67,
   "id": "14ddec15-0b67-4e00-9f44-e3ac2a1cec20",
   "metadata": {},
   "outputs": [
    {
     "data": {
      "text/plain": [
       "{'name': 'abhi', 'age': 18}"
      ]
     },
     "execution_count": 67,
     "metadata": {},
     "output_type": "execute_result"
    }
   ],
   "source": [
    "di[2]"
   ]
  },
  {
   "cell_type": "code",
   "execution_count": 68,
   "id": "7c24b30b-ac13-48ca-8679-49f3b7f84179",
   "metadata": {},
   "outputs": [
    {
     "data": {
      "text/plain": [
       "{'name': 'akash', 'age': 26, 'dogs': ['tom', 'bull', 'jack']}"
      ]
     },
     "execution_count": 68,
     "metadata": {},
     "output_type": "execute_result"
    }
   ],
   "source": [
    "di[3]"
   ]
  },
  {
   "cell_type": "code",
   "execution_count": 69,
   "id": "f65e1237-ad49-4e9a-8489-fad4aa76bee5",
   "metadata": {},
   "outputs": [
    {
     "data": {
      "text/plain": [
       "dict_keys(['name', 'age', 'education'])"
      ]
     },
     "execution_count": 69,
     "metadata": {},
     "output_type": "execute_result"
    }
   ],
   "source": [
    "di[1].keys()"
   ]
  },
  {
   "cell_type": "code",
   "execution_count": 70,
   "id": "43936672-5d6f-475b-931f-0d0329ccbbbe",
   "metadata": {},
   "outputs": [
    {
     "data": {
      "text/plain": [
       "dict_keys(['name', 'age', 'dogs'])"
      ]
     },
     "execution_count": 70,
     "metadata": {},
     "output_type": "execute_result"
    }
   ],
   "source": [
    "di[3].keys()"
   ]
  },
  {
   "cell_type": "code",
   "execution_count": 71,
   "id": "6d021b22-b519-4c3a-aa15-0b11df4e2877",
   "metadata": {},
   "outputs": [
    {
     "data": {
      "text/plain": [
       "{1: {'name': 'happy', 'age': 20, 'education': 'b.tech'},\n",
       " 2: {'name': 'abhi', 'age': 18},\n",
       " 3: {'name': 'akash', 'age': 26, 'dogs': ['tom', 'bull', 'jack']}}"
      ]
     },
     "execution_count": 71,
     "metadata": {},
     "output_type": "execute_result"
    }
   ],
   "source": [
    "di"
   ]
  },
  {
   "cell_type": "code",
   "execution_count": 75,
   "id": "761561bf-696f-4b56-9495-d515074e8213",
   "metadata": {},
   "outputs": [
    {
     "data": {
      "text/plain": [
       "'bul'"
      ]
     },
     "execution_count": 75,
     "metadata": {},
     "output_type": "execute_result"
    }
   ],
   "source": [
    "di[3]['dogs'][1][0:3]"
   ]
  },
  {
   "cell_type": "code",
   "execution_count": 79,
   "id": "b6662a74-96a7-472a-a02b-1b5366b3946c",
   "metadata": {},
   "outputs": [
    {
     "data": {
      "text/plain": [
       "'h'"
      ]
     },
     "execution_count": 79,
     "metadata": {},
     "output_type": "execute_result"
    }
   ],
   "source": [
    "di[2]['name'][2][0:3]"
   ]
  },
  {
   "cell_type": "code",
   "execution_count": 93,
   "id": "227aa6d9-a151-44d0-bac2-4b41376a121d",
   "metadata": {},
   "outputs": [],
   "source": [
    "a = {\"name\": \"harry\"}"
   ]
  },
  {
   "cell_type": "code",
   "execution_count": 95,
   "id": "ccb01386-e46f-4920-8513-8d1b337faa0d",
   "metadata": {},
   "outputs": [
    {
     "data": {
      "text/plain": [
       "{'name': 'harry'}"
      ]
     },
     "execution_count": 95,
     "metadata": {},
     "output_type": "execute_result"
    }
   ],
   "source": [
    "a"
   ]
  },
  {
   "cell_type": "code",
   "execution_count": 96,
   "id": "942eabb3-f489-483f-8f3d-e7f65245ac2b",
   "metadata": {},
   "outputs": [],
   "source": [
    "a['age']= 21"
   ]
  },
  {
   "cell_type": "code",
   "execution_count": 97,
   "id": "9b289625-1c3d-44ab-ab83-4897b6130646",
   "metadata": {},
   "outputs": [
    {
     "data": {
      "text/plain": [
       "{'name': 'harry', 'age': 21}"
      ]
     },
     "execution_count": 97,
     "metadata": {},
     "output_type": "execute_result"
    }
   ],
   "source": [
    "a"
   ]
  },
  {
   "cell_type": "code",
   "execution_count": 98,
   "id": "1fcba6b8-c190-4660-a15e-850161395882",
   "metadata": {},
   "outputs": [],
   "source": [
    "a['study']= 'ba'"
   ]
  },
  {
   "cell_type": "code",
   "execution_count": 99,
   "id": "2b11e1bd-d40e-42e3-a747-65e9a97f4df9",
   "metadata": {},
   "outputs": [
    {
     "data": {
      "text/plain": [
       "{'name': 'harry', 'age': 21, 'study': 'ba'}"
      ]
     },
     "execution_count": 99,
     "metadata": {},
     "output_type": "execute_result"
    }
   ],
   "source": [
    "a"
   ]
  },
  {
   "cell_type": "code",
   "execution_count": null,
   "id": "862f8d0c-523a-49ad-8f79-c3b163421d9f",
   "metadata": {},
   "outputs": [],
   "source": []
  },
  {
   "cell_type": "code",
   "execution_count": null,
   "id": "afe17024-ef89-4d5d-b8df-4043b1ef636f",
   "metadata": {},
   "outputs": [],
   "source": []
  }
 ],
 "metadata": {
  "kernelspec": {
   "display_name": "Python 3 (ipykernel)",
   "language": "python",
   "name": "python3"
  },
  "language_info": {
   "codemirror_mode": {
    "name": "ipython",
    "version": 3
   },
   "file_extension": ".py",
   "mimetype": "text/x-python",
   "name": "python",
   "nbconvert_exporter": "python",
   "pygments_lexer": "ipython3",
   "version": "3.13.5"
  }
 },
 "nbformat": 4,
 "nbformat_minor": 5
}
