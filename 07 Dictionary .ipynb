{
 "cells": [
  {
   "cell_type": "markdown",
   "id": "f9ea95b9-0082-46f8-a8ab-9d58073fa580",
   "metadata": {},
   "source": [
    "# dictionary"
   ]
  },
  {
   "cell_type": "code",
   "execution_count": 11,
   "id": "57e51ea8-3783-467c-a8a1-d5a1704f73fd",
   "metadata": {},
   "outputs": [],
   "source": [
    "d = {\"name\": \"shubham\", \"age\": 24, \"education\": \"B.tech\"}"
   ]
  },
  {
   "cell_type": "code",
   "execution_count": 12,
   "id": "b4d03f36-fb87-4f88-8991-15d9eceeea66",
   "metadata": {},
   "outputs": [
    {
     "data": {
      "text/plain": [
       "{'name': 'shubham', 'age': 24, 'education': 'B.tech'}"
      ]
     },
     "execution_count": 12,
     "metadata": {},
     "output_type": "execute_result"
    }
   ],
   "source": [
    "d"
   ]
  },
  {
   "cell_type": "code",
   "execution_count": 13,
   "id": "936d3d49-82d4-4aa4-bcdd-3d0f69ffca90",
   "metadata": {},
   "outputs": [
    {
     "data": {
      "text/plain": [
       "3"
      ]
     },
     "execution_count": 13,
     "metadata": {},
     "output_type": "execute_result"
    }
   ],
   "source": [
    "len(d)"
   ]
  },
  {
   "cell_type": "code",
   "execution_count": 14,
   "id": "0cdc1948-69e1-4127-bacb-d63e727e74d7",
   "metadata": {},
   "outputs": [
    {
     "data": {
      "text/plain": [
       "dict_keys(['name', 'age', 'education'])"
      ]
     },
     "execution_count": 14,
     "metadata": {},
     "output_type": "execute_result"
    }
   ],
   "source": [
    "d.keys()"
   ]
  },
  {
   "cell_type": "code",
   "execution_count": 15,
   "id": "922000e2-f3b2-4009-b659-d2c910134254",
   "metadata": {},
   "outputs": [
    {
     "data": {
      "text/plain": [
       "dict_values(['shubham', 24, 'B.tech'])"
      ]
     },
     "execution_count": 15,
     "metadata": {},
     "output_type": "execute_result"
    }
   ],
   "source": [
    "d.values()"
   ]
  },
  {
   "cell_type": "code",
   "execution_count": 16,
   "id": "dfc5d3c3-d685-4421-b3c6-011704dd98a6",
   "metadata": {},
   "outputs": [
    {
     "data": {
      "text/plain": [
       "'shubham'"
      ]
     },
     "execution_count": 16,
     "metadata": {},
     "output_type": "execute_result"
    }
   ],
   "source": [
    "d['name']"
   ]
  },
  {
   "cell_type": "code",
   "execution_count": 17,
   "id": "d053114b-a81c-4712-b4e7-8604cd619b1e",
   "metadata": {},
   "outputs": [
    {
     "data": {
      "text/plain": [
       "24"
      ]
     },
     "execution_count": 17,
     "metadata": {},
     "output_type": "execute_result"
    }
   ],
   "source": [
    "d['age']"
   ]
  },
  {
   "cell_type": "code",
   "execution_count": 18,
   "id": "6493d85a-56a5-461b-8b7b-5422ba09d15f",
   "metadata": {},
   "outputs": [
    {
     "data": {
      "text/plain": [
       "'B.tech'"
      ]
     },
     "execution_count": 18,
     "metadata": {},
     "output_type": "execute_result"
    }
   ],
   "source": [
    "d['education']"
   ]
  },
  {
   "cell_type": "code",
   "execution_count": 34,
   "id": "7835d334-7aef-41c0-a174-090297e07e48",
   "metadata": {},
   "outputs": [],
   "source": [
    "h = {'name': 'harjeet', 'age': 20, 'qualification': 'bca'}"
   ]
  },
  {
   "cell_type": "code",
   "execution_count": 35,
   "id": "61ef05fa-ce11-49de-ae79-b6b70a6ed2ff",
   "metadata": {},
   "outputs": [
    {
     "data": {
      "text/plain": [
       "{'name': 'harjeet', 'age': 20, 'qualification': 'bca'}"
      ]
     },
     "execution_count": 35,
     "metadata": {},
     "output_type": "execute_result"
    }
   ],
   "source": [
    "h"
   ]
  },
  {
   "cell_type": "code",
   "execution_count": 22,
   "id": "23785aff-82f0-4d4e-8543-f5186c2fc24d",
   "metadata": {},
   "outputs": [
    {
     "data": {
      "text/plain": [
       "dict_keys(['name', 'age', 'qualification'])"
      ]
     },
     "execution_count": 22,
     "metadata": {},
     "output_type": "execute_result"
    }
   ],
   "source": [
    "h.keys()"
   ]
  },
  {
   "cell_type": "code",
   "execution_count": 23,
   "id": "008fc1a7-7ec4-457b-b432-381dad8eeb57",
   "metadata": {},
   "outputs": [
    {
     "data": {
      "text/plain": [
       "dict_values(['harjeet', 20, 'bca'])"
      ]
     },
     "execution_count": 23,
     "metadata": {},
     "output_type": "execute_result"
    }
   ],
   "source": [
    "h.values()"
   ]
  },
  {
   "cell_type": "code",
   "execution_count": 25,
   "id": "87ecd6a1-2b89-41d0-b9cb-ef36330dc057",
   "metadata": {},
   "outputs": [
    {
     "data": {
      "text/plain": [
       "'harjeet'"
      ]
     },
     "execution_count": 25,
     "metadata": {},
     "output_type": "execute_result"
    }
   ],
   "source": [
    "h['name']"
   ]
  },
  {
   "cell_type": "code",
   "execution_count": 26,
   "id": "30e24330-0dd2-4508-accf-f5a728b0f198",
   "metadata": {},
   "outputs": [
    {
     "data": {
      "text/plain": [
       "20"
      ]
     },
     "execution_count": 26,
     "metadata": {},
     "output_type": "execute_result"
    }
   ],
   "source": [
    "h['age']"
   ]
  },
  {
   "cell_type": "code",
   "execution_count": 27,
   "id": "74bf13f1-497d-4e6e-8f92-29b9e5ce9a60",
   "metadata": {},
   "outputs": [
    {
     "data": {
      "text/plain": [
       "'bca'"
      ]
     },
     "execution_count": 27,
     "metadata": {},
     "output_type": "execute_result"
    }
   ],
   "source": [
    "h['qualification']"
   ]
  },
  {
   "cell_type": "code",
   "execution_count": 30,
   "id": "4a717e6e-21de-42b0-820f-9a772a7b6a60",
   "metadata": {},
   "outputs": [],
   "source": [
    "h['idol'] = 'sidhu'"
   ]
  },
  {
   "cell_type": "code",
   "execution_count": 31,
   "id": "3dd97689-985a-4f7c-827f-988da8d54952",
   "metadata": {},
   "outputs": [
    {
     "data": {
      "text/plain": [
       "{'name': 'harjeet', 'age': 20, 'qualification': 'bca', 'idol': 'sidhu'}"
      ]
     },
     "execution_count": 31,
     "metadata": {},
     "output_type": "execute_result"
    }
   ],
   "source": [
    "h"
   ]
  },
  {
   "cell_type": "code",
   "execution_count": 32,
   "id": "75f62e0c-b3fe-4430-9938-289031950bbd",
   "metadata": {},
   "outputs": [],
   "source": [
    "# keys can only have string or int"
   ]
  },
  {
   "cell_type": "code",
   "execution_count": 56,
   "id": "45bfcb8e-b7eb-4c02-b5db-930d7bf8dbf2",
   "metadata": {},
   "outputs": [],
   "source": [
    "di = {1: {'name': 'happy', 'age': 20, 'education': 'b.tech'},\n",
    "      2: {'name': 'abhi', 'age': 18},\n",
    "      3: {'name': 'akash', 'age': 26, 'dogs': ['tom','bull','jack' ]}}\n",
    "    "
   ]
  },
  {
   "cell_type": "code",
   "execution_count": 57,
   "id": "81452009-cc49-4fb2-93ff-850c91725347",
   "metadata": {},
   "outputs": [
    {
     "data": {
      "text/plain": [
       "{1: {'name': 'happy', 'age': 20, 'education': 'b.tech'},\n",
       " 2: {'name': 'abhi', 'age': 18},\n",
       " 3: {'name': 'akash', 'age': 26, 'dogs': ['tom', 'bull', 'jack']}}"
      ]
     },
     "execution_count": 57,
     "metadata": {},
     "output_type": "execute_result"
    }
   ],
   "source": [
    "di"
   ]
  },
  {
   "cell_type": "code",
   "execution_count": 58,
   "id": "0add02b5-15ab-4a95-9009-aac29e327e8e",
   "metadata": {},
   "outputs": [
    {
     "data": {
      "text/plain": [
       "dict_keys([1, 2, 3])"
      ]
     },
     "execution_count": 58,
     "metadata": {},
     "output_type": "execute_result"
    }
   ],
   "source": [
    "di.keys()"
   ]
  },
  {
   "cell_type": "code",
   "execution_count": 59,
   "id": "54a7353b-6421-4708-befb-4056fb60bbd6",
   "metadata": {},
   "outputs": [
    {
     "data": {
      "text/plain": [
       "dict_values([{'name': 'happy', 'age': 20, 'education': 'b.tech'}, {'name': 'abhi', 'age': 18}, {'name': 'akash', 'age': 26, 'dogs': ['tom', 'bull', 'jack']}])"
      ]
     },
     "execution_count": 59,
     "metadata": {},
     "output_type": "execute_result"
    }
   ],
   "source": [
    "di.values()"
   ]
  },
  {
   "cell_type": "code",
   "execution_count": 60,
   "id": "5b97aad2-6cb1-4e5a-92fe-094a797a3933",
   "metadata": {},
   "outputs": [
    {
     "data": {
      "text/plain": [
       "dict"
      ]
     },
     "execution_count": 60,
     "metadata": {},
     "output_type": "execute_result"
    }
   ],
   "source": [
    "type(di)"
   ]
  },
  {
   "cell_type": "code",
   "execution_count": 61,
   "id": "4eb1179c-5a89-4dc8-a401-d9339e9650d0",
   "metadata": {},
   "outputs": [
    {
     "data": {
      "text/plain": [
       "{'name': 'aashu', 'age': 24, 'education': 'B.tech'}"
      ]
     },
     "execution_count": 61,
     "metadata": {},
     "output_type": "execute_result"
    }
   ],
   "source": [
    "d"
   ]
  },
  {
   "cell_type": "code",
   "execution_count": 62,
   "id": "8002f546-8019-4978-bc76-342c860e2a9f",
   "metadata": {},
   "outputs": [
    {
     "data": {
      "text/plain": [
       "'aashu'"
      ]
     },
     "execution_count": 62,
     "metadata": {},
     "output_type": "execute_result"
    }
   ],
   "source": [
    "d['name']"
   ]
  },
  {
   "cell_type": "code",
   "execution_count": 63,
   "id": "2f5478f3-e4a9-4133-a23d-047d2f72675b",
   "metadata": {},
   "outputs": [],
   "source": [
    "d['name'] = 'aashu'"
   ]
  },
  {
   "cell_type": "code",
   "execution_count": 64,
   "id": "60375d62-dc2e-4129-9264-899c3476aca7",
   "metadata": {},
   "outputs": [
    {
     "data": {
      "text/plain": [
       "{'name': 'aashu', 'age': 24, 'education': 'B.tech'}"
      ]
     },
     "execution_count": 64,
     "metadata": {},
     "output_type": "execute_result"
    }
   ],
   "source": [
    "d"
   ]
  },
  {
   "cell_type": "code",
   "execution_count": 65,
   "id": "35d642c7-b855-4e25-bc25-3090fcec0bd6",
   "metadata": {},
   "outputs": [
    {
     "data": {
      "text/plain": [
       "{1: {'name': 'happy', 'age': 20, 'education': 'b.tech'},\n",
       " 2: {'name': 'abhi', 'age': 18},\n",
       " 3: {'name': 'akash', 'age': 26, 'dogs': ['tom', 'bull', 'jack']}}"
      ]
     },
     "execution_count": 65,
     "metadata": {},
     "output_type": "execute_result"
    }
   ],
   "source": [
    "di"
   ]
  },
  {
   "cell_type": "code",
   "execution_count": 66,
   "id": "61323c7f-699c-4dda-9cb1-2ecef03f82c6",
   "metadata": {},
   "outputs": [
    {
     "data": {
      "text/plain": [
       "{'name': 'happy', 'age': 20, 'education': 'b.tech'}"
      ]
     },
     "execution_count": 66,
     "metadata": {},
     "output_type": "execute_result"
    }
   ],
   "source": [
    "di[1]"
   ]
  },
  {
   "cell_type": "code",
   "execution_count": 67,
   "id": "14ddec15-0b67-4e00-9f44-e3ac2a1cec20",
   "metadata": {},
   "outputs": [
    {
     "data": {
      "text/plain": [
       "{'name': 'abhi', 'age': 18}"
      ]
     },
     "execution_count": 67,
     "metadata": {},
     "output_type": "execute_result"
    }
   ],
   "source": [
    "di[2]"
   ]
  },
  {
   "cell_type": "code",
   "execution_count": 68,
   "id": "7c24b30b-ac13-48ca-8679-49f3b7f84179",
   "metadata": {},
   "outputs": [
    {
     "data": {
      "text/plain": [
       "{'name': 'akash', 'age': 26, 'dogs': ['tom', 'bull', 'jack']}"
      ]
     },
     "execution_count": 68,
     "metadata": {},
     "output_type": "execute_result"
    }
   ],
   "source": [
    "di[3]"
   ]
  },
  {
   "cell_type": "code",
   "execution_count": 69,
   "id": "f65e1237-ad49-4e9a-8489-fad4aa76bee5",
   "metadata": {},
   "outputs": [
    {
     "data": {
      "text/plain": [
       "dict_keys(['name', 'age', 'education'])"
      ]
     },
     "execution_count": 69,
     "metadata": {},
     "output_type": "execute_result"
    }
   ],
   "source": [
    "di[1].keys()"
   ]
  },
  {
   "cell_type": "code",
   "execution_count": 70,
   "id": "43936672-5d6f-475b-931f-0d0329ccbbbe",
   "metadata": {},
   "outputs": [
    {
     "data": {
      "text/plain": [
       "dict_keys(['name', 'age', 'dogs'])"
      ]
     },
     "execution_count": 70,
     "metadata": {},
     "output_type": "execute_result"
    }
   ],
   "source": [
    "di[3].keys()"
   ]
  },
  {
   "cell_type": "code",
   "execution_count": 71,
   "id": "6d021b22-b519-4c3a-aa15-0b11df4e2877",
   "metadata": {},
   "outputs": [
    {
     "data": {
      "text/plain": [
       "{1: {'name': 'happy', 'age': 20, 'education': 'b.tech'},\n",
       " 2: {'name': 'abhi', 'age': 18},\n",
       " 3: {'name': 'akash', 'age': 26, 'dogs': ['tom', 'bull', 'jack']}}"
      ]
     },
     "execution_count": 71,
     "metadata": {},
     "output_type": "execute_result"
    }
   ],
   "source": [
    "di"
   ]
  },
  {
   "cell_type": "code",
   "execution_count": 75,
   "id": "761561bf-696f-4b56-9495-d515074e8213",
   "metadata": {},
   "outputs": [
    {
     "data": {
      "text/plain": [
       "'bul'"
      ]
     },
     "execution_count": 75,
     "metadata": {},
     "output_type": "execute_result"
    }
   ],
   "source": [
    "di[3]['dogs'][1][0:3]"
   ]
  },
  {
   "cell_type": "code",
   "execution_count": 79,
   "id": "b6662a74-96a7-472a-a02b-1b5366b3946c",
   "metadata": {},
   "outputs": [
    {
     "data": {
      "text/plain": [
       "'h'"
      ]
     },
     "execution_count": 79,
     "metadata": {},
     "output_type": "execute_result"
    }
   ],
   "source": [
    "di[2]['name'][2][0:3]"
   ]
  },
  {
   "cell_type": "code",
   "execution_count": 93,
   "id": "227aa6d9-a151-44d0-bac2-4b41376a121d",
   "metadata": {},
   "outputs": [],
   "source": [
    "a = {\"name\": \"harry\"}"
   ]
  },
  {
   "cell_type": "code",
   "execution_count": 95,
   "id": "ccb01386-e46f-4920-8513-8d1b337faa0d",
   "metadata": {},
   "outputs": [
    {
     "data": {
      "text/plain": [
       "{'name': 'harry'}"
      ]
     },
     "execution_count": 95,
     "metadata": {},
     "output_type": "execute_result"
    }
   ],
   "source": [
    "a"
   ]
  },
  {
   "cell_type": "code",
   "execution_count": 96,
   "id": "942eabb3-f489-483f-8f3d-e7f65245ac2b",
   "metadata": {},
   "outputs": [],
   "source": [
    "a['age']= 21"
   ]
  },
  {
   "cell_type": "code",
   "execution_count": 97,
   "id": "9b289625-1c3d-44ab-ab83-4897b6130646",
   "metadata": {},
   "outputs": [
    {
     "data": {
      "text/plain": [
       "{'name': 'harry', 'age': 21}"
      ]
     },
     "execution_count": 97,
     "metadata": {},
     "output_type": "execute_result"
    }
   ],
   "source": [
    "a"
   ]
  },
  {
   "cell_type": "code",
   "execution_count": 98,
   "id": "1fcba6b8-c190-4660-a15e-850161395882",
   "metadata": {},
   "outputs": [],
   "source": [
    "a['study']= 'ba'"
   ]
  },
  {
   "cell_type": "code",
   "execution_count": 99,
   "id": "2b11e1bd-d40e-42e3-a747-65e9a97f4df9",
   "metadata": {},
   "outputs": [
    {
     "data": {
      "text/plain": [
       "{'name': 'harry', 'age': 21, 'study': 'ba'}"
      ]
     },
     "execution_count": 99,
     "metadata": {},
     "output_type": "execute_result"
    }
   ],
   "source": [
    "a"
   ]
  },
  {
   "cell_type": "code",
   "execution_count": 2,
   "id": "afe17024-ef89-4d5d-b8df-4043b1ef636f",
   "metadata": {},
   "outputs": [],
   "source": [
    "data = {\n",
    "    \"info\": [12, 34.5, \"hello\", {\"key\": [1,2,3, \"world\"]}]\n",
    "}"
   ]
  },
  {
   "cell_type": "code",
   "execution_count": 3,
   "id": "8a29e048-9cbb-4ff2-a9e5-cdbddcf874e8",
   "metadata": {},
   "outputs": [
    {
     "data": {
      "text/plain": [
       "dict"
      ]
     },
     "execution_count": 3,
     "metadata": {},
     "output_type": "execute_result"
    }
   ],
   "source": [
    "type(data)"
   ]
  },
  {
   "cell_type": "code",
   "execution_count": 4,
   "id": "01e4fbeb-5a05-4164-80d6-441948cff7c2",
   "metadata": {},
   "outputs": [
    {
     "data": {
      "text/plain": [
       "dict_keys(['info'])"
      ]
     },
     "execution_count": 4,
     "metadata": {},
     "output_type": "execute_result"
    }
   ],
   "source": [
    "data.keys()"
   ]
  },
  {
   "cell_type": "code",
   "execution_count": 5,
   "id": "720276d8-81a5-4c9f-9185-22643c6f70fc",
   "metadata": {},
   "outputs": [
    {
     "data": {
      "text/plain": [
       "'hello'"
      ]
     },
     "execution_count": 5,
     "metadata": {},
     "output_type": "execute_result"
    }
   ],
   "source": [
    "data['info'][2]"
   ]
  },
  {
   "cell_type": "code",
   "execution_count": 11,
   "id": "68c0624c-faf3-44bd-bc6e-f74726ebc1ee",
   "metadata": {},
   "outputs": [
    {
     "data": {
      "text/plain": [
       "'world'"
      ]
     },
     "execution_count": 11,
     "metadata": {},
     "output_type": "execute_result"
    }
   ],
   "source": [
    "data['info'][3]['key'][3]"
   ]
  },
  {
   "cell_type": "code",
   "execution_count": 12,
   "id": "4be0494c-2ea6-4fce-9428-f1625bbb84c5",
   "metadata": {},
   "outputs": [
    {
     "data": {
      "text/plain": [
       "2"
      ]
     },
     "execution_count": 12,
     "metadata": {},
     "output_type": "execute_result"
    }
   ],
   "source": [
    "data['info'][3]['key'][1]"
   ]
  },
  {
   "cell_type": "code",
   "execution_count": 13,
   "id": "813aa08f-53d6-4ccc-a9e6-50bf2bbe6c1d",
   "metadata": {},
   "outputs": [
    {
     "data": {
      "text/plain": [
       "[2, 3]"
      ]
     },
     "execution_count": 13,
     "metadata": {},
     "output_type": "execute_result"
    }
   ],
   "source": [
    "data['info'][3]['key'][1:3]"
   ]
  },
  {
   "cell_type": "code",
   "execution_count": 2,
   "id": "d769e027-57fb-4c1d-95bf-49291f9891be",
   "metadata": {},
   "outputs": [],
   "source": [
    "nested = {\"a\": [10, 20, {'b': \"python\"}],\n",
    "          \"c\": {\"d\": [\"abc\", {\"e\": [1.1, 2.2, 3.3]}] }\n",
    "    \n",
    "}"
   ]
  },
  {
   "cell_type": "code",
   "execution_count": 3,
   "id": "729408a1-4523-47e2-a954-7251e05b26fc",
   "metadata": {},
   "outputs": [
    {
     "data": {
      "text/plain": [
       "'python'"
      ]
     },
     "execution_count": 3,
     "metadata": {},
     "output_type": "execute_result"
    }
   ],
   "source": [
    "nested[\"a\"][2][\"b\"]"
   ]
  },
  {
   "cell_type": "code",
   "execution_count": 4,
   "id": "af9c5e49-9c56-4a3b-8555-107257709450",
   "metadata": {},
   "outputs": [
    {
     "data": {
      "text/plain": [
       "2.2"
      ]
     },
     "execution_count": 4,
     "metadata": {},
     "output_type": "execute_result"
    }
   ],
   "source": [
    "nested[\"c\"][\"d\"][1][\"e\"][1]"
   ]
  },
  {
   "cell_type": "code",
   "execution_count": 5,
   "id": "e503c790-5ad4-4559-a371-7c521bc9c7a5",
   "metadata": {},
   "outputs": [
    {
     "data": {
      "text/plain": [
       "'ab'"
      ]
     },
     "execution_count": 5,
     "metadata": {},
     "output_type": "execute_result"
    }
   ],
   "source": [
    "nested[\"c\"][\"d\"][0][0:2]"
   ]
  },
  {
   "cell_type": "code",
   "execution_count": 6,
   "id": "b9af8fd7-676e-428c-9c2a-fdcf40c63fb2",
   "metadata": {},
   "outputs": [
    {
     "data": {
      "text/plain": [
       "3.3"
      ]
     },
     "execution_count": 6,
     "metadata": {},
     "output_type": "execute_result"
    }
   ],
   "source": [
    "nested[\"c\"][\"d\"][1][\"e\"][2]"
   ]
  },
  {
   "cell_type": "code",
   "execution_count": 42,
   "id": "d9a83d9e-1936-4be5-bb0b-87140d379695",
   "metadata": {},
   "outputs": [],
   "source": [
    "complex_data = [{\"name\": \"Alice\", \n",
    "                  \"scores\": [95, 88, {\"math\": 90, \"science\": [91.5, 92.0]}]},\n",
    "\n",
    "                {\"name\": \"bob\",\n",
    "                \"scores\": [75, {\"math\": [80, 82]}, \"done\"]}]"
   ]
  },
  {
   "cell_type": "code",
   "execution_count": 123,
   "id": "3ef30ae8-4ded-4d50-975f-e8f0bee46ec7",
   "metadata": {},
   "outputs": [
    {
     "data": {
      "text/plain": [
       "92.0"
      ]
     },
     "execution_count": 123,
     "metadata": {},
     "output_type": "execute_result"
    }
   ],
   "source": [
    "complex_data[0][\"scores\"][2][\"science\"][1]"
   ]
  },
  {
   "cell_type": "code",
   "execution_count": 128,
   "id": "d57bbe81-8263-4f63-b32e-27bc1e6390e6",
   "metadata": {},
   "outputs": [
    {
     "data": {
      "text/plain": [
       "82"
      ]
     },
     "execution_count": 128,
     "metadata": {},
     "output_type": "execute_result"
    }
   ],
   "source": [
    "complex_data[1][\"scores\"][1][\"math\"][1]"
   ]
  },
  {
   "cell_type": "code",
   "execution_count": 147,
   "id": "ff489108-9ff7-4ea6-898b-9e22b0e99cf0",
   "metadata": {},
   "outputs": [
    {
     "data": {
      "text/plain": [
       "'done'"
      ]
     },
     "execution_count": 147,
     "metadata": {},
     "output_type": "execute_result"
    }
   ],
   "source": [
    "complex_data[1][\"scores\"][2]"
   ]
  },
  {
   "cell_type": "code",
   "execution_count": 151,
   "id": "9bfb78cf-86ea-44c8-baa8-8cd99fd5313c",
   "metadata": {},
   "outputs": [
    {
     "data": {
      "text/plain": [
       "[95, 88]"
      ]
     },
     "execution_count": 151,
     "metadata": {},
     "output_type": "execute_result"
    }
   ],
   "source": [
    "complex_data[0][\"scores\"][0:2]"
   ]
  },
  {
   "cell_type": "code",
   "execution_count": 223,
   "id": "3ac9eba9-d2c0-478f-b3bf-7fac20c0fa66",
   "metadata": {},
   "outputs": [],
   "source": [
    "structure ={\n",
    "    \"x\":[\n",
    "        {\"y\": [100, 200, {\"z\": \"deep\"}]},\n",
    "        {\"y\": [300, {\"z\": [\"not\", \"so\", \"deep\"]}]}\n",
    "    ]\n",
    "}"
   ]
  },
  {
   "cell_type": "code",
   "execution_count": 239,
   "id": "ea1c84b1-4635-4212-b63c-40e16a5de69f",
   "metadata": {},
   "outputs": [
    {
     "data": {
      "text/plain": [
       "'deep'"
      ]
     },
     "execution_count": 239,
     "metadata": {},
     "output_type": "execute_result"
    }
   ],
   "source": [
    "structure[\"x\"][0][\"y\"][2][\"z\"]"
   ]
  },
  {
   "cell_type": "code",
   "execution_count": 275,
   "id": "9d7122f4-6184-47b7-b9a3-c6e3325b7deb",
   "metadata": {},
   "outputs": [
    {
     "data": {
      "text/plain": [
       "'so'"
      ]
     },
     "execution_count": 275,
     "metadata": {},
     "output_type": "execute_result"
    }
   ],
   "source": [
    "structure[\"x\"][1][\"y\"][0:2][1][\"z\"][1]"
   ]
  },
  {
   "cell_type": "code",
   "execution_count": 278,
   "id": "bda8e30f-0940-4e6b-86f8-51f80f2d3e29",
   "metadata": {},
   "outputs": [
    {
     "data": {
      "text/plain": [
       "['so', 'deep']"
      ]
     },
     "execution_count": 278,
     "metadata": {},
     "output_type": "execute_result"
    }
   ],
   "source": [
    "structure[\"x\"][1][\"y\"][0:2][1][\"z\"][1:3]"
   ]
  },
  {
   "cell_type": "code",
   "execution_count": 281,
   "id": "a6be2b4a-5417-4757-a405-c1777477b0f4",
   "metadata": {},
   "outputs": [
    {
     "data": {
      "text/plain": [
       "200"
      ]
     },
     "execution_count": 281,
     "metadata": {},
     "output_type": "execute_result"
    }
   ],
   "source": [
    "structure[\"x\"][0][\"y\"][1]"
   ]
  },
  {
   "cell_type": "code",
   "execution_count": 284,
   "id": "24afdb32-4ed8-4525-945b-e5f98303a758",
   "metadata": {},
   "outputs": [],
   "source": [
    "data = {\n",
    "    \"alpha\": [\n",
    "        {\n",
    "            \"beta\": \"python\",\n",
    "            \"gamma\": [123, 456.78, {\"delta\": [\"a\", \"b\", {\"epilson\": \"final\"}]}]\n",
    "        },\n",
    "       {\n",
    "             \"beta\": \"jawascript\",\n",
    "             \"gamma\": [999, 888.88]\n",
    "    }\n",
    "   ]\n",
    "}"
   ]
  },
  {
   "cell_type": "code",
   "execution_count": 288,
   "id": "e3623a09-a1d8-49b7-a296-1f637f2dcde8",
   "metadata": {},
   "outputs": [
    {
     "data": {
      "text/plain": [
       "'python'"
      ]
     },
     "execution_count": 288,
     "metadata": {},
     "output_type": "execute_result"
    }
   ],
   "source": [
    "data[\"alpha\"][0][\"beta\"]"
   ]
  },
  {
   "cell_type": "code",
   "execution_count": 292,
   "id": "e8ad0401-9161-4d37-9538-53e7f134e1d1",
   "metadata": {},
   "outputs": [
    {
     "data": {
      "text/plain": [
       "456.78"
      ]
     },
     "execution_count": 292,
     "metadata": {},
     "output_type": "execute_result"
    }
   ],
   "source": [
    "data[\"alpha\"][0][\"gamma\"][1]"
   ]
  },
  {
   "cell_type": "code",
   "execution_count": 298,
   "id": "6c7b7623-cc27-4157-9326-c0b3f22d2e78",
   "metadata": {},
   "outputs": [
    {
     "data": {
      "text/plain": [
       "'final'"
      ]
     },
     "execution_count": 298,
     "metadata": {},
     "output_type": "execute_result"
    }
   ],
   "source": [
    "data[\"alpha\"][0][\"gamma\"][2][\"delta\"][2][\"epilson\"]"
   ]
  },
  {
   "cell_type": "code",
   "execution_count": 309,
   "id": "e4bcd6c1-a45a-4ebd-bc01-4fbebb265050",
   "metadata": {},
   "outputs": [
    {
     "data": {
      "text/plain": [
       "'script'"
      ]
     },
     "execution_count": 309,
     "metadata": {},
     "output_type": "execute_result"
    }
   ],
   "source": [
    "data[\"alpha\"][1][\"beta\"][4:10]"
   ]
  },
  {
   "cell_type": "code",
   "execution_count": 315,
   "id": "145edf76-5f8b-4ca0-acd7-c270a107214c",
   "metadata": {},
   "outputs": [
    {
     "data": {
      "text/plain": [
       "'b'"
      ]
     },
     "execution_count": 315,
     "metadata": {},
     "output_type": "execute_result"
    }
   ],
   "source": [
    "data[\"alpha\"][0][\"gamma\"][2][\"delta\"][1]"
   ]
  },
  {
   "cell_type": "code",
   "execution_count": null,
   "id": "a3433cd6-8417-4173-a6a5-1d8b18e6a46b",
   "metadata": {},
   "outputs": [],
   "source": []
  }
 ],
 "metadata": {
  "kernelspec": {
   "display_name": "Python 3 (ipykernel)",
   "language": "python",
   "name": "python3"
  },
  "language_info": {
   "codemirror_mode": {
    "name": "ipython",
    "version": 3
   },
   "file_extension": ".py",
   "mimetype": "text/x-python",
   "name": "python",
   "nbconvert_exporter": "python",
   "pygments_lexer": "ipython3",
   "version": "3.13.5"
  }
 },
 "nbformat": 4,
 "nbformat_minor": 5
}
