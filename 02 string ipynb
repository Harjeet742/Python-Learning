{
 "cells": [
  {
   "cell_type": "code",
   "execution_count": 2,
   "id": "151e3382-46b8-497f-a3a3-ce861d560439",
   "metadata": {},
   "outputs": [
    {
     "data": {
      "text/plain": [
       "'hi nice to meet you my name is harjeet'"
      ]
     },
     "execution_count": 2,
     "metadata": {},
     "output_type": "execute_result"
    }
   ],
   "source": [
    "\"hi nice to meet you my name is harjeet\""
   ]
  },
  {
   "cell_type": "code",
   "execution_count": 3,
   "id": "6a854679-4c79-43c4-8734-ccc127ee6ff3",
   "metadata": {},
   "outputs": [
    {
     "data": {
      "text/plain": [
       "'hi my name is hareet'"
      ]
     },
     "execution_count": 3,
     "metadata": {},
     "output_type": "execute_result"
    }
   ],
   "source": [
    "\"\"\"hi my name is hareet\"\"\""
   ]
  },
  {
   "cell_type": "code",
   "execution_count": 5,
   "id": "2f89d33d-bb10-415f-b423-51d35529b4d0",
   "metadata": {},
   "outputs": [
    {
     "name": "stdout",
     "output_type": "stream",
     "text": [
      "\n",
      "hii nice to meet you my name is harjeet\n"
     ]
    }
   ],
   "source": [
    "print(\"\"\"\n",
    "hii nice to meet you my name is harjeet\"\"\")"
   ]
  },
  {
   "cell_type": "code",
   "execution_count": 6,
   "id": "311762e2-5969-4cfc-80c2-2d744c23c3ba",
   "metadata": {},
   "outputs": [
    {
     "data": {
      "text/plain": [
       "str"
      ]
     },
     "execution_count": 6,
     "metadata": {},
     "output_type": "execute_result"
    }
   ],
   "source": [
    "type(\"shubham\")"
   ]
  },
  {
   "cell_type": "code",
   "execution_count": 8,
   "id": "6b5307a1-5de6-4059-bf57-25d9d080577c",
   "metadata": {},
   "outputs": [
    {
     "data": {
      "text/plain": [
       "'Shubham'"
      ]
     },
     "execution_count": 8,
     "metadata": {},
     "output_type": "execute_result"
    }
   ],
   "source": [
    "\"shubham\".capitalize()"
   ]
  },
  {
   "cell_type": "code",
   "execution_count": 9,
   "id": "c5c0ed00-c136-4ed1-a301-8abf46f61497",
   "metadata": {},
   "outputs": [
    {
     "data": {
      "text/plain": [
       "'SHUBHAM'"
      ]
     },
     "execution_count": 9,
     "metadata": {},
     "output_type": "execute_result"
    }
   ],
   "source": [
    "\"shubham\".upper()"
   ]
  },
  {
   "cell_type": "code",
   "execution_count": 11,
   "id": "442197bb-8d84-41d5-8d73-2f0cb7e9c7f2",
   "metadata": {},
   "outputs": [
    {
     "data": {
      "text/plain": [
       "'shubham'"
      ]
     },
     "execution_count": 11,
     "metadata": {},
     "output_type": "execute_result"
    }
   ],
   "source": [
    "\"sHuBham\".lower()"
   ]
  },
  {
   "cell_type": "code",
   "execution_count": 12,
   "id": "b0a7d7fd-9554-4e7c-b5d3-4b13015fc03e",
   "metadata": {},
   "outputs": [
    {
     "data": {
      "text/plain": [
       "1"
      ]
     },
     "execution_count": 12,
     "metadata": {},
     "output_type": "execute_result"
    }
   ],
   "source": [
    "\"harjeet\".count('h')"
   ]
  },
  {
   "cell_type": "code",
   "execution_count": 13,
   "id": "e078eaed-56fa-4fe8-ade4-dad2ddc8a5ed",
   "metadata": {},
   "outputs": [
    {
     "data": {
      "text/plain": [
       "2"
      ]
     },
     "execution_count": 13,
     "metadata": {},
     "output_type": "execute_result"
    }
   ],
   "source": [
    "\"harjeet\".count('e')"
   ]
  },
  {
   "cell_type": "code",
   "execution_count": 14,
   "id": "96394916-943d-4c44-af0f-25e5d85d03c7",
   "metadata": {},
   "outputs": [],
   "source": [
    "name= \"harjeet\""
   ]
  },
  {
   "cell_type": "code",
   "execution_count": 15,
   "id": "d51eab8c-203f-4704-a515-8c41c3fc1edf",
   "metadata": {},
   "outputs": [
    {
     "data": {
      "text/plain": [
       "4"
      ]
     },
     "execution_count": 15,
     "metadata": {},
     "output_type": "execute_result"
    }
   ],
   "source": [
    "name.find('e')"
   ]
  },
  {
   "cell_type": "code",
   "execution_count": 17,
   "id": "d3da4176-d5e6-4443-94d7-0ec7568b8a1e",
   "metadata": {},
   "outputs": [
    {
     "data": {
      "text/plain": [
       "3"
      ]
     },
     "execution_count": 17,
     "metadata": {},
     "output_type": "execute_result"
    }
   ],
   "source": [
    "name.find('j')"
   ]
  },
  {
   "cell_type": "code",
   "execution_count": 18,
   "id": "68b60e48-4149-42b4-9e80-df1826b8aa6b",
   "metadata": {},
   "outputs": [
    {
     "data": {
      "text/plain": [
       "'harjeet'"
      ]
     },
     "execution_count": 18,
     "metadata": {},
     "output_type": "execute_result"
    }
   ],
   "source": [
    "name"
   ]
  },
  {
   "cell_type": "code",
   "execution_count": 19,
   "id": "a9b23350-6b98-45a2-a3c8-95946c25a470",
   "metadata": {},
   "outputs": [
    {
     "data": {
      "text/plain": [
       "7"
      ]
     },
     "execution_count": 19,
     "metadata": {},
     "output_type": "execute_result"
    }
   ],
   "source": [
    "len(name)"
   ]
  },
  {
   "cell_type": "code",
   "execution_count": 20,
   "id": "65e52faf-8f4f-4b19-840a-5b4fd654a120",
   "metadata": {},
   "outputs": [],
   "source": [
    "first_name = \"harjeet\""
   ]
  },
  {
   "cell_type": "code",
   "execution_count": 21,
   "id": "2a604038-d8f8-4ed7-ade3-8a292174726e",
   "metadata": {},
   "outputs": [],
   "source": [
    "last_name = \"jangra\""
   ]
  },
  {
   "cell_type": "code",
   "execution_count": 22,
   "id": "7175f12d-47c9-4cec-a5b1-f7797557e8b8",
   "metadata": {},
   "outputs": [
    {
     "data": {
      "text/plain": [
       "'harjeet jangra'"
      ]
     },
     "execution_count": 22,
     "metadata": {},
     "output_type": "execute_result"
    }
   ],
   "source": [
    "first_name + \" \"+ last_name"
   ]
  },
  {
   "cell_type": "code",
   "execution_count": 23,
   "id": "3c7dadad-b139-4f13-bb05-619c8277169b",
   "metadata": {},
   "outputs": [
    {
     "data": {
      "text/plain": [
       "10"
      ]
     },
     "execution_count": 23,
     "metadata": {},
     "output_type": "execute_result"
    }
   ],
   "source": [
    "5+5"
   ]
  },
  {
   "cell_type": "code",
   "execution_count": 24,
   "id": "12f18573-9710-49ea-aa23-65b1612d3ae8",
   "metadata": {},
   "outputs": [
    {
     "data": {
      "text/plain": [
       "'55'"
      ]
     },
     "execution_count": 24,
     "metadata": {},
     "output_type": "execute_result"
    }
   ],
   "source": [
    "\"5\" + \"5\""
   ]
  },
  {
   "cell_type": "code",
   "execution_count": 25,
   "id": "26ec7507-e536-4031-9cae-610e6b4f67b8",
   "metadata": {},
   "outputs": [
    {
     "name": "stdout",
     "output_type": "stream",
     "text": [
      "55\n",
      "55\n"
     ]
    }
   ],
   "source": [
    "print(\"55\")\n",
    "print(55)"
   ]
  },
  {
   "cell_type": "code",
   "execution_count": 26,
   "id": "3d1acdec-c05f-4256-b388-84fe5bd57651",
   "metadata": {},
   "outputs": [
    {
     "data": {
      "text/plain": [
       "str"
      ]
     },
     "execution_count": 26,
     "metadata": {},
     "output_type": "execute_result"
    }
   ],
   "source": [
    "type('55')"
   ]
  },
  {
   "cell_type": "code",
   "execution_count": 27,
   "id": "ed44e969-bf01-4378-b7c1-4a36817579ff",
   "metadata": {},
   "outputs": [
    {
     "data": {
      "text/plain": [
       "int"
      ]
     },
     "execution_count": 27,
     "metadata": {},
     "output_type": "execute_result"
    }
   ],
   "source": [
    "type(55)"
   ]
  },
  {
   "cell_type": "code",
   "execution_count": 28,
   "id": "674a6dd9-efe0-4d9a-892b-542ef88f2428",
   "metadata": {},
   "outputs": [
    {
     "ename": "TypeError",
     "evalue": "unsupported operand type(s) for +: 'int' and 'str'",
     "output_type": "error",
     "traceback": [
      "\u001b[1;31m---------------------------------------------------------------------------\u001b[0m",
      "\u001b[1;31mTypeError\u001b[0m                                 Traceback (most recent call last)",
      "Cell \u001b[1;32mIn[28], line 1\u001b[0m\n\u001b[1;32m----> 1\u001b[0m \u001b[38;5;241m5\u001b[39m\u001b[38;5;241m+\u001b[39m\u001b[38;5;124m\"\u001b[39m\u001b[38;5;124m5\u001b[39m\u001b[38;5;124m\"\u001b[39m\n",
      "\u001b[1;31mTypeError\u001b[0m: unsupported operand type(s) for +: 'int' and 'str'"
     ]
    }
   ],
   "source": [
    "5+\"5\""
   ]
  },
  {
   "cell_type": "code",
   "execution_count": 29,
   "id": "d47b5279-c91e-4c07-8d57-53019171a9da",
   "metadata": {},
   "outputs": [
    {
     "ename": "TypeError",
     "evalue": "can only concatenate str (not \"int\") to str",
     "output_type": "error",
     "traceback": [
      "\u001b[1;31m---------------------------------------------------------------------------\u001b[0m",
      "\u001b[1;31mTypeError\u001b[0m                                 Traceback (most recent call last)",
      "Cell \u001b[1;32mIn[29], line 1\u001b[0m\n\u001b[1;32m----> 1\u001b[0m \u001b[38;5;124m\"\u001b[39m\u001b[38;5;124m5\u001b[39m\u001b[38;5;124m\"\u001b[39m\u001b[38;5;241m+\u001b[39m\u001b[38;5;241m5\u001b[39m\n",
      "\u001b[1;31mTypeError\u001b[0m: can only concatenate str (not \"int\") to str"
     ]
    }
   ],
   "source": [
    "\"5\"+5"
   ]
  },
  {
   "cell_type": "code",
   "execution_count": 30,
   "id": "45353b2d-e19d-47cf-a68e-19d6365e0b2e",
   "metadata": {},
   "outputs": [
    {
     "data": {
      "text/plain": [
       "'harjeet'"
      ]
     },
     "execution_count": 30,
     "metadata": {},
     "output_type": "execute_result"
    }
   ],
   "source": [
    "name"
   ]
  },
  {
   "cell_type": "code",
   "execution_count": 39,
   "id": "f7431749-dd71-49f0-b6cc-e9ea711997bf",
   "metadata": {},
   "outputs": [],
   "source": [
    "name = \"shubham\"\n",
    "salary = 80000"
   ]
  },
  {
   "cell_type": "code",
   "execution_count": 37,
   "id": "b11c3862-3d3b-4579-bf4d-c266296f45b4",
   "metadata": {},
   "outputs": [
    {
     "data": {
      "text/plain": [
       "'hi my name is akash and my salary is 80000'"
      ]
     },
     "execution_count": 37,
     "metadata": {},
     "output_type": "execute_result"
    }
   ],
   "source": [
    "\"hi my name is akash and my salary is 80000\""
   ]
  },
  {
   "cell_type": "code",
   "execution_count": 40,
   "id": "2ea83f31-7797-4e5c-8563-0ff154d956ed",
   "metadata": {},
   "outputs": [
    {
     "data": {
      "text/plain": [
       "'hi my name is shubham'"
      ]
     },
     "execution_count": 40,
     "metadata": {},
     "output_type": "execute_result"
    }
   ],
   "source": [
    "\"hi my name is \" + name"
   ]
  },
  {
   "cell_type": "code",
   "execution_count": 41,
   "id": "6632cf93-c663-4932-aa3a-97ec6c22d220",
   "metadata": {},
   "outputs": [
    {
     "data": {
      "text/plain": [
       "'hi my name is abhi and my salary is 80000'"
      ]
     },
     "execution_count": 41,
     "metadata": {},
     "output_type": "execute_result"
    }
   ],
   "source": [
    "\"hi my name is {} jr and my salary is {}\".format(\"abhi\", 80000)"
   ]
  },
  {
   "cell_type": "code",
   "execution_count": 44,
   "id": "66292b9d-1b9f-4e56-8d8c-7f88e6f50906",
   "metadata": {},
   "outputs": [
    {
     "data": {
      "text/plain": [
       "'hi my name is abhi jr and my salary is 80000. i am of abhi'"
      ]
     },
     "execution_count": 44,
     "metadata": {},
     "output_type": "execute_result"
    }
   ],
   "source": [
    "\"hi my name is {0} jr and my salary is {1}. i am of {0}\".format(\"abhi\", 80000)"
   ]
  },
  {
   "cell_type": "code",
   "execution_count": 62,
   "id": "80bb5000-f8b8-408f-b373-46ee5f07c734",
   "metadata": {},
   "outputs": [
    {
     "ename": "NameError",
     "evalue": "name 'delhi' is not defined",
     "output_type": "error",
     "traceback": [
      "\u001b[1;31m---------------------------------------------------------------------------\u001b[0m",
      "\u001b[1;31mNameError\u001b[0m                                 Traceback (most recent call last)",
      "Cell \u001b[1;32mIn[62], line 1\u001b[0m\n\u001b[1;32m----> 1\u001b[0m \u001b[38;5;124m\"\u001b[39m\u001b[38;5;124mhi my name is abhi \u001b[39m\u001b[38;5;132;01m{0}\u001b[39;00m\u001b[38;5;124m jr and my salary is \u001b[39m\u001b[38;5;132;01m{1}\u001b[39;00m\u001b[38;5;124m. iam of \u001b[39m\u001b[38;5;132;01m{0}\u001b[39;00m\u001b[38;5;124m. i live in \u001b[39m\u001b[38;5;132;01m{2}\u001b[39;00m\u001b[38;5;124m\"\u001b[39m\u001b[38;5;241m.\u001b[39mformat(\u001b[38;5;124m\"\u001b[39m\u001b[38;5;124mabhi\u001b[39m\u001b[38;5;124m\"\u001b[39m, \u001b[38;5;241m80000\u001b[39m, delhi)\n",
      "\u001b[1;31mNameError\u001b[0m: name 'delhi' is not defined"
     ]
    }
   ],
   "source": [
    "\"hi my name is abhi {0} jr and my salary is {1}. iam of {0}. i live in {2}\".format(\"abhi\", 80000, delhi)"
   ]
  },
  {
   "cell_type": "code",
   "execution_count": 48,
   "id": "b72ba9ba-ed06-4cf8-a606-6da7a3ae1256",
   "metadata": {},
   "outputs": [],
   "source": [
    "name = \"abhi\"\n",
    "age = 20\n",
    "salary = 75000\n",
    "place = \"delhi\""
   ]
  },
  {
   "cell_type": "code",
   "execution_count": 50,
   "id": "ab50ba74-9601-4124-81a1-79f364018db8",
   "metadata": {},
   "outputs": [
    {
     "data": {
      "text/plain": [
       "'hi my name is abhi, and my age is 20, and my salary is 75000, and my place is delhi'"
      ]
     },
     "execution_count": 50,
     "metadata": {},
     "output_type": "execute_result"
    }
   ],
   "source": [
    "f'hi my name is {name}, and my age is {age}, and my salary is {salary}, and my place is {place}'"
   ]
  },
  {
   "cell_type": "code",
   "execution_count": 51,
   "id": "bba159fc-975a-4e70-b6b3-7013decd6769",
   "metadata": {},
   "outputs": [
    {
     "data": {
      "text/plain": [
       "['harjeet', 'jangra']"
      ]
     },
     "execution_count": 51,
     "metadata": {},
     "output_type": "execute_result"
    }
   ],
   "source": [
    "\"harjeet jangra\".split()"
   ]
  },
  {
   "cell_type": "code",
   "execution_count": 52,
   "id": "bd514278-26be-4785-962f-17db60f61833",
   "metadata": {},
   "outputs": [
    {
     "data": {
      "text/plain": [
       "['tom', 'jerry', 'bob', 'marco']"
      ]
     },
     "execution_count": 52,
     "metadata": {},
     "output_type": "execute_result"
    }
   ],
   "source": [
    "\"tom jerry bob marco\".split()"
   ]
  },
  {
   "cell_type": "code",
   "execution_count": 53,
   "id": "3192b6e4-21c6-4ae6-96c0-56346f422f11",
   "metadata": {},
   "outputs": [
    {
     "data": {
      "text/plain": [
       "'abhi'"
      ]
     },
     "execution_count": 53,
     "metadata": {},
     "output_type": "execute_result"
    }
   ],
   "source": [
    "name "
   ]
  },
  {
   "cell_type": "code",
   "execution_count": 54,
   "id": "97c2147e-8459-40a1-9791-366a55996202",
   "metadata": {},
   "outputs": [
    {
     "data": {
      "text/plain": [
       "'ABHI'"
      ]
     },
     "execution_count": 54,
     "metadata": {},
     "output_type": "execute_result"
    }
   ],
   "source": [
    "name.upper()"
   ]
  },
  {
   "cell_type": "code",
   "execution_count": 56,
   "id": "c7e559e6-d8f8-47ab-987a-6a2779764058",
   "metadata": {},
   "outputs": [],
   "source": [
    "name = name.upper()"
   ]
  },
  {
   "cell_type": "code",
   "execution_count": 57,
   "id": "c95bae94-c34d-4b4d-99d4-436a333cc37a",
   "metadata": {},
   "outputs": [
    {
     "data": {
      "text/plain": [
       "'ABHI'"
      ]
     },
     "execution_count": 57,
     "metadata": {},
     "output_type": "execute_result"
    }
   ],
   "source": [
    "name"
   ]
  },
  {
   "cell_type": "code",
   "execution_count": 59,
   "id": "300fb117-5cc6-4f5a-a75a-faca7afef8c9",
   "metadata": {},
   "outputs": [
    {
     "data": {
      "text/plain": [
       "['t', 'm jerry b', 'b marc', '']"
      ]
     },
     "execution_count": 59,
     "metadata": {},
     "output_type": "execute_result"
    }
   ],
   "source": [
    "\"tom jerry bob marco\".split(\"o\")"
   ]
  },
  {
   "cell_type": "code",
   "execution_count": 60,
   "id": "9aef09e4-226e-469a-8214-deb6f04b30e9",
   "metadata": {},
   "outputs": [
    {
     "data": {
      "text/plain": [
       "['hi', 'my', 'name', 'is', 'harjeet']"
      ]
     },
     "execution_count": 60,
     "metadata": {},
     "output_type": "execute_result"
    }
   ],
   "source": [
    "\"hi my name is harjeet\".split()"
   ]
  },
  {
   "cell_type": "code",
   "execution_count": 61,
   "id": "29c5f016-c5f3-4747-912b-59b542777dfd",
   "metadata": {},
   "outputs": [
    {
     "data": {
      "text/plain": [
       "['2025', '07', '25']"
      ]
     },
     "execution_count": 61,
     "metadata": {},
     "output_type": "execute_result"
    }
   ],
   "source": [
    "\"2025-07-25\".split(\"-\")"
   ]
  },
  {
   "cell_type": "code",
   "execution_count": 63,
   "id": "b4500032-89e2-45a1-971f-633016b2b380",
   "metadata": {},
   "outputs": [
    {
     "data": {
      "text/plain": [
       "'harjeet'"
      ]
     },
     "execution_count": 63,
     "metadata": {},
     "output_type": "execute_result"
    }
   ],
   "source": [
    "\" harjeet \".strip()"
   ]
  },
  {
   "cell_type": "code",
   "execution_count": 65,
   "id": "40ee3be0-c998-480b-963b-6aa0dc9e4b16",
   "metadata": {},
   "outputs": [
    {
     "name": "stdout",
     "output_type": "stream",
     "text": [
      "happy\n",
      "happy \n"
     ]
    }
   ],
   "source": [
    "print('happy')\n",
    "print('happy ')"
   ]
  },
  {
   "cell_type": "code",
   "execution_count": 66,
   "id": "13e872f2-5f96-4db6-a23a-866450debab1",
   "metadata": {},
   "outputs": [
    {
     "data": {
      "text/plain": [
       "True"
      ]
     },
     "execution_count": 66,
     "metadata": {},
     "output_type": "execute_result"
    }
   ],
   "source": [
    "\"harjeet\".islower()"
   ]
  },
  {
   "cell_type": "code",
   "execution_count": 67,
   "id": "b496829d-8f63-4b92-ba98-3382b7e12cd6",
   "metadata": {},
   "outputs": [
    {
     "data": {
      "text/plain": [
       "True"
      ]
     },
     "execution_count": 67,
     "metadata": {},
     "output_type": "execute_result"
    }
   ],
   "source": [
    "\"HARJEET\".isupper()"
   ]
  },
  {
   "cell_type": "code",
   "execution_count": 68,
   "id": "a9a57f12-d29e-46c5-aa70-bdd7766cbb18",
   "metadata": {},
   "outputs": [
    {
     "data": {
      "text/plain": [
       "False"
      ]
     },
     "execution_count": 68,
     "metadata": {},
     "output_type": "execute_result"
    }
   ],
   "source": [
    "\"HARJEET\".islower()"
   ]
  },
  {
   "cell_type": "code",
   "execution_count": 69,
   "id": "6d10b51c-60e5-425b-ba2a-cdf916ed3e3f",
   "metadata": {},
   "outputs": [
    {
     "data": {
      "text/plain": [
       "False"
      ]
     },
     "execution_count": 69,
     "metadata": {},
     "output_type": "execute_result"
    }
   ],
   "source": [
    "\"harjeet\".isupper()"
   ]
  },
  {
   "cell_type": "code",
   "execution_count": 70,
   "id": "ed5f301f-f6ce-43a4-b208-e58daaa26341",
   "metadata": {},
   "outputs": [
    {
     "data": {
      "text/plain": [
       "True"
      ]
     },
     "execution_count": 70,
     "metadata": {},
     "output_type": "execute_result"
    }
   ],
   "source": [
    "\"5897\".isdigit()"
   ]
  },
  {
   "cell_type": "code",
   "execution_count": 72,
   "id": "9708f600-f223-4375-b558-a7ebf6dfa202",
   "metadata": {},
   "outputs": [
    {
     "data": {
      "text/plain": [
       "True"
      ]
     },
     "execution_count": 72,
     "metadata": {},
     "output_type": "execute_result"
    }
   ],
   "source": [
    "'harjeet'.isalpha()"
   ]
  },
  {
   "cell_type": "code",
   "execution_count": 73,
   "id": "39041b04-9c93-4c76-ab8c-8f98d7b20897",
   "metadata": {},
   "outputs": [
    {
     "data": {
      "text/plain": [
       "True"
      ]
     },
     "execution_count": 73,
     "metadata": {},
     "output_type": "execute_result"
    }
   ],
   "source": [
    "\"harjeet500\".isalnum()"
   ]
  },
  {
   "cell_type": "code",
   "execution_count": 74,
   "id": "8dbd4fc3-cce0-4038-a401-18b590ad6b17",
   "metadata": {},
   "outputs": [
    {
     "data": {
      "text/plain": [
       "True"
      ]
     },
     "execution_count": 74,
     "metadata": {},
     "output_type": "execute_result"
    }
   ],
   "source": [
    "\" \".isspace()"
   ]
  },
  {
   "cell_type": "code",
   "execution_count": 78,
   "id": "c2decbb0-a337-4501-8c75-01d5fb08c791",
   "metadata": {},
   "outputs": [
    {
     "data": {
      "text/plain": [
       "'s8ub8am singh'"
      ]
     },
     "execution_count": 78,
     "metadata": {},
     "output_type": "execute_result"
    }
   ],
   "source": [
    "\"shubham singh\".replace(\"h\", \"8\", 2)"
   ]
  },
  {
   "cell_type": "code",
   "execution_count": 79,
   "id": "fb9a78a1-2e65-40be-8267-e4608c31f205",
   "metadata": {},
   "outputs": [],
   "source": [
    "name = \"shubham singh\""
   ]
  },
  {
   "cell_type": "code",
   "execution_count": 80,
   "id": "0945c63d-6183-4f0e-9f1b-4e7cce5814c5",
   "metadata": {},
   "outputs": [
    {
     "data": {
      "text/plain": [
       "'shubham singh'"
      ]
     },
     "execution_count": 80,
     "metadata": {},
     "output_type": "execute_result"
    }
   ],
   "source": [
    "name"
   ]
  },
  {
   "cell_type": "code",
   "execution_count": 81,
   "id": "eecba3a1-003e-4cd4-a30f-0a8dfd048446",
   "metadata": {},
   "outputs": [
    {
     "data": {
      "text/plain": [
       "'s'"
      ]
     },
     "execution_count": 81,
     "metadata": {},
     "output_type": "execute_result"
    }
   ],
   "source": [
    "name[0]"
   ]
  },
  {
   "cell_type": "code",
   "execution_count": 82,
   "id": "b3d49096-64b5-4ff2-98fe-c3795be35f8e",
   "metadata": {},
   "outputs": [
    {
     "data": {
      "text/plain": [
       "'h'"
      ]
     },
     "execution_count": 82,
     "metadata": {},
     "output_type": "execute_result"
    }
   ],
   "source": [
    "name[1]"
   ]
  },
  {
   "cell_type": "code",
   "execution_count": 83,
   "id": "669940d2-21e6-4fa4-8785-30155e8a5d54",
   "metadata": {},
   "outputs": [
    {
     "data": {
      "text/plain": [
       "'b'"
      ]
     },
     "execution_count": 83,
     "metadata": {},
     "output_type": "execute_result"
    }
   ],
   "source": [
    "name[3]"
   ]
  },
  {
   "cell_type": "code",
   "execution_count": 84,
   "id": "f82f0edb-e5e2-4fbf-8dd8-24bda0b057a7",
   "metadata": {},
   "outputs": [
    {
     "data": {
      "text/plain": [
       "' '"
      ]
     },
     "execution_count": 84,
     "metadata": {},
     "output_type": "execute_result"
    }
   ],
   "source": [
    "name[7]"
   ]
  },
  {
   "cell_type": "code",
   "execution_count": 86,
   "id": "7e9c9c28-55d8-48f4-ae91-baaa73e6728a",
   "metadata": {},
   "outputs": [
    {
     "data": {
      "text/plain": [
       "'s'"
      ]
     },
     "execution_count": 86,
     "metadata": {},
     "output_type": "execute_result"
    }
   ],
   "source": [
    "name[8]"
   ]
  },
  {
   "cell_type": "code",
   "execution_count": 87,
   "id": "59eabd84-96e7-4c9b-928c-c47e44c0fd94",
   "metadata": {},
   "outputs": [
    {
     "data": {
      "text/plain": [
       "'h'"
      ]
     },
     "execution_count": 87,
     "metadata": {},
     "output_type": "execute_result"
    }
   ],
   "source": [
    "name[12]"
   ]
  },
  {
   "cell_type": "code",
   "execution_count": 88,
   "id": "2ddbc348-d722-4529-8709-d53796ed7cb3",
   "metadata": {},
   "outputs": [
    {
     "data": {
      "text/plain": [
       "13"
      ]
     },
     "execution_count": 88,
     "metadata": {},
     "output_type": "execute_result"
    }
   ],
   "source": [
    "len(name)"
   ]
  },
  {
   "cell_type": "code",
   "execution_count": 89,
   "id": "b6a03d81-3cac-4a62-b0ba-038687562dfd",
   "metadata": {},
   "outputs": [
    {
     "data": {
      "text/plain": [
       "'h'"
      ]
     },
     "execution_count": 89,
     "metadata": {},
     "output_type": "execute_result"
    }
   ],
   "source": [
    "name[-1]"
   ]
  },
  {
   "cell_type": "code",
   "execution_count": 90,
   "id": "6ae19e3f-f98c-4217-a282-b1e6d9364a59",
   "metadata": {},
   "outputs": [
    {
     "data": {
      "text/plain": [
       "'s'"
      ]
     },
     "execution_count": 90,
     "metadata": {},
     "output_type": "execute_result"
    }
   ],
   "source": [
    "name[-5]"
   ]
  },
  {
   "cell_type": "code",
   "execution_count": 91,
   "id": "68d25c78-3eff-43f4-81d5-1a7de7ce5d98",
   "metadata": {},
   "outputs": [
    {
     "data": {
      "text/plain": [
       "'shubham singh'"
      ]
     },
     "execution_count": 91,
     "metadata": {},
     "output_type": "execute_result"
    }
   ],
   "source": [
    "name"
   ]
  },
  {
   "cell_type": "code",
   "execution_count": 92,
   "id": "1965ee95-3019-4933-9cd1-7568ea82436c",
   "metadata": {},
   "outputs": [
    {
     "data": {
      "text/plain": [
       "'a'"
      ]
     },
     "execution_count": 92,
     "metadata": {},
     "output_type": "execute_result"
    }
   ],
   "source": [
    "name[-8]"
   ]
  },
  {
   "cell_type": "code",
   "execution_count": 93,
   "id": "890203c0-bc13-4ce1-ad10-85332ac3a759",
   "metadata": {
    "scrolled": true
   },
   "outputs": [
    {
     "ename": "IndexError",
     "evalue": "string index out of range",
     "output_type": "error",
     "traceback": [
      "\u001b[1;31m---------------------------------------------------------------------------\u001b[0m",
      "\u001b[1;31mIndexError\u001b[0m                                Traceback (most recent call last)",
      "Cell \u001b[1;32mIn[93], line 1\u001b[0m\n\u001b[1;32m----> 1\u001b[0m name[\u001b[38;5;241m-\u001b[39m\u001b[38;5;241m14\u001b[39m]\n",
      "\u001b[1;31mIndexError\u001b[0m: string index out of range"
     ]
    }
   ],
   "source": [
    "name[-14]"
   ]
  },
  {
   "cell_type": "code",
   "execution_count": 94,
   "id": "b5a9438e-61d6-4e05-83ce-3c5e90b1d4bb",
   "metadata": {},
   "outputs": [
    {
     "data": {
      "text/plain": [
       "' '"
      ]
     },
     "execution_count": 94,
     "metadata": {},
     "output_type": "execute_result"
    }
   ],
   "source": [
    "name[-6]"
   ]
  },
  {
   "cell_type": "code",
   "execution_count": null,
   "id": "8fc8cca9-fd1e-4966-af9b-ec0308d274ba",
   "metadata": {},
   "outputs": [],
   "source": []
  }
 ],
 "metadata": {
  "kernelspec": {
   "display_name": "Python 3 (ipykernel)",
   "language": "python",
   "name": "python3"
  },
  "language_info": {
   "codemirror_mode": {
    "name": "ipython",
    "version": 3
   },
   "file_extension": ".py",
   "mimetype": "text/x-python",
   "name": "python",
   "nbconvert_exporter": "python",
   "pygments_lexer": "ipython3",
   "version": "3.13.5"
  }
 },
 "nbformat": 4,
 "nbformat_minor": 5
}
