{
 "cells": [
  {
   "cell_type": "markdown",
   "id": "c305579c-e216-49be-a02a-a5b5e169ab93",
   "metadata": {},
   "source": [
    "# BOOLEANS"
   ]
  },
  {
   "cell_type": "code",
   "execution_count": 1,
   "id": "1b8c83f5-0841-4e01-bcd9-a1e2b6a0931e",
   "metadata": {},
   "outputs": [
    {
     "data": {
      "text/plain": [
       "1"
      ]
     },
     "execution_count": 1,
     "metadata": {},
     "output_type": "execute_result"
    }
   ],
   "source": [
    "0 or 1"
   ]
  },
  {
   "cell_type": "code",
   "execution_count": 2,
   "id": "7f022cde-fae2-46b3-9335-e51dd2ab8a4c",
   "metadata": {},
   "outputs": [
    {
     "data": {
      "text/plain": [
       "True"
      ]
     },
     "execution_count": 2,
     "metadata": {},
     "output_type": "execute_result"
    }
   ],
   "source": [
    "True"
   ]
  },
  {
   "cell_type": "code",
   "execution_count": 3,
   "id": "fceec95a-ece5-4956-9abf-efdd7fc736f1",
   "metadata": {},
   "outputs": [
    {
     "data": {
      "text/plain": [
       "False"
      ]
     },
     "execution_count": 3,
     "metadata": {},
     "output_type": "execute_result"
    }
   ],
   "source": [
    "False"
   ]
  },
  {
   "cell_type": "code",
   "execution_count": 5,
   "id": "bb7450b6-50aa-4c1b-9512-ec94111bc3ef",
   "metadata": {},
   "outputs": [
    {
     "data": {
      "text/plain": [
       "1"
      ]
     },
     "execution_count": 5,
     "metadata": {},
     "output_type": "execute_result"
    }
   ],
   "source": [
    "int(True)"
   ]
  },
  {
   "cell_type": "code",
   "execution_count": 6,
   "id": "4650a3ed-00fd-48ff-81af-96bbbd7d69e0",
   "metadata": {},
   "outputs": [
    {
     "data": {
      "text/plain": [
       "0"
      ]
     },
     "execution_count": 6,
     "metadata": {},
     "output_type": "execute_result"
    }
   ],
   "source": [
    "int(False)"
   ]
  },
  {
   "cell_type": "code",
   "execution_count": 7,
   "id": "dc8bba6e-a73f-4622-ab76-d8ee6e843f9a",
   "metadata": {},
   "outputs": [
    {
     "data": {
      "text/plain": [
       "True"
      ]
     },
     "execution_count": 7,
     "metadata": {},
     "output_type": "execute_result"
    }
   ],
   "source": [
    "bool(6969)"
   ]
  },
  {
   "cell_type": "code",
   "execution_count": 8,
   "id": "f313563f-5719-4963-869e-2a972abbece1",
   "metadata": {},
   "outputs": [
    {
     "data": {
      "text/plain": [
       "False"
      ]
     },
     "execution_count": 8,
     "metadata": {},
     "output_type": "execute_result"
    }
   ],
   "source": [
    "bool(None)"
   ]
  },
  {
   "cell_type": "code",
   "execution_count": 9,
   "id": "7e0835d6-3a7b-4f79-a2a4-18dc0f2a7e51",
   "metadata": {},
   "outputs": [
    {
     "data": {
      "text/plain": [
       "False"
      ]
     },
     "execution_count": 9,
     "metadata": {},
     "output_type": "execute_result"
    }
   ],
   "source": [
    "bool()"
   ]
  },
  {
   "cell_type": "code",
   "execution_count": 10,
   "id": "fe8c756f-0b09-452b-8e60-c7fbdf17b3c3",
   "metadata": {},
   "outputs": [
    {
     "data": {
      "text/plain": [
       "bool"
      ]
     },
     "execution_count": 10,
     "metadata": {},
     "output_type": "execute_result"
    }
   ],
   "source": [
    "type(True)"
   ]
  },
  {
   "cell_type": "code",
   "execution_count": 11,
   "id": "89d84437-01dc-41ff-8efe-a302397dcf2b",
   "metadata": {},
   "outputs": [
    {
     "data": {
      "text/plain": [
       "bool"
      ]
     },
     "execution_count": 11,
     "metadata": {},
     "output_type": "execute_result"
    }
   ],
   "source": [
    "type(False)"
   ]
  },
  {
   "cell_type": "code",
   "execution_count": 12,
   "id": "d895ef18-fda6-49fd-aea6-0ff4d10e60b1",
   "metadata": {},
   "outputs": [
    {
     "data": {
      "text/plain": [
       "False"
      ]
     },
     "execution_count": 12,
     "metadata": {},
     "output_type": "execute_result"
    }
   ],
   "source": [
    "bool(\"\")"
   ]
  },
  {
   "cell_type": "code",
   "execution_count": 13,
   "id": "9c2887d1-46c2-4f52-aaae-7fedf3f1a297",
   "metadata": {},
   "outputs": [
    {
     "data": {
      "text/plain": [
       "True"
      ]
     },
     "execution_count": 13,
     "metadata": {},
     "output_type": "execute_result"
    }
   ],
   "source": [
    "bool(\"u\")"
   ]
  },
  {
   "cell_type": "code",
   "execution_count": 14,
   "id": "3ace0e4e-daa4-4e66-beaf-747ba096bd71",
   "metadata": {},
   "outputs": [
    {
     "data": {
      "text/plain": [
       "True"
      ]
     },
     "execution_count": 14,
     "metadata": {},
     "output_type": "execute_result"
    }
   ],
   "source": [
    "bool(\"d\")"
   ]
  },
  {
   "cell_type": "code",
   "execution_count": 15,
   "id": "e1ba6fc6-d3b1-46da-ba94-8fb70e12ca2c",
   "metadata": {},
   "outputs": [
    {
     "data": {
      "text/plain": [
       "False"
      ]
     },
     "execution_count": 15,
     "metadata": {},
     "output_type": "execute_result"
    }
   ],
   "source": [
    "bool([])"
   ]
  },
  {
   "cell_type": "code",
   "execution_count": 17,
   "id": "8487fe42-ec2c-4337-95b3-a75721678702",
   "metadata": {},
   "outputs": [
    {
     "data": {
      "text/plain": [
       "True"
      ]
     },
     "execution_count": 17,
     "metadata": {},
     "output_type": "execute_result"
    }
   ],
   "source": [
    "bool([7])"
   ]
  },
  {
   "cell_type": "code",
   "execution_count": 18,
   "id": "9842bacb-36f6-4dc1-b4db-68b9c7ab32f5",
   "metadata": {},
   "outputs": [
    {
     "data": {
      "text/plain": [
       "False"
      ]
     },
     "execution_count": 18,
     "metadata": {},
     "output_type": "execute_result"
    }
   ],
   "source": [
    "bool(())"
   ]
  },
  {
   "cell_type": "code",
   "execution_count": 19,
   "id": "58d71127-7c3e-4f66-a1f2-58bed345dd10",
   "metadata": {},
   "outputs": [
    {
     "data": {
      "text/plain": [
       "True"
      ]
     },
     "execution_count": 19,
     "metadata": {},
     "output_type": "execute_result"
    }
   ],
   "source": [
    "bool((4))"
   ]
  },
  {
   "cell_type": "code",
   "execution_count": 20,
   "id": "9ded45ed-2fa9-41eb-a970-d3e78d1458e6",
   "metadata": {},
   "outputs": [
    {
     "data": {
      "text/plain": [
       "False"
      ]
     },
     "execution_count": 20,
     "metadata": {},
     "output_type": "execute_result"
    }
   ],
   "source": [
    "bool({})"
   ]
  },
  {
   "cell_type": "code",
   "execution_count": 21,
   "id": "4c56a44f-d840-459f-90d5-fffc6fcd0b44",
   "metadata": {},
   "outputs": [
    {
     "data": {
      "text/plain": [
       "True"
      ]
     },
     "execution_count": 21,
     "metadata": {},
     "output_type": "execute_result"
    }
   ],
   "source": [
    "bool({4})"
   ]
  },
  {
   "cell_type": "markdown",
   "id": "3d4e8dae-5699-475b-a7a0-076dd3eae308",
   "metadata": {},
   "source": [
    "# if elif else"
   ]
  },
  {
   "cell_type": "code",
   "execution_count": 1,
   "id": "8d3d99d8-5cc3-4f63-b6a6-3f37c667dffa",
   "metadata": {},
   "outputs": [],
   "source": [
    "age =20"
   ]
  },
  {
   "cell_type": "code",
   "execution_count": 6,
   "id": "ed106f4d-446b-4411-9f3e-da9a7a99164b",
   "metadata": {},
   "outputs": [
    {
     "name": "stdout",
     "output_type": "stream",
     "text": [
      "welcome\n"
     ]
    }
   ],
   "source": [
    "if age > 18:\n",
    "    print(\"welcome\")"
   ]
  },
  {
   "cell_type": "code",
   "execution_count": 7,
   "id": "2771649f-16a2-4b8a-8067-46c869ab7b62",
   "metadata": {},
   "outputs": [
    {
     "name": "stdout",
     "output_type": "stream",
     "text": [
      "not welcome\n"
     ]
    }
   ],
   "source": [
    "if age < 18:\n",
    "    print(\"welcome\")\n",
    "else:\n",
    "    print(\"not welcome\")"
   ]
  },
  {
   "cell_type": "markdown",
   "id": "d1243d79-ac94-4955-bca2-293f7baf8a18",
   "metadata": {},
   "source": [
    "# comparison operators"
   ]
  },
  {
   "cell_type": "code",
   "execution_count": 31,
   "id": "8c51ae8a-98b9-4576-926d-c06a3d1468f5",
   "metadata": {},
   "outputs": [
    {
     "data": {
      "text/plain": [
       "False"
      ]
     },
     "execution_count": 31,
     "metadata": {},
     "output_type": "execute_result"
    }
   ],
   "source": [
    "5>10"
   ]
  },
  {
   "cell_type": "code",
   "execution_count": 32,
   "id": "214d8d7e-0106-4fd3-bc3f-e403a50ff4ee",
   "metadata": {},
   "outputs": [
    {
     "data": {
      "text/plain": [
       "False"
      ]
     },
     "execution_count": 32,
     "metadata": {},
     "output_type": "execute_result"
    }
   ],
   "source": [
    "10<5"
   ]
  },
  {
   "cell_type": "code",
   "execution_count": 33,
   "id": "8f66cfb1-9452-4d08-b022-9c67bf976855",
   "metadata": {},
   "outputs": [
    {
     "data": {
      "text/plain": [
       "True"
      ]
     },
     "execution_count": 33,
     "metadata": {},
     "output_type": "execute_result"
    }
   ],
   "source": [
    "10>5"
   ]
  },
  {
   "cell_type": "code",
   "execution_count": 34,
   "id": "e1076a0b-38c8-4eca-92c2-08cd0f5b7c3e",
   "metadata": {},
   "outputs": [
    {
     "data": {
      "text/plain": [
       "True"
      ]
     },
     "execution_count": 34,
     "metadata": {},
     "output_type": "execute_result"
    }
   ],
   "source": [
    "6>3"
   ]
  },
  {
   "cell_type": "code",
   "execution_count": 35,
   "id": "573cf3bd-c978-4cbf-ae16-48056583d040",
   "metadata": {},
   "outputs": [
    {
     "data": {
      "text/plain": [
       "True"
      ]
     },
     "execution_count": 35,
     "metadata": {},
     "output_type": "execute_result"
    }
   ],
   "source": [
    "5==5"
   ]
  },
  {
   "cell_type": "code",
   "execution_count": 10,
   "id": "211cb1da-9e66-4754-8b63-557134c22c62",
   "metadata": {},
   "outputs": [],
   "source": [
    "age = 15"
   ]
  },
  {
   "cell_type": "code",
   "execution_count": 12,
   "id": "00dd2701-1ab7-4d29-9feb-0e6ec274e27e",
   "metadata": {},
   "outputs": [
    {
     "data": {
      "text/plain": [
       "False"
      ]
     },
     "execution_count": 12,
     "metadata": {},
     "output_type": "execute_result"
    }
   ],
   "source": [
    "age==18"
   ]
  },
  {
   "cell_type": "code",
   "execution_count": 40,
   "id": "2a94a9f2-e126-47da-844f-3935a2413911",
   "metadata": {},
   "outputs": [
    {
     "data": {
      "text/plain": [
       "False"
      ]
     },
     "execution_count": 40,
     "metadata": {},
     "output_type": "execute_result"
    }
   ],
   "source": [
    "10==11"
   ]
  },
  {
   "cell_type": "code",
   "execution_count": 41,
   "id": "bcce292a-8235-4884-8979-f90008d114a1",
   "metadata": {},
   "outputs": [],
   "source": [
    "age= 15"
   ]
  },
  {
   "cell_type": "code",
   "execution_count": 42,
   "id": "30db3f68-7a98-40a9-a07f-49865a852863",
   "metadata": {},
   "outputs": [
    {
     "data": {
      "text/plain": [
       "False"
      ]
     },
     "execution_count": 42,
     "metadata": {},
     "output_type": "execute_result"
    }
   ],
   "source": [
    "age > 18"
   ]
  },
  {
   "cell_type": "code",
   "execution_count": 43,
   "id": "93371428-1d70-42ca-bdf0-40f68afb65e9",
   "metadata": {},
   "outputs": [
    {
     "data": {
      "text/plain": [
       "True"
      ]
     },
     "execution_count": 43,
     "metadata": {},
     "output_type": "execute_result"
    }
   ],
   "source": [
    "age < 18"
   ]
  },
  {
   "cell_type": "code",
   "execution_count": 44,
   "id": "4cda7138-42a2-4f6c-9b88-a08b79374632",
   "metadata": {},
   "outputs": [],
   "source": [
    "age =19"
   ]
  },
  {
   "cell_type": "code",
   "execution_count": 45,
   "id": "a3f65873-3592-4554-b5a2-fdfb06af0e32",
   "metadata": {},
   "outputs": [
    {
     "data": {
      "text/plain": [
       "True"
      ]
     },
     "execution_count": 45,
     "metadata": {},
     "output_type": "execute_result"
    }
   ],
   "source": [
    "age ==19"
   ]
  },
  {
   "cell_type": "markdown",
   "id": "d8a2a08e-694a-46c5-8d46-d86a1303a23d",
   "metadata": {},
   "source": [
    "age != 19"
   ]
  },
  {
   "cell_type": "markdown",
   "id": "8a426154-8685-400e-9908-6667d91f9ce3",
   "metadata": {},
   "source": [
    "# if elif else"
   ]
  },
  {
   "cell_type": "code",
   "execution_count": 50,
   "id": "2d25fab1-34e7-483f-9698-ce5ae68e9775",
   "metadata": {},
   "outputs": [],
   "source": [
    "age = 20"
   ]
  },
  {
   "cell_type": "code",
   "execution_count": 55,
   "id": "7e1bf814-69ec-4d15-a552-626e4bd323d3",
   "metadata": {},
   "outputs": [
    {
     "data": {
      "text/plain": [
       "True"
      ]
     },
     "execution_count": 55,
     "metadata": {},
     "output_type": "execute_result"
    }
   ],
   "source": [
    "age > 18"
   ]
  },
  {
   "cell_type": "code",
   "execution_count": 58,
   "id": "2e56637f-cc58-4b00-a378-6d7f7f64a8b7",
   "metadata": {},
   "outputs": [
    {
     "name": "stdout",
     "output_type": "stream",
     "text": [
      "welcome\n"
     ]
    }
   ],
   "source": [
    "if True:\n",
    "    print('welcome')"
   ]
  },
  {
   "cell_type": "code",
   "execution_count": 1,
   "id": "4a1d97b5-505c-4e92-9f59-e75645a172ac",
   "metadata": {},
   "outputs": [],
   "source": [
    "marks = 99"
   ]
  },
  {
   "cell_type": "code",
   "execution_count": 2,
   "id": "b7f9b4d2-b993-4adc-b31b-2eaf1bd909ff",
   "metadata": {
    "scrolled": true
   },
   "outputs": [
    {
     "name": "stdout",
     "output_type": "stream",
     "text": [
      "A\n"
     ]
    }
   ],
   "source": [
    "if marks > 90:\n",
    "    print (\"A\")\n",
    "elif marks > 75:\n",
    "    print (\"B\")\n",
    "elif marks > 60:\n",
    "    print (\"C\")\n",
    "elif marks > 40:\n",
    "    print (\"D\")\n",
    "else:\n",
    "    print(\"fail\")"
   ]
  },
  {
   "cell_type": "markdown",
   "id": "87524c82-437e-4835-b6d3-a27cad9f9f07",
   "metadata": {},
   "source": [
    "# bye"
   ]
  },
  {
   "cell_type": "code",
   "execution_count": 2,
   "id": "e33170de-ef91-445e-ba62-813a2bbcb78c",
   "metadata": {},
   "outputs": [],
   "source": [
    "# 2, 3, 5"
   ]
  },
  {
   "cell_type": "code",
   "execution_count": 3,
   "id": "d196018e-0841-47ce-98be-bf1003c14cf1",
   "metadata": {},
   "outputs": [],
   "source": [
    "# positive number or negative"
   ]
  },
  {
   "cell_type": "code",
   "execution_count": 78,
   "id": "53d5a167-e278-4733-a5a8-59fa82baca32",
   "metadata": {},
   "outputs": [
    {
     "name": "stdout",
     "output_type": "stream",
     "text": [
      "negative\n"
     ]
    }
   ],
   "source": [
    "n = -5\n",
    "\n",
    "if n > 0:\n",
    "     print(\"positive\")\n",
    "elif n < 0:\n",
    "    print(\"negative\")\n",
    "else:\n",
    "    print(\"zero\")"
   ]
  },
  {
   "cell_type": "code",
   "execution_count": 6,
   "id": "8f308ab5-e8c6-4fb7-a760-84a767b7013d",
   "metadata": {},
   "outputs": [
    {
     "name": "stdout",
     "output_type": "stream",
     "text": [
      "hello\n",
      "hii\n"
     ]
    }
   ],
   "source": [
    "n = 10\n",
    "m = 15\n",
    "\n",
    "if m > n:\n",
    "    print(\"hello\")\n",
    "    print(\"hii\")"
   ]
  },
  {
   "cell_type": "markdown",
   "id": "89a8ef68-6dd0-41cb-a4c8-fcb86bb0998c",
   "metadata": {},
   "source": [
    "# nested if else"
   ]
  },
  {
   "cell_type": "code",
   "execution_count": 7,
   "id": "fd1ba536-ef0e-43e6-bb4a-4b8e9ce87609",
   "metadata": {},
   "outputs": [
    {
     "name": "stdout",
     "output_type": "stream",
     "text": [
      "hii\n"
     ]
    }
   ],
   "source": [
    "n = 10\n",
    "m = 5\n",
    "\n",
    "if m>n:\n",
    "    print(\"hello\")\n",
    "print(\"hii\")"
   ]
  },
  {
   "cell_type": "code",
   "execution_count": 8,
   "id": "719177f9-0ae0-4e2f-a7ef-a7d1faf4cebd",
   "metadata": {},
   "outputs": [
    {
     "name": "stdout",
     "output_type": "stream",
     "text": [
      "bye\n",
      "hii\n"
     ]
    }
   ],
   "source": [
    "n = 10\n",
    "m = 5\n",
    "\n",
    "if m>n:\n",
    "    print(\"hello\")\n",
    "else:\n",
    "    print(\"bye\")\n",
    "print(\"hii\")"
   ]
  },
  {
   "cell_type": "code",
   "execution_count": 14,
   "id": "36be9284-3aea-4c08-b200-8d1a72a2d59a",
   "metadata": {},
   "outputs": [
    {
     "name": "stdout",
     "output_type": "stream",
     "text": [
      "hii\n"
     ]
    }
   ],
   "source": [
    "m = 10\n",
    "n = 20\n",
    "o = 25\n",
    "\n",
    "if o > n:\n",
    "    print(\"hii\")\n",
    "elif o > m:\n",
    "    print(\"hello\")\n"
   ]
  },
  {
   "cell_type": "code",
   "execution_count": 17,
   "id": "86534fa7-6736-47f4-b5fe-fa010359a6c6",
   "metadata": {},
   "outputs": [
    {
     "data": {
      "text/plain": [
       "0"
      ]
     },
     "execution_count": 17,
     "metadata": {},
     "output_type": "execute_result"
    }
   ],
   "source": [
    "25%5"
   ]
  },
  {
   "cell_type": "code",
   "execution_count": 18,
   "id": "33d6acca-8f0d-4f44-a81c-18b4b411f8ed",
   "metadata": {},
   "outputs": [
    {
     "data": {
      "text/plain": [
       "3"
      ]
     },
     "execution_count": 18,
     "metadata": {},
     "output_type": "execute_result"
    }
   ],
   "source": [
    "23%5"
   ]
  },
  {
   "cell_type": "code",
   "execution_count": 19,
   "id": "16c516b9-6ea8-4e82-a0d8-fba117b1a224",
   "metadata": {},
   "outputs": [
    {
     "data": {
      "text/plain": [
       "3"
      ]
     },
     "execution_count": 19,
     "metadata": {},
     "output_type": "execute_result"
    }
   ],
   "source": [
    "45%6"
   ]
  },
  {
   "cell_type": "code",
   "execution_count": 20,
   "id": "81092cd0-490a-4e53-9613-7b45614b7d81",
   "metadata": {},
   "outputs": [
    {
     "data": {
      "text/plain": [
       "0"
      ]
     },
     "execution_count": 20,
     "metadata": {},
     "output_type": "execute_result"
    }
   ],
   "source": [
    "28%7"
   ]
  },
  {
   "cell_type": "code",
   "execution_count": 21,
   "id": "47cb3279-711f-4d98-9d1e-347785f4ac69",
   "metadata": {},
   "outputs": [
    {
     "name": "stdout",
     "output_type": "stream",
     "text": [
      "division\n"
     ]
    }
   ],
   "source": [
    "if 28 % 7 == 0:\n",
    "    print(\"division\")"
   ]
  },
  {
   "cell_type": "code",
   "execution_count": 22,
   "id": "06dfc435-3f60-459f-a0e5-c0404d524ebe",
   "metadata": {},
   "outputs": [
    {
     "data": {
      "text/plain": [
       "True"
      ]
     },
     "execution_count": 22,
     "metadata": {},
     "output_type": "execute_result"
    }
   ],
   "source": [
    "22 % 2 == 0"
   ]
  },
  {
   "cell_type": "code",
   "execution_count": 23,
   "id": "42b09c63-35bb-4788-b718-64943dd37162",
   "metadata": {},
   "outputs": [
    {
     "name": "stdout",
     "output_type": "stream",
     "text": [
      "even\n"
     ]
    }
   ],
   "source": [
    "if 22 % 2 == 0:\n",
    "    print(\"even\")"
   ]
  },
  {
   "cell_type": "code",
   "execution_count": 26,
   "id": "3a495fd5-5588-43c2-bef1-51cd3ac2661d",
   "metadata": {},
   "outputs": [
    {
     "name": "stdout",
     "output_type": "stream",
     "text": [
      "even\n"
     ]
    }
   ],
   "source": [
    "n = 20\n",
    "\n",
    "if n % 2 == 0:\n",
    "    print(\"even\")\n",
    "\n",
    "else:\n",
    "    print(\"odd\")"
   ]
  },
  {
   "cell_type": "code",
   "execution_count": 59,
   "id": "1432af71-6b9c-4a73-9567-d004c66d1f0d",
   "metadata": {},
   "outputs": [],
   "source": [
    "n = 12"
   ]
  },
  {
   "cell_type": "code",
   "execution_count": 60,
   "id": "eda3d300-7b00-4d2f-ba43-cf25d787e7db",
   "metadata": {},
   "outputs": [
    {
     "name": "stdout",
     "output_type": "stream",
     "text": [
      "divisible by 2 and 3\n"
     ]
    }
   ],
   "source": [
    "if n % 2 == 0:\n",
    "    # divisible by 2\n",
    "    if n % 3 == 0:\n",
    "        # divisibe y 3\n",
    "        print(\"divisible by 2 and 3\")\n",
    "    else:\n",
    "        print(\"divisible by 2 and 3\")\n",
    "elif n % 3 == 0:\n",
    "    print(\"divisible by 3 but not 2\")\n",
    "else:\n",
    "        print(\"not divisible by 2 and 3\")"
   ]
  },
  {
   "cell_type": "code",
   "execution_count": 29,
   "id": "5a09e54b-05ba-4a26-9252-069149046b18",
   "metadata": {},
   "outputs": [],
   "source": [
    "n = 69"
   ]
  },
  {
   "cell_type": "code",
   "execution_count": 30,
   "id": "fb09a771-1a76-432b-816c-734a4f64db45",
   "metadata": {},
   "outputs": [
    {
     "name": "stdout",
     "output_type": "stream",
     "text": [
      "not divisible by 2 and 3\n"
     ]
    }
   ],
   "source": [
    "if n % 2 == 0:\n",
    "    if n % 3 == 0:\n",
    "        print(\"divisible by 2 and 3\")\n",
    "    else:\n",
    "        print(\"divisible by 2 but not 3\")\n",
    "elif n % 3:\n",
    "    print(\"divisible by 3 but not 2\")\n",
    "else:\n",
    "    print(\"not divisible by 2 and 3\")"
   ]
  },
  {
   "cell_type": "code",
   "execution_count": 2,
   "id": "a527560b-36ea-42b1-af7d-e0ae571e3fc5",
   "metadata": {},
   "outputs": [],
   "source": [
    "city = \"agra\""
   ]
  },
  {
   "cell_type": "code",
   "execution_count": 3,
   "id": "8f944173-e19c-4c9c-95c3-208530e1999b",
   "metadata": {},
   "outputs": [],
   "source": [
    "age = 12"
   ]
  },
  {
   "cell_type": "code",
   "execution_count": 4,
   "id": "5ccb0b6f-605e-487f-ad68-3778674354a9",
   "metadata": {},
   "outputs": [
    {
     "name": "stdout",
     "output_type": "stream",
     "text": [
      " galat aagye tum\n"
     ]
    }
   ],
   "source": [
    "if city == \"delhi\":\n",
    "    if age < 30:\n",
    "        print(\"welcome to delhi young man\")\n",
    "    else:\n",
    "        print(\"bahr milo tum\")\n",
    "elif city == \"chd\":\n",
    "    if age > 50:\n",
    "        print(\"welcome to city of retirement\")\n",
    "    else:\n",
    "        print(\"welcome to chd\")\n",
    "elif city == \"agra\":\n",
    "    if age > 15:\n",
    "        print(\"swagat hai\")\n",
    "    else:\n",
    "        print(\" galat aagye tum\")\n",
    "    \n",
    "        "
   ]
  },
  {
   "cell_type": "code",
   "execution_count": 58,
   "id": "77952454-a816-4c46-aabf-6275fb153082",
   "metadata": {},
   "outputs": [
    {
     "name": "stdout",
     "output_type": "stream",
     "text": [
      "divisible by 5\n"
     ]
    }
   ],
   "source": [
    "n = 85\n",
    "\n",
    "if n % 2 == 0:\n",
    "    if n % 3 == 0:\n",
    "        if n % 5 == 0:\n",
    "            print(\"divisible by 2, 3, 5\")\n",
    "        else:\n",
    "            print(\"divisible by 2 and 3 not 5\")\n",
    "    elif n % 5 == 0:\n",
    "        print(\"divisible by 2 and 5 not 3\")\n",
    "    else: \n",
    "        print(\"divisible by 2 not 3 and 5\")   \n",
    "elif n % 3 == 0:\n",
    "    if n % 5 == 0:\n",
    "        print(\"divisible by 3 and 5\")\n",
    "    else:\n",
    "        print(\"divisible by 3\")\n",
    "elif n % 5 == 0:\n",
    "    print(\"divisible by 5\")\n",
    "else:\n",
    "    print(\"not divisible by 2 or 3 or 5\")\n",
    "    \n",
    "    \n",
    "        "
   ]
  },
  {
   "cell_type": "code",
   "execution_count": 77,
   "id": "6776e20c-bd7f-4356-bcb5-3d30bbb8f130",
   "metadata": {},
   "outputs": [
    {
     "name": "stdout",
     "output_type": "stream",
     "text": [
      "you can play the game\n",
      "you won a silver medal\n"
     ]
    }
   ],
   "source": [
    "age = 15\n",
    "score = 71\n",
    "\n",
    "if age > 10:\n",
    "    print(\"you can play the game\")\n",
    "    if score > 90:\n",
    "        print(\"you won a gold medal\")\n",
    "    elif score > 70:\n",
    "        print(\"you won a silver medal\")\n",
    "    else:\n",
    "        print(\" you played well\")\n",
    "else:\n",
    "    print(\"you can't play\")"
   ]
  },
  {
   "cell_type": "code",
   "execution_count": 93,
   "id": "4b80e892-763f-48d4-a80b-466c886605ea",
   "metadata": {},
   "outputs": [
    {
     "name": "stdout",
     "output_type": "stream",
     "text": [
      "you can buy something\n",
      "you can buy pizza\n"
     ]
    }
   ],
   "source": [
    "money = 150\n",
    "\n",
    "if money > 50:\n",
    "    print(\"you can buy something\")\n",
    "    if money > 100:\n",
    "        print(\"you can buy pizza\")\n",
    "    elif money > 70:\n",
    "          print(\"you can buy burger\")\n",
    "    else:\n",
    "        print(\"only u can buy fries\")\n",
    "else:\n",
    "    print(\"u can't buy anything\")\n",
    "\n"
   ]
  },
  {
   "cell_type": "code",
   "execution_count": 15,
   "id": "1e23cf44-23ba-49e3-be5d-f26cfcce05a2",
   "metadata": {},
   "outputs": [
    {
     "name": "stdout",
     "output_type": "stream",
     "text": [
      "u can enjoy all rides and vip lounge\n"
     ]
    }
   ],
   "source": [
    "age= 12\n",
    "ticket_type = \"vip\"\n",
    "\n",
    "if age < 5:\n",
    "    print(\"can't enter in the park\")\n",
    "else:\n",
    "    if ticket_type == \"vip\":\n",
    "        if age < 12:\n",
    "            print(\"u can enjoy all kid rides and vip lounge\")\n",
    "        else:\n",
    "            print(\"u can enjoy all rides and vip lounge\")\n",
    "    elif ticket_type == \"regular\":\n",
    "        if age < 12:\n",
    "            print(\"u can enjoy all kid rides\")\n",
    "        else:\n",
    "            print(\"u can enjoy most rides\")\n",
    "    else:\n",
    "        print(\"invalid ticket_type\")\n",
    "       \n",
    "    \n",
    "\n",
    "            \n",
    "   "
   ]
  },
  {
   "cell_type": "markdown",
   "id": "a36c3a7c-ff2b-402a-8683-977b41a807bf",
   "metadata": {},
   "source": [
    "# logical operations"
   ]
  },
  {
   "cell_type": "code",
   "execution_count": null,
   "id": "d1f94f56-bea4-407a-9d3e-55b0ac387556",
   "metadata": {
    "jp-MarkdownHeadingCollapsed": true
   },
   "outputs": [],
   "source": [
    "## not"
   ]
  },
  {
   "cell_type": "code",
   "execution_count": 3,
   "id": "0dbe3155-e5c6-404f-a559-67952c273c75",
   "metadata": {},
   "outputs": [
    {
     "data": {
      "text/plain": [
       "False"
      ]
     },
     "execution_count": 3,
     "metadata": {},
     "output_type": "execute_result"
    }
   ],
   "source": [
    "not True"
   ]
  },
  {
   "cell_type": "code",
   "execution_count": 4,
   "id": "1f79c1b5-73ee-4d81-8303-75d7278b11e7",
   "metadata": {},
   "outputs": [
    {
     "data": {
      "text/plain": [
       "True"
      ]
     },
     "execution_count": 4,
     "metadata": {},
     "output_type": "execute_result"
    }
   ],
   "source": [
    "not False"
   ]
  },
  {
   "cell_type": "code",
   "execution_count": 7,
   "id": "91fd8285-046c-40b1-a028-37f2914c88b3",
   "metadata": {},
   "outputs": [],
   "source": [
    "if not True:\n",
    "    print(\"hello\")"
   ]
  },
  {
   "cell_type": "code",
   "execution_count": 8,
   "id": "c198b6b9-562d-4811-b07f-1776033c53f3",
   "metadata": {},
   "outputs": [
    {
     "name": "stdout",
     "output_type": "stream",
     "text": [
      "hii\n"
     ]
    }
   ],
   "source": [
    "if not False:\n",
    "    print(\"hii\")"
   ]
  },
  {
   "cell_type": "code",
   "execution_count": 10,
   "id": "6773b4f5-5054-436e-8105-90f7f7f6142d",
   "metadata": {},
   "outputs": [
    {
     "name": "stdout",
     "output_type": "stream",
     "text": [
      "hii shubham\n"
     ]
    }
   ],
   "source": [
    "name = \"shubham\"\n",
    "if name:\n",
    "    print(\"hii\", name)"
   ]
  },
  {
   "cell_type": "code",
   "execution_count": 12,
   "id": "643f16a6-1760-47f6-869a-cf5ef44ef022",
   "metadata": {},
   "outputs": [],
   "source": [
    "name = \"\"\n",
    "if name:\n",
    "    print(\"hii\", name)"
   ]
  },
  {
   "cell_type": "code",
   "execution_count": 13,
   "id": "2a807462-5e3f-4c6a-9d25-86326b996391",
   "metadata": {},
   "outputs": [],
   "source": [
    "first = True"
   ]
  },
  {
   "cell_type": "code",
   "execution_count": 18,
   "id": "ffb7e9f9-93fa-43fb-b2e2-98bf1c9394a9",
   "metadata": {},
   "outputs": [
    {
     "name": "stdout",
     "output_type": "stream",
     "text": [
      "hii shubham\n"
     ]
    }
   ],
   "source": [
    "if first:\n",
    "    print(\"HII USER NICE TO MEET YOU\")\n",
    "    name = input(\"enter your name\")\n",
    "    first = False\n",
    "else:\n",
    "    print(\"hii\", name)"
   ]
  },
  {
   "cell_type": "code",
   "execution_count": 28,
   "id": "16a9d025-c910-4cb9-b324-7b35a88892ac",
   "metadata": {},
   "outputs": [],
   "source": [
    "count = 0"
   ]
  },
  {
   "cell_type": "code",
   "execution_count": 29,
   "id": "28a0cf87-aaee-4ba8-9985-17e787604bb9",
   "metadata": {},
   "outputs": [
    {
     "name": "stdout",
     "output_type": "stream",
     "text": [
      "u are out of range\n"
     ]
    }
   ],
   "source": [
    "if not count:\n",
    "    print(\"u are out of range\")"
   ]
  },
  {
   "cell_type": "code",
   "execution_count": null,
   "id": "1aa75f1d-d3f3-4f62-88c3-0a9445e9dbd5",
   "metadata": {},
   "outputs": [],
   "source": []
  },
  {
   "cell_type": "markdown",
   "id": "5aec4c3b-85b3-40dd-984e-89b64eef4c4f",
   "metadata": {},
   "source": [
    "## and"
   ]
  },
  {
   "cell_type": "code",
   "execution_count": 48,
   "id": "e8fbbfc7-d306-4d49-9506-d34ae1796d9a",
   "metadata": {},
   "outputs": [],
   "source": [
    "attendance = 80"
   ]
  },
  {
   "cell_type": "code",
   "execution_count": 44,
   "id": "a56fca9d-3d12-4531-aeb0-f9a8dc36ad29",
   "metadata": {},
   "outputs": [],
   "source": [
    "marks = 32"
   ]
  },
  {
   "cell_type": "code",
   "execution_count": 45,
   "id": "cfbad01f-40aa-45bd-894e-7f022f521a3d",
   "metadata": {},
   "outputs": [],
   "source": [
    "if attendance > 75:\n",
    "    print(\"pass\")"
   ]
  },
  {
   "cell_type": "code",
   "execution_count": 46,
   "id": "ce8d2735-291a-4207-aa66-32156af1a3f4",
   "metadata": {},
   "outputs": [],
   "source": [
    "if marks > 35:\n",
    "    print(\"pass\")"
   ]
  },
  {
   "cell_type": "code",
   "execution_count": 49,
   "id": "86742bf0-de00-46ad-900f-554d9aff4332",
   "metadata": {},
   "outputs": [
    {
     "name": "stdout",
     "output_type": "stream",
     "text": [
      "fail\n"
     ]
    }
   ],
   "source": [
    "if attendance > 75 and marks > 35:\n",
    "    print(\"pass\")\n",
    "else:\n",
    "    print(\"fail\")"
   ]
  },
  {
   "cell_type": "code",
   "execution_count": 64,
   "id": "3db38a52-fce3-4196-b40f-4e3a8ca40873",
   "metadata": {},
   "outputs": [],
   "source": [
    "ticket = True\n",
    "age = 20"
   ]
  },
  {
   "cell_type": "code",
   "execution_count": 65,
   "id": "08203baf-38e6-419d-85db-9a6e9a0f6f47",
   "metadata": {},
   "outputs": [
    {
     "name": "stdout",
     "output_type": "stream",
     "text": [
      "bye\n"
     ]
    }
   ],
   "source": [
    "if age > 18 and not ticket:\n",
    "    print(\"welcome\")\n",
    "else:\n",
    "    print(\"bye\")"
   ]
  },
  {
   "cell_type": "code",
   "execution_count": 66,
   "id": "01283bc9-f056-418e-9ab6-3baacd641a8e",
   "metadata": {},
   "outputs": [
    {
     "data": {
      "text/plain": [
       "True"
      ]
     },
     "execution_count": 66,
     "metadata": {},
     "output_type": "execute_result"
    }
   ],
   "source": [
    "True and True"
   ]
  },
  {
   "cell_type": "code",
   "execution_count": 67,
   "id": "1c64ed9d-b915-4d4d-bba6-ccfa712711bd",
   "metadata": {},
   "outputs": [
    {
     "data": {
      "text/plain": [
       "False"
      ]
     },
     "execution_count": 67,
     "metadata": {},
     "output_type": "execute_result"
    }
   ],
   "source": [
    "False and False"
   ]
  },
  {
   "cell_type": "code",
   "execution_count": 68,
   "id": "c3ac3304-fe1a-40b3-a801-3d751604ac8b",
   "metadata": {},
   "outputs": [
    {
     "data": {
      "text/plain": [
       "False"
      ]
     },
     "execution_count": 68,
     "metadata": {},
     "output_type": "execute_result"
    }
   ],
   "source": [
    "False and True"
   ]
  },
  {
   "cell_type": "markdown",
   "id": "c2d25d16-8c49-4043-855f-9f4648cb4989",
   "metadata": {},
   "source": [
    "## or"
   ]
  },
  {
   "cell_type": "code",
   "execution_count": 70,
   "id": "1f7bbc5f-610f-4580-b06d-520210bf44ab",
   "metadata": {},
   "outputs": [
    {
     "data": {
      "text/plain": [
       "True"
      ]
     },
     "execution_count": 70,
     "metadata": {},
     "output_type": "execute_result"
    }
   ],
   "source": [
    "True or True"
   ]
  },
  {
   "cell_type": "code",
   "execution_count": 71,
   "id": "92c1d435-81e1-47f4-85ee-94c13dcf84fd",
   "metadata": {},
   "outputs": [
    {
     "data": {
      "text/plain": [
       "True"
      ]
     },
     "execution_count": 71,
     "metadata": {},
     "output_type": "execute_result"
    }
   ],
   "source": [
    "True or False"
   ]
  },
  {
   "cell_type": "code",
   "execution_count": 104,
   "id": "940c750d-3485-4367-b869-4f85b262a8b9",
   "metadata": {},
   "outputs": [
    {
     "data": {
      "text/plain": [
       "False"
      ]
     },
     "execution_count": 104,
     "metadata": {},
     "output_type": "execute_result"
    }
   ],
   "source": [
    "False or False"
   ]
  },
  {
   "cell_type": "code",
   "execution_count": 86,
   "id": "ebb534d6-9a83-4507-93f8-c724fcf82f77",
   "metadata": {},
   "outputs": [],
   "source": [
    "marks = 50"
   ]
  },
  {
   "cell_type": "code",
   "execution_count": 87,
   "id": "233c701b-4955-4447-8c22-7aaee13aa234",
   "metadata": {},
   "outputs": [],
   "source": [
    "donation = 90000"
   ]
  },
  {
   "cell_type": "code",
   "execution_count": 88,
   "id": "33812f83-cb10-43db-820b-f1d64274623b",
   "metadata": {},
   "outputs": [
    {
     "name": "stdout",
     "output_type": "stream",
     "text": [
      "welcome\n"
     ]
    }
   ],
   "source": [
    "if marks > 80 or donation > 80000:\n",
    "    print(\"welcome\")\n",
    "else:\n",
    "    print(\"get out\")"
   ]
  },
  {
   "cell_type": "code",
   "execution_count": 107,
   "id": "c849e843-48a7-4073-a36b-55e58046f3df",
   "metadata": {},
   "outputs": [],
   "source": [
    "email = True\n",
    "number = True\n",
    "password = False"
   ]
  },
  {
   "cell_type": "code",
   "execution_count": 94,
   "id": "939821b0-ac77-4ea4-82fc-1f5839329ee4",
   "metadata": {},
   "outputs": [
    {
     "name": "stdout",
     "output_type": "stream",
     "text": [
      "not login\n"
     ]
    }
   ],
   "source": [
    "if email or number:\n",
    "    print(\"welcome user\")\n",
    "else:\n",
    "    print(\"not login\")"
   ]
  },
  {
   "cell_type": "code",
   "execution_count": 108,
   "id": "ac4ee13b-aa23-437d-88b2-9fffa047b047",
   "metadata": {},
   "outputs": [
    {
     "name": "stdout",
     "output_type": "stream",
     "text": [
      "bye\n"
     ]
    }
   ],
   "source": [
    "if (email or number) and password:\n",
    "    print(\"welcome\")\n",
    "else:\n",
    "    print(\"bye\")"
   ]
  },
  {
   "cell_type": "code",
   "execution_count": 124,
   "id": "871ec467-bfcb-482d-9b6f-7192f824f5d7",
   "metadata": {},
   "outputs": [],
   "source": [
    "hindi = 92\n",
    "english = 91\n",
    "math = 95\n",
    "science = 98"
   ]
  },
  {
   "cell_type": "code",
   "execution_count": 125,
   "id": "7fd8a24f-85cc-44d8-b2f3-db4c6d9164cb",
   "metadata": {},
   "outputs": [],
   "source": [
    "average = (hindi + english + math + science)//4"
   ]
  },
  {
   "cell_type": "code",
   "execution_count": 126,
   "id": "ef751d25-5aa9-4a76-b997-247b50813503",
   "metadata": {},
   "outputs": [
    {
     "data": {
      "text/plain": [
       "94"
      ]
     },
     "execution_count": 126,
     "metadata": {},
     "output_type": "execute_result"
    }
   ],
   "source": [
    "average"
   ]
  },
  {
   "cell_type": "code",
   "execution_count": 127,
   "id": "c54026c8-1449-4e96-b9b5-9311a0452966",
   "metadata": {},
   "outputs": [
    {
     "name": "stdout",
     "output_type": "stream",
     "text": [
      "pass\n",
      "distinction\n",
      "topper\n"
     ]
    }
   ],
   "source": [
    "if (hindi > 35) and (english > 35) and (math > 35) and (science > 35):\n",
    "    print(\"pass\")\n",
    "    if average > 75 and (hindi > 40) and (english > 40) and (math > 40) and (science > 40):\n",
    "        print(\"distinction\")\n",
    "    else:\n",
    "        print(\"vishesh\")\n",
    "    if (hindi > 90) and (english > 90) and (math > 90) and (science > 90):\n",
    "        print(\"topper\")\n",
    "else:\n",
    "    print(\"fail\")"
   ]
  },
  {
   "cell_type": "code",
   "execution_count": 129,
   "id": "d2dd1d10-5320-45cf-90e1-65b653ca9096",
   "metadata": {},
   "outputs": [],
   "source": [
    "username = \"HARJEET\"\n",
    "password = 12345"
   ]
  },
  {
   "cell_type": "code",
   "execution_count": 130,
   "id": "8c6a926c-e81d-4800-8003-7e4dbebd93a5",
   "metadata": {},
   "outputs": [
    {
     "name": "stdout",
     "output_type": "stream",
     "text": [
      "login\n"
     ]
    }
   ],
   "source": [
    "if username and password:\n",
    "    if not username == \"HARJEET\" or not password == 12345:\n",
    "        print(\"incorrect input\")\n",
    "    else:\n",
    "        print(\"login\")\n",
    "else:\n",
    "    print(\"incomplete input\")"
   ]
  },
  {
   "cell_type": "code",
   "execution_count": 132,
   "id": "a3e623f2-0471-4038-842f-89f922e85d8e",
   "metadata": {},
   "outputs": [
    {
     "data": {
      "text/plain": [
       "False"
      ]
     },
     "execution_count": 132,
     "metadata": {},
     "output_type": "execute_result"
    }
   ],
   "source": [
    "'S' in \"shubham\""
   ]
  },
  {
   "cell_type": "code",
   "execution_count": 133,
   "id": "125032a9-1879-402c-8ab5-34e4eceb9c64",
   "metadata": {},
   "outputs": [
    {
     "data": {
      "text/plain": [
       "True"
      ]
     },
     "execution_count": 133,
     "metadata": {},
     "output_type": "execute_result"
    }
   ],
   "source": [
    "'h' in 'harjeet'"
   ]
  },
  {
   "cell_type": "code",
   "execution_count": 3,
   "id": "91fb7e7a-1355-4745-903d-89794be6e203",
   "metadata": {},
   "outputs": [],
   "source": [
    "age = 20\n",
    "income = 50000\n",
    "credit_score =450 \n",
    "debts = 1700\n",
    "Employment = \"full-time\""
   ]
  },
  {
   "cell_type": "code",
   "execution_count": 135,
   "id": "f318113c-ae58-412b-8638-1441889073dd",
   "metadata": {},
   "outputs": [
    {
     "name": "stdout",
     "output_type": "stream",
     "text": [
      "Load approved\n",
      "Load 300000.0\n",
      "intrest 30000.0\n"
     ]
    }
   ],
   "source": [
    "if age >=18 and not Employment == \"unemployeed\":\n",
    "    if credit_score > 400 and debts <= income * 0.3:\n",
    "        loan = income*12 * 0.5\n",
    "        intrest = loan * 0.1\n",
    "        \n",
    "        print(\"Loan approved\")\n",
    "        print(f\"Loan {loan}\")\n",
    "        print(f\"interest {interest}\")\n",
    "\n",
    "    elif credit_score > 400 and debts >= income * 0.3:\n",
    "        loan = income * 12 * 0.3\n",
    "        interest = loan*0.1\n",
    "        print(\"Loan approved\")\n",
    "        print(f\"Loan {loan}\")\n",
    "        print(f\"interest {intrest}\")\n",
    "\n",
    "    elif credit_score <= 400 and debts < income*0.3:\n",
    "        loan = income *12 * 0.5\n",
    "        interest = loan * 0.12\n",
    "        \n",
    "        print(\"Loan approved\")\n",
    "        print(f\"Loan {loan}\")\n",
    "        print(f\"interest {interest}\")\n",
    "\n",
    "    else:\n",
    "        print(\"loan rejected\")\n",
    "        \n",
    "else:\n",
    "    print(\"loan rejected\")"
   ]
  },
  {
   "cell_type": "code",
   "execution_count": null,
   "id": "72cbf078-b7ce-483d-add6-44fc68910d96",
   "metadata": {},
   "outputs": [],
   "source": []
  }
 ],
 "metadata": {
  "kernelspec": {
   "display_name": "Python 3 (ipykernel)",
   "language": "python",
   "name": "python3"
  },
  "language_info": {
   "codemirror_mode": {
    "name": "ipython",
    "version": 3
   },
   "file_extension": ".py",
   "mimetype": "text/x-python",
   "name": "python",
   "nbconvert_exporter": "python",
   "pygments_lexer": "ipython3",
   "version": "3.13.5"
  }
 },
 "nbformat": 4,
 "nbformat_minor": 5
}
