{
 "cells": [
  {
   "cell_type": "code",
   "execution_count": 1,
   "id": "f546eed6-3505-4795-b9cd-e8ffafd2e28c",
   "metadata": {},
   "outputs": [
    {
     "data": {
      "text/plain": [
       "7"
      ]
     },
     "execution_count": 1,
     "metadata": {},
     "output_type": "execute_result"
    }
   ],
   "source": [
    "len(\"shubham\")"
   ]
  },
  {
   "cell_type": "code",
   "execution_count": 2,
   "id": "759d349e-3fa8-4c89-8ae3-98ddc5210c05",
   "metadata": {},
   "outputs": [
    {
     "name": "stdout",
     "output_type": "stream",
     "text": [
      "5\n"
     ]
    }
   ],
   "source": [
    "print(5)"
   ]
  },
  {
   "cell_type": "code",
   "execution_count": 3,
   "id": "340b7292-3112-40f6-81c9-5cebf0864b4e",
   "metadata": {},
   "outputs": [
    {
     "name": "stdout",
     "output_type": "stream",
     "text": [
      "shubham\n"
     ]
    }
   ],
   "source": [
    "print(\"shubham\")"
   ]
  },
  {
   "cell_type": "code",
   "execution_count": 4,
   "id": "7606a240-7e97-439a-a297-1933aec243d2",
   "metadata": {},
   "outputs": [],
   "source": [
    "a = 5\n",
    "b = 6"
   ]
  },
  {
   "cell_type": "code",
   "execution_count": 5,
   "id": "d3ed4c73-f486-442b-8449-711c1e2dd981",
   "metadata": {},
   "outputs": [
    {
     "data": {
      "text/plain": [
       "5"
      ]
     },
     "execution_count": 5,
     "metadata": {},
     "output_type": "execute_result"
    }
   ],
   "source": [
    "a"
   ]
  },
  {
   "cell_type": "code",
   "execution_count": 6,
   "id": "33c0c1e1-66e2-447e-8902-40cc200ce8aa",
   "metadata": {},
   "outputs": [
    {
     "data": {
      "text/plain": [
       "6"
      ]
     },
     "execution_count": 6,
     "metadata": {},
     "output_type": "execute_result"
    }
   ],
   "source": [
    "b"
   ]
  },
  {
   "cell_type": "code",
   "execution_count": 7,
   "id": "ea813395-6401-4d8d-82c1-70510aea05ca",
   "metadata": {},
   "outputs": [
    {
     "data": {
      "text/plain": [
       "6"
      ]
     },
     "execution_count": 7,
     "metadata": {},
     "output_type": "execute_result"
    }
   ],
   "source": [
    "a\n",
    "b"
   ]
  },
  {
   "cell_type": "code",
   "execution_count": 9,
   "id": "051c4a63-11cf-44ff-ba15-71454c2ab5ec",
   "metadata": {
    "scrolled": true
   },
   "outputs": [
    {
     "name": "stdout",
     "output_type": "stream",
     "text": [
      "5\n",
      "6\n"
     ]
    }
   ],
   "source": [
    "print(a)\n",
    "print(b)"
   ]
  },
  {
   "cell_type": "code",
   "execution_count": 10,
   "id": "dec58e70-841f-476b-be6f-47e9cc62e885",
   "metadata": {},
   "outputs": [
    {
     "data": {
      "text/plain": [
       "5"
      ]
     },
     "execution_count": 10,
     "metadata": {},
     "output_type": "execute_result"
    }
   ],
   "source": [
    "5"
   ]
  },
  {
   "cell_type": "code",
   "execution_count": 11,
   "id": "4ec8ff7a-682d-49df-83ee-2456cc9636e4",
   "metadata": {},
   "outputs": [
    {
     "name": "stdout",
     "output_type": "stream",
     "text": [
      "5\n"
     ]
    }
   ],
   "source": [
    "print(5)"
   ]
  },
  {
   "cell_type": "code",
   "execution_count": 12,
   "id": "a50e2be2-0034-4508-8843-515edc3228dc",
   "metadata": {},
   "outputs": [
    {
     "name": "stdout",
     "output_type": "stream",
     "text": [
      "5\n"
     ]
    }
   ],
   "source": [
    "a = print(5)"
   ]
  },
  {
   "cell_type": "code",
   "execution_count": 13,
   "id": "dc1b9553-2f48-4a78-95b0-561324a3d74f",
   "metadata": {},
   "outputs": [],
   "source": [
    "a"
   ]
  },
  {
   "cell_type": "code",
   "execution_count": 14,
   "id": "499c5aae-40a4-4d3c-bded-09f13635a8e5",
   "metadata": {},
   "outputs": [
    {
     "name": "stdout",
     "output_type": "stream",
     "text": [
      "None\n"
     ]
    }
   ],
   "source": [
    "print(a)"
   ]
  },
  {
   "cell_type": "code",
   "execution_count": 15,
   "id": "9cb230a6-027e-44c5-9579-bf17b2db476d",
   "metadata": {},
   "outputs": [
    {
     "data": {
      "text/plain": [
       "NoneType"
      ]
     },
     "execution_count": 15,
     "metadata": {},
     "output_type": "execute_result"
    }
   ],
   "source": [
    "type(a)"
   ]
  },
  {
   "cell_type": "code",
   "execution_count": 16,
   "id": "9e340a82-1439-47ca-834a-8719e52d8818",
   "metadata": {},
   "outputs": [
    {
     "name": "stdout",
     "output_type": "stream",
     "text": [
      "5\n"
     ]
    }
   ],
   "source": [
    "print(5)"
   ]
  },
  {
   "cell_type": "code",
   "execution_count": 6,
   "id": "b3006cf8-3c89-4228-ba9b-e07f093de8cf",
   "metadata": {},
   "outputs": [
    {
     "name": "stdin",
     "output_type": "stream",
     "text": [
      "enter your name dhyanender pratap singh\n"
     ]
    }
   ],
   "source": [
    "name=input(\"enter your name\")"
   ]
  },
  {
   "cell_type": "code",
   "execution_count": 7,
   "id": "8a8fa1d4-1ef6-4e13-bb61-bbe7e24a7ffa",
   "metadata": {},
   "outputs": [
    {
     "data": {
      "text/plain": [
       "'dhyanender pratap singh'"
      ]
     },
     "execution_count": 7,
     "metadata": {},
     "output_type": "execute_result"
    }
   ],
   "source": [
    "name"
   ]
  },
  {
   "cell_type": "code",
   "execution_count": 1,
   "id": "df615f7d-bb63-473c-8fff-a31044e8dd4a",
   "metadata": {},
   "outputs": [
    {
     "name": "stdin",
     "output_type": "stream",
     "text": [
      "enter your age 18\n"
     ]
    }
   ],
   "source": [
    "age=input(\"enter your age\")\n"
   ]
  },
  {
   "cell_type": "code",
   "execution_count": 2,
   "id": "f4ca9dfd-fabf-4906-9dcf-e6f9d1c18f36",
   "metadata": {},
   "outputs": [
    {
     "data": {
      "text/plain": [
       "'18'"
      ]
     },
     "execution_count": 2,
     "metadata": {},
     "output_type": "execute_result"
    }
   ],
   "source": [
    "age"
   ]
  },
  {
   "cell_type": "code",
   "execution_count": 15,
   "id": "64532eb0-c174-436d-b74e-47be4413ab44",
   "metadata": {},
   "outputs": [
    {
     "name": "stdin",
     "output_type": "stream",
     "text": [
      " dhyanender pratap singh\n"
     ]
    }
   ],
   "source": [
    "name = input()\n",
    "l = len(name)//2\n",
    "new = name[:l] + name[l:][::-l]"
   ]
  },
  {
   "cell_type": "code",
   "execution_count": 17,
   "id": "2f94c5a7-49a4-4cac-8876-eaa37190d043",
   "metadata": {},
   "outputs": [
    {
     "data": {
      "text/plain": [
       "'dhyanender hgnis patarp'"
      ]
     },
     "execution_count": 17,
     "metadata": {},
     "output_type": "execute_result"
    }
   ],
   "source": [
    "new"
   ]
  },
  {
   "cell_type": "markdown",
   "id": "686e8cf2-6c22-4ef5-8150-4229554ba6a0",
   "metadata": {},
   "source": [
    "# type casting"
   ]
  },
  {
   "cell_type": "code",
   "execution_count": 18,
   "id": "f119154f-f18a-40c7-b613-f82e6dac951a",
   "metadata": {},
   "outputs": [
    {
     "data": {
      "text/plain": [
       "'50.6'"
      ]
     },
     "execution_count": 18,
     "metadata": {},
     "output_type": "execute_result"
    }
   ],
   "source": [
    "str(50.6)"
   ]
  },
  {
   "cell_type": "code",
   "execution_count": 19,
   "id": "f6864655-7dcc-46a8-8018-28083df15046",
   "metadata": {},
   "outputs": [
    {
     "data": {
      "text/plain": [
       "50"
      ]
     },
     "execution_count": 19,
     "metadata": {},
     "output_type": "execute_result"
    }
   ],
   "source": [
    "int(float(\"50.6\"))"
   ]
  },
  {
   "cell_type": "code",
   "execution_count": 20,
   "id": "936b5d60-00da-464c-a08b-c0984b664449",
   "metadata": {},
   "outputs": [
    {
     "data": {
      "text/plain": [
       "50"
      ]
     },
     "execution_count": 20,
     "metadata": {},
     "output_type": "execute_result"
    }
   ],
   "source": [
    "int(50.6)"
   ]
  },
  {
   "cell_type": "markdown",
   "id": "f0ed257f-ad24-4789-baca-4fc576714a6f",
   "metadata": {},
   "source": [
    "# print"
   ]
  },
  {
   "cell_type": "code",
   "execution_count": 21,
   "id": "a4084cc6-4a09-48ac-9b83-97398587c4ba",
   "metadata": {},
   "outputs": [
    {
     "name": "stdout",
     "output_type": "stream",
     "text": [
      "5\n"
     ]
    }
   ],
   "source": [
    "print(5)"
   ]
  },
  {
   "cell_type": "code",
   "execution_count": 22,
   "id": "146c66dc-262a-4518-aec1-c6269ea0087e",
   "metadata": {},
   "outputs": [
    {
     "name": "stdout",
     "output_type": "stream",
     "text": [
      "5\n"
     ]
    }
   ],
   "source": [
    "a = print(5)"
   ]
  },
  {
   "cell_type": "code",
   "execution_count": 1,
   "id": "fc50106b-081e-4f2a-b3bb-2d53b3829973",
   "metadata": {},
   "outputs": [
    {
     "ename": "NameError",
     "evalue": "name 'a' is not defined",
     "output_type": "error",
     "traceback": [
      "\u001b[1;31m---------------------------------------------------------------------------\u001b[0m",
      "\u001b[1;31mNameError\u001b[0m                                 Traceback (most recent call last)",
      "Cell \u001b[1;32mIn[1], line 1\u001b[0m\n\u001b[1;32m----> 1\u001b[0m a\n",
      "\u001b[1;31mNameError\u001b[0m: name 'a' is not defined"
     ]
    }
   ],
   "source": [
    "a"
   ]
  },
  {
   "cell_type": "code",
   "execution_count": 2,
   "id": "d1a34e36-d39a-48e2-aa3a-6764607107f0",
   "metadata": {},
   "outputs": [
    {
     "ename": "NameError",
     "evalue": "name 'a' is not defined",
     "output_type": "error",
     "traceback": [
      "\u001b[1;31m---------------------------------------------------------------------------\u001b[0m",
      "\u001b[1;31mNameError\u001b[0m                                 Traceback (most recent call last)",
      "Cell \u001b[1;32mIn[2], line 1\u001b[0m\n\u001b[1;32m----> 1\u001b[0m \u001b[38;5;28mtype\u001b[39m(a)\n",
      "\u001b[1;31mNameError\u001b[0m: name 'a' is not defined"
     ]
    }
   ],
   "source": [
    "type(a)"
   ]
  },
  {
   "cell_type": "code",
   "execution_count": 25,
   "id": "402692ef-3676-443e-9ed7-86a689b7d10c",
   "metadata": {},
   "outputs": [
    {
     "name": "stdout",
     "output_type": "stream",
     "text": [
      "None\n"
     ]
    }
   ],
   "source": [
    "print(a)"
   ]
  },
  {
   "cell_type": "code",
   "execution_count": 31,
   "id": "3355acf7-f6fc-4a66-b2e5-6ed3f61adb91",
   "metadata": {},
   "outputs": [],
   "source": [
    "a = None"
   ]
  },
  {
   "cell_type": "code",
   "execution_count": 27,
   "id": "7135ac39-661f-4c02-8dab-6744bdbf6b77",
   "metadata": {},
   "outputs": [],
   "source": [
    "a"
   ]
  },
  {
   "cell_type": "code",
   "execution_count": 30,
   "id": "2fc506f9-04f2-489d-9c17-9d419283fee0",
   "metadata": {},
   "outputs": [
    {
     "name": "stdout",
     "output_type": "stream",
     "text": [
      "5 3 shubham singh\n"
     ]
    }
   ],
   "source": [
    "print(5,3,\"shubham\", \"singh\")"
   ]
  },
  {
   "cell_type": "code",
   "execution_count": 37,
   "id": "51cecb69-17ed-4642-b332-cdf49c903727",
   "metadata": {},
   "outputs": [
    {
     "name": "stdout",
     "output_type": "stream",
     "text": [
      "5 3 shubham singh\n"
     ]
    }
   ],
   "source": [
    "print(5,3,\"shubham\", \"singh\", sep=\" \")"
   ]
  },
  {
   "cell_type": "code",
   "execution_count": 38,
   "id": "93bb3623-7022-49cf-ae8a-00a9379031c8",
   "metadata": {},
   "outputs": [
    {
     "name": "stdout",
     "output_type": "stream",
     "text": [
      "5*3*shubham*singh\n"
     ]
    }
   ],
   "source": [
    "print(5,3,\"shubham\", \"singh\", sep=\"*\")"
   ]
  },
  {
   "cell_type": "code",
   "execution_count": 3,
   "id": "d7df688c-87d4-400e-adc9-fcc1ceb69abd",
   "metadata": {},
   "outputs": [
    {
     "name": "stdout",
     "output_type": "stream",
     "text": [
      "50 60 70 80 30\n",
      "40\n"
     ]
    }
   ],
   "source": [
    "print(50,60,70,80, end=\" \")\n",
    "print(30)\n",
    "print(40)"
   ]
  },
  {
   "cell_type": "code",
   "execution_count": 4,
   "id": "4e7344c1-5780-4f4e-a2aa-d88226725dbe",
   "metadata": {},
   "outputs": [
    {
     "name": "stdout",
     "output_type": "stream",
     "text": [
      "50 60 70 80*30\n",
      "40\n"
     ]
    }
   ],
   "source": [
    "print(50,60,70,80, end=\"*\")\n",
    "print(30)\n",
    "print(40)"
   ]
  },
  {
   "cell_type": "code",
   "execution_count": 5,
   "id": "5ebef2e2-53b1-4f28-9187-e3afb742d330",
   "metadata": {},
   "outputs": [
    {
     "name": "stdout",
     "output_type": "stream",
     "text": [
      "50 60 70 80 * 30\n",
      "40\n"
     ]
    }
   ],
   "source": [
    "print(50,60,70,80, end=\" * \")\n",
    "print(30)\n",
    "print(40)"
   ]
  },
  {
   "cell_type": "code",
   "execution_count": 45,
   "id": "4976304f-e2f8-4d2e-82fa-1c643aa572ea",
   "metadata": {},
   "outputs": [
    {
     "name": "stdout",
     "output_type": "stream",
     "text": [
      "50 60 70 80 * 30_40\n"
     ]
    }
   ],
   "source": [
    "print(50,60, 70, 80, end=\" * \")\n",
    "print(30 ,end= \"_\")\n",
    "print(40)"
   ]
  },
  {
   "cell_type": "code",
   "execution_count": 46,
   "id": "7d47ad80-f835-4694-8db6-e08c86270806",
   "metadata": {},
   "outputs": [
    {
     "name": "stdout",
     "output_type": "stream",
     "text": [
      "shubham 5000\n"
     ]
    }
   ],
   "source": [
    "print(\"shubham\", 5000)"
   ]
  },
  {
   "cell_type": "code",
   "execution_count": 47,
   "id": "e0ce8d62-1846-407f-96b5-28409326b906",
   "metadata": {},
   "outputs": [],
   "source": [
    "name = \"shubham\""
   ]
  },
  {
   "cell_type": "code",
   "execution_count": 48,
   "id": "4547275a-3f18-4b26-a580-12934c8e6f70",
   "metadata": {},
   "outputs": [],
   "source": [
    "age = 20"
   ]
  },
  {
   "cell_type": "code",
   "execution_count": 49,
   "id": "a72fdd8e-1f7c-4b26-a5f1-f659fa12e86f",
   "metadata": {},
   "outputs": [
    {
     "name": "stdout",
     "output_type": "stream",
     "text": [
      " shubham 20\n"
     ]
    }
   ],
   "source": [
    "print(f' {name} {age}')"
   ]
  },
  {
   "cell_type": "code",
   "execution_count": 50,
   "id": "b829b61e-eb1b-44de-9bb4-9b8af7ecd440",
   "metadata": {},
   "outputs": [
    {
     "name": "stdout",
     "output_type": "stream",
     "text": [
      "shubham      20\n"
     ]
    }
   ],
   "source": [
    "print(name, age, sep=\"      \")"
   ]
  },
  {
   "cell_type": "code",
   "execution_count": 51,
   "id": "e4686ef5-9063-4b7e-8f15-644c3967eff8",
   "metadata": {},
   "outputs": [
    {
     "data": {
      "text/plain": [
       "'rrrrrrrrrr'"
      ]
     },
     "execution_count": 51,
     "metadata": {},
     "output_type": "execute_result"
    }
   ],
   "source": [
    "\"r\"*10"
   ]
  },
  {
   "cell_type": "code",
   "execution_count": 52,
   "id": "efa6e701-7ac6-46f7-9104-d056ddeeae57",
   "metadata": {},
   "outputs": [
    {
     "data": {
      "text/plain": [
       "'zzzzzzzzzz'"
      ]
     },
     "execution_count": 52,
     "metadata": {},
     "output_type": "execute_result"
    }
   ],
   "source": [
    "\"z\"*10"
   ]
  },
  {
   "cell_type": "code",
   "execution_count": 53,
   "id": "a8ca111d-d554-456a-a288-720dfda97eed",
   "metadata": {},
   "outputs": [
    {
     "data": {
      "text/plain": [
       "'shubham singh'"
      ]
     },
     "execution_count": 53,
     "metadata": {},
     "output_type": "execute_result"
    }
   ],
   "source": [
    "\"shubham singh\""
   ]
  },
  {
   "cell_type": "code",
   "execution_count": 54,
   "id": "7f340a8c-2f44-4331-b8f9-7e09ffd058a6",
   "metadata": {},
   "outputs": [],
   "source": [
    "a = \"hello shub\\tham\""
   ]
  },
  {
   "cell_type": "code",
   "execution_count": 56,
   "id": "208e7d7d-51bc-4194-bf94-333f43064512",
   "metadata": {},
   "outputs": [
    {
     "name": "stdout",
     "output_type": "stream",
     "text": [
      "hello shub\tham\n"
     ]
    }
   ],
   "source": [
    "print(a)"
   ]
  },
  {
   "cell_type": "code",
   "execution_count": 57,
   "id": "fbb583b4-43d4-4c9d-ad00-e7bb7c8d4b90",
   "metadata": {},
   "outputs": [],
   "source": [
    "a = \"hello harj\\neet\""
   ]
  },
  {
   "cell_type": "code",
   "execution_count": 58,
   "id": "4f53e3e4-e1f9-464b-93e8-faca6599a326",
   "metadata": {},
   "outputs": [
    {
     "name": "stdout",
     "output_type": "stream",
     "text": [
      "hello harj\n",
      "eet\n"
     ]
    }
   ],
   "source": [
    "print(a)"
   ]
  },
  {
   "cell_type": "code",
   "execution_count": 59,
   "id": "e6378d0c-19b3-4105-9f12-3df1d0cc25b5",
   "metadata": {},
   "outputs": [
    {
     "name": "stdout",
     "output_type": "stream",
     "text": [
      "a\\ t b\n"
     ]
    }
   ],
   "source": [
    "print('a\\\\ t b')"
   ]
  },
  {
   "cell_type": "code",
   "execution_count": 60,
   "id": "9bdf10f4-5982-41f5-838e-dbcf1e378ffc",
   "metadata": {},
   "outputs": [
    {
     "name": "stdout",
     "output_type": "stream",
     "text": [
      "Help on built-in function print in module builtins:\n",
      "\n",
      "print(*args, sep=' ', end='\\n', file=None, flush=False)\n",
      "    Prints the values to a stream, or to sys.stdout by default.\n",
      "\n",
      "    sep\n",
      "      string inserted between values, default a space.\n",
      "    end\n",
      "      string appended after the last value, default a newline.\n",
      "    file\n",
      "      a file-like object (stream); defaults to the current sys.stdout.\n",
      "    flush\n",
      "      whether to forcibly flush the stream.\n",
      "\n"
     ]
    }
   ],
   "source": [
    "help(print)"
   ]
  },
  {
   "cell_type": "code",
   "execution_count": 63,
   "id": "0c72a358-c9d6-4815-b42d-88451cead409",
   "metadata": {},
   "outputs": [
    {
     "name": "stdout",
     "output_type": "stream",
     "text": [
      "😀\n"
     ]
    }
   ],
   "source": [
    "print(\"\\U0001f600\")"
   ]
  },
  {
   "cell_type": "code",
   "execution_count": 64,
   "id": "3a9dfe04-2a35-4985-9e48-48d46f554153",
   "metadata": {},
   "outputs": [
    {
     "data": {
      "text/plain": [
       "140735735313448"
      ]
     },
     "execution_count": 64,
     "metadata": {},
     "output_type": "execute_result"
    }
   ],
   "source": [
    "id(5)"
   ]
  },
  {
   "cell_type": "code",
   "execution_count": 65,
   "id": "f53937d7-bf8c-458a-915a-98774b6e6055",
   "metadata": {},
   "outputs": [
    {
     "data": {
      "text/plain": [
       "140735735313480"
      ]
     },
     "execution_count": 65,
     "metadata": {},
     "output_type": "execute_result"
    }
   ],
   "source": [
    "id(6)"
   ]
  },
  {
   "cell_type": "code",
   "execution_count": 67,
   "id": "b95ea1a7-a2b3-4f25-981a-3c92125be345",
   "metadata": {},
   "outputs": [
    {
     "data": {
      "text/plain": [
       "0"
      ]
     },
     "execution_count": 67,
     "metadata": {},
     "output_type": "execute_result"
    }
   ],
   "source": [
    "# 1 bit space covers\n",
    "0\n"
   ]
  },
  {
   "cell_type": "code",
   "execution_count": 68,
   "id": "3148f57a-39bd-4673-b1dd-52cc72f71298",
   "metadata": {},
   "outputs": [
    {
     "data": {
      "text/plain": [
       "10010010"
      ]
     },
     "execution_count": 68,
     "metadata": {},
     "output_type": "execute_result"
    }
   ],
   "source": [
    "# byte -8 bit\n",
    "10010010\n"
   ]
  },
  {
   "cell_type": "code",
   "execution_count": 74,
   "id": "8fedd7ba-97f0-4b60-8527-acb9a65e1350",
   "metadata": {},
   "outputs": [
    {
     "data": {
      "text/plain": [
       "49"
      ]
     },
     "execution_count": 74,
     "metadata": {},
     "output_type": "execute_result"
    }
   ],
   "source": [
    "ord(\"1\")"
   ]
  },
  {
   "cell_type": "code",
   "execution_count": 75,
   "id": "4c05d54e-9635-4819-a0fa-86b48a25c31e",
   "metadata": {},
   "outputs": [
    {
     "data": {
      "text/plain": [
       "49"
      ]
     },
     "execution_count": 75,
     "metadata": {},
     "output_type": "execute_result"
    }
   ],
   "source": [
    "ord('1')"
   ]
  },
  {
   "cell_type": "code",
   "execution_count": 76,
   "id": "b950599d-7e9c-44c6-8907-2e9164753ea7",
   "metadata": {},
   "outputs": [
    {
     "data": {
      "text/plain": [
       "50"
      ]
     },
     "execution_count": 76,
     "metadata": {},
     "output_type": "execute_result"
    }
   ],
   "source": [
    "ord('2')"
   ]
  },
  {
   "cell_type": "code",
   "execution_count": null,
   "id": "0f3099f0-7154-4ac3-9c9e-57e1d84499a5",
   "metadata": {},
   "outputs": [],
   "source": []
  }
 ],
 "metadata": {
  "kernelspec": {
   "display_name": "Python 3 (ipykernel)",
   "language": "python",
   "name": "python3"
  },
  "language_info": {
   "codemirror_mode": {
    "name": "ipython",
    "version": 3
   },
   "file_extension": ".py",
   "mimetype": "text/x-python",
   "name": "python",
   "nbconvert_exporter": "python",
   "pygments_lexer": "ipython3",
   "version": "3.13.5"
  }
 },
 "nbformat": 4,
 "nbformat_minor": 5
}
