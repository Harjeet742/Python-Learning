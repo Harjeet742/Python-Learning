{
 "cells": [
  {
   "cell_type": "markdown",
   "id": "4212a089-6746-4b21-b8fe-03953af79b67",
   "metadata": {},
   "source": [
    "# class --> defining and binding variables and functions"
   ]
  },
  {
   "cell_type": "markdown",
   "id": "2f8fd6ae-1e4c-40a2-aa70-59570a80634f",
   "metadata": {},
   "source": [
    "### variable also known as attributes\n",
    "### functions also known as methods"
   ]
  },
  {
   "cell_type": "code",
   "execution_count": 1,
   "id": "ea59ef35-c9b7-4a04-afe4-7b6bd9b06853",
   "metadata": {},
   "outputs": [],
   "source": [
    "class Car():\n",
    "    tyre = 4\n",
    "\n",
    "    def move():\n",
    "        print(\"moving forward\")"
   ]
  },
  {
   "cell_type": "code",
   "execution_count": 2,
   "id": "85d5bc8b-f99b-450f-8b3d-4ba94c7a4179",
   "metadata": {},
   "outputs": [
    {
     "data": {
      "text/plain": [
       "4"
      ]
     },
     "execution_count": 2,
     "metadata": {},
     "output_type": "execute_result"
    }
   ],
   "source": [
    "Car.tyre"
   ]
  },
  {
   "cell_type": "code",
   "execution_count": 3,
   "id": "1d822a79-5220-4536-8a0d-1ef1b3c00c00",
   "metadata": {},
   "outputs": [
    {
     "name": "stdout",
     "output_type": "stream",
     "text": [
      "moving forward\n"
     ]
    }
   ],
   "source": [
    "Car.move()"
   ]
  },
  {
   "cell_type": "code",
   "execution_count": 4,
   "id": "68e89d48-8cad-4093-9e64-da32512610a2",
   "metadata": {},
   "outputs": [],
   "source": [
    "class human():\n",
    "    Legs = 2\n",
    "\n",
    "    def eatUP():\n",
    "        print(\"eating\")\n",
    "        print(\"i am full\")\n",
    "        print(\"thankyou\")"
   ]
  },
  {
   "cell_type": "code",
   "execution_count": 5,
   "id": "3f2a2f8e-da48-4dbd-8075-033438435d0d",
   "metadata": {},
   "outputs": [
    {
     "data": {
      "text/plain": [
       "2"
      ]
     },
     "execution_count": 5,
     "metadata": {},
     "output_type": "execute_result"
    }
   ],
   "source": [
    "human.Legs"
   ]
  },
  {
   "cell_type": "code",
   "execution_count": 6,
   "id": "0dadb365-c7fb-4090-862e-00190893f72f",
   "metadata": {},
   "outputs": [
    {
     "name": "stdout",
     "output_type": "stream",
     "text": [
      "eating\n",
      "i am full\n",
      "thankyou\n"
     ]
    }
   ],
   "source": [
    "human.eatUP()"
   ]
  },
  {
   "cell_type": "code",
   "execution_count": 7,
   "id": "c0a84b09-b704-4bf5-926c-1e4e8a8ea224",
   "metadata": {},
   "outputs": [],
   "source": [
    "gadi = Car()"
   ]
  },
  {
   "cell_type": "code",
   "execution_count": 8,
   "id": "bf012661-d523-46a9-88a5-0b55003c9061",
   "metadata": {},
   "outputs": [],
   "source": [
    "gadi2= Car()"
   ]
  },
  {
   "cell_type": "code",
   "execution_count": 9,
   "id": "288c0508-ead7-41db-b76c-50be8a7b6fe2",
   "metadata": {},
   "outputs": [
    {
     "data": {
      "text/plain": [
       "4"
      ]
     },
     "execution_count": 9,
     "metadata": {},
     "output_type": "execute_result"
    }
   ],
   "source": [
    "gadi.tyre"
   ]
  },
  {
   "cell_type": "code",
   "execution_count": 10,
   "id": "22a31ced-e0de-473b-a050-506326e39ed1",
   "metadata": {},
   "outputs": [
    {
     "data": {
      "text/plain": [
       "4"
      ]
     },
     "execution_count": 10,
     "metadata": {},
     "output_type": "execute_result"
    }
   ],
   "source": [
    "gadi2.tyre"
   ]
  },
  {
   "cell_type": "code",
   "execution_count": 11,
   "id": "9e5e8029-f6e6-403d-bfb0-5ca09d6646a4",
   "metadata": {},
   "outputs": [],
   "source": [
    "gadi.tyre= 3"
   ]
  },
  {
   "cell_type": "code",
   "execution_count": 12,
   "id": "59764b0d-a094-494b-a401-1084799c3afb",
   "metadata": {},
   "outputs": [
    {
     "data": {
      "text/plain": [
       "3"
      ]
     },
     "execution_count": 12,
     "metadata": {},
     "output_type": "execute_result"
    }
   ],
   "source": [
    "gadi.tyre"
   ]
  },
  {
   "cell_type": "code",
   "execution_count": 13,
   "id": "3a4ca33a-40c4-4f75-b3ae-84f5da6cef91",
   "metadata": {},
   "outputs": [
    {
     "data": {
      "text/plain": [
       "4"
      ]
     },
     "execution_count": 13,
     "metadata": {},
     "output_type": "execute_result"
    }
   ],
   "source": [
    "gadi2.tyre"
   ]
  },
  {
   "cell_type": "code",
   "execution_count": 22,
   "id": "21e21f3d-246e-4cc0-a862-7ee19b3b7bf9",
   "metadata": {},
   "outputs": [],
   "source": [
    "class Car():\n",
    "    tyre = 4\n",
    "\n",
    "    def move(gadi2):\n",
    "        print(\"moving forward\")"
   ]
  },
  {
   "cell_type": "code",
   "execution_count": 23,
   "id": "793517d6-e648-4e37-bf34-e26346cdeab4",
   "metadata": {},
   "outputs": [
    {
     "name": "stdout",
     "output_type": "stream",
     "text": [
      "moving forward\n"
     ]
    }
   ],
   "source": [
    "gadi2.move()"
   ]
  },
  {
   "cell_type": "code",
   "execution_count": 14,
   "id": "d95219a8-c010-4e5b-8697-591da1c2f672",
   "metadata": {},
   "outputs": [],
   "source": [
    "class Car():\n",
    "    tyre = 4\n",
    "\n",
    "    def move(self):\n",
    "        print(\"moving forward\")"
   ]
  },
  {
   "cell_type": "code",
   "execution_count": 17,
   "id": "25df4958-ae0f-4b6e-95d0-e225b3c0e79c",
   "metadata": {},
   "outputs": [],
   "source": [
    "gadi2 = Car()"
   ]
  },
  {
   "cell_type": "code",
   "execution_count": 19,
   "id": "9ede37d8-c307-44eb-8f93-6d8c1eaeb98a",
   "metadata": {},
   "outputs": [
    {
     "name": "stdout",
     "output_type": "stream",
     "text": [
      "moving forward\n"
     ]
    }
   ],
   "source": [
    "gadi2.move()"
   ]
  },
  {
   "cell_type": "code",
   "execution_count": 24,
   "id": "ed6e90f5-b975-460f-8dbe-98b20fae8b05",
   "metadata": {},
   "outputs": [],
   "source": [
    "gadi = Car()"
   ]
  },
  {
   "cell_type": "code",
   "execution_count": 25,
   "id": "674d613f-52aa-4748-8bca-72469aefc603",
   "metadata": {},
   "outputs": [
    {
     "name": "stdout",
     "output_type": "stream",
     "text": [
      "moving forward\n"
     ]
    }
   ],
   "source": [
    "gadi.move()"
   ]
  },
  {
   "cell_type": "code",
   "execution_count": 26,
   "id": "5877d8b3-7ae4-45fc-b01d-aa34f776dbdd",
   "metadata": {},
   "outputs": [
    {
     "data": {
      "text/plain": [
       "4"
      ]
     },
     "execution_count": 26,
     "metadata": {},
     "output_type": "execute_result"
    }
   ],
   "source": [
    "gadi.tyre"
   ]
  },
  {
   "cell_type": "code",
   "execution_count": 1,
   "id": "6c79ada8-e850-40d1-82c6-6e07dfba5cb2",
   "metadata": {},
   "outputs": [],
   "source": [
    "class Car():\n",
    "    tyre = 4\n",
    "\n",
    "    def __init__(self):\n",
    "        self.name = \"nano\"\n",
    "\n",
    "    def move():\n",
    "            print(\"moving forward\")"
   ]
  },
  {
   "cell_type": "code",
   "execution_count": 2,
   "id": "95367a26-8576-46a1-ab40-374deb8fc416",
   "metadata": {},
   "outputs": [],
   "source": [
    "gadi = Car()"
   ]
  },
  {
   "cell_type": "code",
   "execution_count": 3,
   "id": "cc6f2646-3b3b-47da-9b72-ef1e8c15aa9e",
   "metadata": {},
   "outputs": [
    {
     "data": {
      "text/plain": [
       "'nano'"
      ]
     },
     "execution_count": 3,
     "metadata": {},
     "output_type": "execute_result"
    }
   ],
   "source": [
    "gadi.name"
   ]
  },
  {
   "cell_type": "code",
   "execution_count": 86,
   "id": "bbab6bde-2e84-4124-b85a-104b6cd9398c",
   "metadata": {},
   "outputs": [],
   "source": [
    "class Car():\n",
    "    # variable belonging to whole class\n",
    "    tyre = 4\n",
    "\n",
    "    def __init__(self, modelName): # init automatically runs when object is created\n",
    "        self.name = modelName\n",
    "\n",
    "    def move(self):\n",
    "        print(\"moving forward\")"
   ]
  },
  {
   "cell_type": "code",
   "execution_count": 78,
   "id": "d0345880-c8ab-4730-a845-c84cd70955db",
   "metadata": {},
   "outputs": [],
   "source": [
    "gadi = Car(\"nano\")"
   ]
  },
  {
   "cell_type": "code",
   "execution_count": 79,
   "id": "54a68dae-0234-4eec-a3e2-3ea18bedcff4",
   "metadata": {},
   "outputs": [
    {
     "data": {
      "text/plain": [
       "'nano'"
      ]
     },
     "execution_count": 79,
     "metadata": {},
     "output_type": "execute_result"
    }
   ],
   "source": [
    "gadi.name"
   ]
  },
  {
   "cell_type": "code",
   "execution_count": 80,
   "id": "d0b8d071-0d2d-4ece-a7ea-030939faa7a0",
   "metadata": {},
   "outputs": [],
   "source": [
    "gadi2 = Car(\"alto\")"
   ]
  },
  {
   "cell_type": "code",
   "execution_count": 83,
   "id": "61684815-39c8-4a12-a48d-e70e005770be",
   "metadata": {},
   "outputs": [
    {
     "data": {
      "text/plain": [
       "'alto'"
      ]
     },
     "execution_count": 83,
     "metadata": {},
     "output_type": "execute_result"
    }
   ],
   "source": [
    "gadi2.name"
   ]
  },
  {
   "cell_type": "code",
   "execution_count": 84,
   "id": "ef0c089e-6af4-4171-bb79-784e2edf4508",
   "metadata": {},
   "outputs": [
    {
     "name": "stdout",
     "output_type": "stream",
     "text": [
      "moving forward\n"
     ]
    }
   ],
   "source": [
    "gadi2.move()"
   ]
  },
  {
   "cell_type": "code",
   "execution_count": 4,
   "id": "0c9571e4-5f82-4006-930e-8e404e050be8",
   "metadata": {},
   "outputs": [],
   "source": [
    "class Car():\n",
    "    # variable belonging to whole class\n",
    "    tyre = 4\n",
    "\n",
    "    def __init__(self, model, year= None): # init automatically runs when object is created\n",
    "        self.model = model\n",
    "        self.year  = year\n",
    "\n",
    "    def introduction(self):\n",
    "        print(f\"hi i am {self.model} and i was made in {self.year}\")\n",
    "\n",
    "    def move(self):\n",
    "        print(\"moving forward\")"
   ]
  },
  {
   "cell_type": "code",
   "execution_count": 5,
   "id": "39ea66cd-59cd-4d54-a6ba-2e92e6dc6680",
   "metadata": {},
   "outputs": [],
   "source": [
    "gadi = Car(\"nano\", 2005)"
   ]
  },
  {
   "cell_type": "code",
   "execution_count": 11,
   "id": "5ae19f58-e44d-4fe0-ac58-d99cd5d30610",
   "metadata": {},
   "outputs": [
    {
     "name": "stdout",
     "output_type": "stream",
     "text": [
      "hi i am nano and i was made in 2005\n"
     ]
    }
   ],
   "source": [
    "gadi.introduction()"
   ]
  },
  {
   "cell_type": "code",
   "execution_count": 7,
   "id": "24ed080b-9a66-4a55-a006-f9d5ba0866d6",
   "metadata": {},
   "outputs": [],
   "source": [
    "gadi2 = Car('alto', 2006)"
   ]
  },
  {
   "cell_type": "code",
   "execution_count": 9,
   "id": "606891e2-531e-4e62-a16e-c74a90409164",
   "metadata": {},
   "outputs": [
    {
     "name": "stdout",
     "output_type": "stream",
     "text": [
      "hi i am alto and i was made in 2006\n"
     ]
    }
   ],
   "source": [
    "gadi2.introduction()"
   ]
  },
  {
   "cell_type": "code",
   "execution_count": 16,
   "id": "0fa45aac-d715-4e0b-91dc-77f99299d54f",
   "metadata": {},
   "outputs": [],
   "source": [
    "class Human():\n",
    "    Eyes = 2\n",
    "\n",
    "    def __init__(self, name, age, qualification= None):\n",
    "        self.name= name\n",
    "        self.age = age\n",
    "        self.qualification = qualification\n",
    "\n",
    "    def introduction(self):\n",
    "        print(f'hi my name is {self.name} and age is {self.age} and qualification is {self.qualification}')\n",
    "\n",
    "    def eatUP(self):\n",
    "        print('eating')\n",
    "        print('full')"
   ]
  },
  {
   "cell_type": "code",
   "execution_count": 23,
   "id": "cf290e55-46ce-428f-8f78-10e0e7860cdb",
   "metadata": {},
   "outputs": [],
   "source": [
    "firstPerson = Human('sidhu', 28, 'B.Tech')"
   ]
  },
  {
   "cell_type": "code",
   "execution_count": 24,
   "id": "d254f064-51dc-4cfc-a821-594390a8ed5b",
   "metadata": {},
   "outputs": [
    {
     "name": "stdout",
     "output_type": "stream",
     "text": [
      "hi my name is sidhu and age is 28 and qualification is B.Tech\n"
     ]
    }
   ],
   "source": [
    "firstPerson.introduction()"
   ]
  },
  {
   "cell_type": "code",
   "execution_count": 25,
   "id": "d5450aaf-3c03-4703-bd0a-31db541aca80",
   "metadata": {},
   "outputs": [
    {
     "name": "stdout",
     "output_type": "stream",
     "text": [
      "eating\n",
      "full\n"
     ]
    }
   ],
   "source": [
    "firstPerson.eatUP()"
   ]
  },
  {
   "cell_type": "code",
   "execution_count": 26,
   "id": "1c9cec1c-0539-4a5e-9ba0-68cbeaa77895",
   "metadata": {},
   "outputs": [
    {
     "data": {
      "text/plain": [
       "2"
      ]
     },
     "execution_count": 26,
     "metadata": {},
     "output_type": "execute_result"
    }
   ],
   "source": [
    "firstPerson.Eyes"
   ]
  },
  {
   "cell_type": "code",
   "execution_count": 27,
   "id": "1de7ab27-4873-4d02-a42a-70a4a1c3ca89",
   "metadata": {},
   "outputs": [],
   "source": [
    "secondPerson = Human('karan', 18, 'BCA')"
   ]
  },
  {
   "cell_type": "code",
   "execution_count": 29,
   "id": "e955a75b-6e8a-4bf8-9287-aedb16613db6",
   "metadata": {},
   "outputs": [
    {
     "name": "stdout",
     "output_type": "stream",
     "text": [
      "hi my name is karan and age is 18 and qualification is BCA\n"
     ]
    }
   ],
   "source": [
    "secondPerson.introduction()"
   ]
  },
  {
   "cell_type": "code",
   "execution_count": 31,
   "id": "2df4ae37-0f75-4b78-accd-da6a035ab907",
   "metadata": {},
   "outputs": [
    {
     "name": "stdout",
     "output_type": "stream",
     "text": [
      "eating\n",
      "full\n"
     ]
    }
   ],
   "source": [
    "secondPerson.eatUP()"
   ]
  },
  {
   "cell_type": "code",
   "execution_count": 32,
   "id": "aea302b4-7eeb-4ef2-b64a-c98efcb9644f",
   "metadata": {},
   "outputs": [
    {
     "data": {
      "text/plain": [
       "2"
      ]
     },
     "execution_count": 32,
     "metadata": {},
     "output_type": "execute_result"
    }
   ],
   "source": [
    "secondPerson.Eyes"
   ]
  },
  {
   "cell_type": "code",
   "execution_count": 51,
   "id": "8470ec13-90ac-4cb6-873f-7d685afb9839",
   "metadata": {},
   "outputs": [],
   "source": [
    "class Human():\n",
    "    Eyes = 2\n",
    "\n",
    "    def __init__(self, name, age, qualification):\n",
    "        self.name= name\n",
    "        self.age = age\n",
    "        self.qualification = qualification\n",
    "\n",
    "    def introduction(self):\n",
    "        print(f'hi my name is {self.name} and age is {self.age} and qualification is {self.qualification}')"
   ]
  },
  {
   "cell_type": "code",
   "execution_count": 53,
   "id": "cb6def27-522a-45b0-a743-e981da725637",
   "metadata": {},
   "outputs": [],
   "source": [
    "thirdPerson = Human(\"ravi\", 15, \"bba\")"
   ]
  },
  {
   "cell_type": "code",
   "execution_count": 55,
   "id": "fd61e0eb-d4cb-42d4-9d4d-490b2e85e50d",
   "metadata": {},
   "outputs": [
    {
     "name": "stdout",
     "output_type": "stream",
     "text": [
      "hi my name is ravi and age is 15 and qualification is bba\n"
     ]
    }
   ],
   "source": [
    "thirdPerson.introduction()"
   ]
  },
  {
   "cell_type": "code",
   "execution_count": null,
   "id": "28fb5111-7124-4c59-9457-1abf23a47f8b",
   "metadata": {},
   "outputs": [],
   "source": []
  }
 ],
 "metadata": {
  "kernelspec": {
   "display_name": "Python 3 (ipykernel)",
   "language": "python",
   "name": "python3"
  },
  "language_info": {
   "codemirror_mode": {
    "name": "ipython",
    "version": 3
   },
   "file_extension": ".py",
   "mimetype": "text/x-python",
   "name": "python",
   "nbconvert_exporter": "python",
   "pygments_lexer": "ipython3",
   "version": "3.13.5"
  }
 },
 "nbformat": 4,
 "nbformat_minor": 5
}
