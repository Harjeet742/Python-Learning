{
 "cells": [
  {
   "cell_type": "markdown",
   "id": "4212a089-6746-4b21-b8fe-03953af79b67",
   "metadata": {},
   "source": [
    "# class --> defining and binding variables and functions"
   ]
  },
  {
   "cell_type": "markdown",
   "id": "2f8fd6ae-1e4c-40a2-aa70-59570a80634f",
   "metadata": {},
   "source": [
    "### variable also known as attributes\n",
    "### functions also known as methods"
   ]
  },
  {
   "cell_type": "code",
   "execution_count": 1,
   "id": "ea59ef35-c9b7-4a04-afe4-7b6bd9b06853",
   "metadata": {},
   "outputs": [],
   "source": [
    "class Car():\n",
    "    tyre = 4\n",
    "\n",
    "    def move():\n",
    "        print(\"moving forward\")"
   ]
  },
  {
   "cell_type": "code",
   "execution_count": 2,
   "id": "85d5bc8b-f99b-450f-8b3d-4ba94c7a4179",
   "metadata": {},
   "outputs": [
    {
     "data": {
      "text/plain": [
       "4"
      ]
     },
     "execution_count": 2,
     "metadata": {},
     "output_type": "execute_result"
    }
   ],
   "source": [
    "Car.tyre"
   ]
  },
  {
   "cell_type": "code",
   "execution_count": 3,
   "id": "1d822a79-5220-4536-8a0d-1ef1b3c00c00",
   "metadata": {},
   "outputs": [
    {
     "name": "stdout",
     "output_type": "stream",
     "text": [
      "moving forward\n"
     ]
    }
   ],
   "source": [
    "Car.move()"
   ]
  },
  {
   "cell_type": "code",
   "execution_count": 4,
   "id": "68e89d48-8cad-4093-9e64-da32512610a2",
   "metadata": {},
   "outputs": [],
   "source": [
    "class human():\n",
    "    Legs = 2\n",
    "\n",
    "    def eatUP():\n",
    "        print(\"eating\")\n",
    "        print(\"i am full\")\n",
    "        print(\"thankyou\")"
   ]
  },
  {
   "cell_type": "code",
   "execution_count": 5,
   "id": "3f2a2f8e-da48-4dbd-8075-033438435d0d",
   "metadata": {},
   "outputs": [
    {
     "data": {
      "text/plain": [
       "2"
      ]
     },
     "execution_count": 5,
     "metadata": {},
     "output_type": "execute_result"
    }
   ],
   "source": [
    "human.Legs"
   ]
  },
  {
   "cell_type": "code",
   "execution_count": 6,
   "id": "0dadb365-c7fb-4090-862e-00190893f72f",
   "metadata": {},
   "outputs": [
    {
     "name": "stdout",
     "output_type": "stream",
     "text": [
      "eating\n",
      "i am full\n",
      "thankyou\n"
     ]
    }
   ],
   "source": [
    "human.eatUP()"
   ]
  },
  {
   "cell_type": "code",
   "execution_count": 7,
   "id": "c0a84b09-b704-4bf5-926c-1e4e8a8ea224",
   "metadata": {},
   "outputs": [],
   "source": [
    "gadi = Car()"
   ]
  },
  {
   "cell_type": "code",
   "execution_count": 8,
   "id": "bf012661-d523-46a9-88a5-0b55003c9061",
   "metadata": {},
   "outputs": [],
   "source": [
    "gadi2= Car()"
   ]
  },
  {
   "cell_type": "code",
   "execution_count": 9,
   "id": "288c0508-ead7-41db-b76c-50be8a7b6fe2",
   "metadata": {},
   "outputs": [
    {
     "data": {
      "text/plain": [
       "4"
      ]
     },
     "execution_count": 9,
     "metadata": {},
     "output_type": "execute_result"
    }
   ],
   "source": [
    "gadi.tyre"
   ]
  },
  {
   "cell_type": "code",
   "execution_count": 10,
   "id": "22a31ced-e0de-473b-a050-506326e39ed1",
   "metadata": {},
   "outputs": [
    {
     "data": {
      "text/plain": [
       "4"
      ]
     },
     "execution_count": 10,
     "metadata": {},
     "output_type": "execute_result"
    }
   ],
   "source": [
    "gadi2.tyre"
   ]
  },
  {
   "cell_type": "code",
   "execution_count": 11,
   "id": "9e5e8029-f6e6-403d-bfb0-5ca09d6646a4",
   "metadata": {},
   "outputs": [],
   "source": [
    "gadi.tyre= 3"
   ]
  },
  {
   "cell_type": "code",
   "execution_count": 12,
   "id": "59764b0d-a094-494b-a401-1084799c3afb",
   "metadata": {},
   "outputs": [
    {
     "data": {
      "text/plain": [
       "3"
      ]
     },
     "execution_count": 12,
     "metadata": {},
     "output_type": "execute_result"
    }
   ],
   "source": [
    "gadi.tyre"
   ]
  },
  {
   "cell_type": "code",
   "execution_count": 13,
   "id": "3a4ca33a-40c4-4f75-b3ae-84f5da6cef91",
   "metadata": {},
   "outputs": [
    {
     "data": {
      "text/plain": [
       "4"
      ]
     },
     "execution_count": 13,
     "metadata": {},
     "output_type": "execute_result"
    }
   ],
   "source": [
    "gadi2.tyre"
   ]
  },
  {
   "cell_type": "code",
   "execution_count": 22,
   "id": "21e21f3d-246e-4cc0-a862-7ee19b3b7bf9",
   "metadata": {},
   "outputs": [],
   "source": [
    "class Car():\n",
    "    tyre = 4\n",
    "\n",
    "    def move(gadi2):\n",
    "        print(\"moving forward\")"
   ]
  },
  {
   "cell_type": "code",
   "execution_count": 23,
   "id": "793517d6-e648-4e37-bf34-e26346cdeab4",
   "metadata": {},
   "outputs": [
    {
     "name": "stdout",
     "output_type": "stream",
     "text": [
      "moving forward\n"
     ]
    }
   ],
   "source": [
    "gadi2.move()"
   ]
  },
  {
   "cell_type": "code",
   "execution_count": 14,
   "id": "d95219a8-c010-4e5b-8697-591da1c2f672",
   "metadata": {},
   "outputs": [],
   "source": [
    "class Car():\n",
    "    tyre = 4\n",
    "\n",
    "    def move(self):\n",
    "        print(\"moving forward\")"
   ]
  },
  {
   "cell_type": "code",
   "execution_count": 17,
   "id": "25df4958-ae0f-4b6e-95d0-e225b3c0e79c",
   "metadata": {},
   "outputs": [],
   "source": [
    "gadi2 = Car()"
   ]
  },
  {
   "cell_type": "code",
   "execution_count": 19,
   "id": "9ede37d8-c307-44eb-8f93-6d8c1eaeb98a",
   "metadata": {},
   "outputs": [
    {
     "name": "stdout",
     "output_type": "stream",
     "text": [
      "moving forward\n"
     ]
    }
   ],
   "source": [
    "gadi2.move()"
   ]
  },
  {
   "cell_type": "code",
   "execution_count": 24,
   "id": "ed6e90f5-b975-460f-8dbe-98b20fae8b05",
   "metadata": {},
   "outputs": [],
   "source": [
    "gadi = Car()"
   ]
  },
  {
   "cell_type": "code",
   "execution_count": 25,
   "id": "674d613f-52aa-4748-8bca-72469aefc603",
   "metadata": {},
   "outputs": [
    {
     "name": "stdout",
     "output_type": "stream",
     "text": [
      "moving forward\n"
     ]
    }
   ],
   "source": [
    "gadi.move()"
   ]
  },
  {
   "cell_type": "code",
   "execution_count": 26,
   "id": "5877d8b3-7ae4-45fc-b01d-aa34f776dbdd",
   "metadata": {},
   "outputs": [
    {
     "data": {
      "text/plain": [
       "4"
      ]
     },
     "execution_count": 26,
     "metadata": {},
     "output_type": "execute_result"
    }
   ],
   "source": [
    "gadi.tyre"
   ]
  },
  {
   "cell_type": "code",
   "execution_count": 1,
   "id": "6c79ada8-e850-40d1-82c6-6e07dfba5cb2",
   "metadata": {},
   "outputs": [],
   "source": [
    "class Car():\n",
    "    tyre = 4\n",
    "\n",
    "    def __init__(self):\n",
    "        self.name = \"nano\"\n",
    "\n",
    "    def move():\n",
    "            print(\"moving forward\")"
   ]
  },
  {
   "cell_type": "code",
   "execution_count": 2,
   "id": "95367a26-8576-46a1-ab40-374deb8fc416",
   "metadata": {},
   "outputs": [],
   "source": [
    "gadi = Car()"
   ]
  },
  {
   "cell_type": "code",
   "execution_count": 3,
   "id": "cc6f2646-3b3b-47da-9b72-ef1e8c15aa9e",
   "metadata": {},
   "outputs": [
    {
     "data": {
      "text/plain": [
       "'nano'"
      ]
     },
     "execution_count": 3,
     "metadata": {},
     "output_type": "execute_result"
    }
   ],
   "source": [
    "gadi.name"
   ]
  },
  {
   "cell_type": "code",
   "execution_count": 86,
   "id": "bbab6bde-2e84-4124-b85a-104b6cd9398c",
   "metadata": {},
   "outputs": [],
   "source": [
    "class Car():\n",
    "    # variable belonging to whole class\n",
    "    tyre = 4\n",
    "\n",
    "    def __init__(self, modelName): # init automatically runs when object is created\n",
    "        self.name = modelName\n",
    "\n",
    "    def move(self):\n",
    "        print(\"moving forward\")"
   ]
  },
  {
   "cell_type": "code",
   "execution_count": 78,
   "id": "d0345880-c8ab-4730-a845-c84cd70955db",
   "metadata": {},
   "outputs": [],
   "source": [
    "gadi = Car(\"nano\")"
   ]
  },
  {
   "cell_type": "code",
   "execution_count": 79,
   "id": "54a68dae-0234-4eec-a3e2-3ea18bedcff4",
   "metadata": {},
   "outputs": [
    {
     "data": {
      "text/plain": [
       "'nano'"
      ]
     },
     "execution_count": 79,
     "metadata": {},
     "output_type": "execute_result"
    }
   ],
   "source": [
    "gadi.name"
   ]
  },
  {
   "cell_type": "code",
   "execution_count": 80,
   "id": "d0b8d071-0d2d-4ece-a7ea-030939faa7a0",
   "metadata": {},
   "outputs": [],
   "source": [
    "gadi2 = Car(\"alto\")"
   ]
  },
  {
   "cell_type": "code",
   "execution_count": 83,
   "id": "61684815-39c8-4a12-a48d-e70e005770be",
   "metadata": {},
   "outputs": [
    {
     "data": {
      "text/plain": [
       "'alto'"
      ]
     },
     "execution_count": 83,
     "metadata": {},
     "output_type": "execute_result"
    }
   ],
   "source": [
    "gadi2.name"
   ]
  },
  {
   "cell_type": "code",
   "execution_count": 84,
   "id": "ef0c089e-6af4-4171-bb79-784e2edf4508",
   "metadata": {},
   "outputs": [
    {
     "name": "stdout",
     "output_type": "stream",
     "text": [
      "moving forward\n"
     ]
    }
   ],
   "source": [
    "gadi2.move()"
   ]
  },
  {
   "cell_type": "code",
   "execution_count": 4,
   "id": "0c9571e4-5f82-4006-930e-8e404e050be8",
   "metadata": {},
   "outputs": [],
   "source": [
    "class Car():\n",
    "    # variable belonging to whole class\n",
    "    tyre = 4\n",
    "\n",
    "    def __init__(self, model, year= None): # init automatically runs when object is created\n",
    "        self.model = model\n",
    "        self.year  = year\n",
    "\n",
    "    def introduction(self):\n",
    "        print(f\"hi i am {self.model} and i was made in {self.year}\")\n",
    "\n",
    "    def move(self):\n",
    "        print(\"moving forward\")"
   ]
  },
  {
   "cell_type": "code",
   "execution_count": 5,
   "id": "39ea66cd-59cd-4d54-a6ba-2e92e6dc6680",
   "metadata": {},
   "outputs": [],
   "source": [
    "gadi = Car(\"nano\", 2005)"
   ]
  },
  {
   "cell_type": "code",
   "execution_count": 11,
   "id": "5ae19f58-e44d-4fe0-ac58-d99cd5d30610",
   "metadata": {},
   "outputs": [
    {
     "name": "stdout",
     "output_type": "stream",
     "text": [
      "hi i am nano and i was made in 2005\n"
     ]
    }
   ],
   "source": [
    "gadi.introduction()"
   ]
  },
  {
   "cell_type": "code",
   "execution_count": 7,
   "id": "24ed080b-9a66-4a55-a006-f9d5ba0866d6",
   "metadata": {},
   "outputs": [],
   "source": [
    "gadi2 = Car('alto', 2006)"
   ]
  },
  {
   "cell_type": "code",
   "execution_count": 9,
   "id": "606891e2-531e-4e62-a16e-c74a90409164",
   "metadata": {},
   "outputs": [
    {
     "name": "stdout",
     "output_type": "stream",
     "text": [
      "hi i am alto and i was made in 2006\n"
     ]
    }
   ],
   "source": [
    "gadi2.introduction()"
   ]
  },
  {
   "cell_type": "code",
   "execution_count": 16,
   "id": "0fa45aac-d715-4e0b-91dc-77f99299d54f",
   "metadata": {},
   "outputs": [],
   "source": [
    "class Human():\n",
    "    Eyes = 2\n",
    "\n",
    "    def __init__(self, name, age, qualification= None):\n",
    "        self.name= name\n",
    "        self.age = age\n",
    "        self.qualification = qualification\n",
    "\n",
    "    def introduction(self):\n",
    "        print(f'hi my name is {self.name} and age is {self.age} and qualification is {self.qualification}')\n",
    "\n",
    "    def eatUP(self):\n",
    "        print('eating')\n",
    "        print('full')"
   ]
  },
  {
   "cell_type": "code",
   "execution_count": 23,
   "id": "cf290e55-46ce-428f-8f78-10e0e7860cdb",
   "metadata": {},
   "outputs": [],
   "source": [
    "firstPerson = Human('sidhu', 28, 'B.Tech')"
   ]
  },
  {
   "cell_type": "code",
   "execution_count": 24,
   "id": "d254f064-51dc-4cfc-a821-594390a8ed5b",
   "metadata": {},
   "outputs": [
    {
     "name": "stdout",
     "output_type": "stream",
     "text": [
      "hi my name is sidhu and age is 28 and qualification is B.Tech\n"
     ]
    }
   ],
   "source": [
    "firstPerson.introduction()"
   ]
  },
  {
   "cell_type": "code",
   "execution_count": 25,
   "id": "d5450aaf-3c03-4703-bd0a-31db541aca80",
   "metadata": {},
   "outputs": [
    {
     "name": "stdout",
     "output_type": "stream",
     "text": [
      "eating\n",
      "full\n"
     ]
    }
   ],
   "source": [
    "firstPerson.eatUP()"
   ]
  },
  {
   "cell_type": "code",
   "execution_count": 26,
   "id": "1c9cec1c-0539-4a5e-9ba0-68cbeaa77895",
   "metadata": {},
   "outputs": [
    {
     "data": {
      "text/plain": [
       "2"
      ]
     },
     "execution_count": 26,
     "metadata": {},
     "output_type": "execute_result"
    }
   ],
   "source": [
    "firstPerson.Eyes"
   ]
  },
  {
   "cell_type": "code",
   "execution_count": 27,
   "id": "1de7ab27-4873-4d02-a42a-70a4a1c3ca89",
   "metadata": {},
   "outputs": [],
   "source": [
    "secondPerson = Human('karan', 18, 'BCA')"
   ]
  },
  {
   "cell_type": "code",
   "execution_count": 29,
   "id": "e955a75b-6e8a-4bf8-9287-aedb16613db6",
   "metadata": {},
   "outputs": [
    {
     "name": "stdout",
     "output_type": "stream",
     "text": [
      "hi my name is karan and age is 18 and qualification is BCA\n"
     ]
    }
   ],
   "source": [
    "secondPerson.introduction()"
   ]
  },
  {
   "cell_type": "code",
   "execution_count": 31,
   "id": "2df4ae37-0f75-4b78-accd-da6a035ab907",
   "metadata": {},
   "outputs": [
    {
     "name": "stdout",
     "output_type": "stream",
     "text": [
      "eating\n",
      "full\n"
     ]
    }
   ],
   "source": [
    "secondPerson.eatUP()"
   ]
  },
  {
   "cell_type": "code",
   "execution_count": 32,
   "id": "aea302b4-7eeb-4ef2-b64a-c98efcb9644f",
   "metadata": {},
   "outputs": [
    {
     "data": {
      "text/plain": [
       "2"
      ]
     },
     "execution_count": 32,
     "metadata": {},
     "output_type": "execute_result"
    }
   ],
   "source": [
    "secondPerson.Eyes"
   ]
  },
  {
   "cell_type": "code",
   "execution_count": 51,
   "id": "8470ec13-90ac-4cb6-873f-7d685afb9839",
   "metadata": {},
   "outputs": [],
   "source": [
    "class Human():\n",
    "    Eyes = 2\n",
    "\n",
    "    def __init__(self, name, age, qualification):\n",
    "        self.name= name\n",
    "        self.age = age\n",
    "        self.qualification = qualification\n",
    "\n",
    "    def introduction(self):\n",
    "        print(f'hi my name is {self.name} and age is {self.age} and qualification is {self.qualification}')"
   ]
  },
  {
   "cell_type": "code",
   "execution_count": 53,
   "id": "cb6def27-522a-45b0-a743-e981da725637",
   "metadata": {},
   "outputs": [],
   "source": [
    "thirdPerson = Human(\"ravi\", 15, \"bba\")"
   ]
  },
  {
   "cell_type": "code",
   "execution_count": 55,
   "id": "fd61e0eb-d4cb-42d4-9d4d-490b2e85e50d",
   "metadata": {},
   "outputs": [
    {
     "name": "stdout",
     "output_type": "stream",
     "text": [
      "hi my name is ravi and age is 15 and qualification is bba\n"
     ]
    }
   ],
   "source": [
    "thirdPerson.introduction()"
   ]
  },
  {
   "cell_type": "markdown",
   "id": "847c89b8-09e5-46b8-b6ff-ea91b7c2b4eb",
   "metadata": {},
   "source": [
    "# magic functions\n",
    "## special functions of class\n",
    "### init\n",
    "### str\n",
    "### del"
   ]
  },
  {
   "cell_type": "code",
   "execution_count": 19,
   "id": "3529f4b1-37a8-4381-83a2-2111238f2af8",
   "metadata": {},
   "outputs": [],
   "source": [
    "class Account():\n",
    "    BANK_NAME = \"SBI\"\n",
    "\n",
    "    def __init__(self, name, initialDeposit= 0):\n",
    "        # runs when object is created\n",
    "        self.name= name\n",
    "        self.balance = initialDeposit\n",
    "        print(f'{self.name} welcome to {self.BANK_NAME}')"
   ]
  },
  {
   "cell_type": "code",
   "execution_count": 20,
   "id": "ea4dd943-0173-41f1-a44c-140f442796c3",
   "metadata": {},
   "outputs": [
    {
     "name": "stdout",
     "output_type": "stream",
     "text": [
      "tanuj welcome to SBI\n"
     ]
    }
   ],
   "source": [
    "pehlaAccount = Account('tanuj', 50000)"
   ]
  },
  {
   "cell_type": "code",
   "execution_count": 21,
   "id": "41b06197-2667-4f8c-a9d6-56b97970859a",
   "metadata": {},
   "outputs": [
    {
     "data": {
      "text/plain": [
       "'tanuj'"
      ]
     },
     "execution_count": 21,
     "metadata": {},
     "output_type": "execute_result"
    }
   ],
   "source": [
    "pehlaAccount.name"
   ]
  },
  {
   "cell_type": "code",
   "execution_count": 22,
   "id": "91524cde-2035-40d1-b7af-9317698c31dc",
   "metadata": {},
   "outputs": [
    {
     "data": {
      "text/plain": [
       "50000"
      ]
     },
     "execution_count": 22,
     "metadata": {},
     "output_type": "execute_result"
    }
   ],
   "source": [
    "pehlaAccount.balance"
   ]
  },
  {
   "cell_type": "code",
   "execution_count": 23,
   "id": "ad4fa429-f81e-43d7-960e-2953abab8aba",
   "metadata": {},
   "outputs": [],
   "source": [
    "class Account():\n",
    "    BANK_NAME = \"SBI\"\n",
    "\n",
    "    def __init__(self, name, initialDeposit= 0):\n",
    "        self.name= name\n",
    "        self.balance = initialDeposit\n",
    "        print(f\"\"\"{name} welcome to {self.BANK_NAME}\"\"\")"
   ]
  },
  {
   "cell_type": "code",
   "execution_count": 30,
   "id": "f56038a7-22ac-49a9-a6e9-0b6070afe34c",
   "metadata": {},
   "outputs": [
    {
     "name": "stdout",
     "output_type": "stream",
     "text": [
      "shubham welcome to SBI\n",
      "\n",
      "           ========= SBI =========\n",
      "           Account Holder : shubham\n",
      "           Account Balance: 50000\n",
      "           \n"
     ]
    }
   ],
   "source": [
    "pehlaAccount= Account(\"shubham\", 50000)"
   ]
  },
  {
   "cell_type": "code",
   "execution_count": 31,
   "id": "4cd77758-d890-4592-b529-c61e0940949a",
   "metadata": {},
   "outputs": [
    {
     "data": {
      "text/plain": [
       "50000"
      ]
     },
     "execution_count": 31,
     "metadata": {},
     "output_type": "execute_result"
    }
   ],
   "source": [
    "pehlaAccount.balance"
   ]
  },
  {
   "cell_type": "code",
   "execution_count": 32,
   "id": "ce1603ee-4d65-4b87-9b30-dc460f46fa98",
   "metadata": {},
   "outputs": [
    {
     "name": "stdout",
     "output_type": "stream",
     "text": [
      "\n",
      "           ========= SBI =========\n",
      "           Account Holder : shubham\n",
      "           Account Balance: 50000\n",
      "           \n"
     ]
    }
   ],
   "source": [
    "print(pehlaAccount)"
   ]
  },
  {
   "cell_type": "code",
   "execution_count": 25,
   "id": "58a0b43d-146d-41c2-8ef1-7ebe7fa19198",
   "metadata": {},
   "outputs": [],
   "source": [
    "class Account():\n",
    "    BANK_NAME = \"SBI\"\n",
    "\n",
    "    def __init__(self, name, initialDeposit= 0):\n",
    "        # runs when object is created\n",
    "        self.name= name\n",
    "        self.balance = initialDeposit\n",
    "        print(f\"\"\"{name} welcome to {self.BANK_NAME}\"\"\")\n",
    "        print(self)\n",
    "    def __str__(self):\n",
    "        # runs before object is printed\n",
    "        # mendatory to return a str\n",
    "        a= f\"\"\"\n",
    "           ========= {self.BANK_NAME} =========\n",
    "           Account Holder : {self.name}\n",
    "           Account Balance: {self.balance}\n",
    "           \"\"\"\n",
    "        return a"
   ]
  },
  {
   "cell_type": "code",
   "execution_count": 28,
   "id": "65197c8b-fc5d-40ab-b25c-355389bd73fb",
   "metadata": {},
   "outputs": [
    {
     "name": "stdout",
     "output_type": "stream",
     "text": [
      "harjeet welcome to SBI\n",
      "\n",
      "           ========= SBI =========\n",
      "           Account Holder : harjeet\n",
      "           Account Balance: 50000\n",
      "           \n"
     ]
    }
   ],
   "source": [
    "pehlaAccount = Account(\"harjeet\", 50000)"
   ]
  },
  {
   "cell_type": "code",
   "execution_count": 29,
   "id": "13dd0407-fd98-49ac-9e40-eee6232741cd",
   "metadata": {},
   "outputs": [
    {
     "name": "stdout",
     "output_type": "stream",
     "text": [
      "\n",
      "           ========= SBI =========\n",
      "           Account Holder : harjeet\n",
      "           Account Balance: 50000\n",
      "           \n"
     ]
    }
   ],
   "source": [
    "print(pehlaAccount)"
   ]
  },
  {
   "cell_type": "code",
   "execution_count": 37,
   "id": "11a0388b-1d64-4cda-80d8-8f2dfbb94a75",
   "metadata": {},
   "outputs": [],
   "source": [
    "class Account():\n",
    "    BANK_NAME = \"SBI\"\n",
    "\n",
    "    def __init__(self, name, initialDeposit= 0):\n",
    "        self.name= name\n",
    "        self.balance = initialDeposit\n",
    "        print(f\"\"\"{name} welcome to {self.BANK_NAME}\"\"\")\n",
    "        print(self)\n",
    "    def __str__(self):\n",
    "        #mendatory to return a str\n",
    "        a= f\"\"\"\n",
    "           ========= {self.BANK_NAME} =========\n",
    "           Account Holder : {self.name}\n",
    "           Account Balance: {self.balance}\n",
    "           \"\"\"\n",
    "        return a\n",
    "\n",
    "    def __del__(self):\n",
    "        # when memory location is cleared\n",
    "        # runs before object is deleted\n",
    "        print(\"item was deleted\")"
   ]
  },
  {
   "cell_type": "code",
   "execution_count": 40,
   "id": "30e3765c-426a-4db7-a704-2a99cc7dd882",
   "metadata": {},
   "outputs": [
    {
     "name": "stdout",
     "output_type": "stream",
     "text": [
      "happy welcome to SBI\n",
      "\n",
      "           ========= SBI =========\n",
      "           Account Holder : happy\n",
      "           Account Balance: 50000\n",
      "           \n",
      "item was deleted\n"
     ]
    }
   ],
   "source": [
    "pehlaAccount = Account('happy', 50000)"
   ]
  },
  {
   "cell_type": "code",
   "execution_count": 41,
   "id": "e73e6355-dcf1-4a9a-8313-0f2a55db9e60",
   "metadata": {},
   "outputs": [
    {
     "name": "stdout",
     "output_type": "stream",
     "text": [
      "item was deleted\n"
     ]
    }
   ],
   "source": [
    "del pehlaAccount"
   ]
  },
  {
   "cell_type": "code",
   "execution_count": 56,
   "id": "4d6ef51a-ea20-4dfe-83b0-26029e1474e4",
   "metadata": {},
   "outputs": [],
   "source": [
    "class Account():\n",
    "    BANK_NAME = \"SBI\"\n",
    "\n",
    "    def __init__(self, name, initialDeposit= 0):\n",
    "        #runs when object is created\n",
    "        self.name= name\n",
    "        self.balance = initialDeposit\n",
    "        print(f\"\"\"{name} welcome to {self.BANK_NAME}\"\"\")\n",
    "        print(self)\n",
    "    def __str__(self):\n",
    "        #mendatory to return a str\n",
    "        a= f\"\"\"\n",
    "           ========= {self.BANK_NAME} =========\n",
    "           Account Holder : {self.name}\n",
    "           Account Balance: {self.balance}\n",
    "           \"\"\"\n",
    "        return a\n",
    "\n",
    "    def __del__(self):\n",
    "        #when memory location is cleared\n",
    "        # runs before object is created\n",
    "        a = f\"\"\" ========={self.BANK_NAME}========\n",
    "         we are sorry to see you go\n",
    "                     \"\"\"\n",
    "        print(a)"
   ]
  },
  {
   "cell_type": "code",
   "execution_count": 57,
   "id": "2159c3f3-9c5b-4aca-a883-7396d9f617df",
   "metadata": {},
   "outputs": [
    {
     "name": "stdout",
     "output_type": "stream",
     "text": [
      "harry welcome to SBI\n",
      "\n",
      "           ========= SBI =========\n",
      "           Account Holder : harry\n",
      "           Account Balance: 50000\n",
      "           \n"
     ]
    }
   ],
   "source": [
    "pehlaAccount = Account('harry', 50000)"
   ]
  },
  {
   "cell_type": "code",
   "execution_count": 13,
   "id": "bf6417e0-44de-4f01-a10c-9e7dc2c26acf",
   "metadata": {},
   "outputs": [],
   "source": [
    "class Car():\n",
    "    def __init__(self):\n",
    "        self.name = \"Tata\"\n",
    "        print('runs with item is created')\n",
    "\n",
    "    def __str__(self):\n",
    "        print(\"hello\")\n",
    "        return (\"runs when memory is cleared\")\n",
    "\n",
    "    def __del__(self):\n",
    "        print(\"runs when memory location is cleared\")"
   ]
  },
  {
   "cell_type": "code",
   "execution_count": null,
   "id": "397b020e-e3d5-41c1-9026-2ce81d7583cb",
   "metadata": {},
   "outputs": [],
   "source": []
  },
  {
   "cell_type": "markdown",
   "id": "1cc59d04-b160-404f-b3c6-5f70b7edaceb",
   "metadata": {},
   "source": [
    "# Encapsulation\n",
    "## it put restriction on balance"
   ]
  },
  {
   "cell_type": "code",
   "execution_count": 1,
   "id": "2aced526-fb65-4592-906b-c36ea7e14f3c",
   "metadata": {},
   "outputs": [],
   "source": [
    "class Account():\n",
    "    BANK_NAME = \"SBI\"\n",
    "\n",
    "    def __init__(self, name, initialDeposit= 0):\n",
    "        #runs when object is created\n",
    "        self.name= name\n",
    "        self.__balance = initialDeposit\n",
    "        print(f\"\"\"{name} welcome to {self.BANK_NAME}\"\"\")\n",
    "        print(self)\n",
    "    def __str__(self):\n",
    "        #mendatory to return a str\n",
    "        a= f\"\"\"\n",
    "           ========= {self.BANK_NAME} =========\n",
    "           Account Holder : {self.name}\n",
    "           Account Balance: {self.__balance}\n",
    "           \"\"\"\n",
    "        return a\n",
    "\n",
    "    def __del__(self):\n",
    "        #when memory location is cleared\n",
    "        # runs before object is created\n",
    "        a = f\"\"\" ========={self.BANK_NAME}========\n",
    "                we are sorry see you again\n",
    "                     \"\"\"\n",
    "        print(a)"
   ]
  },
  {
   "cell_type": "code",
   "execution_count": 2,
   "id": "7b5fbb77-2a92-4968-92f2-d2333ca0009e",
   "metadata": {},
   "outputs": [
    {
     "name": "stdout",
     "output_type": "stream",
     "text": [
      "ankit welcome to SBI\n",
      "\n",
      "           ========= SBI =========\n",
      "           Account Holder : ankit\n",
      "           Account Balance: 20000\n",
      "           \n"
     ]
    }
   ],
   "source": [
    "pehlaAccount = Account('ankit', 20000)"
   ]
  },
  {
   "cell_type": "code",
   "execution_count": 3,
   "id": "668b5c4c-86af-4212-ba9f-44abb957c9ea",
   "metadata": {},
   "outputs": [
    {
     "ename": "AttributeError",
     "evalue": "'Account' object has no attribute '__balance'",
     "output_type": "error",
     "traceback": [
      "\u001b[1;31m---------------------------------------------------------------------------\u001b[0m",
      "\u001b[1;31mAttributeError\u001b[0m                            Traceback (most recent call last)",
      "Cell \u001b[1;32mIn[3], line 1\u001b[0m\n\u001b[1;32m----> 1\u001b[0m pehlaAccount\u001b[38;5;241m.\u001b[39m__balance\n",
      "\u001b[1;31mAttributeError\u001b[0m: 'Account' object has no attribute '__balance'"
     ]
    }
   ],
   "source": [
    "pehlaAccount.__balance"
   ]
  },
  {
   "cell_type": "code",
   "execution_count": 107,
   "id": "6ff4bc72-8cec-4215-8c23-cf18e0f983bf",
   "metadata": {},
   "outputs": [
    {
     "name": "stdout",
     "output_type": "stream",
     "text": [
      "\n",
      "           ========= SBI =========\n",
      "           Account Holder : ankit\n",
      "           Account Balance: 20000\n",
      "           \n"
     ]
    }
   ],
   "source": [
    "print(pehlaAccount)"
   ]
  },
  {
   "cell_type": "code",
   "execution_count": 108,
   "id": "0bd6a0fe-6a42-4e14-87af-eb1debfc5ab1",
   "metadata": {},
   "outputs": [
    {
     "data": {
      "text/plain": [
       "'SBI'"
      ]
     },
     "execution_count": 108,
     "metadata": {},
     "output_type": "execute_result"
    }
   ],
   "source": [
    "Account.BANK_NAME"
   ]
  },
  {
   "cell_type": "code",
   "execution_count": 54,
   "id": "f343554c-3862-4af1-a271-47358f626fd7",
   "metadata": {},
   "outputs": [],
   "source": [
    "class Account():\n",
    "    BANK_NAME = \"SBI\"\n",
    "\n",
    "    def __init__(self, name, initialDeposit= 0):\n",
    "        #runs when object is created\n",
    "        self.name= name\n",
    "        self.__balance = initialDeposit\n",
    "        print(f\"\"\"{name} welcome to {self.BANK_NAME}\"\"\")\n",
    "        print(self)\n",
    "    def __str__(self):\n",
    "        #mendatory to return a str\n",
    "        #runs before object is created\n",
    "        a= f\"\"\"\n",
    "           ========= {self.BANK_NAME} =========\n",
    "           Account Holder : {self.name}\n",
    "           Account Balance: {self.__balance}\n",
    "           \"\"\"\n",
    "        return a\n",
    "\n",
    "    def __del__(self):\n",
    "        #when memory location is cleared\n",
    "        # runs before object is deleted\n",
    "        a = f\"\"\" ========={self.BANK_NAME}========\n",
    "                we are sorry to here you go\n",
    "                     \"\"\"\n",
    "        print(a)\n",
    "\n",
    "    def __transaction(self, amount, T):\n",
    "        print(f'{amount} was {T}')\n",
    "        print(f'current balance {self.__balance}')\n",
    "        if T == 'Credited':\n",
    "            print(f'initial amount {self.__balance - amount}')\n",
    "        else:\n",
    "            print(f'initial amount {self.__balance + amount}')\n",
    "\n",
    "    def credit(self, amount= 0):\n",
    "        self.__balance += amount\n",
    "        self.__transaction(amount, 'credited')\n",
    "\n",
    "    def debit(self, amount= 0):\n",
    "        if self.__balance > amount:\n",
    "            self.__balance -= amount\n",
    "            self.__transaction(amount, 'debited')\n",
    "            return amount\n",
    "        else:\n",
    "            print(\"insufficient balance\")"
   ]
  },
  {
   "cell_type": "code",
   "execution_count": 56,
   "id": "747caf23-6585-4deb-b368-28316fb19dda",
   "metadata": {},
   "outputs": [
    {
     "name": "stdout",
     "output_type": "stream",
     "text": [
      "harjeet welcome to SBI\n",
      "\n",
      "           ========= SBI =========\n",
      "           Account Holder : harjeet\n",
      "           Account Balance: 5000\n",
      "           \n",
      " =========SBI========\n",
      "                we are sorry to here you go\n",
      "                     \n"
     ]
    }
   ],
   "source": [
    "pehlaAccount = Account(\"harjeet\", 5000)"
   ]
  },
  {
   "cell_type": "code",
   "execution_count": 57,
   "id": "7fd4ecbf-1acd-4721-90fb-e6bcb8464991",
   "metadata": {},
   "outputs": [
    {
     "name": "stdout",
     "output_type": "stream",
     "text": [
      "3000 was credited\n",
      "current balance 8000\n",
      "initial amount 11000\n"
     ]
    }
   ],
   "source": [
    "pehlaAccount.credit(3000)"
   ]
  },
  {
   "cell_type": "code",
   "execution_count": 58,
   "id": "90954651-6c76-47f3-b636-1be0b804d21a",
   "metadata": {},
   "outputs": [
    {
     "name": "stdout",
     "output_type": "stream",
     "text": [
      "\n",
      "           ========= SBI =========\n",
      "           Account Holder : harjeet\n",
      "           Account Balance: 8000\n",
      "           \n"
     ]
    }
   ],
   "source": [
    "print(pehlaAccount)"
   ]
  },
  {
   "cell_type": "code",
   "execution_count": 52,
   "id": "10fe0c93-5687-476a-9762-2f5ca0515f9b",
   "metadata": {},
   "outputs": [
    {
     "name": "stdout",
     "output_type": "stream",
     "text": [
      "2000 was debited\n",
      "current balance 6000\n",
      "initial amount 8000\n"
     ]
    },
    {
     "data": {
      "text/plain": [
       "2000"
      ]
     },
     "execution_count": 52,
     "metadata": {},
     "output_type": "execute_result"
    }
   ],
   "source": [
    "pehlaAccount.debit(2000)"
   ]
  },
  {
   "cell_type": "code",
   "execution_count": 59,
   "id": "e3cfa68f-c114-4ce7-8a3e-9cf716295ff1",
   "metadata": {},
   "outputs": [
    {
     "name": "stdout",
     "output_type": "stream",
     "text": [
      "\n",
      "           ========= SBI =========\n",
      "           Account Holder : harjeet\n",
      "           Account Balance: 8000\n",
      "           \n"
     ]
    }
   ],
   "source": [
    "print(pehlaAccount)"
   ]
  },
  {
   "cell_type": "code",
   "execution_count": null,
   "id": "3c351d5a-a8de-49a9-a08d-e5e0f7da860c",
   "metadata": {},
   "outputs": [],
   "source": []
  },
  {
   "cell_type": "markdown",
   "id": "05c280cd-2ada-4b37-a550-9cb2bcea9be2",
   "metadata": {},
   "source": [
    "# Polymorphism"
   ]
  },
  {
   "cell_type": "code",
   "execution_count": 20,
   "id": "53aa3ec0-660e-4598-a783-b8a3c302e2a3",
   "metadata": {},
   "outputs": [],
   "source": [
    "import numpy"
   ]
  },
  {
   "cell_type": "code",
   "execution_count": 21,
   "id": "5176db3a-afff-4711-85a6-9a4f62fbe049",
   "metadata": {},
   "outputs": [],
   "source": [
    "import random"
   ]
  },
  {
   "cell_type": "code",
   "execution_count": 22,
   "id": "3678f822-a09b-4770-b44c-a309f6b62540",
   "metadata": {},
   "outputs": [
    {
     "data": {
      "text/plain": [
       "7"
      ]
     },
     "execution_count": 22,
     "metadata": {},
     "output_type": "execute_result"
    }
   ],
   "source": [
    "random.randint(5, 10)"
   ]
  },
  {
   "cell_type": "code",
   "execution_count": 88,
   "id": "1ff1617a-dbef-494a-a3f7-c8b086a10072",
   "metadata": {},
   "outputs": [
    {
     "data": {
      "text/plain": [
       "array([4, 2, 1, 4, 3, 2, 4, 3, 1, 4], dtype=int32)"
      ]
     },
     "execution_count": 88,
     "metadata": {},
     "output_type": "execute_result"
    }
   ],
   "source": [
    "numpy.random.randint(1, 5, 10)"
   ]
  },
  {
   "cell_type": "code",
   "execution_count": 36,
   "id": "ef0edff7-fe5e-4266-8ed7-80212e4e40be",
   "metadata": {},
   "outputs": [],
   "source": [
    "class Car():\n",
    "    Tyre = 4\n",
    "\n",
    "    def __init__(self, company):\n",
    "        self.comapny= company\n",
    "        print(\"car was made\")\n",
    "\n",
    "    def __del__(self):\n",
    "        print(\"car was scraped\")\n",
    "\n",
    "    def __str__(self):\n",
    "        print(\"this is a cng car\")\n",
    "\n",
    "    def intro(self):\n",
    "        print(\"this is a car\")\n",
    "\n",
    "    def move(self):\n",
    "        print(\"moving forward\")\n",
    "\n",
    "    def fuel(self):\n",
    "        print(\"fuel up\")"
   ]
  },
  {
   "cell_type": "code",
   "execution_count": 59,
   "id": "4e0435bc-1525-4d1f-9049-3ff0f5d8b023",
   "metadata": {},
   "outputs": [],
   "source": [
    "class CngCar(Car):\n",
    "    fuel = \"CNG\"\n",
    "    # function overloading\n",
    "\n",
    "    def __init__(self, company, model):\n",
    "        #super\n",
    "        super().__init__(company)\n",
    "        self.model = model\n",
    "\n",
    "    def intro(self):\n",
    "        print(\"this is a car\")\n",
    "\n",
    "    def discription(self):\n",
    "        print(\"this car has best quality\")\n",
    "        super().fuel()"
   ]
  },
  {
   "cell_type": "code",
   "execution_count": 60,
   "id": "e16e801d-d2bf-4896-9733-381c979a8683",
   "metadata": {},
   "outputs": [
    {
     "name": "stdout",
     "output_type": "stream",
     "text": [
      "car was made\n"
     ]
    }
   ],
   "source": [
    "gadi = CngCar(\"TATA\", \"mahindra\")"
   ]
  },
  {
   "cell_type": "code",
   "execution_count": 61,
   "id": "014d7e0c-9e4c-4371-9895-9a1fc297d0ed",
   "metadata": {},
   "outputs": [
    {
     "name": "stdout",
     "output_type": "stream",
     "text": [
      "this car has best quality\n",
      "fuel up\n"
     ]
    }
   ],
   "source": [
    "gadi.discription()"
   ]
  },
  {
   "cell_type": "code",
   "execution_count": 45,
   "id": "6d5c78d1-70d4-4041-990a-10bced2e6d7d",
   "metadata": {},
   "outputs": [],
   "source": [
    "class Car():\n",
    "    Tyre = 4\n",
    "\n",
    "    def __init__(self, company):\n",
    "        self.comapny= company\n",
    "        print(\"car was made\")\n",
    "\n",
    "    def __del__(self):\n",
    "        print(\"car was scraped\")\n",
    "\n",
    "    def __str__(self):\n",
    "        print(\"this is a cng car\")\n",
    "\n",
    "    def intro(self):\n",
    "        print(\"this is a car\")\n",
    "\n",
    "    def move(self):\n",
    "        print(\"moving forward\")\n",
    "\n",
    "    def fuel(self):\n",
    "        print(\"fuel up\")\n",
    "\n",
    "    def discription(self):\n",
    "        print(\"this car has best quality\")"
   ]
  },
  {
   "cell_type": "code",
   "execution_count": 46,
   "id": "5a0a85de-b9d6-492d-a8c9-261c49b2ae45",
   "metadata": {},
   "outputs": [],
   "source": [
    "class CngCar(Car):\n",
    "    fuel = \"CNG\"\n",
    "    # function overloading\n",
    "\n",
    "    def __init__(self, company, model):\n",
    "        #super\n",
    "        super().__init__(company)\n",
    "        self.model = model\n",
    "\n",
    "    def intro(self):\n",
    "        print(\"this is a car\")\n",
    "\n",
    "    def discription(self):\n",
    "        print(\"this car is great\")"
   ]
  },
  {
   "cell_type": "code",
   "execution_count": 51,
   "id": "5d635d12-1fb3-4f65-9a4d-39ad1a9a379f",
   "metadata": {},
   "outputs": [
    {
     "name": "stdout",
     "output_type": "stream",
     "text": [
      "car was made\n"
     ]
    }
   ],
   "source": [
    "gadi = CngCar('thar', 'mahindra')"
   ]
  },
  {
   "cell_type": "code",
   "execution_count": 52,
   "id": "dbe1b614-3032-487e-b237-e98874d31f3c",
   "metadata": {},
   "outputs": [
    {
     "name": "stdout",
     "output_type": "stream",
     "text": [
      "this car is great\n"
     ]
    }
   ],
   "source": [
    "gadi.discription()"
   ]
  },
  {
   "cell_type": "code",
   "execution_count": 53,
   "id": "37c9d722-6e00-49ca-9834-3a209f932b35",
   "metadata": {},
   "outputs": [
    {
     "data": {
      "text/plain": [
       "'thar'"
      ]
     },
     "execution_count": 53,
     "metadata": {},
     "output_type": "execute_result"
    }
   ],
   "source": [
    "gadi.comapny"
   ]
  },
  {
   "cell_type": "code",
   "execution_count": 54,
   "id": "4252f42b-0968-4acd-bbc4-c9549fc91014",
   "metadata": {},
   "outputs": [
    {
     "data": {
      "text/plain": [
       "4"
      ]
     },
     "execution_count": 54,
     "metadata": {},
     "output_type": "execute_result"
    }
   ],
   "source": [
    "gadi.Tyre"
   ]
  },
  {
   "cell_type": "code",
   "execution_count": 63,
   "id": "325d8e71-c467-40d6-9015-123337295817",
   "metadata": {},
   "outputs": [
    {
     "name": "stdout",
     "output_type": "stream",
     "text": [
      "moving forward\n"
     ]
    }
   ],
   "source": [
    "gadi.move()"
   ]
  },
  {
   "cell_type": "code",
   "execution_count": null,
   "id": "53780b64-e940-4745-98aa-3426197cc3ea",
   "metadata": {},
   "outputs": [],
   "source": [
    "gadi."
   ]
  },
  {
   "cell_type": "code",
   "execution_count": null,
   "id": "841b00fd-38ac-4e75-9409-167daff81f95",
   "metadata": {},
   "outputs": [],
   "source": []
  },
  {
   "cell_type": "markdown",
   "id": "1b80dde0-937a-4209-a6f5-8dc0b880cfb8",
   "metadata": {},
   "source": [
    "# Abstraction\n",
    "## if a child is being created i want to make it mendatory to function overloading on a particular function"
   ]
  },
  {
   "cell_type": "code",
   "execution_count": 27,
   "id": "97917b52-a328-49b4-8fdd-c6ec7131bf37",
   "metadata": {},
   "outputs": [],
   "source": [
    "class ElectricCar():\n",
    "    Electric = \"Yes\"\n",
    "\n",
    "    def intro(self):\n",
    "        print(\"this is a car\")"
   ]
  },
  {
   "cell_type": "code",
   "execution_count": 29,
   "id": "8b51e853-de86-49f0-b084-3b1160a07265",
   "metadata": {},
   "outputs": [],
   "source": [
    "egadi = ElectricCar()"
   ]
  },
  {
   "cell_type": "code",
   "execution_count": 30,
   "id": "0d520dcb-61c4-48d2-b108-cab4447620d4",
   "metadata": {},
   "outputs": [
    {
     "name": "stdout",
     "output_type": "stream",
     "text": [
      "this is a car\n"
     ]
    }
   ],
   "source": [
    "egadi.intro()"
   ]
  },
  {
   "cell_type": "code",
   "execution_count": 35,
   "id": "e9c2dab0-299e-48ce-a934-3c05231bb426",
   "metadata": {},
   "outputs": [],
   "source": [
    "class PetrolCar():\n",
    "    carType = \"Petrol\"\n",
    "\n",
    "    def intro(self):\n",
    "        print(f\"this is a {self.carType}\")"
   ]
  },
  {
   "cell_type": "code",
   "execution_count": 37,
   "id": "2cd86d90-7877-41a6-9bf6-e25d224e48e1",
   "metadata": {},
   "outputs": [],
   "source": [
    "pgadi = PetrolCar()"
   ]
  },
  {
   "cell_type": "code",
   "execution_count": 38,
   "id": "66915a73-48b6-45e0-b8ac-cb3acba31e92",
   "metadata": {},
   "outputs": [
    {
     "name": "stdout",
     "output_type": "stream",
     "text": [
      "this is a Petrol\n"
     ]
    }
   ],
   "source": [
    "pgadi.intro()"
   ]
  },
  {
   "cell_type": "code",
   "execution_count": 42,
   "id": "628c1beb-e322-44cc-bf12-1fe7e6184abd",
   "metadata": {},
   "outputs": [],
   "source": [
    "class CngCar():\n",
    "    carType = \"CNG\"\n",
    "\n",
    "    def intro(self):\n",
    "        print(f\"this is a {self.carType} car\")"
   ]
  },
  {
   "cell_type": "code",
   "execution_count": 43,
   "id": "d5a70e40-9bc4-4200-a279-72eaf6ad4ddf",
   "metadata": {},
   "outputs": [],
   "source": [
    "cgadi = CngCar()"
   ]
  },
  {
   "cell_type": "code",
   "execution_count": 44,
   "id": "6f107dcd-a325-4442-987e-07c83f325991",
   "metadata": {},
   "outputs": [
    {
     "name": "stdout",
     "output_type": "stream",
     "text": [
      "this is a CNG car\n"
     ]
    }
   ],
   "source": [
    "cgadi.intro()"
   ]
  },
  {
   "cell_type": "code",
   "execution_count": 46,
   "id": "f01f5b90-d8ea-4183-98e3-6578ae910eab",
   "metadata": {},
   "outputs": [
    {
     "data": {
      "text/plain": [
       "'CNG'"
      ]
     },
     "execution_count": 46,
     "metadata": {},
     "output_type": "execute_result"
    }
   ],
   "source": [
    "cgadi.carType"
   ]
  },
  {
   "cell_type": "code",
   "execution_count": 63,
   "id": "722d4915-02ca-4674-bc79-f1ac4385656c",
   "metadata": {},
   "outputs": [],
   "source": [
    "from abc import ABC, abstractmethod, abstractstaticmethod"
   ]
  },
  {
   "cell_type": "code",
   "execution_count": 64,
   "id": "c8f7224d-e996-46b7-993e-ad895864a8e2",
   "metadata": {},
   "outputs": [],
   "source": [
    "# a function that modifies the behaviour of another function (or method or class ). It can change:"
   ]
  },
  {
   "cell_type": "code",
   "execution_count": 65,
   "id": "49a0d9ec-5b88-44e2-a15f-2d15e410cf02",
   "metadata": {},
   "outputs": [],
   "source": [
    "class Car(ABC):\n",
    "    carType = \"simple\"\n",
    "\n",
    "    def hello(self):\n",
    "        print(\"hello everyone\")\n",
    "\n",
    "    @abstractmethod\n",
    "    def intro(self):\n",
    "        print(f\"this is a {self.carType}\")"
   ]
  },
  {
   "cell_type": "code",
   "execution_count": 66,
   "id": "fd3f86f8-94dc-47f4-8f46-36223ddab71d",
   "metadata": {},
   "outputs": [],
   "source": [
    "class DieselCar(Car):\n",
    "    \n",
    "    def intro(self):\n",
    "        print(\"this is a diesel car\")        "
   ]
  },
  {
   "cell_type": "code",
   "execution_count": 67,
   "id": "0b44e2d5-0e86-4ff3-901a-5fbc75a9bddb",
   "metadata": {},
   "outputs": [],
   "source": [
    "dgadi= DieselCar()"
   ]
  },
  {
   "cell_type": "code",
   "execution_count": 68,
   "id": "dc3d1ccb-3d67-43ff-b2f1-2954c82d1f73",
   "metadata": {},
   "outputs": [
    {
     "name": "stdout",
     "output_type": "stream",
     "text": [
      "this is a diesel car\n"
     ]
    }
   ],
   "source": [
    "dgadi.intro()"
   ]
  },
  {
   "cell_type": "code",
   "execution_count": 69,
   "id": "bfb9cf36-bff1-4251-bb5e-a880c6d3a0ea",
   "metadata": {},
   "outputs": [
    {
     "name": "stdout",
     "output_type": "stream",
     "text": [
      "hello everyone\n"
     ]
    }
   ],
   "source": [
    "dgadi.hello()"
   ]
  },
  {
   "cell_type": "code",
   "execution_count": 81,
   "id": "fa150657-f3cb-445d-9e6d-2677a52b402b",
   "metadata": {},
   "outputs": [],
   "source": [
    "class Animal():\n",
    "    good = \"yes\"\n",
    "\n",
    "    def __init__(self):\n",
    "        self.name = \"Animal\"\n",
    "\n",
    "    def sayHello(self):\n",
    "        print(\"hello nice to meet you\")\n",
    "\n",
    "    #static\n",
    "    @staticmethod # there is no need to type \"self\" in brackets if we implemented \"staticmethod\" because with it code will be run without error\n",
    "    def sayHi():\n",
    "        print(\"hy nice to meet you\")"
   ]
  },
  {
   "cell_type": "code",
   "execution_count": 75,
   "id": "7d0dcae1-540a-43e9-abe4-dadd6aee6eac",
   "metadata": {},
   "outputs": [],
   "source": [
    "dog = Animal()"
   ]
  },
  {
   "cell_type": "code",
   "execution_count": 76,
   "id": "989624ad-22cc-47c5-9356-41609665849b",
   "metadata": {},
   "outputs": [
    {
     "data": {
      "text/plain": [
       "'yes'"
      ]
     },
     "execution_count": 76,
     "metadata": {},
     "output_type": "execute_result"
    }
   ],
   "source": [
    "dog.good"
   ]
  },
  {
   "cell_type": "code",
   "execution_count": 77,
   "id": "4018b474-fafb-41f6-b456-eec0b08ec031",
   "metadata": {},
   "outputs": [
    {
     "data": {
      "text/plain": [
       "'Animal'"
      ]
     },
     "execution_count": 77,
     "metadata": {},
     "output_type": "execute_result"
    }
   ],
   "source": [
    "dog.name"
   ]
  },
  {
   "cell_type": "code",
   "execution_count": 79,
   "id": "d41623d3-2457-4857-a9ed-10c375112948",
   "metadata": {},
   "outputs": [
    {
     "name": "stdout",
     "output_type": "stream",
     "text": [
      "hy nice to meet you\n"
     ]
    }
   ],
   "source": [
    "dog.sayHi()"
   ]
  },
  {
   "cell_type": "code",
   "execution_count": 80,
   "id": "3e920b70-d6c4-4c6f-9938-7fc2581a93a2",
   "metadata": {},
   "outputs": [
    {
     "name": "stdout",
     "output_type": "stream",
     "text": [
      "hello nice to meet you\n"
     ]
    }
   ],
   "source": [
    "dog.sayHello()"
   ]
  }
 ],
 "metadata": {
  "kernelspec": {
   "display_name": "Python 3 (ipykernel)",
   "language": "python",
   "name": "python3"
  },
  "language_info": {
   "codemirror_mode": {
    "name": "ipython",
    "version": 3
   },
   "file_extension": ".py",
   "mimetype": "text/x-python",
   "name": "python",
   "nbconvert_exporter": "python",
   "pygments_lexer": "ipython3",
   "version": "3.13.5"
  }
 },
 "nbformat": 4,
 "nbformat_minor": 5
}
