{
 "cells": [
  {
   "cell_type": "markdown",
   "id": "b7b10b71-0088-41d9-8b8a-17b3fde171b5",
   "metadata": {},
   "source": [
    "# Try and Except"
   ]
  },
  {
   "cell_type": "code",
   "execution_count": 1,
   "id": "24b3e83d-e759-4e2c-a249-e9a372b57cbc",
   "metadata": {},
   "outputs": [
    {
     "name": "stdout",
     "output_type": "stream",
     "text": [
      "hi\n"
     ]
    },
    {
     "ename": "ZeroDivisionError",
     "evalue": "division by zero",
     "output_type": "error",
     "traceback": [
      "\u001b[1;31m---------------------------------------------------------------------------\u001b[0m",
      "\u001b[1;31mZeroDivisionError\u001b[0m                         Traceback (most recent call last)",
      "Cell \u001b[1;32mIn[1], line 2\u001b[0m\n\u001b[0;32m      1\u001b[0m \u001b[38;5;28mprint\u001b[39m(\u001b[38;5;124m'\u001b[39m\u001b[38;5;124mhi\u001b[39m\u001b[38;5;124m'\u001b[39m)\n\u001b[1;32m----> 2\u001b[0m \u001b[38;5;28mprint\u001b[39m(\u001b[38;5;241m5\u001b[39m\u001b[38;5;241m/\u001b[39m\u001b[38;5;241m0\u001b[39m)\n\u001b[0;32m      3\u001b[0m \u001b[38;5;28mprint\u001b[39m(\u001b[38;5;124m'\u001b[39m\u001b[38;5;124mhello\u001b[39m\u001b[38;5;124m'\u001b[39m)\n",
      "\u001b[1;31mZeroDivisionError\u001b[0m: division by zero"
     ]
    }
   ],
   "source": [
    "print('hi')\n",
    "print(5/0)\n",
    "print('hello')"
   ]
  },
  {
   "cell_type": "code",
   "execution_count": 2,
   "id": "91029735-3c45-479b-8b01-5c290e822154",
   "metadata": {},
   "outputs": [
    {
     "name": "stdout",
     "output_type": "stream",
     "text": [
      "hii\n",
      "did not work\n"
     ]
    }
   ],
   "source": [
    "try:\n",
    "    print('hii')\n",
    "    print(5/0)\n",
    "    print('hello')\n",
    "\n",
    "except:\n",
    "    print('did not work')"
   ]
  },
  {
   "cell_type": "code",
   "execution_count": 5,
   "id": "39a8df22-32db-4510-96d8-27d6be714ecb",
   "metadata": {},
   "outputs": [
    {
     "name": "stdout",
     "output_type": "stream",
     "text": [
      "hii\n",
      "5\n",
      "hello\n",
      "else worikng\n"
     ]
    }
   ],
   "source": [
    "# Else only works when there is no error facing in code\n",
    "try:\n",
    "    print('hii')\n",
    "    print(5)\n",
    "    print('hello')\n",
    "\n",
    "except:\n",
    "    print('did not work')\n",
    "else:\n",
    "    print('else worikng')"
   ]
  },
  {
   "cell_type": "code",
   "execution_count": 7,
   "id": "6b6c55d6-7a95-4cac-9317-5fddce90f220",
   "metadata": {},
   "outputs": [
    {
     "name": "stdout",
     "output_type": "stream",
     "text": [
      "hii\n",
      "5\n",
      "hello\n",
      "else worikng\n",
      "finally ran\n"
     ]
    }
   ],
   "source": [
    "# finally condition works in every situation even either there is error or not\n",
    "try:\n",
    "    print('hii')\n",
    "    print(5)\n",
    "    print('hello')\n",
    "\n",
    "except:\n",
    "    print('did not work')\n",
    "else:\n",
    "    print('else worikng')\n",
    "finally:\n",
    "    print('finally ran')"
   ]
  },
  {
   "cell_type": "code",
   "execution_count": 12,
   "id": "529d42c6-9dd2-4264-83ca-0bb4eab609fe",
   "metadata": {},
   "outputs": [
    {
     "name": "stdout",
     "output_type": "stream",
     "text": [
      "hii\n",
      "ZeroDivisionError comes\n",
      "else worikng\n"
     ]
    }
   ],
   "source": [
    "# we can find error in this code\n",
    "try:\n",
    "    print('hii')\n",
    "    print(5/0)\n",
    "    print('hello')\n",
    "\n",
    "except ZeroDivisionError:\n",
    "    print(\"ZeroDivisionError comes\")\n",
    "except:\n",
    "    (\"error hai\")\n",
    "else:\n",
    "    print('did not work')\n",
    "finally:\n",
    "    print('else worikng')"
   ]
  },
  {
   "cell_type": "code",
   "execution_count": 13,
   "id": "c91ab3b5-7d8d-4f12-babd-53e1f1b644e3",
   "metadata": {},
   "outputs": [
    {
     "name": "stdout",
     "output_type": "stream",
     "text": [
      "hii\n",
      "division by zero\n",
      "else worikng\n"
     ]
    }
   ],
   "source": [
    "try:\n",
    "    print('hii')\n",
    "    print(5/0)\n",
    "    print('hello')\n",
    "\n",
    "except ZeroDivisionError as e:\n",
    "    print(e)\n",
    "except:\n",
    "    (\"error\")\n",
    "else:\n",
    "    print('did not work')\n",
    "finally:\n",
    "    print('else worikng')"
   ]
  },
  {
   "cell_type": "code",
   "execution_count": 23,
   "id": "0b95b1a8-afe1-4059-97e4-fae165cb330f",
   "metadata": {},
   "outputs": [
    {
     "name": "stdout",
     "output_type": "stream",
     "text": [
      "hii\n",
      "error\n",
      "else worikng\n"
     ]
    }
   ],
   "source": [
    "try:\n",
    "    print('hii')\n",
    "    print(int(\"happy\"))\n",
    "    print('hello')\n",
    "\n",
    "except ZeroDivisionError as e:\n",
    "    print(e)\n",
    "except:\n",
    "    print(\"error\")\n",
    "else:\n",
    "    print('did not work')\n",
    "finally:\n",
    "    print('else worikng')"
   ]
  },
  {
   "cell_type": "code",
   "execution_count": 21,
   "id": "81292536-f5ce-4320-9805-a319f49e4420",
   "metadata": {},
   "outputs": [
    {
     "name": "stdin",
     "output_type": "stream",
     "text": [
      " harjeet\n"
     ]
    },
    {
     "name": "stdout",
     "output_type": "stream",
     "text": [
      "invalid literal for int() with base 10: 'harjeet'\n",
      "close file\n"
     ]
    }
   ],
   "source": [
    "try:\n",
    "    a = 500\n",
    "    b = int(input())\n",
    "    c = a/b\n",
    "    print(c)\n",
    "except ValueError as v:\n",
    "    print(v)\n",
    "except ZeroDivisionError as z:\n",
    "    print(\"check something\")\n",
    "else:\n",
    "    print(\"everthing worked fine\")\n",
    "finally:\n",
    "    print(\"close file\")"
   ]
  },
  {
   "cell_type": "code",
   "execution_count": 24,
   "id": "f1241438-5eb0-4478-86a6-cae23bfabd03",
   "metadata": {},
   "outputs": [
    {
     "name": "stdin",
     "output_type": "stream",
     "text": [
      " 2500\n"
     ]
    },
    {
     "name": "stdout",
     "output_type": "stream",
     "text": [
      "0.2\n",
      "everthing worked fine\n",
      "close file\n"
     ]
    }
   ],
   "source": [
    "try:\n",
    "    a = 500\n",
    "    b = int(input())\n",
    "    c = a/b\n",
    "    print(c)\n",
    "except ValueError as v:\n",
    "    print(v)\n",
    "except ZeroDivisionError as z:\n",
    "    print(\"check something\")\n",
    "else:\n",
    "    print(\"everthing worked fine\")\n",
    "finally:\n",
    "    print(\"close file\")"
   ]
  },
  {
   "cell_type": "code",
   "execution_count": null,
   "id": "b7a3d725-e6c0-43ca-9402-3a5e6ef83ddb",
   "metadata": {},
   "outputs": [],
   "source": []
  }
 ],
 "metadata": {
  "kernelspec": {
   "display_name": "Python 3 (ipykernel)",
   "language": "python",
   "name": "python3"
  },
  "language_info": {
   "codemirror_mode": {
    "name": "ipython",
    "version": 3
   },
   "file_extension": ".py",
   "mimetype": "text/x-python",
   "name": "python",
   "nbconvert_exporter": "python",
   "pygments_lexer": "ipython3",
   "version": "3.13.5"
  }
 },
 "nbformat": 4,
 "nbformat_minor": 5
}
