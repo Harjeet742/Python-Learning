{
 "cells": [
  {
   "cell_type": "markdown",
   "id": "ed4248fb-2011-4934-a73f-e28e0afce06f",
   "metadata": {},
   "source": [
    "### display"
   ]
  },
  {
   "cell_type": "code",
   "execution_count": 105,
   "id": "45aeee7b-8a44-48a5-9ff2-b23fa027024e",
   "metadata": {},
   "outputs": [],
   "source": [
    "li = [\" \"]*10"
   ]
  },
  {
   "cell_type": "code",
   "execution_count": 106,
   "id": "b2f35219-c328-49d3-ba43-55319f2690bf",
   "metadata": {},
   "outputs": [
    {
     "data": {
      "text/plain": [
       "[' ', ' ', ' ', ' ', ' ', ' ', ' ', ' ', ' ', ' ']"
      ]
     },
     "execution_count": 106,
     "metadata": {},
     "output_type": "execute_result"
    }
   ],
   "source": [
    "li"
   ]
  },
  {
   "cell_type": "code",
   "execution_count": 107,
   "id": "d656f8d8-a5ac-4a35-b5c4-a12a262feb23",
   "metadata": {},
   "outputs": [],
   "source": [
    "li[5] = \"x\""
   ]
  },
  {
   "cell_type": "code",
   "execution_count": 108,
   "id": "16590b71-d9af-48ed-ae4b-1ba3c9086967",
   "metadata": {},
   "outputs": [],
   "source": [
    "def display():\n",
    "    print(li[7],\" | \",li[8],\" | \",li[9])\n",
    "    print(\"-\"*14)\n",
    "    print(li[4],\" | \",li[5],\" | \",li[6])\n",
    "    print(\"-\"*14)\n",
    "    print(li[1],\" | \",li[2],\" | \",li[3])"
   ]
  },
  {
   "cell_type": "code",
   "execution_count": 126,
   "id": "020213f9-48f2-4220-be45-a7a5b2b92272",
   "metadata": {},
   "outputs": [
    {
     "name": "stdout",
     "output_type": "stream",
     "text": [
      "o  |     |   \n",
      "--------------\n",
      "   |  x  |   \n",
      "--------------\n",
      "   |     |  x\n"
     ]
    }
   ],
   "source": [
    "display()"
   ]
  },
  {
   "cell_type": "code",
   "execution_count": 113,
   "id": "e58bd90d-a56b-4243-89c3-fce407f0f34a",
   "metadata": {},
   "outputs": [],
   "source": [
    "def check_position_empty(position):\n",
    "    if li[position] == \" \":\n",
    "        return True\n",
    "    else:\n",
    "        return  False"
   ]
  },
  {
   "cell_type": "code",
   "execution_count": 123,
   "id": "0079e9ac-f871-49d0-9436-e412dfbc3090",
   "metadata": {},
   "outputs": [],
   "source": [
    "li[7] = \"o\""
   ]
  },
  {
   "cell_type": "code",
   "execution_count": 124,
   "id": "9021a526-e9aa-4a07-a4d9-a735522bae9f",
   "metadata": {},
   "outputs": [],
   "source": [
    "def put_marker(position, marker):\n",
    "    li[position]= marker"
   ]
  },
  {
   "cell_type": "code",
   "execution_count": 125,
   "id": "cddc32d1-f05f-4318-8640-d97da6cab873",
   "metadata": {},
   "outputs": [],
   "source": [
    "put_marker(3, \"x\")"
   ]
  },
  {
   "cell_type": "code",
   "execution_count": 127,
   "id": "cb78731c-8818-4296-8a99-706562712b33",
   "metadata": {},
   "outputs": [
    {
     "data": {
      "text/plain": [
       "True"
      ]
     },
     "execution_count": 127,
     "metadata": {},
     "output_type": "execute_result"
    }
   ],
   "source": [
    "check_position_empty(4)"
   ]
  },
  {
   "cell_type": "code",
   "execution_count": 128,
   "id": "47311489-6125-4148-b6ca-34be3f8bc9de",
   "metadata": {},
   "outputs": [],
   "source": [
    "position = True"
   ]
  },
  {
   "cell_type": "code",
   "execution_count": 129,
   "id": "07a88d3a-b179-4cad-bc9b-2b7416b6a87a",
   "metadata": {},
   "outputs": [
    {
     "name": "stdin",
     "output_type": "stream",
     "text": [
      "None happy\n"
     ]
    },
    {
     "name": "stdout",
     "output_type": "stream",
     "text": [
      "please provide a number\n"
     ]
    },
    {
     "name": "stdin",
     "output_type": "stream",
     "text": [
      "None 67\n"
     ]
    }
   ],
   "source": [
    "position = None\n",
    "while not position:\n",
    "    try:\n",
    "        position = int(input(position))\n",
    "    except ValueError:\n",
    "        print('please provide a number')          "
   ]
  },
  {
   "cell_type": "code",
   "execution_count": 136,
   "id": "902bb926-1277-403b-a0de-5af85e3fb8c0",
   "metadata": {},
   "outputs": [],
   "source": [
    "def empty_positions():\n",
    "    ans = []\n",
    "    for i in range(1, len(li)):\n",
    "        if li[i] == \" \":\n",
    "            ans.append(i)\n",
    "    return ans"
   ]
  },
  {
   "cell_type": "code",
   "execution_count": 137,
   "id": "2989d3d7-590b-4e27-8b38-393c7b44afce",
   "metadata": {},
   "outputs": [
    {
     "data": {
      "text/plain": [
       "[1, 2, 4, 6, 8, 9]"
      ]
     },
     "execution_count": 137,
     "metadata": {},
     "output_type": "execute_result"
    }
   ],
   "source": [
    "empty_positions()"
   ]
  },
  {
   "cell_type": "code",
   "execution_count": 145,
   "id": "336cd062-4d17-467c-b06f-a7d938480813",
   "metadata": {},
   "outputs": [],
   "source": [
    "def take_position():\n",
    "    position = None\n",
    "    available = empty_positions()\n",
    "    while not position:\n",
    "        try:\n",
    "            position = int(input(f'please choose among{available}'))\n",
    "        except ValueError:\n",
    "            print(f'please provide a number{available}')\n",
    "        else:\n",
    "            if position in available:\n",
    "                return position\n",
    "            else:\n",
    "                print(f'please provide a number among {available}')\n",
    "                position = None"
   ]
  },
  {
   "cell_type": "code",
   "execution_count": 147,
   "id": "0043895f-cc10-4ebc-94d1-c24f107762e0",
   "metadata": {},
   "outputs": [
    {
     "name": "stdin",
     "output_type": "stream",
     "text": [
      "please choose among[1, 2, 4, 6, 8, 9] 45\n"
     ]
    },
    {
     "name": "stdout",
     "output_type": "stream",
     "text": [
      "please provide a number among [1, 2, 4, 6, 8, 9]\n"
     ]
    },
    {
     "name": "stdin",
     "output_type": "stream",
     "text": [
      "please choose among[1, 2, 4, 6, 8, 9] 8\n"
     ]
    },
    {
     "data": {
      "text/plain": [
       "8"
      ]
     },
     "execution_count": 147,
     "metadata": {},
     "output_type": "execute_result"
    }
   ],
   "source": [
    "take_position()"
   ]
  },
  {
   "cell_type": "code",
   "execution_count": null,
   "id": "de7ec317-8611-4c11-b043-07c7824d792a",
   "metadata": {},
   "outputs": [],
   "source": []
  }
 ],
 "metadata": {
  "kernelspec": {
   "display_name": "Python 3 (ipykernel)",
   "language": "python",
   "name": "python3"
  },
  "language_info": {
   "codemirror_mode": {
    "name": "ipython",
    "version": 3
   },
   "file_extension": ".py",
   "mimetype": "text/x-python",
   "name": "python",
   "nbconvert_exporter": "python",
   "pygments_lexer": "ipython3",
   "version": "3.13.5"
  }
 },
 "nbformat": 4,
 "nbformat_minor": 5
}
