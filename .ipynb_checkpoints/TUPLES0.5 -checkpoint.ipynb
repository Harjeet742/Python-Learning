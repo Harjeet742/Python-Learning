{
 "cells": [
  {
   "cell_type": "markdown",
   "id": "eb30565a-bacf-4871-adf5-a1951470acfa",
   "metadata": {},
   "source": [
    "# TUPLES"
   ]
  },
  {
   "cell_type": "code",
   "execution_count": 27,
   "id": "163bb36d-c10e-4e21-a420-8bdb3d13d5bb",
   "metadata": {},
   "outputs": [],
   "source": [
    "dogs = (\"tom\", \"kutta\", \"doggy\")"
   ]
  },
  {
   "cell_type": "code",
   "execution_count": 28,
   "id": "49491f59-4343-4eda-bdcb-d5f52d7b8c09",
   "metadata": {},
   "outputs": [
    {
     "data": {
      "text/plain": [
       "('tom', 'kutta', 'doggy')"
      ]
     },
     "execution_count": 28,
     "metadata": {},
     "output_type": "execute_result"
    }
   ],
   "source": [
    "dogs"
   ]
  },
  {
   "cell_type": "code",
   "execution_count": 3,
   "id": "c374d257-d6a2-4281-93b1-0c389764f9dd",
   "metadata": {},
   "outputs": [
    {
     "data": {
      "text/plain": [
       "(2, 8, 3)"
      ]
     },
     "execution_count": 3,
     "metadata": {},
     "output_type": "execute_result"
    }
   ],
   "source": [
    "2, 8, 3"
   ]
  },
  {
   "cell_type": "code",
   "execution_count": 4,
   "id": "27c66079-8950-4bcc-a045-4a731eb28e6c",
   "metadata": {},
   "outputs": [
    {
     "data": {
      "text/plain": [
       "(('tom', 'kutta', 'doggy'), 8, 10)"
      ]
     },
     "execution_count": 4,
     "metadata": {},
     "output_type": "execute_result"
    }
   ],
   "source": [
    "dogs, 8, 10"
   ]
  },
  {
   "cell_type": "code",
   "execution_count": 5,
   "id": "986b4071-5daf-404a-a207-b95c593e148a",
   "metadata": {},
   "outputs": [],
   "source": [
    "# tuple unpacking\n",
    "a, b = 5, 8"
   ]
  },
  {
   "cell_type": "code",
   "execution_count": 6,
   "id": "93ff0d2c-79f2-4ade-a968-83b7c097db1b",
   "metadata": {},
   "outputs": [
    {
     "data": {
      "text/plain": [
       "5"
      ]
     },
     "execution_count": 6,
     "metadata": {},
     "output_type": "execute_result"
    }
   ],
   "source": [
    "a"
   ]
  },
  {
   "cell_type": "code",
   "execution_count": 7,
   "id": "8d13d119-1e53-458e-9b55-88e96183470b",
   "metadata": {},
   "outputs": [
    {
     "data": {
      "text/plain": [
       "8"
      ]
     },
     "execution_count": 7,
     "metadata": {},
     "output_type": "execute_result"
    }
   ],
   "source": [
    "b"
   ]
  },
  {
   "cell_type": "code",
   "execution_count": 8,
   "id": "47e55dd4-b301-4725-afa7-aa13004a12bd",
   "metadata": {},
   "outputs": [],
   "source": [
    "a, b = b, a"
   ]
  },
  {
   "cell_type": "code",
   "execution_count": 9,
   "id": "c237485b-3db4-4662-85f9-14981cb06ea6",
   "metadata": {},
   "outputs": [
    {
     "data": {
      "text/plain": [
       "8"
      ]
     },
     "execution_count": 9,
     "metadata": {},
     "output_type": "execute_result"
    }
   ],
   "source": [
    "a"
   ]
  },
  {
   "cell_type": "code",
   "execution_count": 10,
   "id": "c605c143-6ab4-4cbe-aae7-0a159fa6560d",
   "metadata": {},
   "outputs": [
    {
     "data": {
      "text/plain": [
       "5"
      ]
     },
     "execution_count": 10,
     "metadata": {},
     "output_type": "execute_result"
    }
   ],
   "source": [
    "b"
   ]
  },
  {
   "cell_type": "markdown",
   "id": "f80eb422-1a1a-4492-b142-2ec197b87008",
   "metadata": {},
   "source": [
    "## Tuple understanding\n",
    "## Tuples are ordered sequence"
   ]
  },
  {
   "cell_type": "code",
   "execution_count": 23,
   "id": "db86f8c5-2767-4e5b-bdb9-596f63efbe1a",
   "metadata": {},
   "outputs": [
    {
     "data": {
      "text/plain": [
       "[0]"
      ]
     },
     "execution_count": 23,
     "metadata": {},
     "output_type": "execute_result"
    }
   ],
   "source": [
    "dogs"
   ]
  },
  {
   "cell_type": "code",
   "execution_count": 12,
   "id": "902287c5-b91e-4e81-88e5-b22162f26e6f",
   "metadata": {},
   "outputs": [
    {
     "data": {
      "text/plain": [
       "'doggy'"
      ]
     },
     "execution_count": 12,
     "metadata": {},
     "output_type": "execute_result"
    }
   ],
   "source": [
    "dogs[2]"
   ]
  },
  {
   "cell_type": "code",
   "execution_count": 13,
   "id": "fd6a8fc2-73dc-4393-bbbd-9f02b86607a1",
   "metadata": {},
   "outputs": [
    {
     "data": {
      "text/plain": [
       "'kutta'"
      ]
     },
     "execution_count": 13,
     "metadata": {},
     "output_type": "execute_result"
    }
   ],
   "source": [
    "dogs[1]"
   ]
  },
  {
   "cell_type": "code",
   "execution_count": 15,
   "id": "940043f4-1657-44a7-a4da-0279af8f986f",
   "metadata": {},
   "outputs": [
    {
     "data": {
      "text/plain": [
       "'tom'"
      ]
     },
     "execution_count": 15,
     "metadata": {},
     "output_type": "execute_result"
    }
   ],
   "source": [
    "dogs[0]"
   ]
  },
  {
   "cell_type": "code",
   "execution_count": 16,
   "id": "2007e4ad-b650-4d67-9114-99201d154411",
   "metadata": {},
   "outputs": [
    {
     "data": {
      "text/plain": [
       "'kutta'"
      ]
     },
     "execution_count": 16,
     "metadata": {},
     "output_type": "execute_result"
    }
   ],
   "source": [
    "dogs[1][:]"
   ]
  },
  {
   "cell_type": "code",
   "execution_count": 17,
   "id": "c45891e6-e5ab-40bc-b8bf-9a044efea91c",
   "metadata": {},
   "outputs": [
    {
     "data": {
      "text/plain": [
       "'a'"
      ]
     },
     "execution_count": 17,
     "metadata": {},
     "output_type": "execute_result"
    }
   ],
   "source": [
    "dogs[1][4]"
   ]
  },
  {
   "cell_type": "code",
   "execution_count": 29,
   "id": "f05a2a8f-585e-4d38-b0c0-145143f74517",
   "metadata": {},
   "outputs": [
    {
     "data": {
      "text/plain": [
       "'g'"
      ]
     },
     "execution_count": 29,
     "metadata": {},
     "output_type": "execute_result"
    }
   ],
   "source": [
    "dogs[2][2]"
   ]
  },
  {
   "cell_type": "code",
   "execution_count": 30,
   "id": "c2077b7d-456f-4876-b5c1-ab7e84e55174",
   "metadata": {},
   "outputs": [
    {
     "data": {
      "text/plain": [
       "('tom', 'kutta', 'doggy')"
      ]
     },
     "execution_count": 30,
     "metadata": {},
     "output_type": "execute_result"
    }
   ],
   "source": [
    "dogs"
   ]
  },
  {
   "cell_type": "code",
   "execution_count": 31,
   "id": "eb7db6e0-964e-47fc-a6bf-18859e7a592f",
   "metadata": {},
   "outputs": [
    {
     "data": {
      "text/plain": [
       "'doggy'"
      ]
     },
     "execution_count": 31,
     "metadata": {},
     "output_type": "execute_result"
    }
   ],
   "source": [
    "dogs[2]"
   ]
  },
  {
   "cell_type": "code",
   "execution_count": 32,
   "id": "4da7f148-7a88-452c-a904-41d1727a59e1",
   "metadata": {},
   "outputs": [
    {
     "ename": "TypeError",
     "evalue": "'tuple' object does not support item assignment",
     "output_type": "error",
     "traceback": [
      "\u001b[1;31m---------------------------------------------------------------------------\u001b[0m",
      "\u001b[1;31mTypeError\u001b[0m                                 Traceback (most recent call last)",
      "Cell \u001b[1;32mIn[32], line 1\u001b[0m\n\u001b[1;32m----> 1\u001b[0m dogs[\u001b[38;5;241m0\u001b[39m] \u001b[38;5;241m=\u001b[39m \u001b[38;5;124m\"\u001b[39m\u001b[38;5;124mbilli\u001b[39m\u001b[38;5;124m\"\u001b[39m\n",
      "\u001b[1;31mTypeError\u001b[0m: 'tuple' object does not support item assignment"
     ]
    }
   ],
   "source": [
    "dogs[0] = \"billi\""
   ]
  },
  {
   "cell_type": "code",
   "execution_count": 35,
   "id": "78c1d24c-a151-4e0d-b60f-9d338f90f3bc",
   "metadata": {},
   "outputs": [],
   "source": [
    "li = [1, 2, 3, 4, 5]"
   ]
  },
  {
   "cell_type": "code",
   "execution_count": 36,
   "id": "7a7be9be-2cda-4c5e-85fd-bb1b0d666c08",
   "metadata": {},
   "outputs": [],
   "source": [
    "li [0] = 29"
   ]
  },
  {
   "cell_type": "code",
   "execution_count": 37,
   "id": "eb378462-fbb0-46e7-89e9-f5a6f25cf5f6",
   "metadata": {},
   "outputs": [
    {
     "data": {
      "text/plain": [
       "[29, 2, 3, 4, 5]"
      ]
     },
     "execution_count": 37,
     "metadata": {},
     "output_type": "execute_result"
    }
   ],
   "source": [
    "li"
   ]
  },
  {
   "cell_type": "markdown",
   "id": "afcf0192-9c70-492f-8bb5-d1bf8cad8454",
   "metadata": {},
   "source": [
    "# Tuples methods"
   ]
  },
  {
   "cell_type": "code",
   "execution_count": 61,
   "id": "db8d5697-ef5c-4c86-9b94-fb9cac2f3a61",
   "metadata": {},
   "outputs": [],
   "source": [
    "tu = (1,1,2,2,2,3,3,3,3,4,4,4,4)"
   ]
  },
  {
   "cell_type": "code",
   "execution_count": 49,
   "id": "027c4b86-0b55-4729-a08e-ef66b9fc16e8",
   "metadata": {},
   "outputs": [
    {
     "data": {
      "text/plain": [
       "3"
      ]
     },
     "execution_count": 49,
     "metadata": {},
     "output_type": "execute_result"
    }
   ],
   "source": [
    "tu.count(2)"
   ]
  },
  {
   "cell_type": "code",
   "execution_count": 51,
   "id": "3ee4e55a-0d3e-4e97-a215-9755c5784096",
   "metadata": {},
   "outputs": [
    {
     "data": {
      "text/plain": [
       "4"
      ]
     },
     "execution_count": 51,
     "metadata": {},
     "output_type": "execute_result"
    }
   ],
   "source": [
    "tu.count(4)"
   ]
  },
  {
   "cell_type": "code",
   "execution_count": 52,
   "id": "c78d3a0a-558d-4046-9153-cceadb72331c",
   "metadata": {},
   "outputs": [
    {
     "data": {
      "text/plain": [
       "5"
      ]
     },
     "execution_count": 52,
     "metadata": {},
     "output_type": "execute_result"
    }
   ],
   "source": [
    "tu.index(3)"
   ]
  },
  {
   "cell_type": "code",
   "execution_count": 53,
   "id": "b40b692d-091c-45c1-96aa-383daa2a22f6",
   "metadata": {},
   "outputs": [
    {
     "data": {
      "text/plain": [
       "9"
      ]
     },
     "execution_count": 53,
     "metadata": {},
     "output_type": "execute_result"
    }
   ],
   "source": [
    "tu.index(4)"
   ]
  },
  {
   "cell_type": "markdown",
   "id": "6e1189a2-beca-4532-b165-6541d56f86e8",
   "metadata": {},
   "source": [
    "# indexing slicing"
   ]
  },
  {
   "cell_type": "code",
   "execution_count": 62,
   "id": "11979abc-0ed1-414b-a0c4-5421ea722ff8",
   "metadata": {},
   "outputs": [
    {
     "data": {
      "text/plain": [
       "(2, 3, 3, 3)"
      ]
     },
     "execution_count": 62,
     "metadata": {},
     "output_type": "execute_result"
    }
   ],
   "source": [
    "tu[4:8]"
   ]
  },
  {
   "cell_type": "code",
   "execution_count": 55,
   "id": "f50dc4eb-bb68-40c1-9939-fa824b944ac4",
   "metadata": {},
   "outputs": [
    {
     "data": {
      "text/plain": [
       "(2, 3, 3, 3)"
      ]
     },
     "execution_count": 55,
     "metadata": {},
     "output_type": "execute_result"
    }
   ],
   "source": [
    "tu"
   ]
  },
  {
   "cell_type": "code",
   "execution_count": 56,
   "id": "8ed83688-92ae-42d4-aa00-c3ec2e8762f6",
   "metadata": {},
   "outputs": [],
   "source": [
    "dice = (1, 2, 3, 4, 5, 6)"
   ]
  },
  {
   "cell_type": "code",
   "execution_count": 57,
   "id": "df740ce4-217b-4e7d-8ab2-2864d6a6f4a2",
   "metadata": {},
   "outputs": [],
   "source": [
    "dice = dice[2:6]"
   ]
  },
  {
   "cell_type": "code",
   "execution_count": 58,
   "id": "1ae3434c-8505-4829-9b1f-07e15ea93ad3",
   "metadata": {},
   "outputs": [
    {
     "data": {
      "text/plain": [
       "(3, 4, 5, 6)"
      ]
     },
     "execution_count": 58,
     "metadata": {},
     "output_type": "execute_result"
    }
   ],
   "source": [
    "dice"
   ]
  },
  {
   "cell_type": "code",
   "execution_count": 63,
   "id": "b1950e96-bf58-410b-97bd-6334c52ee362",
   "metadata": {},
   "outputs": [
    {
     "data": {
      "text/plain": [
       "('tom', 'kutta', 'doggy')"
      ]
     },
     "execution_count": 63,
     "metadata": {},
     "output_type": "execute_result"
    }
   ],
   "source": [
    "dogs"
   ]
  },
  {
   "cell_type": "code",
   "execution_count": 64,
   "id": "249714d5-47ee-43ca-b702-c83cdf0227ae",
   "metadata": {},
   "outputs": [
    {
     "data": {
      "text/plain": [
       "('kutta', 'doggy')"
      ]
     },
     "execution_count": 64,
     "metadata": {},
     "output_type": "execute_result"
    }
   ],
   "source": [
    "dogs[1:4]"
   ]
  },
  {
   "cell_type": "code",
   "execution_count": 65,
   "id": "ef95db69-b5f9-41cb-b33b-fa7cc97f9ff3",
   "metadata": {},
   "outputs": [
    {
     "data": {
      "text/plain": [
       "'utt'"
      ]
     },
     "execution_count": 65,
     "metadata": {},
     "output_type": "execute_result"
    }
   ],
   "source": [
    "dogs[1][1:4]"
   ]
  },
  {
   "cell_type": "code",
   "execution_count": 68,
   "id": "bb915342-4ee4-4d4f-9c5d-75f01a2f7aaf",
   "metadata": {},
   "outputs": [
    {
     "data": {
      "text/plain": [
       "'yggod'"
      ]
     },
     "execution_count": 68,
     "metadata": {},
     "output_type": "execute_result"
    }
   ],
   "source": [
    "dogs[2][::-1]"
   ]
  },
  {
   "cell_type": "code",
   "execution_count": null,
   "id": "f70c348c-63b2-44c4-92fe-993bbe9a6647",
   "metadata": {},
   "outputs": [],
   "source": []
  }
 ],
 "metadata": {
  "kernelspec": {
   "display_name": "Python 3 (ipykernel)",
   "language": "python",
   "name": "python3"
  },
  "language_info": {
   "codemirror_mode": {
    "name": "ipython",
    "version": 3
   },
   "file_extension": ".py",
   "mimetype": "text/x-python",
   "name": "python",
   "nbconvert_exporter": "python",
   "pygments_lexer": "ipython3",
   "version": "3.13.5"
  }
 },
 "nbformat": 4,
 "nbformat_minor": 5
}
