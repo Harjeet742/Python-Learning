{
 "cells": [
  {
   "cell_type": "code",
   "execution_count": 6,
   "id": "7f877371-a1c3-4750-b943-74ab71cff740",
   "metadata": {},
   "outputs": [
    {
     "name": "stdout",
     "output_type": "stream",
     "text": [
      "0\n",
      "1\n",
      "2\n",
      "3\n",
      "4\n"
     ]
    }
   ],
   "source": [
    "i = 0\n",
    "n = 5\n",
    "while i < n:\n",
    "    print(i)\n",
    "    i += 1"
   ]
  },
  {
   "cell_type": "code",
   "execution_count": 7,
   "id": "4b4c82ab-2129-4123-a423-684c2d3010c9",
   "metadata": {},
   "outputs": [
    {
     "data": {
      "text/plain": [
       "7"
      ]
     },
     "execution_count": 7,
     "metadata": {},
     "output_type": "execute_result"
    }
   ],
   "source": [
    "name= \"harjeet\"\n",
    "len(name)"
   ]
  },
  {
   "cell_type": "code",
   "execution_count": 8,
   "id": "27a7c55f-0b82-4db9-beda-0bee50b3819e",
   "metadata": {},
   "outputs": [
    {
     "data": {
      "text/plain": [
       "'h'"
      ]
     },
     "execution_count": 8,
     "metadata": {},
     "output_type": "execute_result"
    }
   ],
   "source": [
    "name[0]"
   ]
  },
  {
   "cell_type": "code",
   "execution_count": 10,
   "id": "d180af79-f511-42ad-9993-48447e4ec5ce",
   "metadata": {},
   "outputs": [
    {
     "data": {
      "text/plain": [
       "'e'"
      ]
     },
     "execution_count": 10,
     "metadata": {},
     "output_type": "execute_result"
    }
   ],
   "source": [
    "name[5]"
   ]
  },
  {
   "cell_type": "code",
   "execution_count": 13,
   "id": "1746111e-6f66-4b75-b0e1-6c4312d18edc",
   "metadata": {},
   "outputs": [
    {
     "name": "stdout",
     "output_type": "stream",
     "text": [
      "h\n",
      "a\n",
      "r\n",
      "j\n",
      "e\n",
      "e\n",
      "t\n"
     ]
    }
   ],
   "source": [
    "name = \"harjeet\"\n",
    "i = 0\n",
    "n = len(name)\n",
    "while i < n:\n",
    "    print(name[i])\n",
    "    i += 1"
   ]
  },
  {
   "cell_type": "code",
   "execution_count": 14,
   "id": "8f8c6549-2845-435b-b7f7-5eb496f81400",
   "metadata": {},
   "outputs": [
    {
     "name": "stdout",
     "output_type": "stream",
     "text": [
      "harjeet\n",
      "24\n",
      "b.tech\n"
     ]
    }
   ],
   "source": [
    "d = {\"name\": \"harjeet\", \"age\":24, \"education\": \"b.tech\"}\n",
    "i = 0\n",
    "n = len(d)\n",
    "k = list(d.keys())\n",
    "\n",
    "while i < n:\n",
    "    print(d[k[i]])\n",
    "    i += 1"
   ]
  },
  {
   "cell_type": "code",
   "execution_count": 15,
   "id": "a2abd2f0-fd0d-4b6b-9c5f-5e4374bc6799",
   "metadata": {},
   "outputs": [],
   "source": [
    "s = [2, 5, 9, 34, 21, 12, 11]"
   ]
  },
  {
   "cell_type": "code",
   "execution_count": 18,
   "id": "aed3213a-8668-43b3-bdee-65d773492388",
   "metadata": {},
   "outputs": [
    {
     "data": {
      "text/plain": [
       "7"
      ]
     },
     "execution_count": 18,
     "metadata": {},
     "output_type": "execute_result"
    }
   ],
   "source": [
    "len(s)"
   ]
  },
  {
   "cell_type": "code",
   "execution_count": 20,
   "id": "234603bb-33f6-49ba-a512-b7ee66502e46",
   "metadata": {},
   "outputs": [
    {
     "name": "stdout",
     "output_type": "stream",
     "text": [
      "3 34\n"
     ]
    }
   ],
   "source": [
    "i = 0\n",
    "n = len(s)\n",
    "a = 0\n",
    "while i < n:\n",
    "    if s[i]> s[a]:\n",
    "        a = i\n",
    "\n",
    "    i += 1\n",
    "print(a, s[a])"
   ]
  },
  {
   "cell_type": "code",
   "execution_count": 21,
   "id": "d94ab9fd-3640-484b-ab60-2f3aacaef920",
   "metadata": {},
   "outputs": [
    {
     "data": {
      "text/plain": [
       "[2, 5, 9, 34, 21, 12, 11]"
      ]
     },
     "execution_count": 21,
     "metadata": {},
     "output_type": "execute_result"
    }
   ],
   "source": [
    "s"
   ]
  },
  {
   "cell_type": "code",
   "execution_count": 28,
   "id": "a36a1109-5a1b-4141-ad1f-e6756d455cb2",
   "metadata": {},
   "outputs": [
    {
     "name": "stdout",
     "output_type": "stream",
     "text": [
      "94\n"
     ]
    }
   ],
   "source": [
    "i = 0\n",
    "n = len(s)\n",
    "total = 0\n",
    "while i < n:\n",
    "    total += s[i]\n",
    "    i += 1\n",
    "print(total)"
   ]
  },
  {
   "cell_type": "code",
   "execution_count": 29,
   "id": "1ca9708f-e8fe-4339-b04b-38f7a3f87208",
   "metadata": {},
   "outputs": [],
   "source": [
    "s.sort()"
   ]
  },
  {
   "cell_type": "code",
   "execution_count": 30,
   "id": "b6c7a0d9-47b2-4c99-ab6c-7d5aaa7f342d",
   "metadata": {},
   "outputs": [
    {
     "data": {
      "text/plain": [
       "[2, 5, 9, 11, 12, 21, 34]"
      ]
     },
     "execution_count": 30,
     "metadata": {},
     "output_type": "execute_result"
    }
   ],
   "source": [
    "s"
   ]
  },
  {
   "cell_type": "code",
   "execution_count": 36,
   "id": "8a76c84f-0531-41db-8946-3289d95ba811",
   "metadata": {},
   "outputs": [
    {
     "data": {
      "text/plain": [
       "3"
      ]
     },
     "execution_count": 36,
     "metadata": {},
     "output_type": "execute_result"
    }
   ],
   "source": [
    "len(s)//2"
   ]
  },
  {
   "cell_type": "code",
   "execution_count": 37,
   "id": "f335584d-a5b4-4ae7-a1ec-d800eb0f9785",
   "metadata": {},
   "outputs": [
    {
     "data": {
      "text/plain": [
       "11"
      ]
     },
     "execution_count": 37,
     "metadata": {},
     "output_type": "execute_result"
    }
   ],
   "source": [
    "s[len(s)//2]"
   ]
  },
  {
   "cell_type": "code",
   "execution_count": 38,
   "id": "3f61e6f0-6e41-493a-b8bd-51b8fda3783d",
   "metadata": {},
   "outputs": [
    {
     "name": "stdout",
     "output_type": "stream",
     "text": [
      "25 is a prime number\n"
     ]
    }
   ],
   "source": [
    "n = 25\n",
    "prime = True\n",
    "while i < n:\n",
    "    if n % i == 0:\n",
    "        prime = False\n",
    "        break\n",
    "    i += 1\n",
    "\n",
    "if prime:\n",
    "    print(f\"{n} is a prime number\")\n",
    "else:\n",
    "    print(f\"{n} is a prime number\")"
   ]
  },
  {
   "cell_type": "code",
   "execution_count": null,
   "id": "2cfe5a5c-1288-498b-bcb2-667afac1ac4c",
   "metadata": {},
   "outputs": [],
   "source": []
  }
 ],
 "metadata": {
  "kernelspec": {
   "display_name": "Python 3 (ipykernel)",
   "language": "python",
   "name": "python3"
  },
  "language_info": {
   "codemirror_mode": {
    "name": "ipython",
    "version": 3
   },
   "file_extension": ".py",
   "mimetype": "text/x-python",
   "name": "python",
   "nbconvert_exporter": "python",
   "pygments_lexer": "ipython3",
   "version": "3.13.5"
  }
 },
 "nbformat": 4,
 "nbformat_minor": 5
}
