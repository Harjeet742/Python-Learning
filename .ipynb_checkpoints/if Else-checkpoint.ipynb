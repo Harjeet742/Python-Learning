{
 "cells": [
  {
   "cell_type": "markdown",
   "id": "c305579c-e216-49be-a02a-a5b5e169ab93",
   "metadata": {},
   "source": [
    "# BOOLEANS"
   ]
  },
  {
   "cell_type": "code",
   "execution_count": 1,
   "id": "1b8c83f5-0841-4e01-bcd9-a1e2b6a0931e",
   "metadata": {},
   "outputs": [
    {
     "data": {
      "text/plain": [
       "1"
      ]
     },
     "execution_count": 1,
     "metadata": {},
     "output_type": "execute_result"
    }
   ],
   "source": [
    "0 or 1"
   ]
  },
  {
   "cell_type": "code",
   "execution_count": 2,
   "id": "7f022cde-fae2-46b3-9335-e51dd2ab8a4c",
   "metadata": {},
   "outputs": [
    {
     "data": {
      "text/plain": [
       "True"
      ]
     },
     "execution_count": 2,
     "metadata": {},
     "output_type": "execute_result"
    }
   ],
   "source": [
    "True"
   ]
  },
  {
   "cell_type": "code",
   "execution_count": 3,
   "id": "fceec95a-ece5-4956-9abf-efdd7fc736f1",
   "metadata": {},
   "outputs": [
    {
     "data": {
      "text/plain": [
       "False"
      ]
     },
     "execution_count": 3,
     "metadata": {},
     "output_type": "execute_result"
    }
   ],
   "source": [
    "False"
   ]
  },
  {
   "cell_type": "code",
   "execution_count": 5,
   "id": "bb7450b6-50aa-4c1b-9512-ec94111bc3ef",
   "metadata": {},
   "outputs": [
    {
     "data": {
      "text/plain": [
       "1"
      ]
     },
     "execution_count": 5,
     "metadata": {},
     "output_type": "execute_result"
    }
   ],
   "source": [
    "int(True)"
   ]
  },
  {
   "cell_type": "code",
   "execution_count": 6,
   "id": "4650a3ed-00fd-48ff-81af-96bbbd7d69e0",
   "metadata": {},
   "outputs": [
    {
     "data": {
      "text/plain": [
       "0"
      ]
     },
     "execution_count": 6,
     "metadata": {},
     "output_type": "execute_result"
    }
   ],
   "source": [
    "int(False)"
   ]
  },
  {
   "cell_type": "code",
   "execution_count": 7,
   "id": "dc8bba6e-a73f-4622-ab76-d8ee6e843f9a",
   "metadata": {},
   "outputs": [
    {
     "data": {
      "text/plain": [
       "True"
      ]
     },
     "execution_count": 7,
     "metadata": {},
     "output_type": "execute_result"
    }
   ],
   "source": [
    "bool(6969)"
   ]
  },
  {
   "cell_type": "code",
   "execution_count": 8,
   "id": "f313563f-5719-4963-869e-2a972abbece1",
   "metadata": {},
   "outputs": [
    {
     "data": {
      "text/plain": [
       "False"
      ]
     },
     "execution_count": 8,
     "metadata": {},
     "output_type": "execute_result"
    }
   ],
   "source": [
    "bool(None)"
   ]
  },
  {
   "cell_type": "code",
   "execution_count": 9,
   "id": "7e0835d6-3a7b-4f79-a2a4-18dc0f2a7e51",
   "metadata": {},
   "outputs": [
    {
     "data": {
      "text/plain": [
       "False"
      ]
     },
     "execution_count": 9,
     "metadata": {},
     "output_type": "execute_result"
    }
   ],
   "source": [
    "bool()"
   ]
  },
  {
   "cell_type": "code",
   "execution_count": 10,
   "id": "fe8c756f-0b09-452b-8e60-c7fbdf17b3c3",
   "metadata": {},
   "outputs": [
    {
     "data": {
      "text/plain": [
       "bool"
      ]
     },
     "execution_count": 10,
     "metadata": {},
     "output_type": "execute_result"
    }
   ],
   "source": [
    "type(True)"
   ]
  },
  {
   "cell_type": "code",
   "execution_count": 11,
   "id": "89d84437-01dc-41ff-8efe-a302397dcf2b",
   "metadata": {},
   "outputs": [
    {
     "data": {
      "text/plain": [
       "bool"
      ]
     },
     "execution_count": 11,
     "metadata": {},
     "output_type": "execute_result"
    }
   ],
   "source": [
    "type(False)"
   ]
  },
  {
   "cell_type": "code",
   "execution_count": 12,
   "id": "d895ef18-fda6-49fd-aea6-0ff4d10e60b1",
   "metadata": {},
   "outputs": [
    {
     "data": {
      "text/plain": [
       "False"
      ]
     },
     "execution_count": 12,
     "metadata": {},
     "output_type": "execute_result"
    }
   ],
   "source": [
    "bool(\"\")"
   ]
  },
  {
   "cell_type": "code",
   "execution_count": 13,
   "id": "9c2887d1-46c2-4f52-aaae-7fedf3f1a297",
   "metadata": {},
   "outputs": [
    {
     "data": {
      "text/plain": [
       "True"
      ]
     },
     "execution_count": 13,
     "metadata": {},
     "output_type": "execute_result"
    }
   ],
   "source": [
    "bool(\"u\")"
   ]
  },
  {
   "cell_type": "code",
   "execution_count": 14,
   "id": "3ace0e4e-daa4-4e66-beaf-747ba096bd71",
   "metadata": {},
   "outputs": [
    {
     "data": {
      "text/plain": [
       "True"
      ]
     },
     "execution_count": 14,
     "metadata": {},
     "output_type": "execute_result"
    }
   ],
   "source": [
    "bool(\"d\")"
   ]
  },
  {
   "cell_type": "code",
   "execution_count": 15,
   "id": "e1ba6fc6-d3b1-46da-ba94-8fb70e12ca2c",
   "metadata": {},
   "outputs": [
    {
     "data": {
      "text/plain": [
       "False"
      ]
     },
     "execution_count": 15,
     "metadata": {},
     "output_type": "execute_result"
    }
   ],
   "source": [
    "bool([])"
   ]
  },
  {
   "cell_type": "code",
   "execution_count": 17,
   "id": "8487fe42-ec2c-4337-95b3-a75721678702",
   "metadata": {},
   "outputs": [
    {
     "data": {
      "text/plain": [
       "True"
      ]
     },
     "execution_count": 17,
     "metadata": {},
     "output_type": "execute_result"
    }
   ],
   "source": [
    "bool([7])"
   ]
  },
  {
   "cell_type": "code",
   "execution_count": 18,
   "id": "9842bacb-36f6-4dc1-b4db-68b9c7ab32f5",
   "metadata": {},
   "outputs": [
    {
     "data": {
      "text/plain": [
       "False"
      ]
     },
     "execution_count": 18,
     "metadata": {},
     "output_type": "execute_result"
    }
   ],
   "source": [
    "bool(())"
   ]
  },
  {
   "cell_type": "code",
   "execution_count": 19,
   "id": "58d71127-7c3e-4f66-a1f2-58bed345dd10",
   "metadata": {},
   "outputs": [
    {
     "data": {
      "text/plain": [
       "True"
      ]
     },
     "execution_count": 19,
     "metadata": {},
     "output_type": "execute_result"
    }
   ],
   "source": [
    "bool((4))"
   ]
  },
  {
   "cell_type": "code",
   "execution_count": 20,
   "id": "9ded45ed-2fa9-41eb-a970-d3e78d1458e6",
   "metadata": {},
   "outputs": [
    {
     "data": {
      "text/plain": [
       "False"
      ]
     },
     "execution_count": 20,
     "metadata": {},
     "output_type": "execute_result"
    }
   ],
   "source": [
    "bool({})"
   ]
  },
  {
   "cell_type": "code",
   "execution_count": 21,
   "id": "4c56a44f-d840-459f-90d5-fffc6fcd0b44",
   "metadata": {},
   "outputs": [
    {
     "data": {
      "text/plain": [
       "True"
      ]
     },
     "execution_count": 21,
     "metadata": {},
     "output_type": "execute_result"
    }
   ],
   "source": [
    "bool({4})"
   ]
  },
  {
   "cell_type": "markdown",
   "id": "3d4e8dae-5699-475b-a7a0-076dd3eae308",
   "metadata": {},
   "source": [
    "# if elif else"
   ]
  },
  {
   "cell_type": "code",
   "execution_count": 1,
   "id": "8d3d99d8-5cc3-4f63-b6a6-3f37c667dffa",
   "metadata": {},
   "outputs": [],
   "source": [
    "age =20"
   ]
  },
  {
   "cell_type": "code",
   "execution_count": 6,
   "id": "ed106f4d-446b-4411-9f3e-da9a7a99164b",
   "metadata": {},
   "outputs": [
    {
     "name": "stdout",
     "output_type": "stream",
     "text": [
      "welcome\n"
     ]
    }
   ],
   "source": [
    "if age > 18:\n",
    "    print(\"welcome\")"
   ]
  },
  {
   "cell_type": "code",
   "execution_count": 7,
   "id": "2771649f-16a2-4b8a-8067-46c869ab7b62",
   "metadata": {},
   "outputs": [
    {
     "name": "stdout",
     "output_type": "stream",
     "text": [
      "not welcome\n"
     ]
    }
   ],
   "source": [
    "if age < 18:\n",
    "    print(\"welcome\")\n",
    "else:\n",
    "    print(\"not welcome\")"
   ]
  },
  {
   "cell_type": "markdown",
   "id": "d1243d79-ac94-4955-bca2-293f7baf8a18",
   "metadata": {},
   "source": [
    "# comparison operators"
   ]
  },
  {
   "cell_type": "code",
   "execution_count": 31,
   "id": "8c51ae8a-98b9-4576-926d-c06a3d1468f5",
   "metadata": {},
   "outputs": [
    {
     "data": {
      "text/plain": [
       "False"
      ]
     },
     "execution_count": 31,
     "metadata": {},
     "output_type": "execute_result"
    }
   ],
   "source": [
    "5>10"
   ]
  },
  {
   "cell_type": "code",
   "execution_count": 32,
   "id": "214d8d7e-0106-4fd3-bc3f-e403a50ff4ee",
   "metadata": {},
   "outputs": [
    {
     "data": {
      "text/plain": [
       "False"
      ]
     },
     "execution_count": 32,
     "metadata": {},
     "output_type": "execute_result"
    }
   ],
   "source": [
    "10<5"
   ]
  },
  {
   "cell_type": "code",
   "execution_count": 33,
   "id": "8f66cfb1-9452-4d08-b022-9c67bf976855",
   "metadata": {},
   "outputs": [
    {
     "data": {
      "text/plain": [
       "True"
      ]
     },
     "execution_count": 33,
     "metadata": {},
     "output_type": "execute_result"
    }
   ],
   "source": [
    "10>5"
   ]
  },
  {
   "cell_type": "code",
   "execution_count": 34,
   "id": "e1076a0b-38c8-4eca-92c2-08cd0f5b7c3e",
   "metadata": {},
   "outputs": [
    {
     "data": {
      "text/plain": [
       "True"
      ]
     },
     "execution_count": 34,
     "metadata": {},
     "output_type": "execute_result"
    }
   ],
   "source": [
    "6>3"
   ]
  },
  {
   "cell_type": "code",
   "execution_count": 35,
   "id": "573cf3bd-c978-4cbf-ae16-48056583d040",
   "metadata": {},
   "outputs": [
    {
     "data": {
      "text/plain": [
       "True"
      ]
     },
     "execution_count": 35,
     "metadata": {},
     "output_type": "execute_result"
    }
   ],
   "source": [
    "5==5"
   ]
  },
  {
   "cell_type": "code",
   "execution_count": 10,
   "id": "211cb1da-9e66-4754-8b63-557134c22c62",
   "metadata": {},
   "outputs": [],
   "source": [
    "age = 15"
   ]
  },
  {
   "cell_type": "code",
   "execution_count": 12,
   "id": "00dd2701-1ab7-4d29-9feb-0e6ec274e27e",
   "metadata": {},
   "outputs": [
    {
     "data": {
      "text/plain": [
       "False"
      ]
     },
     "execution_count": 12,
     "metadata": {},
     "output_type": "execute_result"
    }
   ],
   "source": [
    "age==18"
   ]
  },
  {
   "cell_type": "code",
   "execution_count": 40,
   "id": "2a94a9f2-e126-47da-844f-3935a2413911",
   "metadata": {},
   "outputs": [
    {
     "data": {
      "text/plain": [
       "False"
      ]
     },
     "execution_count": 40,
     "metadata": {},
     "output_type": "execute_result"
    }
   ],
   "source": [
    "10==11"
   ]
  },
  {
   "cell_type": "code",
   "execution_count": 41,
   "id": "bcce292a-8235-4884-8979-f90008d114a1",
   "metadata": {},
   "outputs": [],
   "source": [
    "age= 15"
   ]
  },
  {
   "cell_type": "code",
   "execution_count": 42,
   "id": "30db3f68-7a98-40a9-a07f-49865a852863",
   "metadata": {},
   "outputs": [
    {
     "data": {
      "text/plain": [
       "False"
      ]
     },
     "execution_count": 42,
     "metadata": {},
     "output_type": "execute_result"
    }
   ],
   "source": [
    "age > 18"
   ]
  },
  {
   "cell_type": "code",
   "execution_count": 43,
   "id": "93371428-1d70-42ca-bdf0-40f68afb65e9",
   "metadata": {},
   "outputs": [
    {
     "data": {
      "text/plain": [
       "True"
      ]
     },
     "execution_count": 43,
     "metadata": {},
     "output_type": "execute_result"
    }
   ],
   "source": [
    "age < 18"
   ]
  },
  {
   "cell_type": "code",
   "execution_count": 44,
   "id": "4cda7138-42a2-4f6c-9b88-a08b79374632",
   "metadata": {},
   "outputs": [],
   "source": [
    "age =19"
   ]
  },
  {
   "cell_type": "code",
   "execution_count": 45,
   "id": "a3f65873-3592-4554-b5a2-fdfb06af0e32",
   "metadata": {},
   "outputs": [
    {
     "data": {
      "text/plain": [
       "True"
      ]
     },
     "execution_count": 45,
     "metadata": {},
     "output_type": "execute_result"
    }
   ],
   "source": [
    "age ==19"
   ]
  },
  {
   "cell_type": "markdown",
   "id": "d8a2a08e-694a-46c5-8d46-d86a1303a23d",
   "metadata": {},
   "source": [
    "age != 19"
   ]
  },
  {
   "cell_type": "markdown",
   "id": "8a426154-8685-400e-9908-6667d91f9ce3",
   "metadata": {},
   "source": [
    "# if elif else"
   ]
  },
  {
   "cell_type": "code",
   "execution_count": 50,
   "id": "2d25fab1-34e7-483f-9698-ce5ae68e9775",
   "metadata": {},
   "outputs": [],
   "source": [
    "age = 20"
   ]
  },
  {
   "cell_type": "code",
   "execution_count": 55,
   "id": "7e1bf814-69ec-4d15-a552-626e4bd323d3",
   "metadata": {},
   "outputs": [
    {
     "data": {
      "text/plain": [
       "True"
      ]
     },
     "execution_count": 55,
     "metadata": {},
     "output_type": "execute_result"
    }
   ],
   "source": [
    "age > 18"
   ]
  },
  {
   "cell_type": "code",
   "execution_count": 58,
   "id": "2e56637f-cc58-4b00-a378-6d7f7f64a8b7",
   "metadata": {},
   "outputs": [
    {
     "name": "stdout",
     "output_type": "stream",
     "text": [
      "welcome\n"
     ]
    }
   ],
   "source": [
    "if True:\n",
    "    print('welcome')"
   ]
  },
  {
   "cell_type": "code",
   "execution_count": 74,
   "id": "4a1d97b5-505c-4e92-9f59-e75645a172ac",
   "metadata": {},
   "outputs": [],
   "source": [
    "marks = 99"
   ]
  },
  {
   "cell_type": "code",
   "execution_count": 1,
   "id": "b7f9b4d2-b993-4adc-b31b-2eaf1bd909ff",
   "metadata": {
    "scrolled": true
   },
   "outputs": [
    {
     "ename": "NameError",
     "evalue": "name 'marks' is not defined",
     "output_type": "error",
     "traceback": [
      "\u001b[1;31m---------------------------------------------------------------------------\u001b[0m",
      "\u001b[1;31mNameError\u001b[0m                                 Traceback (most recent call last)",
      "Cell \u001b[1;32mIn[1], line 1\u001b[0m\n\u001b[1;32m----> 1\u001b[0m \u001b[38;5;28;01mif\u001b[39;00m marks \u001b[38;5;241m>\u001b[39m \u001b[38;5;241m90\u001b[39m:\n\u001b[0;32m      2\u001b[0m     \u001b[38;5;28mprint\u001b[39m (\u001b[38;5;124m\"\u001b[39m\u001b[38;5;124mA\u001b[39m\u001b[38;5;124m\"\u001b[39m)\n\u001b[0;32m      3\u001b[0m \u001b[38;5;28;01melif\u001b[39;00m marks \u001b[38;5;241m>\u001b[39m \u001b[38;5;241m75\u001b[39m:\n",
      "\u001b[1;31mNameError\u001b[0m: name 'marks' is not defined"
     ]
    }
   ],
   "source": [
    "if marks > 90:\n",
    "    print (\"A\")\n",
    "elif marks > 75:\n",
    "    print (\"B\")\n",
    "elif marks > 60:\n",
    "    print (\"C\")\n",
    "elif marks > 40:\n",
    "    print (\"D\")\n",
    "else:\n",
    "    print(\"fail\")"
   ]
  },
  {
   "cell_type": "markdown",
   "id": "87524c82-437e-4835-b6d3-a27cad9f9f07",
   "metadata": {},
   "source": [
    "# bye"
   ]
  },
  {
   "cell_type": "code",
   "execution_count": 2,
   "id": "e33170de-ef91-445e-ba62-813a2bbcb78c",
   "metadata": {},
   "outputs": [],
   "source": [
    "# 2, 3, 5"
   ]
  },
  {
   "cell_type": "code",
   "execution_count": 3,
   "id": "d196018e-0841-47ce-98be-bf1003c14cf1",
   "metadata": {},
   "outputs": [],
   "source": [
    "# positive number or negative"
   ]
  },
  {
   "cell_type": "code",
   "execution_count": 78,
   "id": "53d5a167-e278-4733-a5a8-59fa82baca32",
   "metadata": {
    "scrolled": true
   },
   "outputs": [
    {
     "name": "stdout",
     "output_type": "stream",
     "text": [
      "negative\n"
     ]
    }
   ],
   "source": [
    "n = -5\n",
    "\n",
    "if n > 0:\n",
    "     print(\"positive\")\n",
    "elif n < 0:\n",
    "    print(\"negative\")\n",
    "else:\n",
    "    print(\"zero\")"
   ]
  },
  {
   "cell_type": "code",
   "execution_count": 6,
   "id": "8f308ab5-e8c6-4fb7-a760-84a767b7013d",
   "metadata": {
    "scrolled": true
   },
   "outputs": [
    {
     "name": "stdout",
     "output_type": "stream",
     "text": [
      "hello\n",
      "hii\n"
     ]
    }
   ],
   "source": [
    "n = 10\n",
    "m = 15\n",
    "\n",
    "if m > n:\n",
    "    print(\"hello\")\n",
    "    print(\"hii\")"
   ]
  },
  {
   "cell_type": "markdown",
   "id": "89a8ef68-6dd0-41cb-a4c8-fcb86bb0998c",
   "metadata": {},
   "source": [
    "# nested if else"
   ]
  },
  {
   "cell_type": "code",
   "execution_count": 7,
   "id": "fd1ba536-ef0e-43e6-bb4a-4b8e9ce87609",
   "metadata": {},
   "outputs": [
    {
     "name": "stdout",
     "output_type": "stream",
     "text": [
      "hii\n"
     ]
    }
   ],
   "source": [
    "n = 10\n",
    "m = 5\n",
    "\n",
    "if m>n:\n",
    "    print(\"hello\")\n",
    "print(\"hii\")"
   ]
  },
  {
   "cell_type": "code",
   "execution_count": 8,
   "id": "719177f9-0ae0-4e2f-a7ef-a7d1faf4cebd",
   "metadata": {},
   "outputs": [
    {
     "name": "stdout",
     "output_type": "stream",
     "text": [
      "bye\n",
      "hii\n"
     ]
    }
   ],
   "source": [
    "n = 10\n",
    "m = 5\n",
    "\n",
    "if m>n:\n",
    "    print(\"hello\")\n",
    "else:\n",
    "    print(\"bye\")\n",
    "print(\"hii\")"
   ]
  },
  {
   "cell_type": "code",
   "execution_count": 14,
   "id": "36be9284-3aea-4c08-b200-8d1a72a2d59a",
   "metadata": {},
   "outputs": [
    {
     "name": "stdout",
     "output_type": "stream",
     "text": [
      "hii\n"
     ]
    }
   ],
   "source": [
    "m = 10\n",
    "n = 20\n",
    "o = 25\n",
    "\n",
    "if o > n:\n",
    "    print(\"hii\")\n",
    "elif o > m:\n",
    "    print(\"hello\")\n"
   ]
  },
  {
   "cell_type": "code",
   "execution_count": 17,
   "id": "86534fa7-6736-47f4-b5fe-fa010359a6c6",
   "metadata": {},
   "outputs": [
    {
     "data": {
      "text/plain": [
       "0"
      ]
     },
     "execution_count": 17,
     "metadata": {},
     "output_type": "execute_result"
    }
   ],
   "source": [
    "25%5"
   ]
  },
  {
   "cell_type": "code",
   "execution_count": 18,
   "id": "33d6acca-8f0d-4f44-a81c-18b4b411f8ed",
   "metadata": {},
   "outputs": [
    {
     "data": {
      "text/plain": [
       "3"
      ]
     },
     "execution_count": 18,
     "metadata": {},
     "output_type": "execute_result"
    }
   ],
   "source": [
    "23%5"
   ]
  },
  {
   "cell_type": "code",
   "execution_count": 19,
   "id": "16c516b9-6ea8-4e82-a0d8-fba117b1a224",
   "metadata": {},
   "outputs": [
    {
     "data": {
      "text/plain": [
       "3"
      ]
     },
     "execution_count": 19,
     "metadata": {},
     "output_type": "execute_result"
    }
   ],
   "source": [
    "45%6"
   ]
  },
  {
   "cell_type": "code",
   "execution_count": 20,
   "id": "81092cd0-490a-4e53-9613-7b45614b7d81",
   "metadata": {},
   "outputs": [
    {
     "data": {
      "text/plain": [
       "0"
      ]
     },
     "execution_count": 20,
     "metadata": {},
     "output_type": "execute_result"
    }
   ],
   "source": [
    "28%7"
   ]
  },
  {
   "cell_type": "code",
   "execution_count": 21,
   "id": "47cb3279-711f-4d98-9d1e-347785f4ac69",
   "metadata": {},
   "outputs": [
    {
     "name": "stdout",
     "output_type": "stream",
     "text": [
      "division\n"
     ]
    }
   ],
   "source": [
    "if 28 % 7 == 0:\n",
    "    print(\"division\")"
   ]
  },
  {
   "cell_type": "code",
   "execution_count": 22,
   "id": "06dfc435-3f60-459f-a0e5-c0404d524ebe",
   "metadata": {},
   "outputs": [
    {
     "data": {
      "text/plain": [
       "True"
      ]
     },
     "execution_count": 22,
     "metadata": {},
     "output_type": "execute_result"
    }
   ],
   "source": [
    "22 % 2 == 0"
   ]
  },
  {
   "cell_type": "code",
   "execution_count": 23,
   "id": "42b09c63-35bb-4788-b718-64943dd37162",
   "metadata": {},
   "outputs": [
    {
     "name": "stdout",
     "output_type": "stream",
     "text": [
      "even\n"
     ]
    }
   ],
   "source": [
    "if 22 % 2 == 0:\n",
    "    print(\"even\")"
   ]
  },
  {
   "cell_type": "code",
   "execution_count": 26,
   "id": "3a495fd5-5588-43c2-bef1-51cd3ac2661d",
   "metadata": {},
   "outputs": [
    {
     "name": "stdout",
     "output_type": "stream",
     "text": [
      "even\n"
     ]
    }
   ],
   "source": [
    "n = 20\n",
    "\n",
    "if n % 2 == 0:\n",
    "    print(\"even\")\n",
    "\n",
    "else:\n",
    "    print(\"odd\")"
   ]
  },
  {
   "cell_type": "code",
   "execution_count": 59,
   "id": "1432af71-6b9c-4a73-9567-d004c66d1f0d",
   "metadata": {},
   "outputs": [],
   "source": [
    "n = 12"
   ]
  },
  {
   "cell_type": "code",
   "execution_count": 60,
   "id": "eda3d300-7b00-4d2f-ba43-cf25d787e7db",
   "metadata": {},
   "outputs": [
    {
     "name": "stdout",
     "output_type": "stream",
     "text": [
      "divisible by 2 and 3\n"
     ]
    }
   ],
   "source": [
    "if n % 2 == 0:\n",
    "    # divisible by 2\n",
    "    if n % 3 == 0:\n",
    "        # divisibe y 3\n",
    "        print(\"divisible by 2 and 3\")\n",
    "    else:\n",
    "        print(\"divisible by 2 and 3\")\n",
    "elif n % 3 == 0:\n",
    "    print(\"divisible by 3 but not 2\")\n",
    "else:\n",
    "        print(\"not divisible by 2 and 3\")"
   ]
  },
  {
   "cell_type": "code",
   "execution_count": 72,
   "id": "5a09e54b-05ba-4a26-9252-069149046b18",
   "metadata": {},
   "outputs": [],
   "source": [
    "n = 25"
   ]
  },
  {
   "cell_type": "code",
   "execution_count": 73,
   "id": "fb09a771-1a76-432b-816c-734a4f64db45",
   "metadata": {},
   "outputs": [
    {
     "name": "stdout",
     "output_type": "stream",
     "text": [
      "divisible by 3 but not 2\n"
     ]
    }
   ],
   "source": [
    "if n % 2 == 0:\n",
    "    if n % 3 == 0:\n",
    "        print(\"divisible by 2 and 3\")\n",
    "    else:\n",
    "        print(\"divisible by 2 but not 3\")\n",
    "elif n % 3:\n",
    "    print(\"divisible by 3 but not 2\")\n",
    "else:\n",
    "    print(\"not divisible by 2 and 3\")"
   ]
  },
  {
   "cell_type": "code",
   "execution_count": 106,
   "id": "a527560b-36ea-42b1-af7d-e0ae571e3fc5",
   "metadata": {},
   "outputs": [],
   "source": [
    "city = \"agra\""
   ]
  },
  {
   "cell_type": "code",
   "execution_count": 114,
   "id": "8f944173-e19c-4c9c-95c3-208530e1999b",
   "metadata": {},
   "outputs": [],
   "source": [
    "age = 12"
   ]
  },
  {
   "cell_type": "code",
   "execution_count": 115,
   "id": "5ccb0b6f-605e-487f-ad68-3778674354a9",
   "metadata": {},
   "outputs": [
    {
     "name": "stdout",
     "output_type": "stream",
     "text": [
      " galat aagye tum\n"
     ]
    }
   ],
   "source": [
    "if city == \"delhi\":\n",
    "    if age < 30:\n",
    "        print(\"welcome to delhi young man\")\n",
    "    else:\n",
    "        print(\"bahr milo tum\")\n",
    "elif city == \"chd\":\n",
    "    if age > 50:\n",
    "        print(\"welcome to city of reirement\")\n",
    "    else:\n",
    "        print(\"welcome to chd\")\n",
    "elif city == \"agra\":\n",
    "    if age > 15:\n",
    "        print(\"swagat hai\")\n",
    "    else:\n",
    "        print(\" galat aagye tum\")\n",
    "    \n",
    "        "
   ]
  },
  {
   "cell_type": "code",
   "execution_count": null,
   "id": "1f218f89-33e6-4e99-927e-95b858fab1d9",
   "metadata": {},
   "outputs": [],
   "source": []
  }
 ],
 "metadata": {
  "kernelspec": {
   "display_name": "Python 3 (ipykernel)",
   "language": "python",
   "name": "python3"
  },
  "language_info": {
   "codemirror_mode": {
    "name": "ipython",
    "version": 3
   },
   "file_extension": ".py",
   "mimetype": "text/x-python",
   "name": "python",
   "nbconvert_exporter": "python",
   "pygments_lexer": "ipython3",
   "version": "3.13.5"
  }
 },
 "nbformat": 4,
 "nbformat_minor": 5
}
