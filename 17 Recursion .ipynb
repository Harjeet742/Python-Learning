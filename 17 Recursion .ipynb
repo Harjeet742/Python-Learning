{
 "cells": [
  {
   "cell_type": "markdown",
   "id": "b241b6de-32d5-48b9-9268-2371468a1e70",
   "metadata": {},
   "source": [
    "# Recursion"
   ]
  },
  {
   "cell_type": "markdown",
   "id": "1b902a5e-2524-4051-927e-093f1eefb8d7",
   "metadata": {},
   "source": [
    "### when we call a function in itself\n",
    "\n",
    "1. we call a function in itself\n",
    "2. we assume the second call will give a correct output\n",
    "3. it must a terminating condiotion"
   ]
  },
  {
   "cell_type": "code",
   "execution_count": 1,
   "id": "8a0decd8-f2cc-40f9-9551-81daca858473",
   "metadata": {},
   "outputs": [],
   "source": [
    "def factorial(n):\n",
    "    print(n, n-1)\n",
    "    if n == 0:\n",
    "        return 1\n",
    "    return n * factorial(n-1)"
   ]
  },
  {
   "cell_type": "code",
   "execution_count": 2,
   "id": "53adc6f5-0d02-403b-869e-1e73b9666e06",
   "metadata": {},
   "outputs": [
    {
     "name": "stdout",
     "output_type": "stream",
     "text": [
      "5 4\n",
      "4 3\n",
      "3 2\n",
      "2 1\n",
      "1 0\n",
      "0 -1\n"
     ]
    },
    {
     "data": {
      "text/plain": [
       "120"
      ]
     },
     "execution_count": 2,
     "metadata": {},
     "output_type": "execute_result"
    }
   ],
   "source": [
    "factorial(5)"
   ]
  },
  {
   "cell_type": "code",
   "execution_count": 6,
   "id": "7941b29c-0ddd-46c6-98b2-5fe19b866081",
   "metadata": {},
   "outputs": [],
   "source": [
    "def factorial(n):\n",
    "    if n == 0:\n",
    "        return 1\n",
    "    return n * factorial(n-1)"
   ]
  },
  {
   "cell_type": "code",
   "execution_count": 7,
   "id": "23491ec8-eda2-4cb9-a03e-d440721b9b38",
   "metadata": {},
   "outputs": [
    {
     "data": {
      "text/plain": [
       "120"
      ]
     },
     "execution_count": 7,
     "metadata": {},
     "output_type": "execute_result"
    }
   ],
   "source": [
    "factorial(5)"
   ]
  },
  {
   "cell_type": "code",
   "execution_count": 12,
   "id": "68d342f4-c451-4a7c-9484-357271947d1d",
   "metadata": {},
   "outputs": [],
   "source": [
    "def factorial(n):\n",
    "    #print(n, n-1)\n",
    "    if n == 0:\n",
    "        return 1\n",
    "    abc = n * factorial(n-1)\n",
    "    print(abc)\n",
    "    return abc"
   ]
  },
  {
   "cell_type": "code",
   "execution_count": 13,
   "id": "53bb1edb-b4c1-4d6b-b4a1-881d092efa30",
   "metadata": {},
   "outputs": [
    {
     "name": "stdout",
     "output_type": "stream",
     "text": [
      "1\n",
      "2\n",
      "6\n",
      "24\n",
      "120\n"
     ]
    },
    {
     "data": {
      "text/plain": [
       "120"
      ]
     },
     "execution_count": 13,
     "metadata": {},
     "output_type": "execute_result"
    }
   ],
   "source": [
    "factorial(5)"
   ]
  },
  {
   "cell_type": "code",
   "execution_count": 17,
   "id": "798cc458-1b3b-40a4-9e73-dea9023d271e",
   "metadata": {},
   "outputs": [],
   "source": [
    "L = [4,5,7,9,4,3,1,6]"
   ]
  },
  {
   "cell_type": "code",
   "execution_count": 28,
   "id": "2b9ab950-df91-4223-baba-55504ec249c9",
   "metadata": {},
   "outputs": [],
   "source": [
    "def addList(L):\n",
    "    print(L)\n",
    "    if len(L) == 0:\n",
    "        return 0\n",
    "    return L[0] + addList(L[1:])"
   ]
  },
  {
   "cell_type": "code",
   "execution_count": 29,
   "id": "a816ec80-5fc4-420d-aa33-e02afecbe043",
   "metadata": {},
   "outputs": [
    {
     "name": "stdout",
     "output_type": "stream",
     "text": [
      "[4, 5, 7, 9, 4, 3, 1, 6]\n",
      "[5, 7, 9, 4, 3, 1, 6]\n",
      "[7, 9, 4, 3, 1, 6]\n",
      "[9, 4, 3, 1, 6]\n",
      "[4, 3, 1, 6]\n",
      "[3, 1, 6]\n",
      "[1, 6]\n",
      "[6]\n",
      "[]\n"
     ]
    },
    {
     "data": {
      "text/plain": [
       "39"
      ]
     },
     "execution_count": 29,
     "metadata": {},
     "output_type": "execute_result"
    }
   ],
   "source": [
    "addList(L)"
   ]
  },
  {
   "cell_type": "code",
   "execution_count": 32,
   "id": "386816b0-a949-49ca-8ed9-4c1e6693b0f2",
   "metadata": {},
   "outputs": [],
   "source": [
    "def addList(li):\n",
    "    print(li)\n",
    "    if type(li) is int:\n",
    "        return li\n",
    "    elif len(li)==0:\n",
    "        return 0\n",
    "    abc =  addList(li[0]) + addList(li[1:])\n",
    "    return abc"
   ]
  },
  {
   "cell_type": "code",
   "execution_count": 35,
   "id": "8e2dcbd9-380b-48de-8c92-a56893e28f64",
   "metadata": {},
   "outputs": [
    {
     "name": "stdout",
     "output_type": "stream",
     "text": [
      "[1, 2, [9, 6, 4, 2], 7, 5, 6, 3]\n",
      "1\n",
      "[2, [9, 6, 4, 2], 7, 5, 6, 3]\n",
      "2\n",
      "[[9, 6, 4, 2], 7, 5, 6, 3]\n",
      "[9, 6, 4, 2]\n",
      "9\n",
      "[6, 4, 2]\n",
      "6\n",
      "[4, 2]\n",
      "4\n",
      "[2]\n",
      "2\n",
      "[]\n",
      "[7, 5, 6, 3]\n",
      "7\n",
      "[5, 6, 3]\n",
      "5\n",
      "[6, 3]\n",
      "6\n",
      "[3]\n",
      "3\n",
      "[]\n"
     ]
    },
    {
     "data": {
      "text/plain": [
       "45"
      ]
     },
     "execution_count": 35,
     "metadata": {},
     "output_type": "execute_result"
    }
   ],
   "source": [
    "addList([1,2,[9,6,4,2],7,5,6,3])"
   ]
  },
  {
   "cell_type": "code",
   "execution_count": null,
   "id": "af846024-b956-49b4-a691-8c89c5c74fab",
   "metadata": {},
   "outputs": [],
   "source": []
  }
 ],
 "metadata": {
  "kernelspec": {
   "display_name": "Python 3 (ipykernel)",
   "language": "python",
   "name": "python3"
  },
  "language_info": {
   "codemirror_mode": {
    "name": "ipython",
    "version": 3
   },
   "file_extension": ".py",
   "mimetype": "text/x-python",
   "name": "python",
   "nbconvert_exporter": "python",
   "pygments_lexer": "ipython3",
   "version": "3.13.5"
  }
 },
 "nbformat": 4,
 "nbformat_minor": 5
}
