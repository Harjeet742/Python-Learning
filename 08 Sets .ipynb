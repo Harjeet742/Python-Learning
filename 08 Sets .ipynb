{
 "cells": [
  {
   "cell_type": "markdown",
   "id": "7e0166af-2616-4dad-92d4-d618e3953101",
   "metadata": {},
   "source": [
    "# SETS\n",
    "# unique collection of elements"
   ]
  },
  {
   "cell_type": "code",
   "execution_count": 2,
   "id": "8bf47f86-6668-4738-87ec-b23215b7fa8d",
   "metadata": {},
   "outputs": [],
   "source": [
    "a = {1,1,1,2,5,6,6,5}"
   ]
  },
  {
   "cell_type": "code",
   "execution_count": 3,
   "id": "3802dde3-99fe-41a9-bf6b-f797965c636f",
   "metadata": {},
   "outputs": [
    {
     "data": {
      "text/plain": [
       "{1, 2, 5, 6}"
      ]
     },
     "execution_count": 3,
     "metadata": {},
     "output_type": "execute_result"
    }
   ],
   "source": [
    "a"
   ]
  },
  {
   "cell_type": "code",
   "execution_count": 4,
   "id": "5cbddde4-f918-4a21-b446-999f9fb7fc27",
   "metadata": {},
   "outputs": [
    {
     "data": {
      "text/plain": [
       "{'happy'}"
      ]
     },
     "execution_count": 4,
     "metadata": {},
     "output_type": "execute_result"
    }
   ],
   "source": [
    "{\"happy\", \"happy\"}"
   ]
  },
  {
   "cell_type": "code",
   "execution_count": 5,
   "id": "5092083e-d562-44ff-b9aa-1fd91446091d",
   "metadata": {},
   "outputs": [],
   "source": [
    "a = {1,2,3}"
   ]
  },
  {
   "cell_type": "code",
   "execution_count": 6,
   "id": "9347e96c-110f-4677-b53f-8d31f5adfa6f",
   "metadata": {},
   "outputs": [],
   "source": [
    "b = {2,3}"
   ]
  },
  {
   "cell_type": "code",
   "execution_count": 7,
   "id": "c250578c-0d54-462c-93ee-bba5cc9fe831",
   "metadata": {},
   "outputs": [
    {
     "data": {
      "text/plain": [
       "True"
      ]
     },
     "execution_count": 7,
     "metadata": {},
     "output_type": "execute_result"
    }
   ],
   "source": [
    "a.issuperset(b)"
   ]
  },
  {
   "cell_type": "code",
   "execution_count": 8,
   "id": "24e3265f-1e41-4c48-8586-aa5383430931",
   "metadata": {},
   "outputs": [
    {
     "data": {
      "text/plain": [
       "True"
      ]
     },
     "execution_count": 8,
     "metadata": {},
     "output_type": "execute_result"
    }
   ],
   "source": [
    "b.issubset(a)"
   ]
  },
  {
   "cell_type": "code",
   "execution_count": 9,
   "id": "bda8ccf1-868c-46a5-b290-8fad628a7010",
   "metadata": {},
   "outputs": [
    {
     "data": {
      "text/plain": [
       "{1, 2, 3}"
      ]
     },
     "execution_count": 9,
     "metadata": {},
     "output_type": "execute_result"
    }
   ],
   "source": [
    "b.union(a)"
   ]
  },
  {
   "cell_type": "code",
   "execution_count": 10,
   "id": "329c754f-ea29-4973-a744-aa254b365c2a",
   "metadata": {},
   "outputs": [
    {
     "data": {
      "text/plain": [
       "{1, 2, 3}"
      ]
     },
     "execution_count": 10,
     "metadata": {},
     "output_type": "execute_result"
    }
   ],
   "source": [
    "a.union(b)"
   ]
  },
  {
   "cell_type": "code",
   "execution_count": 11,
   "id": "ab284191-5f1f-425b-a926-b2e270f885b9",
   "metadata": {},
   "outputs": [
    {
     "data": {
      "text/plain": [
       "{2, 3}"
      ]
     },
     "execution_count": 11,
     "metadata": {},
     "output_type": "execute_result"
    }
   ],
   "source": [
    "a.intersection(b)"
   ]
  },
  {
   "cell_type": "code",
   "execution_count": 12,
   "id": "bff65846-c4c5-4fd9-9c50-398c50974a7b",
   "metadata": {},
   "outputs": [
    {
     "data": {
      "text/plain": [
       "{2, 3}"
      ]
     },
     "execution_count": 12,
     "metadata": {},
     "output_type": "execute_result"
    }
   ],
   "source": [
    "b.intersection(a)"
   ]
  },
  {
   "cell_type": "code",
   "execution_count": 13,
   "id": "6831273f-b20c-463b-9de3-cc09a9ff1e99",
   "metadata": {},
   "outputs": [
    {
     "data": {
      "text/plain": [
       "{1}"
      ]
     },
     "execution_count": 13,
     "metadata": {},
     "output_type": "execute_result"
    }
   ],
   "source": [
    "a.difference(b)"
   ]
  },
  {
   "cell_type": "code",
   "execution_count": 14,
   "id": "52afbd83-13fe-4908-8da7-8d6ffb8e4639",
   "metadata": {},
   "outputs": [
    {
     "data": {
      "text/plain": [
       "set()"
      ]
     },
     "execution_count": 14,
     "metadata": {},
     "output_type": "execute_result"
    }
   ],
   "source": [
    "b.difference(a)"
   ]
  },
  {
   "cell_type": "code",
   "execution_count": null,
   "id": "37adab90-1707-478c-9744-aa0d481f9662",
   "metadata": {},
   "outputs": [],
   "source": []
  }
 ],
 "metadata": {
  "kernelspec": {
   "display_name": "Python 3 (ipykernel)",
   "language": "python",
   "name": "python3"
  },
  "language_info": {
   "codemirror_mode": {
    "name": "ipython",
    "version": 3
   },
   "file_extension": ".py",
   "mimetype": "text/x-python",
   "name": "python",
   "nbconvert_exporter": "python",
   "pygments_lexer": "ipython3",
   "version": "3.13.5"
  }
 },
 "nbformat": 4,
 "nbformat_minor": 5
}
