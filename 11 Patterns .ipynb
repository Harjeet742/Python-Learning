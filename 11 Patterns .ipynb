{
 "cells": [
  {
   "cell_type": "code",
   "execution_count": 31,
   "id": "fe653b94-9064-4171-b935-32c0b225ea5f",
   "metadata": {},
   "outputs": [
    {
     "name": "stdout",
     "output_type": "stream",
     "text": [
      "5 5 5 5 5 \n",
      "4 4 4 4 \n",
      "3 3 3 \n",
      "2 2 \n",
      "1 \n"
     ]
    }
   ],
   "source": [
    "i = 0\n",
    "n = 5\n",
    "while i < n:\n",
    "    j = 0\n",
    "    m = 5\n",
    "    while j < n-i:\n",
    "        print(n-i, end= \" \")\n",
    "        j += 1\n",
    "    print()\n",
    "    i += 1\n",
    "   "
   ]
  },
  {
   "cell_type": "code",
   "execution_count": 46,
   "id": "eccb9567-95dc-4a3d-b7e9-8f6d0c3f4b79",
   "metadata": {},
   "outputs": [
    {
     "name": "stdout",
     "output_type": "stream",
     "text": [
      "\n",
      "1 \n",
      "2 2 \n",
      "3 3 3 \n",
      "4 4 4 4 \n",
      "5 5 5 5 5 \n"
     ]
    }
   ],
   "source": [
    "i = 0\n",
    "n = 5\n",
    "while i <= n:\n",
    "    j = 0\n",
    "    m = 5\n",
    "    while j < i:\n",
    "        print(i, end= \" \")\n",
    "        j += 1\n",
    "    print()\n",
    "    i += 1\n",
    "   "
   ]
  },
  {
   "cell_type": "code",
   "execution_count": 76,
   "id": "52bf7a28-ff83-467c-884d-a6b5a902b7e6",
   "metadata": {},
   "outputs": [
    {
     "name": "stdout",
     "output_type": "stream",
     "text": [
      "5 4 3 2 1 \n",
      "5 4 3 2 \n",
      "5 4 3 \n",
      "5 4 \n",
      "5 \n"
     ]
    }
   ],
   "source": [
    "i = 0\n",
    "n = 5\n",
    "while i < n:\n",
    "    j = 0\n",
    "    m = 5\n",
    "    while j < n-i:\n",
    "        print(n-j, end= \" \")\n",
    "        j += 1\n",
    "    print()\n",
    "    i += 1\n",
    "   "
   ]
  },
  {
   "cell_type": "code",
   "execution_count": 72,
   "id": "f58cd97d-2406-4b4c-924d-bc64772c7184",
   "metadata": {},
   "outputs": [
    {
     "name": "stdout",
     "output_type": "stream",
     "text": [
      "4 4 4 4 4 \n",
      "3 3 3 3 \n",
      "2 2 2 \n",
      "1 1 \n",
      "0 \n"
     ]
    }
   ],
   "source": [
    "i = 0\n",
    "n = 5\n",
    "while i < n:\n",
    "    j = 0\n",
    "    m = 5\n",
    "    while j < n-i:\n",
    "        print(n-i-1, end= \" \")\n",
    "        j += 1\n",
    "    print()\n",
    "    i += 1\n",
    "   "
   ]
  },
  {
   "cell_type": "code",
   "execution_count": 94,
   "id": "4a253bf2-cefa-4b1f-b895-882b295ef192",
   "metadata": {},
   "outputs": [
    {
     "name": "stdout",
     "output_type": "stream",
     "text": [
      "* * * * * \n",
      "* * * * \n",
      "* * * \n",
      "* * \n",
      "* \n"
     ]
    }
   ],
   "source": [
    "i = 0\n",
    "n = 5\n",
    "while i < n:\n",
    "    j = 0\n",
    "    m = 5\n",
    "    while j < n-i:\n",
    "        print(\"*\", end= \" \")\n",
    "        j += 1\n",
    "    print()\n",
    "    i += 1\n",
    "   "
   ]
  },
  {
   "cell_type": "code",
   "execution_count": 23,
   "id": "6927ee53-71eb-41ac-b316-0a735a30103b",
   "metadata": {},
   "outputs": [
    {
     "name": "stdout",
     "output_type": "stream",
     "text": [
      "*****\n",
      "*   *\n",
      "*   *\n",
      "*   *\n",
      "*****\n"
     ]
    }
   ],
   "source": [
    "i = 0\n",
    "n = 5\n",
    "while i < n:\n",
    "    j = 0\n",
    "    m = 5\n",
    "    while j < n:\n",
    "        if i == 0 or i == n-1 or j == 0 or j == n-1:\n",
    "            print(\"*\", end = \"\")\n",
    "        else:\n",
    "            print(\" \", end = \"\")\n",
    "        j += 1\n",
    "    print()\n",
    "    i += 1\n",
    "   "
   ]
  },
  {
   "cell_type": "code",
   "execution_count": 2,
   "id": "aceb05b5-0794-4700-906f-113f38a164a3",
   "metadata": {},
   "outputs": [
    {
     "name": "stdout",
     "output_type": "stream",
     "text": [
      "*****\n",
      " *****\n",
      "  *****\n",
      "   *****\n",
      "    *****\n"
     ]
    }
   ],
   "source": [
    "i=0\n",
    "n=5\n",
    "while i<n:\n",
    "    k=0\n",
    "    while k<i:\n",
    "        print(\" \",end=\"\")\n",
    "        k+=1\n",
    "    j=0\n",
    "    while j<n:\n",
    "        print(\"*\",end=\"\")\n",
    "        j+=1\n",
    "    print()\n",
    "    i+=1"
   ]
  },
  {
   "cell_type": "code",
   "execution_count": 107,
   "id": "90b51e0f-2c4c-4083-aa42-c8ced29dc182",
   "metadata": {},
   "outputs": [
    {
     "name": "stdout",
     "output_type": "stream",
     "text": [
      "     \n",
      "    *\n",
      "   ***\n",
      "  *****\n",
      " *******\n",
      "*********\n"
     ]
    }
   ],
   "source": [
    "i=0\n",
    "n=5\n",
    "while i<= n:\n",
    "    k=0\n",
    "    while k < n-i:\n",
    "        print(\" \",end=\"\")\n",
    "        k+=1\n",
    "    \n",
    "    j=0\n",
    "    while j < i*2-1:\n",
    "        print(\"*\",end=\"\")\n",
    "        j+=1\n",
    "    print()\n",
    "    i+=1"
   ]
  },
  {
   "cell_type": "code",
   "execution_count": 4,
   "id": "5ec205b6-96bf-490c-b346-0b4b6bfabe7a",
   "metadata": {},
   "outputs": [
    {
     "name": "stdout",
     "output_type": "stream",
     "text": [
      "*********\n",
      " *******\n",
      "  *****\n",
      "   ***\n",
      "    *\n"
     ]
    }
   ],
   "source": [
    "n = 5\n",
    "i = 0\n",
    "while i < n:\n",
    "    \n",
    "    k = 0\n",
    "    while k < i:\n",
    "        print(\" \", end=\"\")\n",
    "        k += 1\n",
    "    \n",
    "    j = 0\n",
    "    while j < (n - i)* 2- 1:\n",
    "        print(\"*\", end=\"\")\n",
    "        j += 1\n",
    "    \n",
    "    print()\n",
    "    i += 1"
   ]
  },
  {
   "cell_type": "code",
   "execution_count": 28,
   "id": "8ccf946e-f569-4258-8dd6-53c116a0011c",
   "metadata": {},
   "outputs": [
    {
     "name": "stdout",
     "output_type": "stream",
     "text": [
      "     *\n",
      "    ***\n",
      "   *****\n",
      "  *******\n",
      " *********\n",
      "     *********\n",
      "    *******\n",
      "   *****\n",
      "  ***\n",
      " *\n"
     ]
    }
   ],
   "source": [
    "i = 0\n",
    "n = 5\n",
    "while i < n:\n",
    "    j = 0\n",
    "    while j < n-i:\n",
    "        print(\" \", end= \"\")\n",
    "        j += 1\n",
    "\n",
    "    k = 0\n",
    "    while k <((i + 1)*2)-1:\n",
    "        print(\"*\", end= \"\")\n",
    "        k += 1\n",
    "    \n",
    "        \n",
    "    print()\n",
    "    i += 1\n",
    "\n",
    "i = 0\n",
    "n = 5\n",
    "while i < n:\n",
    "    j = 0\n",
    "    while j < n-i:\n",
    "        print(\" \", end= \"\")\n",
    "        j += 1\n",
    "\n",
    "    k = 0\n",
    "    while k <(n-i)*2-1:\n",
    "        print(\"*\", end= \"\")\n",
    "        k += 1\n",
    "    \n",
    "        \n",
    "    print()\n",
    "    i += 1"
   ]
  },
  {
   "cell_type": "code",
   "execution_count": null,
   "id": "9817fef6-6958-4779-923b-3a26179de87b",
   "metadata": {},
   "outputs": [],
   "source": []
  }
 ],
 "metadata": {
  "kernelspec": {
   "display_name": "Python 3 (ipykernel)",
   "language": "python",
   "name": "python3"
  },
  "language_info": {
   "codemirror_mode": {
    "name": "ipython",
    "version": 3
   },
   "file_extension": ".py",
   "mimetype": "text/x-python",
   "name": "python",
   "nbconvert_exporter": "python",
   "pygments_lexer": "ipython3",
   "version": "3.13.5"
  }
 },
 "nbformat": 4,
 "nbformat_minor": 5
}
