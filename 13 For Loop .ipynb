{
 "cells": [
  {
   "cell_type": "markdown",
   "id": "2239af32-ded7-42ae-bdb4-18a03a9731ed",
   "metadata": {},
   "source": [
    "# FOR LOOP"
   ]
  },
  {
   "cell_type": "code",
   "execution_count": 1,
   "id": "ccd997d5-cb0a-44e7-8dfb-24d16d81fb58",
   "metadata": {},
   "outputs": [
    {
     "name": "stdout",
     "output_type": "stream",
     "text": [
      "5\n",
      "4\n",
      "3\n",
      "2\n",
      "1\n"
     ]
    }
   ],
   "source": [
    "i = 5\n",
    "n = 0\n",
    "while i > n:\n",
    "    print(i)\n",
    "    i -= 1\n"
   ]
  },
  {
   "cell_type": "code",
   "execution_count": 1,
   "id": "f00bf5e8-9b35-49d1-be44-061f08c549f1",
   "metadata": {},
   "outputs": [
    {
     "name": "stdout",
     "output_type": "stream",
     "text": [
      "5\n",
      "4\n",
      "3\n",
      "2\n",
      "1\n"
     ]
    }
   ],
   "source": [
    "i = 5\n",
    "while i:\n",
    "    print(i)\n",
    "    i -= 1"
   ]
  },
  {
   "cell_type": "code",
   "execution_count": 5,
   "id": "9eb762df-d5d4-43f1-b99d-a55c9801bb9c",
   "metadata": {},
   "outputs": [],
   "source": [
    "name = \"harjeet\""
   ]
  },
  {
   "cell_type": "code",
   "execution_count": 8,
   "id": "68578ad1-cfb0-4f9f-a43e-d0d3dbccdbfa",
   "metadata": {},
   "outputs": [
    {
     "name": "stdout",
     "output_type": "stream",
     "text": [
      "hy\n",
      "hy\n",
      "hy\n",
      "hy\n",
      "hy\n",
      "hy\n",
      "hy\n"
     ]
    }
   ],
   "source": [
    "for alphabet in name:\n",
    "    print(\"hy\")\n",
    "    "
   ]
  },
  {
   "cell_type": "code",
   "execution_count": 12,
   "id": "50e897f6-8ad6-4b2e-ba63-9fa4457a579a",
   "metadata": {},
   "outputs": [
    {
     "name": "stdout",
     "output_type": "stream",
     "text": [
      "h\n",
      "a\n",
      "r\n",
      "j\n",
      "e\n",
      "e\n",
      "t\n"
     ]
    }
   ],
   "source": [
    "for alphabet in name:\n",
    "    print(alphabet)"
   ]
  },
  {
   "cell_type": "code",
   "execution_count": 14,
   "id": "7e52f3b9-47a3-4cb4-a70f-66c8906a6390",
   "metadata": {},
   "outputs": [
    {
     "name": "stdout",
     "output_type": "stream",
     "text": [
      "tomato\n",
      "onion\n",
      "potato\n",
      "ladyfinger\n"
     ]
    }
   ],
   "source": [
    "items = \"tomato\", \"onion\", \"potato\", \"ladyfinger\"\n",
    "\n",
    "for vegetables in items:\n",
    "    print(vegetables)"
   ]
  },
  {
   "cell_type": "code",
   "execution_count": 5,
   "id": "a25bb45e-49e7-4271-af2b-e11d4083fced",
   "metadata": {},
   "outputs": [
    {
     "name": "stdout",
     "output_type": "stream",
     "text": [
      "hello franklin\n",
      "hello lester\n",
      "hello michael\n",
      "hello trever\n"
     ]
    }
   ],
   "source": [
    "course = ['franklin', 'lester', 'michael', 'trever']\n",
    "for people in course:\n",
    "    print('hello', people)"
   ]
  },
  {
   "cell_type": "code",
   "execution_count": 18,
   "id": "25910bc5-1524-43d9-b330-ddbe9ad02d28",
   "metadata": {},
   "outputs": [
    {
     "name": "stdout",
     "output_type": "stream",
     "text": [
      "8\n",
      "7\n",
      "3\n",
      "35\n",
      "67\n",
      "75\n"
     ]
    }
   ],
   "source": [
    "s = [8, 7, 3, 35, 67, 75]\n",
    "for i in s:\n",
    "    print(i)"
   ]
  },
  {
   "cell_type": "code",
   "execution_count": 20,
   "id": "34e9cd52-bc4a-4399-a5b9-0e4e2832e754",
   "metadata": {},
   "outputs": [
    {
     "name": "stdout",
     "output_type": "stream",
     "text": [
      "0\n",
      "1\n",
      "2\n",
      "3\n",
      "4\n"
     ]
    }
   ],
   "source": [
    "i = 0\n",
    "n = 5\n",
    "while i < n:\n",
    "    print(i)\n",
    "    i += 1"
   ]
  },
  {
   "cell_type": "code",
   "execution_count": 7,
   "id": "29c656dd-0223-4db1-8b5d-9b83fea37688",
   "metadata": {},
   "outputs": [
    {
     "name": "stdout",
     "output_type": "stream",
     "text": [
      "3\n",
      "5\n",
      "7\n",
      "9\n"
     ]
    }
   ],
   "source": [
    "for i in range(3, 10, 2):\n",
    "    print(i)"
   ]
  },
  {
   "cell_type": "code",
   "execution_count": 12,
   "id": "59f35550-5a7f-48e2-80d3-bee4132341af",
   "metadata": {},
   "outputs": [
    {
     "name": "stdout",
     "output_type": "stream",
     "text": [
      "h\n",
      "a\n",
      "r\n",
      "j\n",
      "e\n",
      "e\n",
      "t\n"
     ]
    }
   ],
   "source": [
    "name = \"harjeet\"\n",
    "i = 0\n",
    "n = len(name)\n",
    "while i < n:\n",
    "    print(name[i])\n",
    "    \n",
    "    i += 1"
   ]
  },
  {
   "cell_type": "code",
   "execution_count": 20,
   "id": "ec00bb1d-ada1-4b68-aa8d-4497b06456be",
   "metadata": {},
   "outputs": [
    {
     "name": "stdout",
     "output_type": "stream",
     "text": [
      "0\n",
      "1\n",
      "2\n",
      "3\n",
      "4\n"
     ]
    }
   ],
   "source": [
    "for i in range(5):\n",
    "    print(i)"
   ]
  },
  {
   "cell_type": "code",
   "execution_count": 59,
   "id": "14b49ca3-1f4e-4f7d-8f89-7a39c84010fd",
   "metadata": {},
   "outputs": [
    {
     "name": "stdout",
     "output_type": "stream",
     "text": [
      "h\n",
      "a\n",
      "r\n",
      "j\n",
      "e\n",
      "e\n",
      "t\n"
     ]
    }
   ],
   "source": [
    "name = \"harjeet\"\n",
    "for i in range(len(name)):\n",
    "    #print(i)\n",
    "    print(name[i])"
   ]
  },
  {
   "cell_type": "code",
   "execution_count": 6,
   "id": "b0739895-9e38-4857-a3b3-171604bcf053",
   "metadata": {},
   "outputs": [
    {
     "name": "stdin",
     "output_type": "stream",
     "text": [
      "enter your name karanaujla\n"
     ]
    },
    {
     "name": "stdout",
     "output_type": "stream",
     "text": [
      "anarak\n",
      "anarak\n",
      "anarak\n",
      "anarak\n",
      "anarak\n",
      "anarak\n",
      "anarak\n",
      "anarak\n",
      "anarak\n",
      "anarak\n"
     ]
    }
   ],
   "source": [
    "name = input(\"enter your name\")\n",
    "for i in range(len(name)):\n",
    "    print(name[0:6][::-1])"
   ]
  },
  {
   "cell_type": "code",
   "execution_count": 7,
   "id": "c7af5257-32db-4e4b-973f-2be452735fca",
   "metadata": {},
   "outputs": [
    {
     "name": "stdin",
     "output_type": "stream",
     "text": [
      "enter your name karanaujla\n"
     ]
    },
    {
     "name": "stdout",
     "output_type": "stream",
     "text": [
      "aljuanarak\n",
      "aljuanarak\n",
      "aljuanarak\n",
      "aljuanarak\n",
      "aljuanarak\n",
      "aljuanarak\n",
      "aljuanarak\n",
      "aljuanarak\n",
      "aljuanarak\n",
      "aljuanarak\n"
     ]
    }
   ],
   "source": [
    "name = input(\"enter your name\")\n",
    "for i in range(len(name)):\n",
    "    print(name[::-1])"
   ]
  },
  {
   "cell_type": "code",
   "execution_count": 13,
   "id": "a4f21ad5-055d-43f2-8a4b-4d0a660c844f",
   "metadata": {},
   "outputs": [
    {
     "name": "stdin",
     "output_type": "stream",
     "text": [
      "enter your name sidhumoosewala\n"
     ]
    },
    {
     "name": "stdout",
     "output_type": "stream",
     "text": [
      "sidhu\n",
      "sidhu\n",
      "sidhu\n",
      "sidhu\n",
      "sidhu\n",
      "sidhu\n",
      "sidhu\n",
      "sidhu\n",
      "sidhu\n",
      "sidhu\n",
      "sidhu\n",
      "sidhu\n",
      "sidhu\n",
      "sidhu\n"
     ]
    }
   ],
   "source": [
    "name = input(\"enter your name\")\n",
    "for i in range(len(name)):\n",
    "    print(name[0:5])"
   ]
  },
  {
   "cell_type": "code",
   "execution_count": 44,
   "id": "a3d6eb13-57c6-4f62-ae81-039e20088cb1",
   "metadata": {
    "scrolled": true
   },
   "outputs": [
    {
     "name": "stdin",
     "output_type": "stream",
     "text": [
      "enter your name mohit\n"
     ]
    },
    {
     "name": "stdout",
     "output_type": "stream",
     "text": [
      "m 0\n",
      "o 1\n",
      "h 2\n",
      "i 3\n",
      "t 4\n"
     ]
    }
   ],
   "source": [
    "name = input(\"enter your name\")\n",
    "for i in range(len(name)):\n",
    "    print(name[i], i)"
   ]
  },
  {
   "cell_type": "code",
   "execution_count": 2,
   "id": "ab492bd4-ed34-4cf4-911c-1f0cce6ae093",
   "metadata": {},
   "outputs": [
    {
     "name": "stdin",
     "output_type": "stream",
     "text": [
      "enter your name here Sidhumoosewala\n"
     ]
    },
    {
     "name": "stdout",
     "output_type": "stream",
     "text": [
      "muhdiS\n",
      "muhdiS\n",
      "muhdiS\n",
      "muhdiS\n",
      "muhdiS\n",
      "muhdiS\n",
      "muhdiS\n",
      "muhdiS\n",
      "muhdiS\n",
      "muhdiS\n"
     ]
    }
   ],
   "source": [
    "name = input(\"enter your name here\")\n",
    "for i in range(1, 11):\n",
    "    print(name[0:6][::-1])"
   ]
  },
  {
   "cell_type": "code",
   "execution_count": 69,
   "id": "476fdcdc-ec2a-43ff-b454-60053eb12c4e",
   "metadata": {},
   "outputs": [
    {
     "name": "stdin",
     "output_type": "stream",
     "text": [
      "enter your value 4\n"
     ]
    },
    {
     "name": "stdout",
     "output_type": "stream",
     "text": [
      "4 x 1 = 4\n",
      "4 x 2 = 8\n",
      "4 x 3 = 12\n",
      "4 x 4 = 16\n",
      "4 x 5 = 20\n",
      "4 x 6 = 24\n",
      "4 x 7 = 28\n",
      "4 x 8 = 32\n",
      "4 x 9 = 36\n",
      "4 x 10 = 40\n"
     ]
    }
   ],
   "source": [
    "row= int(input(\"enter your value\"))\n",
    "for i in range(1, 11):\n",
    "    print(row, \"x\", i, \"=\", row*i)"
   ]
  },
  {
   "cell_type": "code",
   "execution_count": 14,
   "id": "55963a5d-0361-4750-97aa-3135d56c1481",
   "metadata": {},
   "outputs": [
    {
     "name": "stdin",
     "output_type": "stream",
     "text": [
      "enter your number 87\n"
     ]
    },
    {
     "name": "stdout",
     "output_type": "stream",
     "text": [
      "87 x 1 = 87\n",
      "87 x 2 = 174\n",
      "87 x 3 = 261\n",
      "87 x 4 = 348\n",
      "87 x 5 = 435\n",
      "87 x 6 = 522\n",
      "87 x 7 = 609\n",
      "87 x 8 = 696\n",
      "87 x 9 = 783\n",
      "87 x 10 = 870\n"
     ]
    }
   ],
   "source": [
    "li= int(input(\"enter your number\"))\n",
    "for i in range(1, 11):\n",
    "    print(li, \"x\", i, \"=\", li*i)"
   ]
  },
  {
   "cell_type": "code",
   "execution_count": 73,
   "id": "91e74c42-6f28-4b58-a573-fb7bd9df9060",
   "metadata": {},
   "outputs": [
    {
     "name": "stdin",
     "output_type": "stream",
     "text": [
      "enter your num here 8\n"
     ]
    },
    {
     "name": "stdout",
     "output_type": "stream",
     "text": [
      "8 x 1 = 8\n",
      "8 x 3 = 24\n",
      "8 x 5 = 40\n",
      "8 x 7 = 56\n",
      "8 x 9 = 72\n",
      "8 x 11 = 88\n",
      "8 x 13 = 104\n",
      "8 x 15 = 120\n",
      "8 x 17 = 136\n",
      "8 x 19 = 152\n"
     ]
    }
   ],
   "source": [
    "digits= int(input(\"enter your num here\"))\n",
    "for i in range(1,21,2):\n",
    "    print(digits, \"x\", i, \"=\", i*digits)"
   ]
  },
  {
   "cell_type": "code",
   "execution_count": 77,
   "id": "c756b9a8-2592-40a6-8830-bdb6f93384ad",
   "metadata": {},
   "outputs": [
    {
     "name": "stdin",
     "output_type": "stream",
     "text": [
      "enter your number please 17\n"
     ]
    },
    {
     "name": "stdout",
     "output_type": "stream",
     "text": [
      "17 / 1 = 17.0\n",
      "17 / 2 = 8.5\n",
      "17 / 3 = 5.666666666666667\n",
      "17 / 4 = 4.25\n",
      "17 / 5 = 3.4\n",
      "17 / 6 = 2.8333333333333335\n",
      "17 / 7 = 2.4285714285714284\n",
      "17 / 8 = 2.125\n",
      "17 / 9 = 1.8888888888888888\n",
      "17 / 10 = 1.7\n"
     ]
    }
   ],
   "source": [
    "num = int(input(\"enter your number please\"))\n",
    "for i in range(1,11):\n",
    "    print(num, \"/\", i, \"=\", num/i)"
   ]
  },
  {
   "cell_type": "code",
   "execution_count": 78,
   "id": "1c2f37db-433c-4afc-85d1-2735dae47098",
   "metadata": {},
   "outputs": [
    {
     "name": "stdin",
     "output_type": "stream",
     "text": [
      "enter your number please 17\n"
     ]
    },
    {
     "name": "stdout",
     "output_type": "stream",
     "text": [
      "17 / 1 = 17\n",
      "17 / 2 = 8\n",
      "17 / 3 = 5\n",
      "17 / 4 = 4\n",
      "17 / 5 = 3\n",
      "17 / 6 = 2\n",
      "17 / 7 = 2\n",
      "17 / 8 = 2\n",
      "17 / 9 = 1\n",
      "17 / 10 = 1\n"
     ]
    }
   ],
   "source": [
    "num = int(input(\"enter your number please\"))\n",
    "for i in range(1,11):\n",
    "    print(num, \"/\", i, \"=\", num//i)"
   ]
  },
  {
   "cell_type": "code",
   "execution_count": 79,
   "id": "ac22ffe6-f40d-48c0-a028-b4acd0ef2f94",
   "metadata": {},
   "outputs": [
    {
     "name": "stdout",
     "output_type": "stream",
     "text": [
      "15 x 1 = 15\n",
      "15 x 2 = 30\n",
      "15 x 3 = 45\n",
      "15 x 4 = 60\n",
      "15 x 5 = 75\n",
      "15 x 6 = 90\n",
      "15 x 7 = 105\n",
      "15 x 8 = 120\n",
      "15 x 9 = 135\n",
      "15 x 10 = 150\n"
     ]
    }
   ],
   "source": [
    "n = 15\n",
    "for i in range(1, 11):\n",
    "    print(n, \"x\", i, \"=\", i*n)"
   ]
  },
  {
   "cell_type": "code",
   "execution_count": 81,
   "id": "b581c3ce-6d50-4f03-abfc-50b48cb0977d",
   "metadata": {},
   "outputs": [
    {
     "name": "stdout",
     "output_type": "stream",
     "text": [
      "13 / 1 = 13\n",
      "13 / 2 = 26\n",
      "13 / 3 = 39\n",
      "13 / 4 = 52\n",
      "13 / 5 = 65\n",
      "13 / 6 = 78\n",
      "13 / 7 = 91\n",
      "13 / 8 = 104\n",
      "13 / 9 = 117\n"
     ]
    }
   ],
   "source": [
    "n = 13\n",
    "for i in range(1, 10):\n",
    "    print(n, \"/\", i, \"=\", i*n)"
   ]
  },
  {
   "cell_type": "code",
   "execution_count": 18,
   "id": "03bb1aeb-6846-4cca-9a89-7b25b97d7f9a",
   "metadata": {},
   "outputs": [],
   "source": [
    "name = ['harjeet', 'sahil', 'ujjwal']"
   ]
  },
  {
   "cell_type": "code",
   "execution_count": 21,
   "id": "bf5abaad-c59f-4f84-9e8a-95a52cc4abe6",
   "metadata": {},
   "outputs": [
    {
     "name": "stdout",
     "output_type": "stream",
     "text": [
      "harjeet\n",
      "sahil\n",
      "ujjwal\n"
     ]
    }
   ],
   "source": [
    "for name in name:\n",
    "    print(name)"
   ]
  },
  {
   "cell_type": "code",
   "execution_count": 25,
   "id": "93961e83-d81b-467d-919e-59409f45491f",
   "metadata": {},
   "outputs": [],
   "source": [
    "li = ['sahil', 'akarsh', 'ujjwal']"
   ]
  },
  {
   "cell_type": "code",
   "execution_count": 26,
   "id": "b0a9e7b3-0b90-4830-bb8a-fa541e7af94c",
   "metadata": {},
   "outputs": [
    {
     "name": "stdout",
     "output_type": "stream",
     "text": [
      "sahil\n",
      "akarsh\n",
      "ujjwal\n"
     ]
    }
   ],
   "source": [
    "for i in li:\n",
    "    print(i)"
   ]
  },
  {
   "cell_type": "code",
   "execution_count": 32,
   "id": "40b11727-f870-49db-9fa4-3e4930378620",
   "metadata": {},
   "outputs": [],
   "source": [
    "##using file random"
   ]
  },
  {
   "cell_type": "code",
   "execution_count": 27,
   "id": "d88be1a9-2a50-4a5e-822a-bda71ce01e6f",
   "metadata": {},
   "outputs": [],
   "source": [
    "import random"
   ]
  },
  {
   "cell_type": "code",
   "execution_count": 28,
   "id": "c5cabc89-351d-4241-9efb-6cd59a26b00d",
   "metadata": {},
   "outputs": [
    {
     "data": {
      "text/plain": [
       "'random.py'"
      ]
     },
     "execution_count": 28,
     "metadata": {},
     "output_type": "execute_result"
    }
   ],
   "source": [
    "\"random.py\""
   ]
  },
  {
   "cell_type": "code",
   "execution_count": 30,
   "id": "a8568e68-297e-4872-9858-08b6fb507335",
   "metadata": {},
   "outputs": [
    {
     "data": {
      "text/plain": [
       "5"
      ]
     },
     "execution_count": 30,
     "metadata": {},
     "output_type": "execute_result"
    }
   ],
   "source": [
    "random.randint(1,10)"
   ]
  },
  {
   "cell_type": "code",
   "execution_count": 47,
   "id": "cf71bfa9-fcd4-4b9d-ab0d-480092d30b17",
   "metadata": {},
   "outputs": [
    {
     "name": "stdout",
     "output_type": "stream",
     "text": [
      "2 9 10 9 4 10 3 8 3 2 6 1 1 4 4 "
     ]
    },
    {
     "data": {
      "text/plain": [
       "[2, 9, 10, 9, 4, 10, 3, 8, 3, 2, 6, 1, 1, 4, 4]"
      ]
     },
     "execution_count": 47,
     "metadata": {},
     "output_type": "execute_result"
    }
   ],
   "source": [
    "li = []\n",
    "\n",
    "for i in range(15):\n",
    "    num = random.randint(1, 10)\n",
    "    print(num, end= \" \")\n",
    "    li.append(num)\n",
    "      \n",
    "li"
   ]
  },
  {
   "cell_type": "code",
   "execution_count": 48,
   "id": "a1032c25-ca5f-49ba-97e1-5984065d1fb3",
   "metadata": {},
   "outputs": [
    {
     "data": {
      "text/plain": [
       "[2, 9, 10, 9, 4, 10, 3, 8, 3, 2, 6, 1, 1, 4, 4]"
      ]
     },
     "execution_count": 48,
     "metadata": {},
     "output_type": "execute_result"
    }
   ],
   "source": [
    "li"
   ]
  },
  {
   "cell_type": "code",
   "execution_count": 55,
   "id": "1783a4f1-08d7-4826-bdf7-fd8ba987f16a",
   "metadata": {},
   "outputs": [
    {
     "name": "stdout",
     "output_type": "stream",
     "text": [
      "[2, 3, 4, 5]\n",
      "[4, 9, 16, 25]\n"
     ]
    }
   ],
   "source": [
    "li = [2,3,4,5]\n",
    "a= []\n",
    "for i in li:\n",
    "    s = i**2\n",
    "    a.append(s)\n",
    "\n",
    "print(li)\n",
    "print(a)"
   ]
  },
  {
   "cell_type": "markdown",
   "id": "b1f000ac-9bfa-456b-bd55-909a3da86cbe",
   "metadata": {},
   "source": [
    "# list comprehension"
   ]
  },
  {
   "cell_type": "code",
   "execution_count": 57,
   "id": "89dbcfd9-5f99-47fe-a447-cf6e4f1a1ee2",
   "metadata": {},
   "outputs": [
    {
     "data": {
      "text/plain": [
       "[10, 1, 10, 1, 8]"
      ]
     },
     "execution_count": 57,
     "metadata": {},
     "output_type": "execute_result"
    }
   ],
   "source": [
    "a = []\n",
    "for i in range(5):\n",
    "    a.append(random.randint(1,10))\n",
    "\n",
    "a"
   ]
  },
  {
   "cell_type": "code",
   "execution_count": 58,
   "id": "6211d970-744c-4366-8143-89d089ed7365",
   "metadata": {},
   "outputs": [
    {
     "data": {
      "text/plain": [
       "[10, 1, 10, 1, 8]"
      ]
     },
     "execution_count": 58,
     "metadata": {},
     "output_type": "execute_result"
    }
   ],
   "source": [
    "a"
   ]
  },
  {
   "cell_type": "code",
   "execution_count": 59,
   "id": "fd21fcbc-8c61-4a86-9192-52029a913855",
   "metadata": {},
   "outputs": [
    {
     "data": {
      "text/plain": [
       "[4, 3, 6, 8, 3]"
      ]
     },
     "execution_count": 59,
     "metadata": {},
     "output_type": "execute_result"
    }
   ],
   "source": [
    "a = [random.randint(1, 10) for i in range(5)]\n",
    "a"
   ]
  },
  {
   "cell_type": "code",
   "execution_count": 60,
   "id": "345b1600-0389-44c1-9579-38c659381321",
   "metadata": {},
   "outputs": [
    {
     "data": {
      "text/plain": [
       "[4, 3, 6, 8, 3]"
      ]
     },
     "execution_count": 60,
     "metadata": {},
     "output_type": "execute_result"
    }
   ],
   "source": [
    "a"
   ]
  },
  {
   "cell_type": "code",
   "execution_count": 62,
   "id": "912d8483-2167-44ed-8e8e-7c662a1d162a",
   "metadata": {},
   "outputs": [
    {
     "name": "stdout",
     "output_type": "stream",
     "text": [
      "[16, 9, 36, 64, 9]\n"
     ]
    }
   ],
   "source": [
    "l = [i**2 for i in a]\n",
    "print(l)"
   ]
  },
  {
   "cell_type": "code",
   "execution_count": 63,
   "id": "9edeb4a5-b7b7-43c8-b47a-e43dc7cae4ee",
   "metadata": {},
   "outputs": [
    {
     "name": "stdout",
     "output_type": "stream",
     "text": [
      "[4, 3, 6, 8, 3]\n",
      "[16, 9, 36, 64, 9]\n"
     ]
    }
   ],
   "source": [
    "l = [i**2 for i in a]\n",
    "print(a)\n",
    "print(l)"
   ]
  },
  {
   "cell_type": "code",
   "execution_count": 64,
   "id": "f5e7d63c-fc38-42c8-a973-7345b145de30",
   "metadata": {},
   "outputs": [
    {
     "name": "stdout",
     "output_type": "stream",
     "text": [
      "[4, 3, 6, 8, 3]\n",
      "[16, 9, 36, 64, 9]\n"
     ]
    }
   ],
   "source": [
    "l = [a[i]**2 for i in range(len(a))]\n",
    "print(a)\n",
    "print(l)"
   ]
  },
  {
   "cell_type": "code",
   "execution_count": 65,
   "id": "c2759115-6f98-4f03-bb25-9ab27ec74c9a",
   "metadata": {},
   "outputs": [],
   "source": [
    "name = ['shubham', 'akash', 'abhi']\n",
    "age = [20,30,35]"
   ]
  },
  {
   "cell_type": "code",
   "execution_count": 113,
   "id": "35b6c9d2-8472-4d3d-a991-1ead030b2d84",
   "metadata": {},
   "outputs": [
    {
     "name": "stdout",
     "output_type": "stream",
     "text": [
      "shubham 20\n",
      "akash 30\n",
      "abhi 35\n"
     ]
    }
   ],
   "source": [
    "li = []\n",
    "for i, j in zip(name, age):\n",
    "    print(i, j)"
   ]
  },
  {
   "cell_type": "code",
   "execution_count": 135,
   "id": "d421d48f-966f-4e68-80e3-d72df5921467",
   "metadata": {},
   "outputs": [
    {
     "name": "stdout",
     "output_type": "stream",
     "text": [
      "rohan maths\n",
      "ashu english\n",
      "abdul science\n"
     ]
    }
   ],
   "source": [
    "course = [\"maths\", \"english\", \"science\"]\n",
    "stu = [\"rohan\", \"ashu\", \"abdul\"]\n",
    "\n",
    "we =[]\n",
    "for i, h in zip(stu, course):\n",
    "    print(i, h)"
   ]
  },
  {
   "cell_type": "code",
   "execution_count": 139,
   "id": "5641ac20-2d6a-4948-ba5d-5c276fbb1525",
   "metadata": {},
   "outputs": [],
   "source": [
    "f = {}\n",
    "for i, h in zip(stu, course):\n",
    "    f[i]= h"
   ]
  },
  {
   "cell_type": "code",
   "execution_count": 140,
   "id": "df0193f4-204c-4440-b66d-5b0fef4edfa8",
   "metadata": {},
   "outputs": [
    {
     "data": {
      "text/plain": [
       "{'rohan': 'maths', 'ashu': 'english', 'abdul': 'science'}"
      ]
     },
     "execution_count": 140,
     "metadata": {},
     "output_type": "execute_result"
    }
   ],
   "source": [
    "f"
   ]
  },
  {
   "cell_type": "code",
   "execution_count": 137,
   "id": "05962df5-2f0f-46ad-9aa7-e6ec0d45dde1",
   "metadata": {},
   "outputs": [],
   "source": [
    "d= {}\n",
    "for i, j in zip(name, age):\n",
    "    d[i]= j"
   ]
  },
  {
   "cell_type": "code",
   "execution_count": 138,
   "id": "d634825e-2b26-42a6-8422-37b40625dfde",
   "metadata": {},
   "outputs": [
    {
     "data": {
      "text/plain": [
       "{'shubham': 20, 'akash': 30, 'abhi': 35}"
      ]
     },
     "execution_count": 138,
     "metadata": {},
     "output_type": "execute_result"
    }
   ],
   "source": [
    "d"
   ]
  },
  {
   "cell_type": "code",
   "execution_count": 141,
   "id": "6480cb90-147a-4e2c-8f89-ef3f06d590c5",
   "metadata": {},
   "outputs": [
    {
     "data": {
      "text/plain": [
       "{'shubham': 20, 'akash': 30, 'abhi': 35}"
      ]
     },
     "execution_count": 141,
     "metadata": {},
     "output_type": "execute_result"
    }
   ],
   "source": [
    "{i: j for i, j in zip(name, age)}"
   ]
  },
  {
   "cell_type": "code",
   "execution_count": null,
   "id": "3f51456b-ec82-4281-83ee-07613885f682",
   "metadata": {},
   "outputs": [],
   "source": [
    "typ"
   ]
  }
 ],
 "metadata": {
  "kernelspec": {
   "display_name": "Python 3 (ipykernel)",
   "language": "python",
   "name": "python3"
  },
  "language_info": {
   "codemirror_mode": {
    "name": "ipython",
    "version": 3
   },
   "file_extension": ".py",
   "mimetype": "text/x-python",
   "name": "python",
   "nbconvert_exporter": "python",
   "pygments_lexer": "ipython3",
   "version": "3.13.5"
  }
 },
 "nbformat": 4,
 "nbformat_minor": 5
}
