{
 "cells": [
  {
   "cell_type": "markdown",
   "id": "e2fbf09c-7ef0-4b98-9ee0-f81d82af18d4",
   "metadata": {},
   "source": [
    "# Functions"
   ]
  },
  {
   "cell_type": "markdown",
   "id": "f183d30d-243c-4d5e-8b69-18af24bed562",
   "metadata": {},
   "source": [
    "## functions store code, and it executes the code when called"
   ]
  },
  {
   "cell_type": "code",
   "execution_count": 5,
   "id": "1c6394b0-325e-4290-ae2a-16c8e32eb982",
   "metadata": {},
   "outputs": [],
   "source": [
    "# define a function\n",
    "\n",
    "def greeting():\n",
    "    print(\"hello everyone\")"
   ]
  },
  {
   "cell_type": "code",
   "execution_count": 6,
   "id": "5bfef0fe-06d0-4950-9d7f-7b47dc7d8fb0",
   "metadata": {},
   "outputs": [
    {
     "name": "stdout",
     "output_type": "stream",
     "text": [
      "hello everyone\n"
     ]
    }
   ],
   "source": [
    "# call a function\n",
    "\n",
    "greeting()"
   ]
  },
  {
   "cell_type": "markdown",
   "id": "d3cb9bbd-e929-4344-a998-0108895bd3ac",
   "metadata": {},
   "source": [
    "# Type of functions"
   ]
  },
  {
   "cell_type": "markdown",
   "id": "54ef2114-1c32-4c38-94d0-df083254d217",
   "metadata": {},
   "source": [
    "## built in functions"
   ]
  },
  {
   "cell_type": "code",
   "execution_count": 7,
   "id": "3aaa2bbb-95f1-480f-adc9-911a4abaf7b5",
   "metadata": {},
   "outputs": [
    {
     "name": "stdout",
     "output_type": "stream",
     "text": [
      "hi\n"
     ]
    },
    {
     "data": {
      "text/plain": [
       "7"
      ]
     },
     "execution_count": 7,
     "metadata": {},
     "output_type": "execute_result"
    }
   ],
   "source": [
    "# built in functons\n",
    "print(\"hi\")\n",
    "len(\"harjeet\")"
   ]
  },
  {
   "cell_type": "code",
   "execution_count": 9,
   "id": "ae2042fb-7b1b-4e4d-aae2-33d9cc293e67",
   "metadata": {},
   "outputs": [
    {
     "data": {
      "text/plain": [
       "10"
      ]
     },
     "execution_count": 9,
     "metadata": {},
     "output_type": "execute_result"
    }
   ],
   "source": [
    "min([8, 6, 10])\n",
    "max([8, 6, 10])"
   ]
  },
  {
   "cell_type": "markdown",
   "id": "e255f1e8-09a2-46ef-825d-570f59188b16",
   "metadata": {},
   "source": [
    "## user defined functions"
   ]
  },
  {
   "cell_type": "code",
   "execution_count": 10,
   "id": "7bffaf17-8dc3-44b1-b50c-9f0771d052c2",
   "metadata": {},
   "outputs": [],
   "source": [
    "# simple finctions\n",
    "\n",
    "def greeting():\n",
    "    print(\"hello everyone\")"
   ]
  },
  {
   "cell_type": "code",
   "execution_count": 11,
   "id": "e1f1582b-2f4c-4b98-813d-f6f8443d1ace",
   "metadata": {},
   "outputs": [
    {
     "name": "stdout",
     "output_type": "stream",
     "text": [
      "hello everyone\n"
     ]
    }
   ],
   "source": [
    "greeting()"
   ]
  },
  {
   "cell_type": "code",
   "execution_count": 17,
   "id": "3d0b1fc5-8be4-4c75-b27f-9adedc424b1d",
   "metadata": {},
   "outputs": [],
   "source": [
    "# input functions\n",
    "\n",
    "def greeting():\n",
    "    name = \"sahil\"\n",
    "    print(f\"hello {name} nice to meet you\")"
   ]
  },
  {
   "cell_type": "code",
   "execution_count": 18,
   "id": "e1817bd8-79d7-4209-9f2d-059919000598",
   "metadata": {},
   "outputs": [
    {
     "name": "stdout",
     "output_type": "stream",
     "text": [
      "hello sahil nice to meet you\n"
     ]
    }
   ],
   "source": [
    "greeting()"
   ]
  },
  {
   "cell_type": "code",
   "execution_count": 22,
   "id": "cc076f96-2254-4115-bf06-bbe29578e0bb",
   "metadata": {},
   "outputs": [],
   "source": [
    "def greeting(name):\n",
    "    print(f\"hello {name} nice to meet you\")"
   ]
  },
  {
   "cell_type": "code",
   "execution_count": 23,
   "id": "5712fd3c-6cbb-4f03-865d-48a635710918",
   "metadata": {},
   "outputs": [
    {
     "name": "stdout",
     "output_type": "stream",
     "text": [
      "hello sahil nice to meet you\n"
     ]
    }
   ],
   "source": [
    "greeting(\"sahil\")"
   ]
  },
  {
   "cell_type": "code",
   "execution_count": 24,
   "id": "bfbc8726-a0f8-4dc6-8c12-9f18daf2a517",
   "metadata": {},
   "outputs": [],
   "source": [
    "def area_of_circle(r):\n",
    "    print((22/7)*r*r)"
   ]
  },
  {
   "cell_type": "code",
   "execution_count": 25,
   "id": "0bcefd80-c83d-46b4-a277-dfa226cd514c",
   "metadata": {},
   "outputs": [
    {
     "name": "stdout",
     "output_type": "stream",
     "text": [
      "78.57142857142857\n"
     ]
    }
   ],
   "source": [
    "area_of_circle(5)"
   ]
  },
  {
   "cell_type": "code",
   "execution_count": 26,
   "id": "9cfb5bd8-19af-418c-a1c9-159b4991695d",
   "metadata": {},
   "outputs": [],
   "source": [
    "def area_of_rectangle(length, width):\n",
    "    print(length*width)"
   ]
  },
  {
   "cell_type": "code",
   "execution_count": 28,
   "id": "d86922cc-b683-4b9a-a2b2-0975335caf24",
   "metadata": {},
   "outputs": [
    {
     "name": "stdout",
     "output_type": "stream",
     "text": [
      "50\n"
     ]
    }
   ],
   "source": [
    "area_of_rectangle(10,5)"
   ]
  },
  {
   "cell_type": "markdown",
   "id": "4fb03517-2a5a-49f4-a075-cc60d68e9605",
   "metadata": {},
   "source": [
    "### scope"
   ]
  },
  {
   "cell_type": "code",
   "execution_count": 33,
   "id": "ac1ad74a-7644-4e10-a35e-76156817c7e5",
   "metadata": {},
   "outputs": [],
   "source": [
    "# global scope\n",
    "job = \"hunting\"\n",
    "def myProfile():\n",
    "    #local scope\n",
    "    name = \"harjeet\"\n",
    "    age = 20\n",
    "    education = \"bba\"\n",
    "    job = \"netmax\"\n",
    "    print(name, age, education, job)\n",
    "    "
   ]
  },
  {
   "cell_type": "code",
   "execution_count": 34,
   "id": "1250212e-3ade-4647-91ad-364a401f6342",
   "metadata": {},
   "outputs": [
    {
     "name": "stdout",
     "output_type": "stream",
     "text": [
      "harjeet 20 bba netmax\n"
     ]
    }
   ],
   "source": [
    "myProfile()"
   ]
  },
  {
   "cell_type": "code",
   "execution_count": 35,
   "id": "706149ad-c878-4f84-8a7e-169da4e55715",
   "metadata": {},
   "outputs": [
    {
     "data": {
      "text/plain": [
       "'hunting'"
      ]
     },
     "execution_count": 35,
     "metadata": {},
     "output_type": "execute_result"
    }
   ],
   "source": [
    "job"
   ]
  },
  {
   "cell_type": "code",
   "execution_count": 41,
   "id": "be5e5677-be1c-4712-82e3-f50878dd6f26",
   "metadata": {},
   "outputs": [],
   "source": [
    "# global scope\n",
    "job = \"hunting\"\n",
    "def myProfile():\n",
    "    #local scope\n",
    "    name = \"harjeet\"\n",
    "    global age\n",
    "    age = 25\n",
    "    education = \"bba\"\n",
    "    job = \"netmax\"\n",
    "    print(name, age, education, job)\n",
    "    "
   ]
  },
  {
   "cell_type": "code",
   "execution_count": 42,
   "id": "6a835b6f-4047-403f-8ab2-6d56dd81d395",
   "metadata": {},
   "outputs": [
    {
     "name": "stdout",
     "output_type": "stream",
     "text": [
      "harjeet 25 bba netmax\n"
     ]
    }
   ],
   "source": [
    "myProfile()"
   ]
  },
  {
   "cell_type": "code",
   "execution_count": 43,
   "id": "f95cf46a-5fe5-416c-a897-843c1bbca4c3",
   "metadata": {},
   "outputs": [
    {
     "data": {
      "text/plain": [
       "25"
      ]
     },
     "execution_count": 43,
     "metadata": {},
     "output_type": "execute_result"
    }
   ],
   "source": [
    "age"
   ]
  },
  {
   "cell_type": "code",
   "execution_count": 44,
   "id": "83fd3e1a-e46a-497f-ab8d-81871c13e004",
   "metadata": {},
   "outputs": [
    {
     "name": "stdout",
     "output_type": "stream",
     "text": [
      "hello name nice to meet you\n"
     ]
    }
   ],
   "source": [
    "greeting(\"name\")"
   ]
  },
  {
   "cell_type": "code",
   "execution_count": 53,
   "id": "1854f814-ef98-457a-9a04-42cb13c3187c",
   "metadata": {},
   "outputs": [],
   "source": [
    "# default function\n",
    "def greeting(name= \"lassan\"):\n",
    "    print(f\"hello {name}, nice to meet you\")"
   ]
  },
  {
   "cell_type": "code",
   "execution_count": 54,
   "id": "58f94f59-55b1-4b6d-a2c5-d169a9ab0b29",
   "metadata": {},
   "outputs": [
    {
     "name": "stdout",
     "output_type": "stream",
     "text": [
      "hello lassan, nice to meet you\n"
     ]
    }
   ],
   "source": [
    "greeting()"
   ]
  },
  {
   "cell_type": "code",
   "execution_count": 84,
   "id": "a3fc7798-2226-4e5c-9e95-a353889757e1",
   "metadata": {},
   "outputs": [],
   "source": [
    "# return function\n",
    "def salary_structure(salary, tax_rate= 0.12):\n",
    "    tax=salary* tax_rate\n",
    "    return tax"
   ]
  },
  {
   "cell_type": "code",
   "execution_count": 88,
   "id": "f8c888b2-d6a8-47eb-9a4b-abf3096600c7",
   "metadata": {},
   "outputs": [],
   "source": [
    "tax = salary_structure(80000, tax_rate=0.12)"
   ]
  },
  {
   "cell_type": "code",
   "execution_count": 86,
   "id": "aecd0f8c-1015-4c1f-8ee8-4c03267e546d",
   "metadata": {},
   "outputs": [
    {
     "data": {
      "text/plain": [
       "9600.0"
      ]
     },
     "execution_count": 86,
     "metadata": {},
     "output_type": "execute_result"
    }
   ],
   "source": [
    "tax"
   ]
  },
  {
   "cell_type": "code",
   "execution_count": 99,
   "id": "6db1d7a3-dd1f-4f3f-a3f6-13c209a85fe6",
   "metadata": {},
   "outputs": [],
   "source": [
    "def volume_of_cuboid(length, width, hight):\n",
    "    \"\"\" this function calculates volume of cuboid \n",
    "    it takes length, width, higth, as input and \n",
    "    multiplies them\n",
    "    \"\"\"\n",
    "    dimensions = f\"\"\"\n",
    "        length: {length}\n",
    "        width : {width}\n",
    "        hight : {hight}\n",
    "    \"\"\"\n",
    "    print(dimensions)\n",
    "    return length*width*hight"
   ]
  },
  {
   "cell_type": "code",
   "execution_count": 94,
   "id": "19818294-ba70-4acb-8322-f8e762f6341a",
   "metadata": {},
   "outputs": [
    {
     "name": "stdout",
     "output_type": "stream",
     "text": [
      "\n",
      "        length: 30\n",
      "        width : 50\n",
      "        hight : 70\n",
      "    \n"
     ]
    },
    {
     "data": {
      "text/plain": [
       "105000"
      ]
     },
     "execution_count": 94,
     "metadata": {},
     "output_type": "execute_result"
    }
   ],
   "source": [
    "# positional arguement\n",
    "volume_of_cuboid(30, 50, 70)"
   ]
  },
  {
   "cell_type": "code",
   "execution_count": 97,
   "id": "2234ed78-28da-4cf4-9195-a882545a16fc",
   "metadata": {},
   "outputs": [
    {
     "name": "stdout",
     "output_type": "stream",
     "text": [
      "\n",
      "        length: 30\n",
      "        width : 70\n",
      "        hight : 50\n",
      "    \n"
     ]
    },
    {
     "data": {
      "text/plain": [
       "105000"
      ]
     },
     "execution_count": 97,
     "metadata": {},
     "output_type": "execute_result"
    }
   ],
   "source": [
    "# keyword arguement\n",
    "volume_of_cuboid(length=30, width= 70, hight= 50)"
   ]
  },
  {
   "cell_type": "code",
   "execution_count": 100,
   "id": "eeed0556-3288-49e0-90cc-70470c3d40cc",
   "metadata": {},
   "outputs": [
    {
     "name": "stdout",
     "output_type": "stream",
     "text": [
      "Help on function volume_of_cuboid in module __main__:\n",
      "\n",
      "volume_of_cuboid(length, width, hight)\n",
      "    this function calculates volume of cuboid\n",
      "    it takes length, width, higth, as input and\n",
      "    multiplies them\n",
      "\n"
     ]
    }
   ],
   "source": [
    "help(volume_of_cuboid)"
   ]
  },
  {
   "cell_type": "code",
   "execution_count": 109,
   "id": "b3ad3b32-91d9-424f-aa26-fb74509e4a92",
   "metadata": {},
   "outputs": [],
   "source": [
    "# question for practice\n",
    "li = [3, 5, 7, 3, 2, 7, 9, 5]"
   ]
  },
  {
   "cell_type": "code",
   "execution_count": 118,
   "id": "e2ed17da-727e-4b45-99f6-d3044d556a23",
   "metadata": {},
   "outputs": [],
   "source": [
    "def sorthalf(li : list):\n",
    "    length = len(li)\n",
    "    li.sort()\n",
    "    firstHalf = li[:length//2]\n",
    "    secondHalf = li[length//2:]\n",
    "    secondHalf.sort(reverse = True)\n",
    "\n",
    "    return firstHalf+secondHalf"
   ]
  },
  {
   "cell_type": "code",
   "execution_count": 121,
   "id": "5b20205f-e96e-4458-bf13-99370180f294",
   "metadata": {},
   "outputs": [
    {
     "data": {
      "text/plain": [
       "[2, 3, 3, 5, 9, 7, 7, 5]"
      ]
     },
     "execution_count": 121,
     "metadata": {},
     "output_type": "execute_result"
    }
   ],
   "source": [
    "sorthalf(li)"
   ]
  },
  {
   "cell_type": "code",
   "execution_count": null,
   "id": "94607b18-1740-485d-9ca8-79675fafbc01",
   "metadata": {},
   "outputs": [],
   "source": []
  }
 ],
 "metadata": {
  "kernelspec": {
   "display_name": "Python 3 (ipykernel)",
   "language": "python",
   "name": "python3"
  },
  "language_info": {
   "codemirror_mode": {
    "name": "ipython",
    "version": 3
   },
   "file_extension": ".py",
   "mimetype": "text/x-python",
   "name": "python",
   "nbconvert_exporter": "python",
   "pygments_lexer": "ipython3",
   "version": "3.13.5"
  }
 },
 "nbformat": 4,
 "nbformat_minor": 5
}
