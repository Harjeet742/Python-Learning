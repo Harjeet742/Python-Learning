{
 "cells": [
  {
   "cell_type": "markdown",
   "id": "e2fbf09c-7ef0-4b98-9ee0-f81d82af18d4",
   "metadata": {},
   "source": [
    "# Functions"
   ]
  },
  {
   "cell_type": "markdown",
   "id": "f183d30d-243c-4d5e-8b69-18af24bed562",
   "metadata": {},
   "source": [
    "## functions store code, and it executes the code when called"
   ]
  },
  {
   "cell_type": "code",
   "execution_count": 5,
   "id": "1c6394b0-325e-4290-ae2a-16c8e32eb982",
   "metadata": {},
   "outputs": [],
   "source": [
    "# define a function\n",
    "\n",
    "def greeting():\n",
    "    print(\"hello everyone\")"
   ]
  },
  {
   "cell_type": "code",
   "execution_count": 6,
   "id": "5bfef0fe-06d0-4950-9d7f-7b47dc7d8fb0",
   "metadata": {},
   "outputs": [
    {
     "name": "stdout",
     "output_type": "stream",
     "text": [
      "hello everyone\n"
     ]
    }
   ],
   "source": [
    "# call a function\n",
    "\n",
    "greeting()"
   ]
  },
  {
   "cell_type": "markdown",
   "id": "d3cb9bbd-e929-4344-a998-0108895bd3ac",
   "metadata": {},
   "source": [
    "# Type of functions"
   ]
  },
  {
   "cell_type": "markdown",
   "id": "54ef2114-1c32-4c38-94d0-df083254d217",
   "metadata": {},
   "source": [
    "## built in functions"
   ]
  },
  {
   "cell_type": "code",
   "execution_count": 7,
   "id": "3aaa2bbb-95f1-480f-adc9-911a4abaf7b5",
   "metadata": {},
   "outputs": [
    {
     "name": "stdout",
     "output_type": "stream",
     "text": [
      "hi\n"
     ]
    },
    {
     "data": {
      "text/plain": [
       "7"
      ]
     },
     "execution_count": 7,
     "metadata": {},
     "output_type": "execute_result"
    }
   ],
   "source": [
    "# built in functons\n",
    "print(\"hi\")\n",
    "len(\"harjeet\")"
   ]
  },
  {
   "cell_type": "code",
   "execution_count": 9,
   "id": "ae2042fb-7b1b-4e4d-aae2-33d9cc293e67",
   "metadata": {},
   "outputs": [
    {
     "data": {
      "text/plain": [
       "10"
      ]
     },
     "execution_count": 9,
     "metadata": {},
     "output_type": "execute_result"
    }
   ],
   "source": [
    "min([8, 6, 10])\n",
    "max([8, 6, 10])"
   ]
  },
  {
   "cell_type": "markdown",
   "id": "e255f1e8-09a2-46ef-825d-570f59188b16",
   "metadata": {},
   "source": [
    "## user defined functions"
   ]
  },
  {
   "cell_type": "code",
   "execution_count": 10,
   "id": "7bffaf17-8dc3-44b1-b50c-9f0771d052c2",
   "metadata": {},
   "outputs": [],
   "source": [
    "# simple finctions\n",
    "\n",
    "def greeting():\n",
    "    print(\"hello everyone\")"
   ]
  },
  {
   "cell_type": "code",
   "execution_count": 11,
   "id": "e1f1582b-2f4c-4b98-813d-f6f8443d1ace",
   "metadata": {},
   "outputs": [
    {
     "name": "stdout",
     "output_type": "stream",
     "text": [
      "hello everyone\n"
     ]
    }
   ],
   "source": [
    "greeting()"
   ]
  },
  {
   "cell_type": "code",
   "execution_count": 128,
   "id": "3d0b1fc5-8be4-4c75-b27f-9adedc424b1d",
   "metadata": {},
   "outputs": [],
   "source": [
    "# input functions\n",
    "\n",
    "def greeting():\n",
    "    name = \"sahil\"\n",
    "    print(f\"hello {name} nice to meet you\")"
   ]
  },
  {
   "cell_type": "code",
   "execution_count": 129,
   "id": "e1817bd8-79d7-4209-9f2d-059919000598",
   "metadata": {},
   "outputs": [
    {
     "name": "stdout",
     "output_type": "stream",
     "text": [
      "hello sahil nice to meet you\n"
     ]
    }
   ],
   "source": [
    "greeting()"
   ]
  },
  {
   "cell_type": "code",
   "execution_count": 130,
   "id": "cc076f96-2254-4115-bf06-bbe29578e0bb",
   "metadata": {},
   "outputs": [],
   "source": [
    "def greeting(name):\n",
    "    print(f\"hello {name} nice to meet you\")"
   ]
  },
  {
   "cell_type": "code",
   "execution_count": 131,
   "id": "5712fd3c-6cbb-4f03-865d-48a635710918",
   "metadata": {},
   "outputs": [
    {
     "name": "stdout",
     "output_type": "stream",
     "text": [
      "hello sahil nice to meet you\n"
     ]
    }
   ],
   "source": [
    "greeting(\"sahil\")"
   ]
  },
  {
   "cell_type": "code",
   "execution_count": 67,
   "id": "bfbc8726-a0f8-4dc6-8c12-9f18daf2a517",
   "metadata": {},
   "outputs": [],
   "source": [
    "def area_of_circle(r):\n",
    "    print((22/7)*r*r)"
   ]
  },
  {
   "cell_type": "code",
   "execution_count": 74,
   "id": "0bcefd80-c83d-46b4-a277-dfa226cd514c",
   "metadata": {},
   "outputs": [
    {
     "name": "stdout",
     "output_type": "stream",
     "text": [
      "78.57142857142857\n"
     ]
    }
   ],
   "source": [
    "area_of_circle(5)"
   ]
  },
  {
   "cell_type": "code",
   "execution_count": 5,
   "id": "9cfb5bd8-19af-418c-a1c9-159b4991695d",
   "metadata": {},
   "outputs": [],
   "source": [
    "def area_of_rectangle(length, width):\n",
    "    print(length*width)"
   ]
  },
  {
   "cell_type": "code",
   "execution_count": 4,
   "id": "d86922cc-b683-4b9a-a2b2-0975335caf24",
   "metadata": {},
   "outputs": [
    {
     "name": "stdout",
     "output_type": "stream",
     "text": [
      "50\n"
     ]
    }
   ],
   "source": [
    "area_of_rectangle(10,5)"
   ]
  },
  {
   "cell_type": "markdown",
   "id": "4fb03517-2a5a-49f4-a075-cc60d68e9605",
   "metadata": {},
   "source": [
    "### scope"
   ]
  },
  {
   "cell_type": "code",
   "execution_count": 112,
   "id": "ac1ad74a-7644-4e10-a35e-76156817c7e5",
   "metadata": {},
   "outputs": [],
   "source": [
    "#global scope\n",
    "job = \"IT\"\n",
    "def myProfile():\n",
    "    #local scope\n",
    "    #global name\n",
    "    name = \"harry\"\n",
    "    age = 20\n",
    "    education = \"b.tech\"\n",
    "    job = \"netmax\"\n",
    "    print(name, age, education, job)\n"
   ]
  },
  {
   "cell_type": "code",
   "execution_count": 113,
   "id": "1250212e-3ade-4647-91ad-364a401f6342",
   "metadata": {},
   "outputs": [
    {
     "name": "stdout",
     "output_type": "stream",
     "text": [
      "harry 20 b.tech netmax\n"
     ]
    }
   ],
   "source": [
    "myProfile()"
   ]
  },
  {
   "cell_type": "code",
   "execution_count": 114,
   "id": "706149ad-c878-4f84-8a7e-169da4e55715",
   "metadata": {},
   "outputs": [
    {
     "data": {
      "text/plain": [
       "'IT'"
      ]
     },
     "execution_count": 114,
     "metadata": {},
     "output_type": "execute_result"
    }
   ],
   "source": [
    "job"
   ]
  },
  {
   "cell_type": "code",
   "execution_count": 115,
   "id": "56f0c194-de71-4d0f-8cae-5c654aa9b233",
   "metadata": {},
   "outputs": [
    {
     "data": {
      "text/plain": [
       "'harry'"
      ]
     },
     "execution_count": 115,
     "metadata": {},
     "output_type": "execute_result"
    }
   ],
   "source": [
    "name"
   ]
  },
  {
   "cell_type": "code",
   "execution_count": 120,
   "id": "be5e5677-be1c-4712-82e3-f50878dd6f26",
   "metadata": {},
   "outputs": [],
   "source": [
    "# global scope\n",
    "job = \"hunting\"\n",
    "def myProfile():\n",
    "    #local scope\n",
    "    name = \"harjeet\"\n",
    "    global age\n",
    "    age = 27\n",
    "    education = \"bba\"\n",
    "    job = \"netmax\"\n",
    "    print(name, age, education, job)\n",
    "    "
   ]
  },
  {
   "cell_type": "code",
   "execution_count": 121,
   "id": "6a835b6f-4047-403f-8ab2-6d56dd81d395",
   "metadata": {},
   "outputs": [
    {
     "name": "stdout",
     "output_type": "stream",
     "text": [
      "harjeet 27 bba netmax\n"
     ]
    }
   ],
   "source": [
    "myProfile()"
   ]
  },
  {
   "cell_type": "code",
   "execution_count": 123,
   "id": "f95cf46a-5fe5-416c-a897-843c1bbca4c3",
   "metadata": {},
   "outputs": [
    {
     "data": {
      "text/plain": [
       "27"
      ]
     },
     "execution_count": 123,
     "metadata": {},
     "output_type": "execute_result"
    }
   ],
   "source": [
    "age"
   ]
  },
  {
   "cell_type": "code",
   "execution_count": 133,
   "id": "83fd3e1a-e46a-497f-ab8d-81871c13e004",
   "metadata": {},
   "outputs": [
    {
     "name": "stdout",
     "output_type": "stream",
     "text": [
      "hello sahil nice to meet you\n"
     ]
    }
   ],
   "source": [
    "greeting(\"sahil\")"
   ]
  },
  {
   "cell_type": "code",
   "execution_count": 134,
   "id": "4eb66d3a-1bdd-4c0f-bc2a-7859b96a771f",
   "metadata": {},
   "outputs": [
    {
     "name": "stdout",
     "output_type": "stream",
     "text": [
      "hello name nice to meet you\n"
     ]
    }
   ],
   "source": [
    "greeting('name')"
   ]
  },
  {
   "cell_type": "code",
   "execution_count": 53,
   "id": "1854f814-ef98-457a-9a04-42cb13c3187c",
   "metadata": {},
   "outputs": [],
   "source": [
    "# default function\n",
    "def greeting(name= \"lassan\"):\n",
    "    print(f\"hello {name}, nice to meet you\")"
   ]
  },
  {
   "cell_type": "code",
   "execution_count": 54,
   "id": "58f94f59-55b1-4b6d-a2c5-d169a9ab0b29",
   "metadata": {},
   "outputs": [
    {
     "name": "stdout",
     "output_type": "stream",
     "text": [
      "hello lassan, nice to meet you\n"
     ]
    }
   ],
   "source": [
    "greeting()"
   ]
  },
  {
   "cell_type": "code",
   "execution_count": 138,
   "id": "95e6a11c-3e01-4651-8d32-4d29548b1de5",
   "metadata": {},
   "outputs": [],
   "source": [
    "# return function\n",
    "def salary_structure(salary, tax_rate):\n",
    "    tax = salary * tax_rate\n",
    "    return tax"
   ]
  },
  {
   "cell_type": "code",
   "execution_count": 140,
   "id": "a8e7c667-d844-427f-a024-a6c433275386",
   "metadata": {},
   "outputs": [
    {
     "data": {
      "text/plain": [
       "9600.0"
      ]
     },
     "execution_count": 140,
     "metadata": {},
     "output_type": "execute_result"
    }
   ],
   "source": [
    "salary_structure(80000, 0.12)"
   ]
  },
  {
   "cell_type": "code",
   "execution_count": 84,
   "id": "a3fc7798-2226-4e5c-9e95-a353889757e1",
   "metadata": {},
   "outputs": [],
   "source": [
    "# return function\n",
    "def salary_structure(salary, tax_rate= 0.12):\n",
    "    tax = salary* tax_rate\n",
    "    return tax"
   ]
  },
  {
   "cell_type": "code",
   "execution_count": 144,
   "id": "f8c888b2-d6a8-47eb-9a4b-abf3096600c7",
   "metadata": {},
   "outputs": [],
   "source": [
    "tax = salary_structure(80000, tax_rate= 0.12)"
   ]
  },
  {
   "cell_type": "code",
   "execution_count": 145,
   "id": "aecd0f8c-1015-4c1f-8ee8-4c03267e546d",
   "metadata": {},
   "outputs": [
    {
     "data": {
      "text/plain": [
       "9600.0"
      ]
     },
     "execution_count": 145,
     "metadata": {},
     "output_type": "execute_result"
    }
   ],
   "source": [
    "tax"
   ]
  },
  {
   "cell_type": "code",
   "execution_count": 1,
   "id": "6db1d7a3-dd1f-4f3f-a3f6-13c209a85fe6",
   "metadata": {},
   "outputs": [],
   "source": [
    "# when we write anything in 3(\"\"\" \"\"\") is called dock string\n",
    "def volume_of_cuboid(length, width, height):\n",
    "    \"\"\" this function calculates volume of cuboid \n",
    "    it takes length, width, heigth, as input and \n",
    "    multiplies them\n",
    "    \"\"\"\n",
    "    \n",
    "    dimensions = f\"\"\"\n",
    "        length: {length}\n",
    "        width : {width}\n",
    "        height : {height}\n",
    "    \"\"\"\n",
    "    print(dimensions)\n",
    "    return length*width*height"
   ]
  },
  {
   "cell_type": "code",
   "execution_count": 2,
   "id": "19818294-ba70-4acb-8322-f8e762f6341a",
   "metadata": {},
   "outputs": [
    {
     "name": "stdout",
     "output_type": "stream",
     "text": [
      "\n",
      "        length: 30\n",
      "        width : 50\n",
      "        height : 70\n",
      "    \n"
     ]
    },
    {
     "data": {
      "text/plain": [
       "105000"
      ]
     },
     "execution_count": 2,
     "metadata": {},
     "output_type": "execute_result"
    }
   ],
   "source": [
    "# positional argument\n",
    "volume_of_cuboid(30, 50, 70)"
   ]
  },
  {
   "cell_type": "code",
   "execution_count": 174,
   "id": "2234ed78-28da-4cf4-9195-a882545a16fc",
   "metadata": {},
   "outputs": [
    {
     "name": "stdout",
     "output_type": "stream",
     "text": [
      "\n",
      "        length: 30\n",
      "        width : 70\n",
      "        height : 50\n",
      "    \n"
     ]
    },
    {
     "data": {
      "text/plain": [
       "105000"
      ]
     },
     "execution_count": 174,
     "metadata": {},
     "output_type": "execute_result"
    }
   ],
   "source": [
    "# keyword argument\n",
    "volume_of_cuboid(length=30, width= 70, height= 50)"
   ]
  },
  {
   "cell_type": "code",
   "execution_count": 178,
   "id": "eeed0556-3288-49e0-90cc-70470c3d40cc",
   "metadata": {},
   "outputs": [
    {
     "name": "stdout",
     "output_type": "stream",
     "text": [
      "Help on function volume_of_cuboid in module __main__:\n",
      "\n",
      "volume_of_cuboid(length, width, height)\n",
      "    this function calculates volume of cuboid\n",
      "    it takes length, width, heigth, as input and\n",
      "    multiplies them\n",
      "\n"
     ]
    }
   ],
   "source": [
    "help(volume_of_cuboid)"
   ]
  },
  {
   "cell_type": "code",
   "execution_count": 190,
   "id": "b3ad3b32-91d9-424f-aa26-fb74509e4a92",
   "metadata": {},
   "outputs": [],
   "source": [
    "# question for practice\n",
    "li = [3, 5, 7, 3, 2, 7, 9, 5]"
   ]
  },
  {
   "cell_type": "code",
   "execution_count": 182,
   "id": "e2ed17da-727e-4b45-99f6-d3044d556a23",
   "metadata": {},
   "outputs": [],
   "source": [
    "def sorthalf(li : list):\n",
    "    length = len(li)\n",
    "    li.sort()\n",
    "    firstHalf = li[:length//2]\n",
    "    secondHalf = li[length//2:]\n",
    "    secondHalf.sort(reverse = True)\n",
    "\n",
    "    return firstHalf+secondHalf"
   ]
  },
  {
   "cell_type": "code",
   "execution_count": 183,
   "id": "5b20205f-e96e-4458-bf13-99370180f294",
   "metadata": {},
   "outputs": [
    {
     "data": {
      "text/plain": [
       "[2, 3, 3, 5, 9, 7, 7, 5]"
      ]
     },
     "execution_count": 183,
     "metadata": {},
     "output_type": "execute_result"
    }
   ],
   "source": [
    "sorthalf(li)"
   ]
  },
  {
   "cell_type": "code",
   "execution_count": 192,
   "id": "531c5058-5aad-4316-a03d-eabc0c1d7ddc",
   "metadata": {},
   "outputs": [],
   "source": [
    "def sorthalf(li):\n",
    "    length = len(li)\n",
    "    li.sort()\n",
    "    firstHalf = li[:length//2]\n",
    "    secondHalf = li[length//2:]\n",
    "    secondHalf.sort(reverse = True)\n",
    "\n",
    "    return firstHalf+secondHalf"
   ]
  },
  {
   "cell_type": "code",
   "execution_count": 193,
   "id": "79e1cc17-43e5-4332-baad-13bfc5650a20",
   "metadata": {},
   "outputs": [
    {
     "data": {
      "text/plain": [
       "[2, 3, 3, 5, 9, 7, 7, 5]"
      ]
     },
     "execution_count": 193,
     "metadata": {},
     "output_type": "execute_result"
    }
   ],
   "source": [
    "sorthalf(li)"
   ]
  },
  {
   "cell_type": "code",
   "execution_count": 9,
   "id": "25f43518-405e-4fc2-9561-7e7f91bc1298",
   "metadata": {},
   "outputs": [],
   "source": [
    "def greeting(age, name= \"user\"):\n",
    "    return age"
   ]
  },
  {
   "cell_type": "code",
   "execution_count": 10,
   "id": "12506bff-581e-4d3a-bb22-505fa3492b73",
   "metadata": {},
   "outputs": [
    {
     "data": {
      "text/plain": [
       "15"
      ]
     },
     "execution_count": 10,
     "metadata": {},
     "output_type": "execute_result"
    }
   ],
   "source": [
    "greeting(15)"
   ]
  },
  {
   "cell_type": "code",
   "execution_count": 11,
   "id": "ec00205f-6aa6-4014-a37d-33fc367692b7",
   "metadata": {},
   "outputs": [],
   "source": [
    "def greeting(age, name= \"user\"):\n",
    "    return age, name"
   ]
  },
  {
   "cell_type": "code",
   "execution_count": 15,
   "id": "c5c88f4a-d8e3-452b-ab04-f7e591f1af76",
   "metadata": {},
   "outputs": [],
   "source": [
    "age, name = greeting(25)"
   ]
  },
  {
   "cell_type": "code",
   "execution_count": 16,
   "id": "42b1a01a-7797-4b17-8423-af1f6005fca7",
   "metadata": {},
   "outputs": [
    {
     "data": {
      "text/plain": [
       "25"
      ]
     },
     "execution_count": 16,
     "metadata": {},
     "output_type": "execute_result"
    }
   ],
   "source": [
    "age"
   ]
  },
  {
   "cell_type": "code",
   "execution_count": 17,
   "id": "5958c36a-dc74-4769-b125-48a5492c7943",
   "metadata": {},
   "outputs": [
    {
     "data": {
      "text/plain": [
       "'user'"
      ]
     },
     "execution_count": 17,
     "metadata": {},
     "output_type": "execute_result"
    }
   ],
   "source": [
    "name"
   ]
  },
  {
   "cell_type": "code",
   "execution_count": 18,
   "id": "e1820f21-f816-41b0-807a-4b2f04b0c7ef",
   "metadata": {},
   "outputs": [],
   "source": [
    "def check_palindrom(n):\n",
    "    return str(n)== str(n)[::-1]"
   ]
  },
  {
   "cell_type": "code",
   "execution_count": 19,
   "id": "b2a49575-7129-4d60-b206-ef6d75b9794f",
   "metadata": {},
   "outputs": [
    {
     "data": {
      "text/plain": [
       "True"
      ]
     },
     "execution_count": 19,
     "metadata": {},
     "output_type": "execute_result"
    }
   ],
   "source": [
    "check_palindrom(525)"
   ]
  },
  {
   "cell_type": "code",
   "execution_count": 20,
   "id": "9755f642-9477-428c-b6b1-da4243f9ac9d",
   "metadata": {},
   "outputs": [],
   "source": [
    "def check_palindrom(n):\n",
    "    return str(n).strip().lower()== str(n)[::-1].strip().lower()"
   ]
  },
  {
   "cell_type": "code",
   "execution_count": 21,
   "id": "93c957fc-f1a7-43a9-b943-89e041040dd5",
   "metadata": {},
   "outputs": [
    {
     "data": {
      "text/plain": [
       "True"
      ]
     },
     "execution_count": 21,
     "metadata": {},
     "output_type": "execute_result"
    }
   ],
   "source": [
    "check_palindrom(\"shs\")"
   ]
  },
  {
   "cell_type": "code",
   "execution_count": 22,
   "id": "35826f06-3f1b-4ebe-bd18-7cabaa74acef",
   "metadata": {},
   "outputs": [
    {
     "data": {
      "text/plain": [
       "False"
      ]
     },
     "execution_count": 22,
     "metadata": {},
     "output_type": "execute_result"
    }
   ],
   "source": [
    "check_palindrom(\"shr\")"
   ]
  },
  {
   "cell_type": "code",
   "execution_count": 23,
   "id": "887816c0-cd4e-4266-81c8-2d0f15e518f6",
   "metadata": {},
   "outputs": [],
   "source": [
    "def check_palindrom(n=None):\n",
    "    n= n or input()\n",
    "    return str(n).strip().lower()== str(n)[::-1].strip().lower()"
   ]
  },
  {
   "cell_type": "code",
   "execution_count": 24,
   "id": "56823508-d3ab-4657-9ba6-b358d31828c9",
   "metadata": {},
   "outputs": [
    {
     "name": "stdin",
     "output_type": "stream",
     "text": [
      " 121\n"
     ]
    },
    {
     "data": {
      "text/plain": [
       "True"
      ]
     },
     "execution_count": 24,
     "metadata": {},
     "output_type": "execute_result"
    }
   ],
   "source": [
    "check_palindrom()"
   ]
  },
  {
   "cell_type": "code",
   "execution_count": 54,
   "id": "c90ab2c5-a760-49c3-86e9-9685183a11b7",
   "metadata": {},
   "outputs": [],
   "source": [
    "def checkPrime():\n",
    "    pass"
   ]
  },
  {
   "cell_type": "code",
   "execution_count": 28,
   "id": "acd7ffc9-be11-4160-baa6-e3d9d7c6ad3f",
   "metadata": {},
   "outputs": [
    {
     "data": {
      "text/plain": [
       "80"
      ]
     },
     "execution_count": 28,
     "metadata": {},
     "output_type": "execute_result"
    }
   ],
   "source": [
    "\"\" or 80"
   ]
  },
  {
   "cell_type": "code",
   "execution_count": 30,
   "id": "c6c64e61-1d40-4a01-b2f8-911ebf58f5bc",
   "metadata": {},
   "outputs": [
    {
     "data": {
      "text/plain": [
       "60"
      ]
     },
     "execution_count": 30,
     "metadata": {},
     "output_type": "execute_result"
    }
   ],
   "source": [
    "60 or \"\""
   ]
  },
  {
   "cell_type": "code",
   "execution_count": 31,
   "id": "62ab9fa9-adbe-4b15-8387-62fffdfe3237",
   "metadata": {},
   "outputs": [
    {
     "data": {
      "text/plain": [
       "20"
      ]
     },
     "execution_count": 31,
     "metadata": {},
     "output_type": "execute_result"
    }
   ],
   "source": [
    "20 or 60"
   ]
  },
  {
   "cell_type": "code",
   "execution_count": 55,
   "id": "516fc3a3-2fe6-4ba2-bc91-80b130bdee9d",
   "metadata": {},
   "outputs": [],
   "source": [
    "def checkPrime(n):\n",
    "    for i in range(2, n):\n",
    "        if n%i == 0:\n",
    "            return False\n",
    "        return True"
   ]
  },
  {
   "cell_type": "code",
   "execution_count": 37,
   "id": "07089737-8235-4b1b-a11a-e579292151cc",
   "metadata": {},
   "outputs": [
    {
     "data": {
      "text/plain": [
       "True"
      ]
     },
     "execution_count": 37,
     "metadata": {},
     "output_type": "execute_result"
    }
   ],
   "source": [
    "checkPrime(25)"
   ]
  },
  {
   "cell_type": "code",
   "execution_count": 56,
   "id": "af93b8b2-1b2f-478e-8769-8a33a58e4efa",
   "metadata": {},
   "outputs": [],
   "source": [
    "def checkPrime(n):\n",
    "    for i in range(2, n):\n",
    "        print(n, i, n%i)\n",
    "        if n%i == 0:\n",
    "            return False\n",
    "        return True"
   ]
  },
  {
   "cell_type": "code",
   "execution_count": 64,
   "id": "dae051a9-d605-4a8a-b10f-19d0f7c0e490",
   "metadata": {},
   "outputs": [
    {
     "data": {
      "text/plain": [
       "True"
      ]
     },
     "execution_count": 64,
     "metadata": {},
     "output_type": "execute_result"
    }
   ],
   "source": [
    "checkPrime(99)"
   ]
  },
  {
   "cell_type": "code",
   "execution_count": 57,
   "id": "ca38d9f9-947a-47f0-9684-3368bd239d23",
   "metadata": {},
   "outputs": [],
   "source": [
    "def checkPrime(n):\n",
    "    for i in range(2, int(n**(1/2))+1):\n",
    "        print(n, i, n%i)\n",
    "        if n%i == 0:\n",
    "            return False\n",
    "        return True"
   ]
  },
  {
   "cell_type": "code",
   "execution_count": 50,
   "id": "db01d0c1-e1f4-4400-a37f-0d9e6431d9af",
   "metadata": {},
   "outputs": [
    {
     "name": "stdout",
     "output_type": "stream",
     "text": [
      "14 2 0\n"
     ]
    },
    {
     "data": {
      "text/plain": [
       "False"
      ]
     },
     "execution_count": 50,
     "metadata": {},
     "output_type": "execute_result"
    }
   ],
   "source": [
    "checkPrime(14)"
   ]
  },
  {
   "cell_type": "code",
   "execution_count": 72,
   "id": "fd860ebe-7126-4b19-bdcd-ef8992ee4cd4",
   "metadata": {},
   "outputs": [],
   "source": [
    "def checkPrime(n):\n",
    "    if n < 2:\n",
    "        return False\n",
    "    for i in range(2, int(n**(1/2))+1):\n",
    "        print(n, i, n%i)\n",
    "        if n%i == 0:\n",
    "            return False\n",
    "        return True\n",
    "    "
   ]
  },
  {
   "cell_type": "code",
   "execution_count": 73,
   "id": "0627eac9-7f64-4ea2-a314-482466ac96cb",
   "metadata": {},
   "outputs": [
    {
     "name": "stdout",
     "output_type": "stream",
     "text": [
      "55 2 1\n"
     ]
    },
    {
     "data": {
      "text/plain": [
       "True"
      ]
     },
     "execution_count": 73,
     "metadata": {},
     "output_type": "execute_result"
    }
   ],
   "source": [
    "checkPrime(55)"
   ]
  },
  {
   "cell_type": "code",
   "execution_count": 60,
   "id": "f336a001-2b4e-40fa-8518-d32ef6365acd",
   "metadata": {},
   "outputs": [],
   "source": [
    "def primeInRange(start, end=0):\n",
    "    if start > end:\n",
    "        start, end = end, start\n",
    "    l= []\n",
    "    for n in range(start, end):\n",
    "        if checkPrime(n):\n",
    "            l.append(n)\n",
    "    \n",
    "            return l   "
   ]
  },
  {
   "cell_type": "code",
   "execution_count": 53,
   "id": "51251b11-a63f-4102-8fda-49c0748f8d86",
   "metadata": {},
   "outputs": [
    {
     "data": {
      "text/plain": [
       "[11]"
      ]
     },
     "execution_count": 53,
     "metadata": {},
     "output_type": "execute_result"
    }
   ],
   "source": [
    "primeInRange(10,50)"
   ]
  },
  {
   "cell_type": "code",
   "execution_count": 83,
   "id": "b936671a-2604-4b02-b06a-1b391bc91992",
   "metadata": {},
   "outputs": [],
   "source": [
    "def checkPrime(n):\n",
    "    if n < 2:\n",
    "        return False\n",
    "    for i in range(2, int(n**(1/2))+1):\n",
    "          print(n, i, n%i)\n",
    "          if n % i == 0:\n",
    "            return False\n",
    "    return True"
   ]
  },
  {
   "cell_type": "code",
   "execution_count": 84,
   "id": "aba20079-e787-4155-bdda-d9f783932978",
   "metadata": {},
   "outputs": [
    {
     "name": "stdout",
     "output_type": "stream",
     "text": [
      "55 2 1\n",
      "55 3 1\n",
      "55 4 3\n",
      "55 5 0\n"
     ]
    },
    {
     "data": {
      "text/plain": [
       "False"
      ]
     },
     "execution_count": 84,
     "metadata": {},
     "output_type": "execute_result"
    }
   ],
   "source": [
    "checkPrime(55)"
   ]
  }
 ],
 "metadata": {
  "kernelspec": {
   "display_name": "Python 3 (ipykernel)",
   "language": "python",
   "name": "python3"
  },
  "language_info": {
   "codemirror_mode": {
    "name": "ipython",
    "version": 3
   },
   "file_extension": ".py",
   "mimetype": "text/x-python",
   "name": "python",
   "nbconvert_exporter": "python",
   "pygments_lexer": "ipython3",
   "version": "3.13.5"
  }
 },
 "nbformat": 4,
 "nbformat_minor": 5
}
