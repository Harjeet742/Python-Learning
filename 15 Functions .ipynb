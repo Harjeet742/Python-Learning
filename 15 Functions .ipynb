{
 "cells": [
  {
   "cell_type": "markdown",
   "id": "e2fbf09c-7ef0-4b98-9ee0-f81d82af18d4",
   "metadata": {},
   "source": [
    "# Functions"
   ]
  },
  {
   "cell_type": "markdown",
   "id": "f183d30d-243c-4d5e-8b69-18af24bed562",
   "metadata": {},
   "source": [
    "## functions store code, and it executes the code when called"
   ]
  },
  {
   "cell_type": "code",
   "execution_count": 5,
   "id": "1c6394b0-325e-4290-ae2a-16c8e32eb982",
   "metadata": {},
   "outputs": [],
   "source": [
    "# define a function\n",
    "\n",
    "def greeting():\n",
    "    print(\"hello everyone\")"
   ]
  },
  {
   "cell_type": "code",
   "execution_count": 6,
   "id": "5bfef0fe-06d0-4950-9d7f-7b47dc7d8fb0",
   "metadata": {},
   "outputs": [
    {
     "name": "stdout",
     "output_type": "stream",
     "text": [
      "hello everyone\n"
     ]
    }
   ],
   "source": [
    "# call a function\n",
    "\n",
    "greeting()"
   ]
  },
  {
   "cell_type": "markdown",
   "id": "d3cb9bbd-e929-4344-a998-0108895bd3ac",
   "metadata": {},
   "source": [
    "# Type of functions"
   ]
  },
  {
   "cell_type": "markdown",
   "id": "54ef2114-1c32-4c38-94d0-df083254d217",
   "metadata": {},
   "source": [
    "## built in functions"
   ]
  },
  {
   "cell_type": "code",
   "execution_count": 7,
   "id": "3aaa2bbb-95f1-480f-adc9-911a4abaf7b5",
   "metadata": {},
   "outputs": [
    {
     "name": "stdout",
     "output_type": "stream",
     "text": [
      "hi\n"
     ]
    },
    {
     "data": {
      "text/plain": [
       "7"
      ]
     },
     "execution_count": 7,
     "metadata": {},
     "output_type": "execute_result"
    }
   ],
   "source": [
    "# built in functons\n",
    "print(\"hi\")\n",
    "len(\"harjeet\")"
   ]
  },
  {
   "cell_type": "code",
   "execution_count": 9,
   "id": "ae2042fb-7b1b-4e4d-aae2-33d9cc293e67",
   "metadata": {},
   "outputs": [
    {
     "data": {
      "text/plain": [
       "10"
      ]
     },
     "execution_count": 9,
     "metadata": {},
     "output_type": "execute_result"
    }
   ],
   "source": [
    "min([8, 6, 10])\n",
    "max([8, 6, 10])"
   ]
  },
  {
   "cell_type": "markdown",
   "id": "e255f1e8-09a2-46ef-825d-570f59188b16",
   "metadata": {},
   "source": [
    "## user defined functions"
   ]
  },
  {
   "cell_type": "code",
   "execution_count": 10,
   "id": "7bffaf17-8dc3-44b1-b50c-9f0771d052c2",
   "metadata": {},
   "outputs": [],
   "source": [
    "# simple finctions\n",
    "\n",
    "def greeting():\n",
    "    print(\"hello everyone\")"
   ]
  },
  {
   "cell_type": "code",
   "execution_count": 11,
   "id": "e1f1582b-2f4c-4b98-813d-f6f8443d1ace",
   "metadata": {},
   "outputs": [
    {
     "name": "stdout",
     "output_type": "stream",
     "text": [
      "hello everyone\n"
     ]
    }
   ],
   "source": [
    "greeting()"
   ]
  },
  {
   "cell_type": "code",
   "execution_count": 128,
   "id": "3d0b1fc5-8be4-4c75-b27f-9adedc424b1d",
   "metadata": {},
   "outputs": [],
   "source": [
    "# input functions\n",
    "\n",
    "def greeting():\n",
    "    name = \"sahil\"\n",
    "    print(f\"hello {name} nice to meet you\")"
   ]
  },
  {
   "cell_type": "code",
   "execution_count": 129,
   "id": "e1817bd8-79d7-4209-9f2d-059919000598",
   "metadata": {},
   "outputs": [
    {
     "name": "stdout",
     "output_type": "stream",
     "text": [
      "hello sahil nice to meet you\n"
     ]
    }
   ],
   "source": [
    "greeting()"
   ]
  },
  {
   "cell_type": "code",
   "execution_count": 130,
   "id": "cc076f96-2254-4115-bf06-bbe29578e0bb",
   "metadata": {},
   "outputs": [],
   "source": [
    "def greeting(name):\n",
    "    print(f\"hello {name} nice to meet you\")"
   ]
  },
  {
   "cell_type": "code",
   "execution_count": 131,
   "id": "5712fd3c-6cbb-4f03-865d-48a635710918",
   "metadata": {},
   "outputs": [
    {
     "name": "stdout",
     "output_type": "stream",
     "text": [
      "hello sahil nice to meet you\n"
     ]
    }
   ],
   "source": [
    "greeting(\"sahil\")"
   ]
  },
  {
   "cell_type": "code",
   "execution_count": 67,
   "id": "bfbc8726-a0f8-4dc6-8c12-9f18daf2a517",
   "metadata": {},
   "outputs": [],
   "source": [
    "def area_of_circle(r):\n",
    "    print((22/7)*r*r)"
   ]
  },
  {
   "cell_type": "code",
   "execution_count": 74,
   "id": "0bcefd80-c83d-46b4-a277-dfa226cd514c",
   "metadata": {},
   "outputs": [
    {
     "name": "stdout",
     "output_type": "stream",
     "text": [
      "78.57142857142857\n"
     ]
    }
   ],
   "source": [
    "area_of_circle(5)"
   ]
  },
  {
   "cell_type": "code",
   "execution_count": 5,
   "id": "9cfb5bd8-19af-418c-a1c9-159b4991695d",
   "metadata": {},
   "outputs": [],
   "source": [
    "def area_of_rectangle(length, width):\n",
    "    print(length*width)"
   ]
  },
  {
   "cell_type": "code",
   "execution_count": 4,
   "id": "d86922cc-b683-4b9a-a2b2-0975335caf24",
   "metadata": {},
   "outputs": [
    {
     "name": "stdout",
     "output_type": "stream",
     "text": [
      "50\n"
     ]
    }
   ],
   "source": [
    "area_of_rectangle(10,5)"
   ]
  },
  {
   "cell_type": "markdown",
   "id": "4fb03517-2a5a-49f4-a075-cc60d68e9605",
   "metadata": {},
   "source": [
    "### scope"
   ]
  },
  {
   "cell_type": "code",
   "execution_count": 112,
   "id": "ac1ad74a-7644-4e10-a35e-76156817c7e5",
   "metadata": {},
   "outputs": [],
   "source": [
    "#global scope\n",
    "job = \"IT\"\n",
    "def myProfile():\n",
    "    #local scope\n",
    "    #global name\n",
    "    name = \"harry\"\n",
    "    age = 20\n",
    "    education = \"b.tech\"\n",
    "    job = \"netmax\"\n",
    "    print(name, age, education, job)\n"
   ]
  },
  {
   "cell_type": "code",
   "execution_count": 113,
   "id": "1250212e-3ade-4647-91ad-364a401f6342",
   "metadata": {},
   "outputs": [
    {
     "name": "stdout",
     "output_type": "stream",
     "text": [
      "harry 20 b.tech netmax\n"
     ]
    }
   ],
   "source": [
    "myProfile()"
   ]
  },
  {
   "cell_type": "code",
   "execution_count": 114,
   "id": "706149ad-c878-4f84-8a7e-169da4e55715",
   "metadata": {},
   "outputs": [
    {
     "data": {
      "text/plain": [
       "'IT'"
      ]
     },
     "execution_count": 114,
     "metadata": {},
     "output_type": "execute_result"
    }
   ],
   "source": [
    "job"
   ]
  },
  {
   "cell_type": "code",
   "execution_count": 115,
   "id": "56f0c194-de71-4d0f-8cae-5c654aa9b233",
   "metadata": {},
   "outputs": [
    {
     "data": {
      "text/plain": [
       "'harry'"
      ]
     },
     "execution_count": 115,
     "metadata": {},
     "output_type": "execute_result"
    }
   ],
   "source": [
    "name"
   ]
  },
  {
   "cell_type": "code",
   "execution_count": 120,
   "id": "be5e5677-be1c-4712-82e3-f50878dd6f26",
   "metadata": {},
   "outputs": [],
   "source": [
    "# global scope\n",
    "job = \"hunting\"\n",
    "def myProfile():\n",
    "    #local scope\n",
    "    name = \"harjeet\"\n",
    "    global age\n",
    "    age = 27\n",
    "    education = \"bba\"\n",
    "    job = \"netmax\"\n",
    "    print(name, age, education, job)\n",
    "    "
   ]
  },
  {
   "cell_type": "code",
   "execution_count": 121,
   "id": "6a835b6f-4047-403f-8ab2-6d56dd81d395",
   "metadata": {},
   "outputs": [
    {
     "name": "stdout",
     "output_type": "stream",
     "text": [
      "harjeet 27 bba netmax\n"
     ]
    }
   ],
   "source": [
    "myProfile()"
   ]
  },
  {
   "cell_type": "code",
   "execution_count": 123,
   "id": "f95cf46a-5fe5-416c-a897-843c1bbca4c3",
   "metadata": {},
   "outputs": [
    {
     "data": {
      "text/plain": [
       "27"
      ]
     },
     "execution_count": 123,
     "metadata": {},
     "output_type": "execute_result"
    }
   ],
   "source": [
    "age"
   ]
  },
  {
   "cell_type": "code",
   "execution_count": 133,
   "id": "83fd3e1a-e46a-497f-ab8d-81871c13e004",
   "metadata": {},
   "outputs": [
    {
     "name": "stdout",
     "output_type": "stream",
     "text": [
      "hello sahil nice to meet you\n"
     ]
    }
   ],
   "source": [
    "greeting(\"sahil\")"
   ]
  },
  {
   "cell_type": "code",
   "execution_count": 134,
   "id": "4eb66d3a-1bdd-4c0f-bc2a-7859b96a771f",
   "metadata": {},
   "outputs": [
    {
     "name": "stdout",
     "output_type": "stream",
     "text": [
      "hello name nice to meet you\n"
     ]
    }
   ],
   "source": [
    "greeting('name')"
   ]
  },
  {
   "cell_type": "code",
   "execution_count": 53,
   "id": "1854f814-ef98-457a-9a04-42cb13c3187c",
   "metadata": {},
   "outputs": [],
   "source": [
    "# default function\n",
    "def greeting(name= \"lassan\"):\n",
    "    print(f\"hello {name}, nice to meet you\")"
   ]
  },
  {
   "cell_type": "code",
   "execution_count": 54,
   "id": "58f94f59-55b1-4b6d-a2c5-d169a9ab0b29",
   "metadata": {},
   "outputs": [
    {
     "name": "stdout",
     "output_type": "stream",
     "text": [
      "hello lassan, nice to meet you\n"
     ]
    }
   ],
   "source": [
    "greeting()"
   ]
  },
  {
   "cell_type": "code",
   "execution_count": 138,
   "id": "95e6a11c-3e01-4651-8d32-4d29548b1de5",
   "metadata": {},
   "outputs": [],
   "source": [
    "# return function\n",
    "def salary_structure(salary, tax_rate):\n",
    "    tax = salary * tax_rate\n",
    "    return tax"
   ]
  },
  {
   "cell_type": "code",
   "execution_count": 140,
   "id": "a8e7c667-d844-427f-a024-a6c433275386",
   "metadata": {},
   "outputs": [
    {
     "data": {
      "text/plain": [
       "9600.0"
      ]
     },
     "execution_count": 140,
     "metadata": {},
     "output_type": "execute_result"
    }
   ],
   "source": [
    "salary_structure(80000, 0.12)"
   ]
  },
  {
   "cell_type": "code",
   "execution_count": 84,
   "id": "a3fc7798-2226-4e5c-9e95-a353889757e1",
   "metadata": {},
   "outputs": [],
   "source": [
    "# return function\n",
    "def salary_structure(salary, tax_rate= 0.12):\n",
    "    tax = salary* tax_rate\n",
    "    return tax"
   ]
  },
  {
   "cell_type": "code",
   "execution_count": 144,
   "id": "f8c888b2-d6a8-47eb-9a4b-abf3096600c7",
   "metadata": {},
   "outputs": [],
   "source": [
    "tax = salary_structure(80000, tax_rate= 0.12)"
   ]
  },
  {
   "cell_type": "code",
   "execution_count": 145,
   "id": "aecd0f8c-1015-4c1f-8ee8-4c03267e546d",
   "metadata": {},
   "outputs": [
    {
     "data": {
      "text/plain": [
       "9600.0"
      ]
     },
     "execution_count": 145,
     "metadata": {},
     "output_type": "execute_result"
    }
   ],
   "source": [
    "tax"
   ]
  },
  {
   "cell_type": "code",
   "execution_count": 1,
   "id": "6db1d7a3-dd1f-4f3f-a3f6-13c209a85fe6",
   "metadata": {},
   "outputs": [],
   "source": [
    "# when we write anything in 3(\"\"\" \"\"\") is called dock string\n",
    "def volume_of_cuboid(length, width, height):\n",
    "    \"\"\" this function calculates volume of cuboid \n",
    "    it takes length, width, heigth, as input and \n",
    "    multiplies them\n",
    "    \"\"\"\n",
    "    \n",
    "    dimensions = f\"\"\"\n",
    "        length: {length}\n",
    "        width : {width}\n",
    "        height : {height}\n",
    "    \"\"\"\n",
    "    print(dimensions)\n",
    "    return length*width*height"
   ]
  },
  {
   "cell_type": "code",
   "execution_count": 2,
   "id": "19818294-ba70-4acb-8322-f8e762f6341a",
   "metadata": {},
   "outputs": [
    {
     "name": "stdout",
     "output_type": "stream",
     "text": [
      "\n",
      "        length: 30\n",
      "        width : 50\n",
      "        height : 70\n",
      "    \n"
     ]
    },
    {
     "data": {
      "text/plain": [
       "105000"
      ]
     },
     "execution_count": 2,
     "metadata": {},
     "output_type": "execute_result"
    }
   ],
   "source": [
    "# positional argument\n",
    "volume_of_cuboid(30, 50, 70)"
   ]
  },
  {
   "cell_type": "code",
   "execution_count": 174,
   "id": "2234ed78-28da-4cf4-9195-a882545a16fc",
   "metadata": {},
   "outputs": [
    {
     "name": "stdout",
     "output_type": "stream",
     "text": [
      "\n",
      "        length: 30\n",
      "        width : 70\n",
      "        height : 50\n",
      "    \n"
     ]
    },
    {
     "data": {
      "text/plain": [
       "105000"
      ]
     },
     "execution_count": 174,
     "metadata": {},
     "output_type": "execute_result"
    }
   ],
   "source": [
    "# keyword argument\n",
    "volume_of_cuboid(length=30, width= 70, height= 50)"
   ]
  },
  {
   "cell_type": "code",
   "execution_count": 178,
   "id": "eeed0556-3288-49e0-90cc-70470c3d40cc",
   "metadata": {},
   "outputs": [
    {
     "name": "stdout",
     "output_type": "stream",
     "text": [
      "Help on function volume_of_cuboid in module __main__:\n",
      "\n",
      "volume_of_cuboid(length, width, height)\n",
      "    this function calculates volume of cuboid\n",
      "    it takes length, width, heigth, as input and\n",
      "    multiplies them\n",
      "\n"
     ]
    }
   ],
   "source": [
    "help(volume_of_cuboid)"
   ]
  },
  {
   "cell_type": "code",
   "execution_count": 190,
   "id": "b3ad3b32-91d9-424f-aa26-fb74509e4a92",
   "metadata": {},
   "outputs": [],
   "source": [
    "# question for practice\n",
    "li = [3, 5, 7, 3, 2, 7, 9, 5]"
   ]
  },
  {
   "cell_type": "code",
   "execution_count": 182,
   "id": "e2ed17da-727e-4b45-99f6-d3044d556a23",
   "metadata": {},
   "outputs": [],
   "source": [
    "def sorthalf(li : list):\n",
    "    length = len(li)\n",
    "    li.sort()\n",
    "    firstHalf = li[:length//2]\n",
    "    secondHalf = li[length//2:]\n",
    "    secondHalf.sort(reverse = True)\n",
    "\n",
    "    return firstHalf+secondHalf"
   ]
  },
  {
   "cell_type": "code",
   "execution_count": 183,
   "id": "5b20205f-e96e-4458-bf13-99370180f294",
   "metadata": {},
   "outputs": [
    {
     "data": {
      "text/plain": [
       "[2, 3, 3, 5, 9, 7, 7, 5]"
      ]
     },
     "execution_count": 183,
     "metadata": {},
     "output_type": "execute_result"
    }
   ],
   "source": [
    "sorthalf(li)"
   ]
  },
  {
   "cell_type": "code",
   "execution_count": 192,
   "id": "531c5058-5aad-4316-a03d-eabc0c1d7ddc",
   "metadata": {},
   "outputs": [],
   "source": [
    "def sorthalf(li):\n",
    "    length = len(li)\n",
    "    li.sort()\n",
    "    firstHalf = li[:length//2]\n",
    "    secondHalf = li[length//2:]\n",
    "    secondHalf.sort(reverse = True)\n",
    "\n",
    "    return firstHalf+secondHalf"
   ]
  },
  {
   "cell_type": "code",
   "execution_count": 193,
   "id": "79e1cc17-43e5-4332-baad-13bfc5650a20",
   "metadata": {},
   "outputs": [
    {
     "data": {
      "text/plain": [
       "[2, 3, 3, 5, 9, 7, 7, 5]"
      ]
     },
     "execution_count": 193,
     "metadata": {},
     "output_type": "execute_result"
    }
   ],
   "source": [
    "sorthalf(li)"
   ]
  },
  {
   "cell_type": "code",
   "execution_count": 9,
   "id": "25f43518-405e-4fc2-9561-7e7f91bc1298",
   "metadata": {},
   "outputs": [],
   "source": [
    "def greeting(age, name= \"user\"):\n",
    "    return age"
   ]
  },
  {
   "cell_type": "code",
   "execution_count": 10,
   "id": "12506bff-581e-4d3a-bb22-505fa3492b73",
   "metadata": {},
   "outputs": [
    {
     "data": {
      "text/plain": [
       "15"
      ]
     },
     "execution_count": 10,
     "metadata": {},
     "output_type": "execute_result"
    }
   ],
   "source": [
    "greeting(15)"
   ]
  },
  {
   "cell_type": "code",
   "execution_count": 55,
   "id": "ec00205f-6aa6-4014-a37d-33fc367692b7",
   "metadata": {},
   "outputs": [],
   "source": [
    "def greeting(age, name=\"user\"):\n",
    "    return age, name"
   ]
  },
  {
   "cell_type": "code",
   "execution_count": 63,
   "id": "05a96655-33b5-4537-9b53-b162ab0404f9",
   "metadata": {},
   "outputs": [
    {
     "data": {
      "text/plain": [
       "(77, 'user')"
      ]
     },
     "execution_count": 63,
     "metadata": {},
     "output_type": "execute_result"
    }
   ],
   "source": [
    "greeting(77)"
   ]
  },
  {
   "cell_type": "code",
   "execution_count": 66,
   "id": "29bc7f45-ca0f-49d8-99e0-15db86875345",
   "metadata": {},
   "outputs": [],
   "source": [
    "age, name=greeting(77)"
   ]
  },
  {
   "cell_type": "code",
   "execution_count": 67,
   "id": "42b1a01a-7797-4b17-8423-af1f6005fca7",
   "metadata": {},
   "outputs": [
    {
     "data": {
      "text/plain": [
       "77"
      ]
     },
     "execution_count": 67,
     "metadata": {},
     "output_type": "execute_result"
    }
   ],
   "source": [
    "age"
   ]
  },
  {
   "cell_type": "code",
   "execution_count": 68,
   "id": "5958c36a-dc74-4769-b125-48a5492c7943",
   "metadata": {},
   "outputs": [
    {
     "data": {
      "text/plain": [
       "'user'"
      ]
     },
     "execution_count": 68,
     "metadata": {},
     "output_type": "execute_result"
    }
   ],
   "source": [
    "name"
   ]
  },
  {
   "cell_type": "code",
   "execution_count": 75,
   "id": "e1820f21-f816-41b0-807a-4b2f04b0c7ef",
   "metadata": {},
   "outputs": [],
   "source": [
    "def check_palindrome(n):\n",
    "    return str(n)== str(n)[::-1]"
   ]
  },
  {
   "cell_type": "code",
   "execution_count": 76,
   "id": "b2a49575-7129-4d60-b206-ef6d75b9794f",
   "metadata": {},
   "outputs": [
    {
     "data": {
      "text/plain": [
       "True"
      ]
     },
     "execution_count": 76,
     "metadata": {},
     "output_type": "execute_result"
    }
   ],
   "source": [
    "check_palindrome(525)"
   ]
  },
  {
   "cell_type": "code",
   "execution_count": 128,
   "id": "989cbda5-7066-41d3-a95e-880254b7d083",
   "metadata": {},
   "outputs": [],
   "source": [
    "def check_palindrome(n):\n",
    "    return str(n)== str(n)[::-1]"
   ]
  },
  {
   "cell_type": "code",
   "execution_count": 129,
   "id": "63bbd1eb-ade1-43f3-bc0e-f65f3cac1b86",
   "metadata": {},
   "outputs": [
    {
     "data": {
      "text/plain": [
       "True"
      ]
     },
     "execution_count": 129,
     "metadata": {},
     "output_type": "execute_result"
    }
   ],
   "source": [
    "check_palindrome(989)"
   ]
  },
  {
   "cell_type": "code",
   "execution_count": 80,
   "id": "9755f642-9477-428c-b6b1-da4243f9ac9d",
   "metadata": {},
   "outputs": [],
   "source": [
    "def check_palindrome(n):\n",
    "    return str(n).strip().lower()== str(n)[::-1].strip().lower()"
   ]
  },
  {
   "cell_type": "code",
   "execution_count": 108,
   "id": "93c957fc-f1a7-43a9-b943-89e041040dd5",
   "metadata": {},
   "outputs": [
    {
     "data": {
      "text/plain": [
       "True"
      ]
     },
     "execution_count": 108,
     "metadata": {},
     "output_type": "execute_result"
    }
   ],
   "source": [
    "check_palindrome(\"shs\")"
   ]
  },
  {
   "cell_type": "code",
   "execution_count": 106,
   "id": "35826f06-3f1b-4ebe-bd18-7cabaa74acef",
   "metadata": {},
   "outputs": [
    {
     "data": {
      "text/plain": [
       "False"
      ]
     },
     "execution_count": 106,
     "metadata": {},
     "output_type": "execute_result"
    }
   ],
   "source": [
    "check_palindrome(\"shr\")"
   ]
  },
  {
   "cell_type": "code",
   "execution_count": 113,
   "id": "887816c0-cd4e-4266-81c8-2d0f15e518f6",
   "metadata": {},
   "outputs": [],
   "source": [
    "def check_palindrome(n=None):\n",
    "    n= n or input()\n",
    "    return str(n).strip().lower()== str(n)[::-1].strip().lower()"
   ]
  },
  {
   "cell_type": "code",
   "execution_count": 114,
   "id": "56823508-d3ab-4657-9ba6-b358d31828c9",
   "metadata": {},
   "outputs": [
    {
     "name": "stdin",
     "output_type": "stream",
     "text": [
      " 343\n"
     ]
    },
    {
     "data": {
      "text/plain": [
       "True"
      ]
     },
     "execution_count": 114,
     "metadata": {},
     "output_type": "execute_result"
    }
   ],
   "source": [
    "check_palindrome()"
   ]
  },
  {
   "cell_type": "code",
   "execution_count": 132,
   "id": "e5393c10-67d9-4ce5-a423-ed37cdfeda65",
   "metadata": {},
   "outputs": [],
   "source": [
    "def check_palindrome(n=None):\n",
    "    n= n or input()\n",
    "    return str(n).strip().lower()== str(n)[::-1].strip().lower()"
   ]
  },
  {
   "cell_type": "code",
   "execution_count": 133,
   "id": "28f191bf-ad03-4d05-b72a-c9af96d4a974",
   "metadata": {},
   "outputs": [
    {
     "name": "stdin",
     "output_type": "stream",
     "text": [
      " 84\n"
     ]
    },
    {
     "data": {
      "text/plain": [
       "False"
      ]
     },
     "execution_count": 133,
     "metadata": {},
     "output_type": "execute_result"
    }
   ],
   "source": [
    "check_palindrome()"
   ]
  },
  {
   "cell_type": "code",
   "execution_count": 54,
   "id": "c90ab2c5-a760-49c3-86e9-9685183a11b7",
   "metadata": {},
   "outputs": [],
   "source": [
    "def checkPrime():\n",
    "    pass"
   ]
  },
  {
   "cell_type": "code",
   "execution_count": 28,
   "id": "acd7ffc9-be11-4160-baa6-e3d9d7c6ad3f",
   "metadata": {},
   "outputs": [
    {
     "data": {
      "text/plain": [
       "80"
      ]
     },
     "execution_count": 28,
     "metadata": {},
     "output_type": "execute_result"
    }
   ],
   "source": [
    "\"\" or 80"
   ]
  },
  {
   "cell_type": "code",
   "execution_count": 148,
   "id": "c6c64e61-1d40-4a01-b2f8-911ebf58f5bc",
   "metadata": {},
   "outputs": [
    {
     "data": {
      "text/plain": [
       "60"
      ]
     },
     "execution_count": 148,
     "metadata": {},
     "output_type": "execute_result"
    }
   ],
   "source": [
    "60 or \"\""
   ]
  },
  {
   "cell_type": "code",
   "execution_count": 153,
   "id": "62ab9fa9-adbe-4b15-8387-62fffdfe3237",
   "metadata": {},
   "outputs": [
    {
     "data": {
      "text/plain": [
       "20"
      ]
     },
     "execution_count": 153,
     "metadata": {},
     "output_type": "execute_result"
    }
   ],
   "source": [
    "20 or 60"
   ]
  },
  {
   "cell_type": "code",
   "execution_count": 177,
   "id": "516fc3a3-2fe6-4ba2-bc91-80b130bdee9d",
   "metadata": {},
   "outputs": [],
   "source": [
    "def checkPrime(n):\n",
    "    for i in range(2, n):\n",
    "        if n%i == 0:\n",
    "            return False\n",
    "        return True"
   ]
  },
  {
   "cell_type": "code",
   "execution_count": 178,
   "id": "07089737-8235-4b1b-a11a-e579292151cc",
   "metadata": {},
   "outputs": [
    {
     "data": {
      "text/plain": [
       "False"
      ]
     },
     "execution_count": 178,
     "metadata": {},
     "output_type": "execute_result"
    }
   ],
   "source": [
    "checkPrime(28)"
   ]
  },
  {
   "cell_type": "code",
   "execution_count": 56,
   "id": "af93b8b2-1b2f-478e-8769-8a33a58e4efa",
   "metadata": {},
   "outputs": [],
   "source": [
    "def checkPrime(n):\n",
    "    for i in range(2, n):\n",
    "        print(n, i, n%i)\n",
    "        if n%i == 0:\n",
    "            return False\n",
    "        return True"
   ]
  },
  {
   "cell_type": "code",
   "execution_count": 64,
   "id": "dae051a9-d605-4a8a-b10f-19d0f7c0e490",
   "metadata": {},
   "outputs": [
    {
     "data": {
      "text/plain": [
       "True"
      ]
     },
     "execution_count": 64,
     "metadata": {},
     "output_type": "execute_result"
    }
   ],
   "source": [
    "checkPrime(99)"
   ]
  },
  {
   "cell_type": "code",
   "execution_count": 192,
   "id": "ca38d9f9-947a-47f0-9684-3368bd239d23",
   "metadata": {},
   "outputs": [],
   "source": [
    "def checkPrime(n):\n",
    "    for i in range(2, int(n**(1/2))+1):\n",
    "        print(n, i, n%i)\n",
    "        if n%i == 0:\n",
    "            return False\n",
    "    return True"
   ]
  },
  {
   "cell_type": "code",
   "execution_count": 195,
   "id": "db01d0c1-e1f4-4400-a37f-0d9e6431d9af",
   "metadata": {},
   "outputs": [
    {
     "name": "stdout",
     "output_type": "stream",
     "text": [
      "11 2 1\n",
      "11 3 2\n"
     ]
    },
    {
     "data": {
      "text/plain": [
       "True"
      ]
     },
     "execution_count": 195,
     "metadata": {},
     "output_type": "execute_result"
    }
   ],
   "source": [
    "checkPrime(11)"
   ]
  },
  {
   "cell_type": "code",
   "execution_count": 190,
   "id": "fd860ebe-7126-4b19-bdcd-ef8992ee4cd4",
   "metadata": {},
   "outputs": [],
   "source": [
    "def checkPrime(n):\n",
    "    if n < 2:\n",
    "        return False\n",
    "    for i in range(2, int(n**(1/2))+1):\n",
    "        print(n, i, n%i)\n",
    "        if n%i == 0:\n",
    "            return False\n",
    "    return True\n",
    "    "
   ]
  },
  {
   "cell_type": "code",
   "execution_count": 201,
   "id": "0627eac9-7f64-4ea2-a314-482466ac96cb",
   "metadata": {},
   "outputs": [
    {
     "name": "stdout",
     "output_type": "stream",
     "text": [
      "55 2 1\n",
      "55 3 1\n",
      "55 4 3\n",
      "55 5 0\n"
     ]
    },
    {
     "data": {
      "text/plain": [
       "False"
      ]
     },
     "execution_count": 201,
     "metadata": {},
     "output_type": "execute_result"
    }
   ],
   "source": [
    "checkPrime(55)"
   ]
  },
  {
   "cell_type": "code",
   "execution_count": 38,
   "id": "f336a001-2b4e-40fa-8518-d32ef6365acd",
   "metadata": {},
   "outputs": [],
   "source": [
    "def primeInRange(start, end=0):\n",
    "    if start > end:\n",
    "        start, end = end, start\n",
    "    l= []\n",
    "    for n in range(start, end):\n",
    "        if checkPrime(n):\n",
    "            l.append(n)\n",
    "    \n",
    "    return l   "
   ]
  },
  {
   "cell_type": "code",
   "execution_count": 39,
   "id": "51251b11-a63f-4102-8fda-49c0748f8d86",
   "metadata": {},
   "outputs": [
    {
     "name": "stdout",
     "output_type": "stream",
     "text": [
      "10 2 0\n",
      "11 2 1\n",
      "11 3 2\n",
      "12 2 0\n",
      "13 2 1\n",
      "13 3 1\n",
      "14 2 0\n",
      "15 2 1\n",
      "15 3 0\n",
      "16 2 0\n",
      "17 2 1\n",
      "17 3 2\n",
      "17 4 1\n",
      "18 2 0\n",
      "19 2 1\n",
      "19 3 1\n",
      "19 4 3\n"
     ]
    },
    {
     "data": {
      "text/plain": [
       "[11, 13, 17, 19]"
      ]
     },
     "execution_count": 39,
     "metadata": {},
     "output_type": "execute_result"
    }
   ],
   "source": [
    "primeInRange(10,20)"
   ]
  },
  {
   "cell_type": "code",
   "execution_count": 37,
   "id": "b936671a-2604-4b02-b06a-1b391bc91992",
   "metadata": {},
   "outputs": [],
   "source": [
    "def checkPrime(n):\n",
    "    if n < 2:\n",
    "        return False\n",
    "    for i in range(2, int(n**(1/2))+1):\n",
    "          print(n, i, n%i)\n",
    "          if n % i == 0:\n",
    "            return False\n",
    "    return True"
   ]
  },
  {
   "cell_type": "code",
   "execution_count": 232,
   "id": "aba20079-e787-4155-bdda-d9f783932978",
   "metadata": {},
   "outputs": [
    {
     "name": "stdout",
     "output_type": "stream",
     "text": [
      "55 2 1\n",
      "55 3 1\n",
      "55 4 3\n",
      "55 5 0\n"
     ]
    },
    {
     "data": {
      "text/plain": [
       "False"
      ]
     },
     "execution_count": 232,
     "metadata": {},
     "output_type": "execute_result"
    }
   ],
   "source": [
    "checkPrime(55)"
   ]
  },
  {
   "cell_type": "code",
   "execution_count": 233,
   "id": "6bd2a8a3-198a-4847-ba53-d77d999a6dc7",
   "metadata": {},
   "outputs": [],
   "source": [
    "def checkPrime(n):\n",
    "    for i in range(2, int(n**(1/2))+1):\n",
    "        print(n, i, n%i)\n",
    "        if n%i == 0:\n",
    "            return False\n",
    "    return True"
   ]
  },
  {
   "cell_type": "code",
   "execution_count": 234,
   "id": "63200139-9bb4-4a9d-a47f-8493d225e990",
   "metadata": {},
   "outputs": [
    {
     "name": "stdout",
     "output_type": "stream",
     "text": [
      "89 2 1\n",
      "89 3 2\n",
      "89 4 1\n",
      "89 5 4\n",
      "89 6 5\n",
      "89 7 5\n",
      "89 8 1\n",
      "89 9 8\n"
     ]
    },
    {
     "data": {
      "text/plain": [
       "True"
      ]
     },
     "execution_count": 234,
     "metadata": {},
     "output_type": "execute_result"
    }
   ],
   "source": [
    "checkPrime(89)"
   ]
  },
  {
   "cell_type": "code",
   "execution_count": 58,
   "id": "0163234c-4c38-49f2-a17d-285f34c77b10",
   "metadata": {},
   "outputs": [
    {
     "data": {
      "text/plain": [
       "map"
      ]
     },
     "execution_count": 58,
     "metadata": {},
     "output_type": "execute_result"
    }
   ],
   "source": [
    "map"
   ]
  },
  {
   "cell_type": "code",
   "execution_count": 59,
   "id": "2a99dba1-b917-4b51-9e21-b50ba84deb35",
   "metadata": {},
   "outputs": [],
   "source": [
    "def makeSqure(n):\n",
    "    return n**2"
   ]
  },
  {
   "cell_type": "code",
   "execution_count": 60,
   "id": "4c77f7c3-14b1-4be6-9a96-6de133accd6f",
   "metadata": {},
   "outputs": [],
   "source": [
    "a = [1,2,3]\n",
    "b = [\"a\", \"b\", \"c\"]"
   ]
  },
  {
   "cell_type": "code",
   "execution_count": 61,
   "id": "7baf968c-941c-4941-9745-3495e13d3a29",
   "metadata": {},
   "outputs": [
    {
     "name": "stdout",
     "output_type": "stream",
     "text": [
      "1 a\n",
      "2 b\n",
      "3 c\n"
     ]
    }
   ],
   "source": [
    "for i, j in zip(a,b):\n",
    "    print(i, j)"
   ]
  },
  {
   "cell_type": "code",
   "execution_count": 62,
   "id": "9142cdd8-e370-42a0-9d1b-52efe7c0ad2b",
   "metadata": {},
   "outputs": [
    {
     "data": {
      "text/plain": [
       "[1, 2, 3]"
      ]
     },
     "execution_count": 62,
     "metadata": {},
     "output_type": "execute_result"
    }
   ],
   "source": [
    "a"
   ]
  },
  {
   "cell_type": "code",
   "execution_count": 63,
   "id": "1cfddfc5-8de4-4efd-a049-fe5e922cc28b",
   "metadata": {},
   "outputs": [],
   "source": [
    "ans= list(map(makeSqure, a))"
   ]
  },
  {
   "cell_type": "code",
   "execution_count": 64,
   "id": "ade8a286-15cb-45cc-831f-9d35706097b2",
   "metadata": {},
   "outputs": [
    {
     "data": {
      "text/plain": [
       "[1, 4, 9]"
      ]
     },
     "execution_count": 64,
     "metadata": {},
     "output_type": "execute_result"
    }
   ],
   "source": [
    "ans"
   ]
  },
  {
   "cell_type": "code",
   "execution_count": 65,
   "id": "48872e51-6754-4bd4-9c10-efb29093cf13",
   "metadata": {},
   "outputs": [
    {
     "data": {
      "text/plain": [
       "['harjeet', 'jangra']"
      ]
     },
     "execution_count": 65,
     "metadata": {},
     "output_type": "execute_result"
    }
   ],
   "source": [
    "\"harjeet jangra\".split()"
   ]
  },
  {
   "cell_type": "code",
   "execution_count": 69,
   "id": "4548f81a-9e4f-4a6d-b9ac-88bf59f388f7",
   "metadata": {},
   "outputs": [],
   "source": [
    "a= \"5 6 7 8 9\".split()"
   ]
  },
  {
   "cell_type": "code",
   "execution_count": 70,
   "id": "aaaa571b-dc92-49d6-b6dc-34f8ccf7fe05",
   "metadata": {},
   "outputs": [
    {
     "data": {
      "text/plain": [
       "['5', '6', '7', '8', '9']"
      ]
     },
     "execution_count": 70,
     "metadata": {},
     "output_type": "execute_result"
    }
   ],
   "source": [
    "a"
   ]
  },
  {
   "cell_type": "code",
   "execution_count": 71,
   "id": "0368a924-8d2a-410a-a28a-4c780c589cd2",
   "metadata": {},
   "outputs": [],
   "source": [
    "ans = list(map(int, a))"
   ]
  },
  {
   "cell_type": "code",
   "execution_count": 72,
   "id": "a4f8ee20-f2be-42e6-b626-7275bfe33287",
   "metadata": {},
   "outputs": [
    {
     "data": {
      "text/plain": [
       "[5, 6, 7, 8, 9]"
      ]
     },
     "execution_count": 72,
     "metadata": {},
     "output_type": "execute_result"
    }
   ],
   "source": [
    "ans"
   ]
  },
  {
   "cell_type": "code",
   "execution_count": 75,
   "id": "e73f52a3-b126-4ac7-8477-59a13df99bd7",
   "metadata": {},
   "outputs": [],
   "source": [
    "a= \"5, 6, 7, 8, 9\".split(\",\")"
   ]
  },
  {
   "cell_type": "code",
   "execution_count": 76,
   "id": "3ad45d98-3f69-43ca-aad6-96f9bb97236c",
   "metadata": {},
   "outputs": [
    {
     "data": {
      "text/plain": [
       "['5', ' 6', ' 7', ' 8', ' 9']"
      ]
     },
     "execution_count": 76,
     "metadata": {},
     "output_type": "execute_result"
    }
   ],
   "source": [
    "a"
   ]
  },
  {
   "cell_type": "code",
   "execution_count": 77,
   "id": "68c85670-24bd-423a-abfb-4374849964c0",
   "metadata": {},
   "outputs": [],
   "source": [
    "z = lambda x, y: x*y="
   ]
  },
  {
   "cell_type": "code",
   "execution_count": 78,
   "id": "b060ff8f-bbee-4d63-b7df-4c827f8a7096",
   "metadata": {},
   "outputs": [
    {
     "data": {
      "text/plain": [
       "30"
      ]
     },
     "execution_count": 78,
     "metadata": {},
     "output_type": "execute_result"
    }
   ],
   "source": [
    "z(5,6)"
   ]
  },
  {
   "cell_type": "code",
   "execution_count": 79,
   "id": "cd369528-397a-4a52-9e31-ca9cbd684833",
   "metadata": {},
   "outputs": [],
   "source": [
    "z= lambda x: x**3"
   ]
  },
  {
   "cell_type": "code",
   "execution_count": 80,
   "id": "98b24114-923b-4ee4-a3fb-80da56c4fc17",
   "metadata": {},
   "outputs": [],
   "source": [
    "a = [5, 6, 7]"
   ]
  },
  {
   "cell_type": "code",
   "execution_count": 81,
   "id": "5a16cc48-795f-4a9e-b61b-427f7770cb18",
   "metadata": {},
   "outputs": [
    {
     "data": {
      "text/plain": [
       "[125, 216, 343]"
      ]
     },
     "execution_count": 81,
     "metadata": {},
     "output_type": "execute_result"
    }
   ],
   "source": [
    "list(map(z, a))"
   ]
  },
  {
   "cell_type": "code",
   "execution_count": 95,
   "id": "c3f8482c-7810-4961-8089-6c1272904dc8",
   "metadata": {},
   "outputs": [],
   "source": [
    "z = lambda x, y: x*y"
   ]
  },
  {
   "cell_type": "code",
   "execution_count": 96,
   "id": "7ababc32-dc62-4733-9557-929a750ac36d",
   "metadata": {},
   "outputs": [],
   "source": [
    "a = [5, 6, 7, 8, 9]"
   ]
  },
  {
   "cell_type": "code",
   "execution_count": 97,
   "id": "cf90fdc6-2b33-47e3-bd56-3b0203bf3c0d",
   "metadata": {},
   "outputs": [],
   "source": [
    "b = [10, 20, 30, 40, 50]"
   ]
  },
  {
   "cell_type": "code",
   "execution_count": 98,
   "id": "1867b6a8-f505-45d6-80b2-4577cbfcebd9",
   "metadata": {},
   "outputs": [
    {
     "data": {
      "text/plain": [
       "[50, 120, 210, 320, 450]"
      ]
     },
     "execution_count": 98,
     "metadata": {},
     "output_type": "execute_result"
    }
   ],
   "source": [
    "list(map(z, a, b))"
   ]
  }
 ],
 "metadata": {
  "kernelspec": {
   "display_name": "Python 3 (ipykernel)",
   "language": "python",
   "name": "python3"
  },
  "language_info": {
   "codemirror_mode": {
    "name": "ipython",
    "version": 3
   },
   "file_extension": ".py",
   "mimetype": "text/x-python",
   "name": "python",
   "nbconvert_exporter": "python",
   "pygments_lexer": "ipython3",
   "version": "3.13.5"
  }
 },
 "nbformat": 4,
 "nbformat_minor": 5
}
